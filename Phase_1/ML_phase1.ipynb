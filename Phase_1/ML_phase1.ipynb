{
  "cells": [
    {
      "cell_type": "code",
      "execution_count": 2,
      "metadata": {
        "id": "N4fIXtuZErlR"
      },
      "outputs": [],
      "source": [
        "import torch\n",
        "import torch.nn as nn\n",
        "import torch.optim as optim\n",
        "import torch.utils.data as data\n",
        "import torchvision.transforms as transforms\n",
        "import torchvision.datasets as datasets\n",
        "import torchvision.models as models\n",
        "from torch.utils.data import DataLoader, random_split, Subset, Dataset\n",
        "from sklearn.linear_model import LogisticRegression\n",
        "from sklearn.metrics import f1_score, accuracy_score, precision_score, recall_score, roc_auc_score\n",
        "from sklearn.model_selection import train_test_split\n",
        "import numpy as np\n",
        "import copy\n",
        "from tqdm import tqdm\n",
        "from scipy.stats import mode\n",
        "import torch\n",
        "import gc\n",
        "import pandas as pd\n",
        "from sklearn.model_selection import cross_val_score\n",
        "import torch.nn.functional as F\n",
        "import random\n",
        "\n",
        "\n",
        "\n"
      ]
    },
    {
      "cell_type": "code",
      "execution_count": 3,
      "metadata": {},
      "outputs": [],
      "source": [
        "def save_model(model,model_name):\n",
        "\n",
        "    torch.save(model.state_dict(), f'/scratch/{model_name}.pth')\n"
      ]
    },
    {
      "cell_type": "code",
      "execution_count": 4,
      "metadata": {},
      "outputs": [],
      "source": [
        "device = torch.device(\"cuda\" if torch.cuda.is_available() else \"cpu\")\n",
        "def clear_CUDA():\n",
        "\n",
        "    # Clear CUDA cache\n",
        "    torch.cuda.empty_cache()\n",
        "\n",
        "    # Run garbage collector\n",
        "    gc.collect()\n",
        "\n",
        "clear_CUDA()"
      ]
    },
    {
      "cell_type": "code",
      "execution_count": 5,
      "metadata": {
        "colab": {
          "base_uri": "https://localhost:8080/"
        },
        "id": "RkKQYU9_ErlT",
        "outputId": "9c37a80c-da08-46d1-d2aa-4f0245dbfdb9"
      },
      "outputs": [
        {
          "name": "stdout",
          "output_type": "stream",
          "text": [
            "Files already downloaded and verified\n",
            "Files already downloaded and verified\n"
          ]
        }
      ],
      "source": [
        "transform = transforms.Compose([\n",
        "    transforms.RandomHorizontalFlip(),\n",
        "    transforms.RandomCrop(32, padding=4),\n",
        "    transforms.ToTensor(),\n",
        "    transforms.Normalize((0.4914, 0.4822, 0.4465), (0.2023, 0.1994, 0.2010)),\n",
        "])\n",
        "\n",
        "train_dataset = datasets.CIFAR10(root='./data', train=True, download=True, transform=transform)\n",
        "test_dataset = datasets.CIFAR10(root='./data', train=False, download=True, transform=transform)\n"
      ]
    },
    {
      "cell_type": "code",
      "execution_count": 6,
      "metadata": {
        "id": "TdFTvZJjErlT"
      },
      "outputs": [],
      "source": [
        "def create_shards(dataset, num_shards):\n",
        "    shard_size = len(dataset) // num_shards\n",
        "    shards = [data.Subset(dataset, range(i * shard_size, (i + 1) * shard_size)) for i in range(num_shards)]\n",
        "    return shards\n",
        "\n",
        "def create_slices(shard, num_slices):\n",
        "    slice_size = len(shard) // num_slices\n",
        "    slices = [data.Subset(shard, range(i * slice_size, (i + 1) * slice_size)) for i in range(num_slices)]\n",
        "    return slices\n"
      ]
    },
    {
      "cell_type": "code",
      "execution_count": 7,
      "metadata": {
        "id": "wnct1cGIErlU"
      },
      "outputs": [
        {
          "name": "stderr",
          "output_type": "stream",
          "text": [
            "/projects/envs/conda/nmoradi/envs/temp_env/lib/python3.9/site-packages/torchvision/models/_utils.py:208: UserWarning: The parameter 'pretrained' is deprecated since 0.13 and may be removed in the future, please use 'weights' instead.\n",
            "  warnings.warn(\n",
            "/projects/envs/conda/nmoradi/envs/temp_env/lib/python3.9/site-packages/torchvision/models/_utils.py:223: UserWarning: Arguments other than a weight enum or `None` for 'weights' are deprecated since 0.13 and may be removed in the future. The current behavior is equivalent to passing `weights=ResNet18_Weights.IMAGENET1K_V1`. You can also use `weights=ResNet18_Weights.DEFAULT` to get the most up-to-date weights.\n",
            "  warnings.warn(msg)\n"
          ]
        }
      ],
      "source": [
        "\n",
        "class ModifiedResNet18(nn.Module):\n",
        "    shared_resnet = models.resnet18(pretrained=True)\n",
        "    shared_resnet.fc = nn.Identity()\n",
        "    for param in shared_resnet.parameters():\n",
        "        param.requires_grad = False\n",
        "\n",
        "    def __init__(self, num_classes=10, shared=True):\n",
        "        super(ModifiedResNet18, self).__init__()\n",
        "\n",
        "        if shared:\n",
        "            self.resnet = ModifiedResNet18.shared_resnet\n",
        "        else:\n",
        "            self.resnet = models.resnet18(pretrained=True)\n",
        "            self.resnet.fc = nn.Identity()\n",
        "\n",
        "        self.fc = nn.Sequential(\n",
        "            nn.Linear(512, 256),\n",
        "            nn.ReLU(),\n",
        "            nn.Linear(256, num_classes)\n",
        "        )\n",
        "\n",
        "    def forward(self, x):\n",
        "        x = self.resnet(x)\n",
        "        x = self.fc(x)\n",
        "        return x\n",
        "\n",
        "# model1 = ModifiedResNet18(num_classes=10)\n",
        "# model2 = ModifiedResNet18(num_classes=10)\n",
        "\n",
        "def train_model(model, dataloaders, criterion, optimizer, num_epochs=5):\n",
        "    model.train()\n",
        "    for epoch in range(num_epochs):\n",
        "        running_loss = 0.0\n",
        "        running_corrects = 0\n",
        "        total = 0\n",
        "        for inputs, labels in tqdm(dataloaders, desc=f\"Epoch {epoch+1}/{num_epochs}\"):\n",
        "            inputs, labels = inputs.cuda(), labels.cuda()\n",
        "            optimizer.zero_grad()\n",
        "            outputs = model(inputs)\n",
        "            loss = criterion(outputs, labels)\n",
        "            loss.backward()\n",
        "            optimizer.step()\n",
        "\n",
        "            _, preds = torch.max(outputs, 1)\n",
        "            running_loss += loss.item() * inputs.size(0)\n",
        "            running_corrects += torch.sum(preds == labels.data)\n",
        "            total += labels.size(0)\n",
        "\n",
        "        epoch_loss = running_loss / total\n",
        "        epoch_acc = running_corrects.double() / total\n",
        "        # print(f\"Epoch {epoch+1}/{num_epochs} - Loss: {epoch_loss:.4f} Acc: {epoch_acc:.4f}\")\n",
        "    return model\n"
      ]
    },
    {
      "cell_type": "code",
      "execution_count": 8,
      "metadata": {
        "id": "whNDQplLErlU"
      },
      "outputs": [],
      "source": [
        "def sisa_train(shards, num_slices, num_epochs, initial_model, criterion, optimizer_fn):\n",
        "    num_shards = len(shards)\n",
        "    slice_models = {shard: [] for shard in range(len(shards))}\n",
        "    # slice_models = []\n",
        "    \n",
        "    for shard_idx, shard in enumerate(shards):\n",
        "        slices = create_slices(shard, num_slices)\n",
        "        # model = copy.deepcopy(initial_model)\n",
        "        for slice_idx, slice_ in enumerate(slices):\n",
        "            model = copy.deepcopy(initial_model)\n",
        "            dataloader = data.DataLoader(slice_, batch_size=64, shuffle=True)\n",
        "            optimizer = optimizer_fn(model.parameters())\n",
        "            print(f\"Training shard {shard_idx+1}/{len(shards)}, slice {slice_idx+1}/{num_slices}\")\n",
        "            model = train_model(model, dataloader, criterion, optimizer, num_epochs)\n",
        "            # slice_models.append(model)\n",
        "            # model_name = f'{num_shards}{num_slices}_{shard_idx}{slice_idx}'\n",
        "            # save_model(model,model_name)\n",
        "            slice_models[shard_idx].append(model)\n",
        "        \n",
        "\n",
        "\n",
        "    return slice_models #, shard_preds_MV, shard_preds_WA, final_preds_MV, final_preds_WA"
      ]
    },
    {
      "cell_type": "code",
      "execution_count": 9,
      "metadata": {},
      "outputs": [],
      "source": [
        "def sisa_unlearn(shards, num_slices, shard_models, initial_model, criterion, optimizer_fn, data_to_forget):\n",
        "    num_shards = len(shards)\n",
        "    \n",
        "    shard_models_updated = {shard: [] for shard in range(len(shards))}\n",
        "    # shard_models_updated = []\n",
        "    for shard_idx, shard in enumerate(shards):\n",
        "        slices = create_slices(shard, num_slices)\n",
        "        local_indices_to_forget = [shard.indices.index(idx) for idx in data_to_forget if idx in shard.indices]\n",
        "        \n",
        "        slices_to_update = [i for i, slice_ in enumerate(slices) if any(idx in slice_.indices for idx in local_indices_to_forget)]\n",
        "        \n",
        "        if slices_to_update:\n",
        "            models_shard = []\n",
        "            print(f\"Retraining shard {shard_idx+1}/{len(shards)} containing data to forget\")\n",
        "\n",
        "            for slice_idx, slice_ in enumerate(slices):\n",
        "                if slice_idx in slices_to_update:\n",
        "                    model = copy.deepcopy(initial_model)\n",
        "                    updated_indices = [idx for idx in slice_.indices if shard.indices[idx] not in local_indices_to_forget]\n",
        "                    data_refined = data.Subset(shard, updated_indices)\n",
        "                    dataloader = data.DataLoader(data_refined, batch_size=64, shuffle=True)\n",
        "                    optimizer = optimizer_fn(model.parameters())\n",
        "                    model = train_model(model, dataloader, criterion, optimizer, num_epochs=5)\n",
        "                    # model_name = f'{num_shards}{num_slices}_{shard_idx}{slice_idx}_unlearned'\n",
        "                    # save_model(model,model_name)\n",
        "                    print(f\"Slice {slice_idx+1}/{len(slices)} retrained for shard {shard_idx+1}/{len(shards)}\")\n",
        "                else:\n",
        "                    model = shard_models[shard_idx][slice_idx]\n",
        "                models_shard.append(model)\n",
        "        else:\n",
        "            models_shard = copy.deepcopy(shard_models[shard_idx])\n",
        "        shard_models_updated[shard_idx] = models_shard\n",
        "    \n",
        "    return shard_models_updated"
      ]
    },
    {
      "cell_type": "code",
      "execution_count": 10,
      "metadata": {
        "id": "OMAcb4GSErlV"
      },
      "outputs": [],
      "source": [
        "def majority_voting_slices(models, dataloader):\n",
        "    all_preds = []\n",
        "    for shard in models.keys():\n",
        "        models_shard = models[shard]\n",
        "        for i, model in enumerate(models_shard):\n",
        "            model.eval()\n",
        "            preds = []\n",
        "            with torch.no_grad():\n",
        "                for inputs, _ in tqdm(dataloader, desc=f\"Evaluating model: Shard {shard + 1}/{len(models.keys())}, slice {i + 1}/{len(models_shard)}\"):\n",
        "                    inputs = inputs.cuda()\n",
        "                    outputs = model(inputs)\n",
        "                    _, predicted = torch.max(outputs, 1)\n",
        "                    preds.extend(predicted.cpu().numpy())\n",
        "            all_preds.append(preds)\n",
        "    all_preds = np.array(all_preds)\n",
        "    majority_preds = np.apply_along_axis(lambda x: np.bincount(x).argmax(), axis=0, arr=all_preds)\n",
        "    \n",
        "    return majority_preds\n",
        "\n",
        "def aggregate_average(models, test_loader):\n",
        "    all_predictions = []\n",
        "    for shard in models.keys():\n",
        "        models_shard = models[shard]\n",
        "        for i, model in enumerate(models_shard):\n",
        "            model.eval()  # Set model to evaluation mode\n",
        "            model_predictions = []\n",
        "            for inputs, _ in tqdm(test_loader, desc=f\"Evaluating model: Shard {shard + 1}/{len(models.keys())}, slice {i + 1}/{len(models_shard)}\"):\n",
        "                inputs = inputs.to(device)\n",
        "                with torch.no_grad():\n",
        "                    pred = model(inputs)\n",
        "                model_predictions.append(pred.cpu())\n",
        "            all_predictions.append(torch.cat(model_predictions))\n",
        "        \n",
        "    averaged_probabilities = torch.mean(torch.stack(all_predictions), dim=0)\n",
        "    aggregated_predictions = torch.argmax(averaged_probabilities, dim=1)\n",
        "    averaged_probabilities = F.softmax(averaged_probabilities, dim=1)\n",
        "    return aggregated_predictions, averaged_probabilities\n",
        "\n",
        "def weighted_averaging(models, dataloader):\n",
        "    weights = [1 / len(models)] * len(models)\n",
        "    all_outputs = []\n",
        "    for model in models:\n",
        "        model.eval()\n",
        "        outputs = []\n",
        "        with torch.no_grad():\n",
        "            for inputs, _ in tqdm(dataloader, desc=\"Weighted Averaging\"):\n",
        "                inputs = inputs.cuda()\n",
        "                output = model(inputs)\n",
        "                outputs.extend(output.cpu().numpy())\n",
        "        all_outputs.append(outputs)\n",
        "    all_outputs = np.array(all_outputs)\n",
        "    weighted_outputs = np.average(all_outputs, axis=0, weights=weights)\n",
        "    weighted_outputs = np.exp(weighted_outputs) / np.sum(np.exp(weighted_outputs), axis=1, keepdims=True)  # Softmax normalization\n",
        "    return weighted_outputs"
      ]
    },
    {
      "cell_type": "code",
      "execution_count": 11,
      "metadata": {
        "id": "M-xayOvaErlV"
      },
      "outputs": [],
      "source": [
        "def evaluate_models(models, dataloader):\n",
        "    targets = []\n",
        "    for _, labels in dataloader:\n",
        "        targets.extend(labels.numpy())\n",
        "\n",
        "    # final_preds = majority_voting_slices(models, dataloader)\n",
        "    final_preds, _ = aggregate_average(models, dataloader)\n",
        "\n",
        "    # print(final_preds)\n",
        "    # print(targets)\n",
        "    \n",
        "    accuracy = accuracy_score(targets, final_preds)\n",
        "    precision = precision_score(targets, final_preds, average='macro')\n",
        "    recall = recall_score(targets, final_preds, average='macro')\n",
        "    f1 = f1_score(targets, final_preds, average='macro')\n",
        "    auroc = roc_auc_score(targets, np.eye(len(np.unique(targets)))[final_preds], multi_class='ovr')\n",
        "    return accuracy, precision, recall, f1, auroc"
      ]
    },
    {
      "cell_type": "code",
      "execution_count": 12,
      "metadata": {
        "colab": {
          "base_uri": "https://localhost:8080/"
        },
        "collapsed": true,
        "id": "Y8YfPjYeErlV",
        "outputId": "f16f8143-9e2a-449b-82d7-9af4c7c008a8"
      },
      "outputs": [],
      "source": [
        "shard_counts = [5, 10, 20]\n",
        "slice_counts = [5, 10, 20]\n",
        "num_epochs = 5\n",
        "\n",
        "best_accuracy = 0       \n",
        "best_model = None        \n",
        "best_result = {}      \n",
        "\n",
        "best_accuracy_unlearned = 0      \n",
        "best_model_unlearned = None        \n",
        "best_result_unlearned = {}         \n",
        "\n",
        "initial_model = ModifiedResNet18(shared=False).cuda()\n",
        "criterion = nn.CrossEntropyLoss()\n",
        "optimizer_fn = lambda params: optim.Adam(params, lr=0.001)\n",
        "\n",
        "results = []\n",
        "results_unlearning = []\n",
        "train_data, val_data = train_test_split(train_dataset, test_size=0.2, random_state=42)\n",
        "val_loader = data.DataLoader(val_data, batch_size=64, shuffle=False)\n"
      ]
    },
    {
      "cell_type": "code",
      "execution_count": 13,
      "metadata": {},
      "outputs": [
        {
          "name": "stdout",
          "output_type": "stream",
          "text": [
            "Training shard 1/5, slice 1/5\n"
          ]
        },
        {
          "name": "stderr",
          "output_type": "stream",
          "text": [
            "Epoch 1/5:   0%|          | 0/32 [00:00<?, ?it/s]"
          ]
        },
        {
          "name": "stderr",
          "output_type": "stream",
          "text": [
            "Epoch 1/5: 100%|██████████| 32/32 [00:01<00:00, 23.09it/s]\n",
            "Epoch 2/5: 100%|██████████| 32/32 [00:00<00:00, 34.57it/s]\n",
            "Epoch 3/5: 100%|██████████| 32/32 [00:00<00:00, 35.33it/s]\n",
            "Epoch 4/5: 100%|██████████| 32/32 [00:00<00:00, 35.34it/s]\n",
            "Epoch 5/5: 100%|██████████| 32/32 [00:00<00:00, 35.34it/s]\n"
          ]
        },
        {
          "name": "stdout",
          "output_type": "stream",
          "text": [
            "Training shard 1/5, slice 2/5\n"
          ]
        },
        {
          "name": "stderr",
          "output_type": "stream",
          "text": [
            "Epoch 1/5: 100%|██████████| 32/32 [00:00<00:00, 35.23it/s]\n",
            "Epoch 2/5: 100%|██████████| 32/32 [00:00<00:00, 35.30it/s]\n",
            "Epoch 3/5: 100%|██████████| 32/32 [00:00<00:00, 35.31it/s]\n",
            "Epoch 4/5: 100%|██████████| 32/32 [00:00<00:00, 35.38it/s]\n",
            "Epoch 5/5: 100%|██████████| 32/32 [00:00<00:00, 35.35it/s]\n"
          ]
        },
        {
          "name": "stdout",
          "output_type": "stream",
          "text": [
            "Training shard 1/5, slice 3/5\n"
          ]
        },
        {
          "name": "stderr",
          "output_type": "stream",
          "text": [
            "Epoch 1/5: 100%|██████████| 32/32 [00:00<00:00, 35.17it/s]\n",
            "Epoch 2/5: 100%|██████████| 32/32 [00:00<00:00, 35.22it/s]\n",
            "Epoch 3/5: 100%|██████████| 32/32 [00:00<00:00, 35.20it/s]\n",
            "Epoch 4/5: 100%|██████████| 32/32 [00:00<00:00, 35.22it/s]\n",
            "Epoch 5/5: 100%|██████████| 32/32 [00:00<00:00, 35.19it/s]\n"
          ]
        },
        {
          "name": "stdout",
          "output_type": "stream",
          "text": [
            "Training shard 1/5, slice 4/5\n"
          ]
        },
        {
          "name": "stderr",
          "output_type": "stream",
          "text": [
            "Epoch 1/5: 100%|██████████| 32/32 [00:00<00:00, 35.20it/s]\n",
            "Epoch 2/5: 100%|██████████| 32/32 [00:00<00:00, 35.35it/s]\n",
            "Epoch 3/5: 100%|██████████| 32/32 [00:00<00:00, 35.34it/s]\n",
            "Epoch 4/5: 100%|██████████| 32/32 [00:00<00:00, 35.36it/s]\n",
            "Epoch 5/5: 100%|██████████| 32/32 [00:00<00:00, 35.34it/s]\n"
          ]
        },
        {
          "name": "stdout",
          "output_type": "stream",
          "text": [
            "Training shard 1/5, slice 5/5\n"
          ]
        },
        {
          "name": "stderr",
          "output_type": "stream",
          "text": [
            "Epoch 1/5: 100%|██████████| 32/32 [00:00<00:00, 35.30it/s]\n",
            "Epoch 2/5: 100%|██████████| 32/32 [00:00<00:00, 35.29it/s]\n",
            "Epoch 3/5: 100%|██████████| 32/32 [00:00<00:00, 35.34it/s]\n",
            "Epoch 4/5: 100%|██████████| 32/32 [00:00<00:00, 35.37it/s]\n",
            "Epoch 5/5: 100%|██████████| 32/32 [00:00<00:00, 35.47it/s]\n"
          ]
        },
        {
          "name": "stdout",
          "output_type": "stream",
          "text": [
            "Training shard 2/5, slice 1/5\n"
          ]
        },
        {
          "name": "stderr",
          "output_type": "stream",
          "text": [
            "Epoch 1/5: 100%|██████████| 32/32 [00:00<00:00, 35.17it/s]\n",
            "Epoch 2/5: 100%|██████████| 32/32 [00:00<00:00, 35.24it/s]\n",
            "Epoch 3/5: 100%|██████████| 32/32 [00:00<00:00, 35.30it/s]\n",
            "Epoch 4/5: 100%|██████████| 32/32 [00:00<00:00, 35.27it/s]\n",
            "Epoch 5/5: 100%|██████████| 32/32 [00:00<00:00, 35.23it/s]\n"
          ]
        },
        {
          "name": "stdout",
          "output_type": "stream",
          "text": [
            "Training shard 2/5, slice 2/5\n"
          ]
        },
        {
          "name": "stderr",
          "output_type": "stream",
          "text": [
            "Epoch 1/5: 100%|██████████| 32/32 [00:00<00:00, 35.13it/s]\n",
            "Epoch 2/5: 100%|██████████| 32/32 [00:00<00:00, 35.24it/s]\n",
            "Epoch 3/5: 100%|██████████| 32/32 [00:00<00:00, 35.35it/s]\n",
            "Epoch 4/5: 100%|██████████| 32/32 [00:00<00:00, 35.35it/s]\n",
            "Epoch 5/5: 100%|██████████| 32/32 [00:00<00:00, 35.45it/s]\n"
          ]
        },
        {
          "name": "stdout",
          "output_type": "stream",
          "text": [
            "Training shard 2/5, slice 3/5\n"
          ]
        },
        {
          "name": "stderr",
          "output_type": "stream",
          "text": [
            "Epoch 1/5: 100%|██████████| 32/32 [00:00<00:00, 35.17it/s]\n",
            "Epoch 2/5: 100%|██████████| 32/32 [00:00<00:00, 35.35it/s]\n",
            "Epoch 3/5: 100%|██████████| 32/32 [00:00<00:00, 35.35it/s]\n",
            "Epoch 4/5: 100%|██████████| 32/32 [00:00<00:00, 35.35it/s]\n",
            "Epoch 5/5: 100%|██████████| 32/32 [00:00<00:00, 35.34it/s]\n"
          ]
        },
        {
          "name": "stdout",
          "output_type": "stream",
          "text": [
            "Training shard 2/5, slice 4/5\n"
          ]
        },
        {
          "name": "stderr",
          "output_type": "stream",
          "text": [
            "Epoch 1/5: 100%|██████████| 32/32 [00:00<00:00, 35.29it/s]\n",
            "Epoch 2/5: 100%|██████████| 32/32 [00:00<00:00, 35.29it/s]\n",
            "Epoch 3/5: 100%|██████████| 32/32 [00:00<00:00, 35.32it/s]\n",
            "Epoch 4/5: 100%|██████████| 32/32 [00:00<00:00, 35.29it/s]\n",
            "Epoch 5/5: 100%|██████████| 32/32 [00:00<00:00, 35.36it/s]\n"
          ]
        },
        {
          "name": "stdout",
          "output_type": "stream",
          "text": [
            "Training shard 2/5, slice 5/5\n"
          ]
        },
        {
          "name": "stderr",
          "output_type": "stream",
          "text": [
            "Epoch 1/5: 100%|██████████| 32/32 [00:00<00:00, 35.24it/s]\n",
            "Epoch 2/5: 100%|██████████| 32/32 [00:00<00:00, 35.32it/s]\n",
            "Epoch 3/5: 100%|██████████| 32/32 [00:00<00:00, 35.35it/s]\n",
            "Epoch 4/5: 100%|██████████| 32/32 [00:00<00:00, 35.33it/s]\n",
            "Epoch 5/5: 100%|██████████| 32/32 [00:00<00:00, 35.33it/s]\n"
          ]
        },
        {
          "name": "stdout",
          "output_type": "stream",
          "text": [
            "Training shard 3/5, slice 1/5\n"
          ]
        },
        {
          "name": "stderr",
          "output_type": "stream",
          "text": [
            "Epoch 1/5: 100%|██████████| 32/32 [00:00<00:00, 35.10it/s]\n",
            "Epoch 2/5: 100%|██████████| 32/32 [00:00<00:00, 35.23it/s]\n",
            "Epoch 3/5: 100%|██████████| 32/32 [00:00<00:00, 35.19it/s]\n",
            "Epoch 4/5: 100%|██████████| 32/32 [00:00<00:00, 35.21it/s]\n",
            "Epoch 5/5: 100%|██████████| 32/32 [00:00<00:00, 35.18it/s]\n"
          ]
        },
        {
          "name": "stdout",
          "output_type": "stream",
          "text": [
            "Training shard 3/5, slice 2/5\n"
          ]
        },
        {
          "name": "stderr",
          "output_type": "stream",
          "text": [
            "Epoch 1/5: 100%|██████████| 32/32 [00:00<00:00, 35.10it/s]\n",
            "Epoch 2/5: 100%|██████████| 32/32 [00:00<00:00, 35.24it/s]\n",
            "Epoch 3/5: 100%|██████████| 32/32 [00:00<00:00, 35.31it/s]\n",
            "Epoch 4/5: 100%|██████████| 32/32 [00:00<00:00, 35.22it/s]\n",
            "Epoch 5/5: 100%|██████████| 32/32 [00:00<00:00, 35.16it/s]\n"
          ]
        },
        {
          "name": "stdout",
          "output_type": "stream",
          "text": [
            "Training shard 3/5, slice 3/5\n"
          ]
        },
        {
          "name": "stderr",
          "output_type": "stream",
          "text": [
            "Epoch 1/5: 100%|██████████| 32/32 [00:00<00:00, 35.15it/s]\n",
            "Epoch 2/5: 100%|██████████| 32/32 [00:00<00:00, 35.26it/s]\n",
            "Epoch 3/5: 100%|██████████| 32/32 [00:00<00:00, 35.16it/s]\n",
            "Epoch 4/5: 100%|██████████| 32/32 [00:00<00:00, 35.23it/s]\n",
            "Epoch 5/5: 100%|██████████| 32/32 [00:00<00:00, 35.20it/s]\n"
          ]
        },
        {
          "name": "stdout",
          "output_type": "stream",
          "text": [
            "Training shard 3/5, slice 4/5\n"
          ]
        },
        {
          "name": "stderr",
          "output_type": "stream",
          "text": [
            "Epoch 1/5: 100%|██████████| 32/32 [00:00<00:00, 35.11it/s]\n",
            "Epoch 2/5: 100%|██████████| 32/32 [00:00<00:00, 35.18it/s]\n",
            "Epoch 3/5: 100%|██████████| 32/32 [00:00<00:00, 35.28it/s]\n",
            "Epoch 4/5: 100%|██████████| 32/32 [00:00<00:00, 35.21it/s]\n",
            "Epoch 5/5: 100%|██████████| 32/32 [00:00<00:00, 35.26it/s]\n"
          ]
        },
        {
          "name": "stdout",
          "output_type": "stream",
          "text": [
            "Training shard 3/5, slice 5/5\n"
          ]
        },
        {
          "name": "stderr",
          "output_type": "stream",
          "text": [
            "Epoch 1/5: 100%|██████████| 32/32 [00:00<00:00, 35.11it/s]\n",
            "Epoch 2/5: 100%|██████████| 32/32 [00:00<00:00, 35.22it/s]\n",
            "Epoch 3/5: 100%|██████████| 32/32 [00:00<00:00, 35.20it/s]\n",
            "Epoch 4/5: 100%|██████████| 32/32 [00:00<00:00, 35.16it/s]\n",
            "Epoch 5/5: 100%|██████████| 32/32 [00:00<00:00, 35.26it/s]\n"
          ]
        },
        {
          "name": "stdout",
          "output_type": "stream",
          "text": [
            "Training shard 4/5, slice 1/5\n"
          ]
        },
        {
          "name": "stderr",
          "output_type": "stream",
          "text": [
            "Epoch 1/5: 100%|██████████| 32/32 [00:00<00:00, 35.05it/s]\n",
            "Epoch 2/5: 100%|██████████| 32/32 [00:00<00:00, 35.19it/s]\n",
            "Epoch 3/5: 100%|██████████| 32/32 [00:00<00:00, 35.27it/s]\n",
            "Epoch 4/5: 100%|██████████| 32/32 [00:00<00:00, 35.24it/s]\n",
            "Epoch 5/5: 100%|██████████| 32/32 [00:00<00:00, 35.18it/s]\n"
          ]
        },
        {
          "name": "stdout",
          "output_type": "stream",
          "text": [
            "Training shard 4/5, slice 2/5\n"
          ]
        },
        {
          "name": "stderr",
          "output_type": "stream",
          "text": [
            "Epoch 1/5: 100%|██████████| 32/32 [00:00<00:00, 35.14it/s]\n",
            "Epoch 2/5: 100%|██████████| 32/32 [00:00<00:00, 35.26it/s]\n",
            "Epoch 3/5: 100%|██████████| 32/32 [00:00<00:00, 35.25it/s]\n",
            "Epoch 4/5: 100%|██████████| 32/32 [00:00<00:00, 35.28it/s]\n",
            "Epoch 5/5: 100%|██████████| 32/32 [00:00<00:00, 35.25it/s]\n"
          ]
        },
        {
          "name": "stdout",
          "output_type": "stream",
          "text": [
            "Training shard 4/5, slice 3/5\n"
          ]
        },
        {
          "name": "stderr",
          "output_type": "stream",
          "text": [
            "Epoch 1/5: 100%|██████████| 32/32 [00:00<00:00, 35.16it/s]\n",
            "Epoch 2/5: 100%|██████████| 32/32 [00:00<00:00, 35.27it/s]\n",
            "Epoch 3/5: 100%|██████████| 32/32 [00:00<00:00, 35.27it/s]\n",
            "Epoch 4/5: 100%|██████████| 32/32 [00:00<00:00, 35.27it/s]\n",
            "Epoch 5/5: 100%|██████████| 32/32 [00:00<00:00, 35.23it/s]\n"
          ]
        },
        {
          "name": "stdout",
          "output_type": "stream",
          "text": [
            "Training shard 4/5, slice 4/5\n"
          ]
        },
        {
          "name": "stderr",
          "output_type": "stream",
          "text": [
            "Epoch 1/5: 100%|██████████| 32/32 [00:00<00:00, 35.14it/s]\n",
            "Epoch 2/5: 100%|██████████| 32/32 [00:00<00:00, 35.26it/s]\n",
            "Epoch 3/5: 100%|██████████| 32/32 [00:00<00:00, 35.22it/s]\n",
            "Epoch 4/5: 100%|██████████| 32/32 [00:00<00:00, 35.24it/s]\n",
            "Epoch 5/5: 100%|██████████| 32/32 [00:00<00:00, 35.16it/s]\n"
          ]
        },
        {
          "name": "stdout",
          "output_type": "stream",
          "text": [
            "Training shard 4/5, slice 5/5\n"
          ]
        },
        {
          "name": "stderr",
          "output_type": "stream",
          "text": [
            "Epoch 1/5: 100%|██████████| 32/32 [00:00<00:00, 34.94it/s]\n",
            "Epoch 2/5: 100%|██████████| 32/32 [00:00<00:00, 35.17it/s]\n",
            "Epoch 3/5: 100%|██████████| 32/32 [00:00<00:00, 35.16it/s]\n",
            "Epoch 4/5: 100%|██████████| 32/32 [00:00<00:00, 35.09it/s]\n",
            "Epoch 5/5: 100%|██████████| 32/32 [00:00<00:00, 35.17it/s]\n"
          ]
        },
        {
          "name": "stdout",
          "output_type": "stream",
          "text": [
            "Training shard 5/5, slice 1/5\n"
          ]
        },
        {
          "name": "stderr",
          "output_type": "stream",
          "text": [
            "Epoch 1/5: 100%|██████████| 32/32 [00:00<00:00, 35.04it/s]\n",
            "Epoch 2/5: 100%|██████████| 32/32 [00:00<00:00, 35.25it/s]\n",
            "Epoch 3/5: 100%|██████████| 32/32 [00:00<00:00, 35.23it/s]\n",
            "Epoch 4/5: 100%|██████████| 32/32 [00:00<00:00, 35.24it/s]\n",
            "Epoch 5/5: 100%|██████████| 32/32 [00:00<00:00, 35.22it/s]\n"
          ]
        },
        {
          "name": "stdout",
          "output_type": "stream",
          "text": [
            "Training shard 5/5, slice 2/5\n"
          ]
        },
        {
          "name": "stderr",
          "output_type": "stream",
          "text": [
            "Epoch 1/5: 100%|██████████| 32/32 [00:00<00:00, 35.04it/s]\n",
            "Epoch 2/5: 100%|██████████| 32/32 [00:00<00:00, 35.24it/s]\n",
            "Epoch 3/5: 100%|██████████| 32/32 [00:00<00:00, 35.32it/s]\n",
            "Epoch 4/5: 100%|██████████| 32/32 [00:00<00:00, 35.26it/s]\n",
            "Epoch 5/5: 100%|██████████| 32/32 [00:00<00:00, 35.21it/s]\n"
          ]
        },
        {
          "name": "stdout",
          "output_type": "stream",
          "text": [
            "Training shard 5/5, slice 3/5\n"
          ]
        },
        {
          "name": "stderr",
          "output_type": "stream",
          "text": [
            "Epoch 1/5: 100%|██████████| 32/32 [00:00<00:00, 35.16it/s]\n",
            "Epoch 2/5: 100%|██████████| 32/32 [00:00<00:00, 35.24it/s]\n",
            "Epoch 3/5: 100%|██████████| 32/32 [00:00<00:00, 35.29it/s]\n",
            "Epoch 4/5: 100%|██████████| 32/32 [00:00<00:00, 35.30it/s]\n",
            "Epoch 5/5: 100%|██████████| 32/32 [00:00<00:00, 35.24it/s]\n"
          ]
        },
        {
          "name": "stdout",
          "output_type": "stream",
          "text": [
            "Training shard 5/5, slice 4/5\n"
          ]
        },
        {
          "name": "stderr",
          "output_type": "stream",
          "text": [
            "Epoch 1/5: 100%|██████████| 32/32 [00:00<00:00, 35.19it/s]\n",
            "Epoch 2/5: 100%|██████████| 32/32 [00:00<00:00, 35.21it/s]\n",
            "Epoch 3/5: 100%|██████████| 32/32 [00:00<00:00, 35.22it/s]\n",
            "Epoch 4/5: 100%|██████████| 32/32 [00:00<00:00, 35.28it/s]\n",
            "Epoch 5/5: 100%|██████████| 32/32 [00:00<00:00, 35.25it/s]\n"
          ]
        },
        {
          "name": "stdout",
          "output_type": "stream",
          "text": [
            "Training shard 5/5, slice 5/5\n"
          ]
        },
        {
          "name": "stderr",
          "output_type": "stream",
          "text": [
            "Epoch 1/5: 100%|██████████| 32/32 [00:00<00:00, 35.12it/s]\n",
            "Epoch 2/5: 100%|██████████| 32/32 [00:00<00:00, 35.31it/s]\n",
            "Epoch 3/5: 100%|██████████| 32/32 [00:00<00:00, 35.36it/s]\n",
            "Epoch 4/5: 100%|██████████| 32/32 [00:00<00:00, 35.29it/s]\n",
            "Epoch 5/5: 100%|██████████| 32/32 [00:00<00:00, 35.29it/s]\n",
            "Evaluating model: Shard 1/5, slice 1/5: 100%|██████████| 157/157 [00:02<00:00, 53.81it/s]\n",
            "Evaluating model: Shard 1/5, slice 2/5: 100%|██████████| 157/157 [00:02<00:00, 53.96it/s]\n",
            "Evaluating model: Shard 1/5, slice 3/5: 100%|██████████| 157/157 [00:02<00:00, 53.87it/s]\n",
            "Evaluating model: Shard 1/5, slice 4/5: 100%|██████████| 157/157 [00:02<00:00, 53.81it/s]\n",
            "Evaluating model: Shard 1/5, slice 5/5: 100%|██████████| 157/157 [00:02<00:00, 53.87it/s]\n",
            "Evaluating model: Shard 2/5, slice 1/5: 100%|██████████| 157/157 [00:02<00:00, 53.94it/s]\n",
            "Evaluating model: Shard 2/5, slice 2/5: 100%|██████████| 157/157 [00:02<00:00, 53.93it/s]\n",
            "Evaluating model: Shard 2/5, slice 3/5: 100%|██████████| 157/157 [00:02<00:00, 53.83it/s]\n",
            "Evaluating model: Shard 2/5, slice 4/5: 100%|██████████| 157/157 [00:02<00:00, 53.95it/s]\n",
            "Evaluating model: Shard 2/5, slice 5/5: 100%|██████████| 157/157 [00:02<00:00, 53.83it/s]\n",
            "Evaluating model: Shard 3/5, slice 1/5: 100%|██████████| 157/157 [00:02<00:00, 53.93it/s]\n",
            "Evaluating model: Shard 3/5, slice 2/5: 100%|██████████| 157/157 [00:02<00:00, 53.86it/s]\n",
            "Evaluating model: Shard 3/5, slice 3/5: 100%|██████████| 157/157 [00:02<00:00, 53.84it/s]\n",
            "Evaluating model: Shard 3/5, slice 4/5: 100%|██████████| 157/157 [00:02<00:00, 53.81it/s]\n",
            "Evaluating model: Shard 3/5, slice 5/5: 100%|██████████| 157/157 [00:02<00:00, 53.86it/s]\n",
            "Evaluating model: Shard 4/5, slice 1/5: 100%|██████████| 157/157 [00:02<00:00, 53.78it/s]\n",
            "Evaluating model: Shard 4/5, slice 2/5: 100%|██████████| 157/157 [00:02<00:00, 53.87it/s]\n",
            "Evaluating model: Shard 4/5, slice 3/5: 100%|██████████| 157/157 [00:02<00:00, 53.92it/s]\n",
            "Evaluating model: Shard 4/5, slice 4/5: 100%|██████████| 157/157 [00:02<00:00, 54.04it/s]\n",
            "Evaluating model: Shard 4/5, slice 5/5: 100%|██████████| 157/157 [00:02<00:00, 53.95it/s]\n",
            "Evaluating model: Shard 5/5, slice 1/5: 100%|██████████| 157/157 [00:02<00:00, 53.98it/s]\n",
            "Evaluating model: Shard 5/5, slice 2/5: 100%|██████████| 157/157 [00:02<00:00, 54.01it/s]\n",
            "Evaluating model: Shard 5/5, slice 3/5: 100%|██████████| 157/157 [00:02<00:00, 54.00it/s]\n",
            "Evaluating model: Shard 5/5, slice 4/5: 100%|██████████| 157/157 [00:02<00:00, 53.98it/s]\n",
            "Evaluating model: Shard 5/5, slice 5/5: 100%|██████████| 157/157 [00:02<00:00, 53.96it/s]\n"
          ]
        }
      ],
      "source": [
        "S = 5\n",
        "R = 5\n",
        "shards = create_shards(train_dataset, S)\n",
        "shard_models = sisa_train(shards, R, num_epochs, initial_model, criterion, optimizer_fn)\n",
        "\n",
        "\n",
        "test_loader = data.DataLoader(test_dataset, batch_size=64, shuffle=False)\n",
        "\n",
        "accuracy, precision, recall, f1, auroc = evaluate_models(shard_models, test_loader)\n",
        "results.append((S, R, \"Majority Voting\", accuracy, precision, recall, f1, auroc))\n",
        "\n",
        "if accuracy > best_accuracy:\n",
        "    best_accuracy = accuracy\n",
        "    best_model = shard_models\n",
        "    best_result = (S, R, accuracy, precision, recall, f1, auroc)\n"
      ]
    },
    {
      "cell_type": "code",
      "execution_count": 14,
      "metadata": {},
      "outputs": [
        {
          "name": "stdout",
          "output_type": "stream",
          "text": [
            "Retraining shard 1/5 containing data to forget\n"
          ]
        },
        {
          "name": "stderr",
          "output_type": "stream",
          "text": [
            "Epoch 1/5: 100%|██████████| 31/31 [00:00<00:00, 31.70it/s]\n",
            "Epoch 2/5: 100%|██████████| 31/31 [00:00<00:00, 35.11it/s]\n",
            "Epoch 3/5: 100%|██████████| 31/31 [00:00<00:00, 35.17it/s]\n",
            "Epoch 4/5: 100%|██████████| 31/31 [00:00<00:00, 35.19it/s]\n",
            "Epoch 5/5: 100%|██████████| 31/31 [00:00<00:00, 35.16it/s]\n"
          ]
        },
        {
          "name": "stdout",
          "output_type": "stream",
          "text": [
            "Slice 1/5 retrained for shard 1/5\n"
          ]
        },
        {
          "name": "stderr",
          "output_type": "stream",
          "text": [
            "Epoch 1/5: 100%|██████████| 31/31 [00:00<00:00, 31.94it/s]\n",
            "Epoch 2/5: 100%|██████████| 31/31 [00:00<00:00, 34.44it/s]\n",
            "Epoch 3/5: 100%|██████████| 31/31 [00:00<00:00, 35.30it/s]\n",
            "Epoch 4/5: 100%|██████████| 31/31 [00:00<00:00, 35.27it/s]\n",
            "Epoch 5/5: 100%|██████████| 31/31 [00:00<00:00, 35.26it/s]\n"
          ]
        },
        {
          "name": "stdout",
          "output_type": "stream",
          "text": [
            "Slice 2/5 retrained for shard 1/5\n"
          ]
        },
        {
          "name": "stderr",
          "output_type": "stream",
          "text": [
            "Epoch 1/5: 100%|██████████| 31/31 [00:00<00:00, 31.95it/s]\n",
            "Epoch 2/5: 100%|██████████| 31/31 [00:00<00:00, 35.17it/s]\n",
            "Epoch 3/5: 100%|██████████| 31/31 [00:00<00:00, 35.26it/s]\n",
            "Epoch 4/5: 100%|██████████| 31/31 [00:00<00:00, 35.20it/s]\n",
            "Epoch 5/5: 100%|██████████| 31/31 [00:00<00:00, 35.23it/s]\n"
          ]
        },
        {
          "name": "stdout",
          "output_type": "stream",
          "text": [
            "Slice 3/5 retrained for shard 1/5\n"
          ]
        },
        {
          "name": "stderr",
          "output_type": "stream",
          "text": [
            "Epoch 1/5: 100%|██████████| 31/31 [00:00<00:00, 32.02it/s]\n",
            "Epoch 2/5: 100%|██████████| 31/31 [00:00<00:00, 35.09it/s]\n",
            "Epoch 3/5: 100%|██████████| 31/31 [00:00<00:00, 35.17it/s]\n",
            "Epoch 4/5: 100%|██████████| 31/31 [00:00<00:00, 35.19it/s]\n",
            "Epoch 5/5: 100%|██████████| 31/31 [00:00<00:00, 35.16it/s]\n"
          ]
        },
        {
          "name": "stdout",
          "output_type": "stream",
          "text": [
            "Slice 4/5 retrained for shard 1/5\n"
          ]
        },
        {
          "name": "stderr",
          "output_type": "stream",
          "text": [
            "Epoch 1/5: 100%|██████████| 31/31 [00:00<00:00, 32.00it/s]\n",
            "Epoch 2/5: 100%|██████████| 31/31 [00:00<00:00, 35.10it/s]\n",
            "Epoch 3/5: 100%|██████████| 31/31 [00:00<00:00, 35.08it/s]\n",
            "Epoch 4/5: 100%|██████████| 31/31 [00:00<00:00, 35.14it/s]\n",
            "Epoch 5/5: 100%|██████████| 31/31 [00:00<00:00, 35.13it/s]\n"
          ]
        },
        {
          "name": "stdout",
          "output_type": "stream",
          "text": [
            "Slice 5/5 retrained for shard 1/5\n",
            "Retraining shard 2/5 containing data to forget\n"
          ]
        },
        {
          "name": "stderr",
          "output_type": "stream",
          "text": [
            "Epoch 1/5: 100%|██████████| 32/32 [00:00<00:00, 35.40it/s]\n",
            "Epoch 2/5: 100%|██████████| 32/32 [00:00<00:00, 35.60it/s]\n",
            "Epoch 3/5: 100%|██████████| 32/32 [00:00<00:00, 35.62it/s]\n",
            "Epoch 4/5: 100%|██████████| 32/32 [00:00<00:00, 35.54it/s]\n",
            "Epoch 5/5: 100%|██████████| 32/32 [00:00<00:00, 35.62it/s]\n"
          ]
        },
        {
          "name": "stdout",
          "output_type": "stream",
          "text": [
            "Slice 1/5 retrained for shard 2/5\n"
          ]
        },
        {
          "name": "stderr",
          "output_type": "stream",
          "text": [
            "Epoch 1/5: 100%|██████████| 32/32 [00:00<00:00, 35.37it/s]\n",
            "Epoch 2/5: 100%|██████████| 32/32 [00:00<00:00, 35.57it/s]\n",
            "Epoch 3/5: 100%|██████████| 32/32 [00:00<00:00, 35.59it/s]\n",
            "Epoch 4/5: 100%|██████████| 32/32 [00:00<00:00, 35.56it/s]\n",
            "Epoch 5/5: 100%|██████████| 32/32 [00:00<00:00, 35.60it/s]\n"
          ]
        },
        {
          "name": "stdout",
          "output_type": "stream",
          "text": [
            "Slice 2/5 retrained for shard 2/5\n"
          ]
        },
        {
          "name": "stderr",
          "output_type": "stream",
          "text": [
            "Epoch 1/5: 100%|██████████| 32/32 [00:00<00:00, 35.34it/s]\n",
            "Epoch 2/5: 100%|██████████| 32/32 [00:00<00:00, 35.50it/s]\n",
            "Epoch 3/5: 100%|██████████| 32/32 [00:00<00:00, 35.53it/s]\n",
            "Epoch 4/5: 100%|██████████| 32/32 [00:00<00:00, 35.59it/s]\n",
            "Epoch 5/5: 100%|██████████| 32/32 [00:00<00:00, 35.61it/s]\n"
          ]
        },
        {
          "name": "stdout",
          "output_type": "stream",
          "text": [
            "Slice 3/5 retrained for shard 2/5\n"
          ]
        },
        {
          "name": "stderr",
          "output_type": "stream",
          "text": [
            "Epoch 1/5: 100%|██████████| 32/32 [00:00<00:00, 35.39it/s]\n",
            "Epoch 2/5: 100%|██████████| 32/32 [00:00<00:00, 35.45it/s]\n",
            "Epoch 3/5: 100%|██████████| 32/32 [00:00<00:00, 35.57it/s]\n",
            "Epoch 4/5: 100%|██████████| 32/32 [00:00<00:00, 35.59it/s]\n",
            "Epoch 5/5: 100%|██████████| 32/32 [00:00<00:00, 35.53it/s]\n"
          ]
        },
        {
          "name": "stdout",
          "output_type": "stream",
          "text": [
            "Slice 4/5 retrained for shard 2/5\n"
          ]
        },
        {
          "name": "stderr",
          "output_type": "stream",
          "text": [
            "Epoch 1/5: 100%|██████████| 32/32 [00:00<00:00, 35.41it/s]\n",
            "Epoch 2/5: 100%|██████████| 32/32 [00:00<00:00, 35.54it/s]\n",
            "Epoch 3/5: 100%|██████████| 32/32 [00:00<00:00, 35.56it/s]\n",
            "Epoch 4/5: 100%|██████████| 32/32 [00:00<00:00, 35.55it/s]\n",
            "Epoch 5/5: 100%|██████████| 32/32 [00:00<00:00, 35.55it/s]\n"
          ]
        },
        {
          "name": "stdout",
          "output_type": "stream",
          "text": [
            "Slice 5/5 retrained for shard 2/5\n",
            "Retraining shard 3/5 containing data to forget\n"
          ]
        },
        {
          "name": "stderr",
          "output_type": "stream",
          "text": [
            "Epoch 1/5: 100%|██████████| 32/32 [00:00<00:00, 35.28it/s]\n",
            "Epoch 2/5: 100%|██████████| 32/32 [00:00<00:00, 35.50it/s]\n",
            "Epoch 3/5: 100%|██████████| 32/32 [00:00<00:00, 35.52it/s]\n",
            "Epoch 4/5: 100%|██████████| 32/32 [00:00<00:00, 35.52it/s]\n",
            "Epoch 5/5: 100%|██████████| 32/32 [00:00<00:00, 35.47it/s]\n"
          ]
        },
        {
          "name": "stdout",
          "output_type": "stream",
          "text": [
            "Slice 1/5 retrained for shard 3/5\n"
          ]
        },
        {
          "name": "stderr",
          "output_type": "stream",
          "text": [
            "Epoch 1/5: 100%|██████████| 32/32 [00:00<00:00, 35.27it/s]\n",
            "Epoch 2/5: 100%|██████████| 32/32 [00:00<00:00, 35.48it/s]\n",
            "Epoch 3/5: 100%|██████████| 32/32 [00:00<00:00, 35.52it/s]\n",
            "Epoch 4/5: 100%|██████████| 32/32 [00:00<00:00, 35.47it/s]\n",
            "Epoch 5/5: 100%|██████████| 32/32 [00:00<00:00, 35.48it/s]\n"
          ]
        },
        {
          "name": "stdout",
          "output_type": "stream",
          "text": [
            "Slice 2/5 retrained for shard 3/5\n"
          ]
        },
        {
          "name": "stderr",
          "output_type": "stream",
          "text": [
            "Epoch 1/5: 100%|██████████| 32/32 [00:00<00:00, 35.39it/s]\n",
            "Epoch 2/5: 100%|██████████| 32/32 [00:00<00:00, 35.61it/s]\n",
            "Epoch 3/5: 100%|██████████| 32/32 [00:00<00:00, 35.63it/s]\n",
            "Epoch 4/5: 100%|██████████| 32/32 [00:00<00:00, 35.62it/s]\n",
            "Epoch 5/5: 100%|██████████| 32/32 [00:00<00:00, 35.59it/s]\n"
          ]
        },
        {
          "name": "stdout",
          "output_type": "stream",
          "text": [
            "Slice 3/5 retrained for shard 3/5\n"
          ]
        },
        {
          "name": "stderr",
          "output_type": "stream",
          "text": [
            "Epoch 1/5: 100%|██████████| 32/32 [00:00<00:00, 35.28it/s]\n",
            "Epoch 2/5: 100%|██████████| 32/32 [00:00<00:00, 35.47it/s]\n",
            "Epoch 3/5: 100%|██████████| 32/32 [00:00<00:00, 35.59it/s]\n",
            "Epoch 4/5: 100%|██████████| 32/32 [00:00<00:00, 35.57it/s]\n",
            "Epoch 5/5: 100%|██████████| 32/32 [00:00<00:00, 35.59it/s]\n"
          ]
        },
        {
          "name": "stdout",
          "output_type": "stream",
          "text": [
            "Slice 4/5 retrained for shard 3/5\n"
          ]
        },
        {
          "name": "stderr",
          "output_type": "stream",
          "text": [
            "Epoch 1/5: 100%|██████████| 32/32 [00:00<00:00, 35.39it/s]\n",
            "Epoch 2/5: 100%|██████████| 32/32 [00:00<00:00, 35.55it/s]\n",
            "Epoch 3/5: 100%|██████████| 32/32 [00:00<00:00, 35.62it/s]\n",
            "Epoch 4/5: 100%|██████████| 32/32 [00:00<00:00, 35.56it/s]\n",
            "Epoch 5/5: 100%|██████████| 32/32 [00:00<00:00, 35.56it/s]\n"
          ]
        },
        {
          "name": "stdout",
          "output_type": "stream",
          "text": [
            "Slice 5/5 retrained for shard 3/5\n",
            "Retraining shard 4/5 containing data to forget\n"
          ]
        },
        {
          "name": "stderr",
          "output_type": "stream",
          "text": [
            "Epoch 1/5: 100%|██████████| 32/32 [00:00<00:00, 35.30it/s]\n",
            "Epoch 2/5: 100%|██████████| 32/32 [00:00<00:00, 35.58it/s]\n",
            "Epoch 3/5: 100%|██████████| 32/32 [00:00<00:00, 35.60it/s]\n",
            "Epoch 4/5: 100%|██████████| 32/32 [00:00<00:00, 35.57it/s]\n",
            "Epoch 5/5: 100%|██████████| 32/32 [00:00<00:00, 35.55it/s]\n"
          ]
        },
        {
          "name": "stdout",
          "output_type": "stream",
          "text": [
            "Slice 1/5 retrained for shard 4/5\n"
          ]
        },
        {
          "name": "stderr",
          "output_type": "stream",
          "text": [
            "Epoch 1/5: 100%|██████████| 32/32 [00:00<00:00, 35.30it/s]\n",
            "Epoch 2/5: 100%|██████████| 32/32 [00:00<00:00, 35.54it/s]\n",
            "Epoch 3/5: 100%|██████████| 32/32 [00:00<00:00, 35.61it/s]\n",
            "Epoch 4/5: 100%|██████████| 32/32 [00:00<00:00, 35.50it/s]\n",
            "Epoch 5/5: 100%|██████████| 32/32 [00:00<00:00, 35.51it/s]\n"
          ]
        },
        {
          "name": "stdout",
          "output_type": "stream",
          "text": [
            "Slice 2/5 retrained for shard 4/5\n"
          ]
        },
        {
          "name": "stderr",
          "output_type": "stream",
          "text": [
            "Epoch 1/5: 100%|██████████| 32/32 [00:00<00:00, 35.41it/s]\n",
            "Epoch 2/5: 100%|██████████| 32/32 [00:00<00:00, 35.60it/s]\n",
            "Epoch 3/5: 100%|██████████| 32/32 [00:00<00:00, 35.51it/s]\n",
            "Epoch 4/5: 100%|██████████| 32/32 [00:00<00:00, 35.58it/s]\n",
            "Epoch 5/5: 100%|██████████| 32/32 [00:00<00:00, 35.47it/s]\n"
          ]
        },
        {
          "name": "stdout",
          "output_type": "stream",
          "text": [
            "Slice 3/5 retrained for shard 4/5\n"
          ]
        },
        {
          "name": "stderr",
          "output_type": "stream",
          "text": [
            "Epoch 1/5: 100%|██████████| 32/32 [00:00<00:00, 35.33it/s]\n",
            "Epoch 2/5: 100%|██████████| 32/32 [00:00<00:00, 35.57it/s]\n",
            "Epoch 3/5: 100%|██████████| 32/32 [00:00<00:00, 35.64it/s]\n",
            "Epoch 4/5: 100%|██████████| 32/32 [00:00<00:00, 35.50it/s]\n",
            "Epoch 5/5: 100%|██████████| 32/32 [00:00<00:00, 35.52it/s]\n"
          ]
        },
        {
          "name": "stdout",
          "output_type": "stream",
          "text": [
            "Slice 4/5 retrained for shard 4/5\n"
          ]
        },
        {
          "name": "stderr",
          "output_type": "stream",
          "text": [
            "Epoch 1/5: 100%|██████████| 32/32 [00:00<00:00, 35.34it/s]\n",
            "Epoch 2/5: 100%|██████████| 32/32 [00:00<00:00, 35.52it/s]\n",
            "Epoch 3/5: 100%|██████████| 32/32 [00:00<00:00, 35.45it/s]\n",
            "Epoch 4/5: 100%|██████████| 32/32 [00:00<00:00, 35.48it/s]\n",
            "Epoch 5/5: 100%|██████████| 32/32 [00:00<00:00, 35.47it/s]\n"
          ]
        },
        {
          "name": "stdout",
          "output_type": "stream",
          "text": [
            "Slice 5/5 retrained for shard 4/5\n"
          ]
        },
        {
          "name": "stderr",
          "output_type": "stream",
          "text": [
            "Evaluating model: Shard 1/5, slice 1/5: 100%|██████████| 157/157 [00:02<00:00, 54.29it/s]\n",
            "Evaluating model: Shard 1/5, slice 2/5: 100%|██████████| 157/157 [00:02<00:00, 54.40it/s]\n",
            "Evaluating model: Shard 1/5, slice 3/5: 100%|██████████| 157/157 [00:02<00:00, 54.33it/s]\n",
            "Evaluating model: Shard 1/5, slice 4/5: 100%|██████████| 157/157 [00:02<00:00, 54.36it/s]\n",
            "Evaluating model: Shard 1/5, slice 5/5: 100%|██████████| 157/157 [00:02<00:00, 54.35it/s]\n",
            "Evaluating model: Shard 2/5, slice 1/5: 100%|██████████| 157/157 [00:02<00:00, 54.34it/s]\n",
            "Evaluating model: Shard 2/5, slice 2/5: 100%|██████████| 157/157 [00:02<00:00, 54.68it/s]\n",
            "Evaluating model: Shard 2/5, slice 3/5: 100%|██████████| 157/157 [00:02<00:00, 54.64it/s]\n",
            "Evaluating model: Shard 2/5, slice 4/5: 100%|██████████| 157/157 [00:02<00:00, 54.23it/s]\n",
            "Evaluating model: Shard 2/5, slice 5/5: 100%|██████████| 157/157 [00:02<00:00, 54.28it/s]\n",
            "Evaluating model: Shard 3/5, slice 1/5: 100%|██████████| 157/157 [00:02<00:00, 54.13it/s]\n",
            "Evaluating model: Shard 3/5, slice 2/5: 100%|██████████| 157/157 [00:02<00:00, 54.25it/s]\n",
            "Evaluating model: Shard 3/5, slice 3/5: 100%|██████████| 157/157 [00:02<00:00, 54.13it/s]\n",
            "Evaluating model: Shard 3/5, slice 4/5: 100%|██████████| 157/157 [00:02<00:00, 54.11it/s]\n",
            "Evaluating model: Shard 3/5, slice 5/5: 100%|██████████| 157/157 [00:02<00:00, 54.14it/s]\n",
            "Evaluating model: Shard 4/5, slice 1/5: 100%|██████████| 157/157 [00:02<00:00, 53.98it/s]\n",
            "Evaluating model: Shard 4/5, slice 2/5: 100%|██████████| 157/157 [00:02<00:00, 54.04it/s]\n",
            "Evaluating model: Shard 4/5, slice 3/5: 100%|██████████| 157/157 [00:02<00:00, 54.06it/s]\n",
            "Evaluating model: Shard 4/5, slice 4/5: 100%|██████████| 157/157 [00:02<00:00, 54.10it/s]\n",
            "Evaluating model: Shard 4/5, slice 5/5: 100%|██████████| 157/157 [00:02<00:00, 54.02it/s]\n",
            "Evaluating model: Shard 5/5, slice 1/5: 100%|██████████| 157/157 [00:02<00:00, 54.02it/s]\n",
            "Evaluating model: Shard 5/5, slice 2/5: 100%|██████████| 157/157 [00:02<00:00, 54.16it/s]\n",
            "Evaluating model: Shard 5/5, slice 3/5: 100%|██████████| 157/157 [00:02<00:00, 54.14it/s]\n",
            "Evaluating model: Shard 5/5, slice 4/5: 100%|██████████| 157/157 [00:02<00:00, 54.11it/s]\n",
            "Evaluating model: Shard 5/5, slice 5/5: 100%|██████████| 157/157 [00:02<00:00, 54.04it/s]\n"
          ]
        }
      ],
      "source": [
        "\n",
        "# Perform unlearning\n",
        "data_to_forget_indices = np.random.choice(len(train_data), 500, replace=False)\n",
        "shard_models_unlearned = sisa_unlearn(shards, R, shard_models, initial_model, criterion, optimizer_fn, data_to_forget_indices)\n",
        "\n",
        "accuracy, precision, recall, f1, auroc = evaluate_models(shard_models_unlearned, test_loader)\n",
        "results_unlearning.append((S, R, \"Majority Voting\" + \" (Unlearned)\", accuracy, precision, recall, f1, auroc))\n",
        "\n",
        "        \n",
        "if accuracy > best_accuracy_unlearned:\n",
        "    best_accuracy_unlearned = accuracy\n",
        "    best_model_unlearned = shard_models_unlearned\n",
        "    best_result_unlearned = (S, R, accuracy, precision, recall, f1, auroc)\n",
        "\n",
        "clear_CUDA()"
      ]
    },
    {
      "cell_type": "code",
      "execution_count": 15,
      "metadata": {},
      "outputs": [
        {
          "name": "stdout",
          "output_type": "stream",
          "text": [
            "Training shard 1/5, slice 1/10\n"
          ]
        },
        {
          "name": "stderr",
          "output_type": "stream",
          "text": [
            "Epoch 1/5:  25%|██▌       | 4/16 [00:00<00:00, 32.83it/s]"
          ]
        },
        {
          "name": "stderr",
          "output_type": "stream",
          "text": [
            "Epoch 1/5: 100%|██████████| 16/16 [00:00<00:00, 34.89it/s]\n",
            "Epoch 2/5: 100%|██████████| 16/16 [00:00<00:00, 35.44it/s]\n",
            "Epoch 3/5: 100%|██████████| 16/16 [00:00<00:00, 35.48it/s]\n",
            "Epoch 4/5: 100%|██████████| 16/16 [00:00<00:00, 35.56it/s]\n",
            "Epoch 5/5: 100%|██████████| 16/16 [00:00<00:00, 35.48it/s]\n"
          ]
        },
        {
          "name": "stdout",
          "output_type": "stream",
          "text": [
            "Training shard 1/5, slice 2/10\n"
          ]
        },
        {
          "name": "stderr",
          "output_type": "stream",
          "text": [
            "Epoch 1/5: 100%|██████████| 16/16 [00:00<00:00, 35.10it/s]\n",
            "Epoch 2/5: 100%|██████████| 16/16 [00:00<00:00, 35.47it/s]\n",
            "Epoch 3/5: 100%|██████████| 16/16 [00:00<00:00, 35.54it/s]\n",
            "Epoch 4/5: 100%|██████████| 16/16 [00:00<00:00, 35.45it/s]\n",
            "Epoch 5/5: 100%|██████████| 16/16 [00:00<00:00, 35.41it/s]\n"
          ]
        },
        {
          "name": "stdout",
          "output_type": "stream",
          "text": [
            "Training shard 1/5, slice 3/10\n"
          ]
        },
        {
          "name": "stderr",
          "output_type": "stream",
          "text": [
            "Epoch 1/5: 100%|██████████| 16/16 [00:00<00:00, 35.17it/s]\n",
            "Epoch 2/5: 100%|██████████| 16/16 [00:00<00:00, 35.48it/s]\n",
            "Epoch 3/5: 100%|██████████| 16/16 [00:00<00:00, 35.47it/s]\n",
            "Epoch 4/5: 100%|██████████| 16/16 [00:00<00:00, 35.50it/s]\n",
            "Epoch 5/5: 100%|██████████| 16/16 [00:00<00:00, 35.53it/s]\n"
          ]
        },
        {
          "name": "stdout",
          "output_type": "stream",
          "text": [
            "Training shard 1/5, slice 4/10\n"
          ]
        },
        {
          "name": "stderr",
          "output_type": "stream",
          "text": [
            "Epoch 1/5: 100%|██████████| 16/16 [00:00<00:00, 35.07it/s]\n",
            "Epoch 2/5: 100%|██████████| 16/16 [00:00<00:00, 35.51it/s]\n",
            "Epoch 3/5: 100%|██████████| 16/16 [00:00<00:00, 35.55it/s]\n",
            "Epoch 4/5: 100%|██████████| 16/16 [00:00<00:00, 35.52it/s]\n",
            "Epoch 5/5: 100%|██████████| 16/16 [00:00<00:00, 35.61it/s]\n"
          ]
        },
        {
          "name": "stdout",
          "output_type": "stream",
          "text": [
            "Training shard 1/5, slice 5/10\n"
          ]
        },
        {
          "name": "stderr",
          "output_type": "stream",
          "text": [
            "Epoch 1/5: 100%|██████████| 16/16 [00:00<00:00, 35.12it/s]\n",
            "Epoch 2/5: 100%|██████████| 16/16 [00:00<00:00, 35.54it/s]\n",
            "Epoch 3/5: 100%|██████████| 16/16 [00:00<00:00, 35.64it/s]\n",
            "Epoch 4/5: 100%|██████████| 16/16 [00:00<00:00, 35.47it/s]\n",
            "Epoch 5/5: 100%|██████████| 16/16 [00:00<00:00, 35.58it/s]\n"
          ]
        },
        {
          "name": "stdout",
          "output_type": "stream",
          "text": [
            "Training shard 1/5, slice 6/10\n"
          ]
        },
        {
          "name": "stderr",
          "output_type": "stream",
          "text": [
            "Epoch 1/5: 100%|██████████| 16/16 [00:00<00:00, 35.19it/s]\n",
            "Epoch 2/5: 100%|██████████| 16/16 [00:00<00:00, 35.58it/s]\n",
            "Epoch 3/5: 100%|██████████| 16/16 [00:00<00:00, 35.51it/s]\n",
            "Epoch 4/5: 100%|██████████| 16/16 [00:00<00:00, 35.70it/s]\n",
            "Epoch 5/5: 100%|██████████| 16/16 [00:00<00:00, 35.60it/s]\n"
          ]
        },
        {
          "name": "stdout",
          "output_type": "stream",
          "text": [
            "Training shard 1/5, slice 7/10\n"
          ]
        },
        {
          "name": "stderr",
          "output_type": "stream",
          "text": [
            "Epoch 1/5: 100%|██████████| 16/16 [00:00<00:00, 35.07it/s]\n",
            "Epoch 2/5: 100%|██████████| 16/16 [00:00<00:00, 35.53it/s]\n",
            "Epoch 3/5: 100%|██████████| 16/16 [00:00<00:00, 35.45it/s]\n",
            "Epoch 4/5: 100%|██████████| 16/16 [00:00<00:00, 35.48it/s]\n",
            "Epoch 5/5: 100%|██████████| 16/16 [00:00<00:00, 35.49it/s]\n"
          ]
        },
        {
          "name": "stdout",
          "output_type": "stream",
          "text": [
            "Training shard 1/5, slice 8/10\n"
          ]
        },
        {
          "name": "stderr",
          "output_type": "stream",
          "text": [
            "Epoch 1/5: 100%|██████████| 16/16 [00:00<00:00, 35.19it/s]\n",
            "Epoch 2/5: 100%|██████████| 16/16 [00:00<00:00, 35.46it/s]\n",
            "Epoch 3/5: 100%|██████████| 16/16 [00:00<00:00, 35.56it/s]\n",
            "Epoch 4/5: 100%|██████████| 16/16 [00:00<00:00, 35.60it/s]\n",
            "Epoch 5/5: 100%|██████████| 16/16 [00:00<00:00, 35.56it/s]\n"
          ]
        },
        {
          "name": "stdout",
          "output_type": "stream",
          "text": [
            "Training shard 1/5, slice 9/10\n"
          ]
        },
        {
          "name": "stderr",
          "output_type": "stream",
          "text": [
            "Epoch 1/5: 100%|██████████| 16/16 [00:00<00:00, 35.19it/s]\n",
            "Epoch 2/5: 100%|██████████| 16/16 [00:00<00:00, 35.52it/s]\n",
            "Epoch 3/5: 100%|██████████| 16/16 [00:00<00:00, 35.51it/s]\n",
            "Epoch 4/5: 100%|██████████| 16/16 [00:00<00:00, 35.56it/s]\n",
            "Epoch 5/5: 100%|██████████| 16/16 [00:00<00:00, 35.61it/s]\n"
          ]
        },
        {
          "name": "stdout",
          "output_type": "stream",
          "text": [
            "Training shard 1/5, slice 10/10\n"
          ]
        },
        {
          "name": "stderr",
          "output_type": "stream",
          "text": [
            "Epoch 1/5: 100%|██████████| 16/16 [00:00<00:00, 35.13it/s]\n",
            "Epoch 2/5: 100%|██████████| 16/16 [00:00<00:00, 35.51it/s]\n",
            "Epoch 3/5: 100%|██████████| 16/16 [00:00<00:00, 35.56it/s]\n",
            "Epoch 4/5: 100%|██████████| 16/16 [00:00<00:00, 35.52it/s]\n",
            "Epoch 5/5: 100%|██████████| 16/16 [00:00<00:00, 35.59it/s]\n"
          ]
        },
        {
          "name": "stdout",
          "output_type": "stream",
          "text": [
            "Training shard 2/5, slice 1/10\n"
          ]
        },
        {
          "name": "stderr",
          "output_type": "stream",
          "text": [
            "Epoch 1/5: 100%|██████████| 16/16 [00:00<00:00, 35.25it/s]\n",
            "Epoch 2/5: 100%|██████████| 16/16 [00:00<00:00, 35.45it/s]\n",
            "Epoch 3/5: 100%|██████████| 16/16 [00:00<00:00, 35.46it/s]\n",
            "Epoch 4/5: 100%|██████████| 16/16 [00:00<00:00, 35.65it/s]\n",
            "Epoch 5/5: 100%|██████████| 16/16 [00:00<00:00, 35.55it/s]\n"
          ]
        },
        {
          "name": "stdout",
          "output_type": "stream",
          "text": [
            "Training shard 2/5, slice 2/10\n"
          ]
        },
        {
          "name": "stderr",
          "output_type": "stream",
          "text": [
            "Epoch 1/5: 100%|██████████| 16/16 [00:00<00:00, 35.15it/s]\n",
            "Epoch 2/5: 100%|██████████| 16/16 [00:00<00:00, 35.47it/s]\n",
            "Epoch 3/5: 100%|██████████| 16/16 [00:00<00:00, 35.59it/s]\n",
            "Epoch 4/5: 100%|██████████| 16/16 [00:00<00:00, 35.55it/s]\n",
            "Epoch 5/5: 100%|██████████| 16/16 [00:00<00:00, 35.51it/s]\n"
          ]
        },
        {
          "name": "stdout",
          "output_type": "stream",
          "text": [
            "Training shard 2/5, slice 3/10\n"
          ]
        },
        {
          "name": "stderr",
          "output_type": "stream",
          "text": [
            "Epoch 1/5: 100%|██████████| 16/16 [00:00<00:00, 35.14it/s]\n",
            "Epoch 2/5: 100%|██████████| 16/16 [00:00<00:00, 35.44it/s]\n",
            "Epoch 3/5: 100%|██████████| 16/16 [00:00<00:00, 35.57it/s]\n",
            "Epoch 4/5: 100%|██████████| 16/16 [00:00<00:00, 35.47it/s]\n",
            "Epoch 5/5: 100%|██████████| 16/16 [00:00<00:00, 35.48it/s]\n"
          ]
        },
        {
          "name": "stdout",
          "output_type": "stream",
          "text": [
            "Training shard 2/5, slice 4/10\n"
          ]
        },
        {
          "name": "stderr",
          "output_type": "stream",
          "text": [
            "Epoch 1/5: 100%|██████████| 16/16 [00:00<00:00, 35.09it/s]\n",
            "Epoch 2/5: 100%|██████████| 16/16 [00:00<00:00, 35.49it/s]\n",
            "Epoch 3/5: 100%|██████████| 16/16 [00:00<00:00, 35.35it/s]\n",
            "Epoch 4/5: 100%|██████████| 16/16 [00:00<00:00, 35.52it/s]\n",
            "Epoch 5/5: 100%|██████████| 16/16 [00:00<00:00, 35.40it/s]\n"
          ]
        },
        {
          "name": "stdout",
          "output_type": "stream",
          "text": [
            "Training shard 2/5, slice 5/10\n"
          ]
        },
        {
          "name": "stderr",
          "output_type": "stream",
          "text": [
            "Epoch 1/5: 100%|██████████| 16/16 [00:00<00:00, 35.04it/s]\n",
            "Epoch 2/5: 100%|██████████| 16/16 [00:00<00:00, 35.38it/s]\n",
            "Epoch 3/5: 100%|██████████| 16/16 [00:00<00:00, 35.50it/s]\n",
            "Epoch 4/5: 100%|██████████| 16/16 [00:00<00:00, 35.55it/s]\n",
            "Epoch 5/5: 100%|██████████| 16/16 [00:00<00:00, 35.41it/s]\n"
          ]
        },
        {
          "name": "stdout",
          "output_type": "stream",
          "text": [
            "Training shard 2/5, slice 6/10\n"
          ]
        },
        {
          "name": "stderr",
          "output_type": "stream",
          "text": [
            "Epoch 1/5: 100%|██████████| 16/16 [00:00<00:00, 35.13it/s]\n",
            "Epoch 2/5: 100%|██████████| 16/16 [00:00<00:00, 35.50it/s]\n",
            "Epoch 3/5: 100%|██████████| 16/16 [00:00<00:00, 35.46it/s]\n",
            "Epoch 4/5: 100%|██████████| 16/16 [00:00<00:00, 35.57it/s]\n",
            "Epoch 5/5: 100%|██████████| 16/16 [00:00<00:00, 35.46it/s]\n"
          ]
        },
        {
          "name": "stdout",
          "output_type": "stream",
          "text": [
            "Training shard 2/5, slice 7/10\n"
          ]
        },
        {
          "name": "stderr",
          "output_type": "stream",
          "text": [
            "Epoch 1/5: 100%|██████████| 16/16 [00:00<00:00, 35.02it/s]\n",
            "Epoch 2/5: 100%|██████████| 16/16 [00:00<00:00, 35.43it/s]\n",
            "Epoch 3/5: 100%|██████████| 16/16 [00:00<00:00, 35.52it/s]\n",
            "Epoch 4/5: 100%|██████████| 16/16 [00:00<00:00, 35.52it/s]\n",
            "Epoch 5/5: 100%|██████████| 16/16 [00:00<00:00, 35.49it/s]\n"
          ]
        },
        {
          "name": "stdout",
          "output_type": "stream",
          "text": [
            "Training shard 2/5, slice 8/10\n"
          ]
        },
        {
          "name": "stderr",
          "output_type": "stream",
          "text": [
            "Epoch 1/5: 100%|██████████| 16/16 [00:00<00:00, 35.18it/s]\n",
            "Epoch 2/5: 100%|██████████| 16/16 [00:00<00:00, 35.41it/s]\n",
            "Epoch 3/5: 100%|██████████| 16/16 [00:00<00:00, 35.36it/s]\n",
            "Epoch 4/5: 100%|██████████| 16/16 [00:00<00:00, 35.46it/s]\n",
            "Epoch 5/5: 100%|██████████| 16/16 [00:00<00:00, 35.50it/s]\n"
          ]
        },
        {
          "name": "stdout",
          "output_type": "stream",
          "text": [
            "Training shard 2/5, slice 9/10\n"
          ]
        },
        {
          "name": "stderr",
          "output_type": "stream",
          "text": [
            "Epoch 1/5: 100%|██████████| 16/16 [00:00<00:00, 35.02it/s]\n",
            "Epoch 2/5: 100%|██████████| 16/16 [00:00<00:00, 35.48it/s]\n",
            "Epoch 3/5: 100%|██████████| 16/16 [00:00<00:00, 35.64it/s]\n",
            "Epoch 4/5: 100%|██████████| 16/16 [00:00<00:00, 34.92it/s]\n",
            "Epoch 5/5: 100%|██████████| 16/16 [00:00<00:00, 35.52it/s]\n"
          ]
        },
        {
          "name": "stdout",
          "output_type": "stream",
          "text": [
            "Training shard 2/5, slice 10/10\n"
          ]
        },
        {
          "name": "stderr",
          "output_type": "stream",
          "text": [
            "Epoch 1/5: 100%|██████████| 16/16 [00:00<00:00, 35.07it/s]\n",
            "Epoch 2/5: 100%|██████████| 16/16 [00:00<00:00, 35.43it/s]\n",
            "Epoch 3/5: 100%|██████████| 16/16 [00:00<00:00, 35.00it/s]\n",
            "Epoch 4/5: 100%|██████████| 16/16 [00:00<00:00, 35.48it/s]\n",
            "Epoch 5/5: 100%|██████████| 16/16 [00:00<00:00, 35.45it/s]\n"
          ]
        },
        {
          "name": "stdout",
          "output_type": "stream",
          "text": [
            "Training shard 3/5, slice 1/10\n"
          ]
        },
        {
          "name": "stderr",
          "output_type": "stream",
          "text": [
            "Epoch 1/5: 100%|██████████| 16/16 [00:00<00:00, 35.00it/s]\n",
            "Epoch 2/5: 100%|██████████| 16/16 [00:00<00:00, 34.97it/s]\n",
            "Epoch 3/5: 100%|██████████| 16/16 [00:00<00:00, 35.43it/s]\n",
            "Epoch 4/5: 100%|██████████| 16/16 [00:00<00:00, 35.36it/s]\n",
            "Epoch 5/5: 100%|██████████| 16/16 [00:00<00:00, 35.50it/s]\n"
          ]
        },
        {
          "name": "stdout",
          "output_type": "stream",
          "text": [
            "Training shard 3/5, slice 2/10\n"
          ]
        },
        {
          "name": "stderr",
          "output_type": "stream",
          "text": [
            "Epoch 1/5: 100%|██████████| 16/16 [00:00<00:00, 34.62it/s]\n",
            "Epoch 2/5: 100%|██████████| 16/16 [00:00<00:00, 35.43it/s]\n",
            "Epoch 3/5: 100%|██████████| 16/16 [00:00<00:00, 35.51it/s]\n",
            "Epoch 4/5: 100%|██████████| 16/16 [00:00<00:00, 35.36it/s]\n",
            "Epoch 5/5: 100%|██████████| 16/16 [00:00<00:00, 35.11it/s]\n"
          ]
        },
        {
          "name": "stdout",
          "output_type": "stream",
          "text": [
            "Training shard 3/5, slice 3/10\n"
          ]
        },
        {
          "name": "stderr",
          "output_type": "stream",
          "text": [
            "Epoch 1/5: 100%|██████████| 16/16 [00:00<00:00, 34.89it/s]\n",
            "Epoch 2/5: 100%|██████████| 16/16 [00:00<00:00, 35.03it/s]\n",
            "Epoch 3/5: 100%|██████████| 16/16 [00:00<00:00, 35.25it/s]\n",
            "Epoch 4/5: 100%|██████████| 16/16 [00:00<00:00, 35.09it/s]\n",
            "Epoch 5/5: 100%|██████████| 16/16 [00:00<00:00, 35.37it/s]\n"
          ]
        },
        {
          "name": "stdout",
          "output_type": "stream",
          "text": [
            "Training shard 3/5, slice 4/10\n"
          ]
        },
        {
          "name": "stderr",
          "output_type": "stream",
          "text": [
            "Epoch 1/5: 100%|██████████| 16/16 [00:00<00:00, 34.98it/s]\n",
            "Epoch 2/5: 100%|██████████| 16/16 [00:00<00:00, 35.46it/s]\n",
            "Epoch 3/5: 100%|██████████| 16/16 [00:00<00:00, 35.61it/s]\n",
            "Epoch 4/5: 100%|██████████| 16/16 [00:00<00:00, 35.31it/s]\n",
            "Epoch 5/5: 100%|██████████| 16/16 [00:00<00:00, 35.42it/s]\n"
          ]
        },
        {
          "name": "stdout",
          "output_type": "stream",
          "text": [
            "Training shard 3/5, slice 5/10\n"
          ]
        },
        {
          "name": "stderr",
          "output_type": "stream",
          "text": [
            "Epoch 1/5: 100%|██████████| 16/16 [00:00<00:00, 34.94it/s]\n",
            "Epoch 2/5: 100%|██████████| 16/16 [00:00<00:00, 35.36it/s]\n",
            "Epoch 3/5: 100%|██████████| 16/16 [00:00<00:00, 35.34it/s]\n",
            "Epoch 4/5: 100%|██████████| 16/16 [00:00<00:00, 35.37it/s]\n",
            "Epoch 5/5: 100%|██████████| 16/16 [00:00<00:00, 35.45it/s]\n"
          ]
        },
        {
          "name": "stdout",
          "output_type": "stream",
          "text": [
            "Training shard 3/5, slice 6/10\n"
          ]
        },
        {
          "name": "stderr",
          "output_type": "stream",
          "text": [
            "Epoch 1/5: 100%|██████████| 16/16 [00:00<00:00, 34.98it/s]\n",
            "Epoch 2/5: 100%|██████████| 16/16 [00:00<00:00, 35.43it/s]\n",
            "Epoch 3/5: 100%|██████████| 16/16 [00:00<00:00, 35.49it/s]\n",
            "Epoch 4/5: 100%|██████████| 16/16 [00:00<00:00, 35.46it/s]\n",
            "Epoch 5/5: 100%|██████████| 16/16 [00:00<00:00, 35.50it/s]\n"
          ]
        },
        {
          "name": "stdout",
          "output_type": "stream",
          "text": [
            "Training shard 3/5, slice 7/10\n"
          ]
        },
        {
          "name": "stderr",
          "output_type": "stream",
          "text": [
            "Epoch 1/5: 100%|██████████| 16/16 [00:00<00:00, 34.88it/s]\n",
            "Epoch 2/5: 100%|██████████| 16/16 [00:00<00:00, 35.06it/s]\n",
            "Epoch 3/5: 100%|██████████| 16/16 [00:00<00:00, 35.43it/s]\n",
            "Epoch 4/5: 100%|██████████| 16/16 [00:00<00:00, 35.26it/s]\n",
            "Epoch 5/5: 100%|██████████| 16/16 [00:00<00:00, 35.40it/s]\n"
          ]
        },
        {
          "name": "stdout",
          "output_type": "stream",
          "text": [
            "Training shard 3/5, slice 8/10\n"
          ]
        },
        {
          "name": "stderr",
          "output_type": "stream",
          "text": [
            "Epoch 1/5: 100%|██████████| 16/16 [00:00<00:00, 34.84it/s]\n",
            "Epoch 2/5: 100%|██████████| 16/16 [00:00<00:00, 35.28it/s]\n",
            "Epoch 3/5: 100%|██████████| 16/16 [00:00<00:00, 35.34it/s]\n",
            "Epoch 4/5: 100%|██████████| 16/16 [00:00<00:00, 35.37it/s]\n",
            "Epoch 5/5: 100%|██████████| 16/16 [00:00<00:00, 35.29it/s]\n"
          ]
        },
        {
          "name": "stdout",
          "output_type": "stream",
          "text": [
            "Training shard 3/5, slice 9/10\n"
          ]
        },
        {
          "name": "stderr",
          "output_type": "stream",
          "text": [
            "Epoch 1/5: 100%|██████████| 16/16 [00:00<00:00, 34.89it/s]\n",
            "Epoch 2/5: 100%|██████████| 16/16 [00:00<00:00, 35.40it/s]\n",
            "Epoch 3/5: 100%|██████████| 16/16 [00:00<00:00, 35.37it/s]\n",
            "Epoch 4/5: 100%|██████████| 16/16 [00:00<00:00, 35.37it/s]\n",
            "Epoch 5/5: 100%|██████████| 16/16 [00:00<00:00, 35.34it/s]\n"
          ]
        },
        {
          "name": "stdout",
          "output_type": "stream",
          "text": [
            "Training shard 3/5, slice 10/10\n"
          ]
        },
        {
          "name": "stderr",
          "output_type": "stream",
          "text": [
            "Epoch 1/5: 100%|██████████| 16/16 [00:00<00:00, 35.13it/s]\n",
            "Epoch 2/5: 100%|██████████| 16/16 [00:00<00:00, 35.34it/s]\n",
            "Epoch 3/5: 100%|██████████| 16/16 [00:00<00:00, 35.39it/s]\n",
            "Epoch 4/5: 100%|██████████| 16/16 [00:00<00:00, 35.49it/s]\n",
            "Epoch 5/5: 100%|██████████| 16/16 [00:00<00:00, 35.36it/s]\n"
          ]
        },
        {
          "name": "stdout",
          "output_type": "stream",
          "text": [
            "Training shard 4/5, slice 1/10\n"
          ]
        },
        {
          "name": "stderr",
          "output_type": "stream",
          "text": [
            "Epoch 1/5: 100%|██████████| 16/16 [00:00<00:00, 34.88it/s]\n",
            "Epoch 2/5: 100%|██████████| 16/16 [00:00<00:00, 35.32it/s]\n",
            "Epoch 3/5: 100%|██████████| 16/16 [00:00<00:00, 35.37it/s]\n",
            "Epoch 4/5: 100%|██████████| 16/16 [00:00<00:00, 35.35it/s]\n",
            "Epoch 5/5: 100%|██████████| 16/16 [00:00<00:00, 35.31it/s]\n"
          ]
        },
        {
          "name": "stdout",
          "output_type": "stream",
          "text": [
            "Training shard 4/5, slice 2/10\n"
          ]
        },
        {
          "name": "stderr",
          "output_type": "stream",
          "text": [
            "Epoch 1/5: 100%|██████████| 16/16 [00:00<00:00, 35.06it/s]\n",
            "Epoch 2/5: 100%|██████████| 16/16 [00:00<00:00, 35.30it/s]\n",
            "Epoch 3/5: 100%|██████████| 16/16 [00:00<00:00, 35.42it/s]\n",
            "Epoch 4/5: 100%|██████████| 16/16 [00:00<00:00, 35.42it/s]\n",
            "Epoch 5/5: 100%|██████████| 16/16 [00:00<00:00, 35.35it/s]\n"
          ]
        },
        {
          "name": "stdout",
          "output_type": "stream",
          "text": [
            "Training shard 4/5, slice 3/10\n"
          ]
        },
        {
          "name": "stderr",
          "output_type": "stream",
          "text": [
            "Epoch 1/5: 100%|██████████| 16/16 [00:00<00:00, 34.96it/s]\n",
            "Epoch 2/5: 100%|██████████| 16/16 [00:00<00:00, 35.23it/s]\n",
            "Epoch 3/5: 100%|██████████| 16/16 [00:00<00:00, 35.27it/s]\n",
            "Epoch 4/5: 100%|██████████| 16/16 [00:00<00:00, 35.30it/s]\n",
            "Epoch 5/5: 100%|██████████| 16/16 [00:00<00:00, 35.34it/s]\n"
          ]
        },
        {
          "name": "stdout",
          "output_type": "stream",
          "text": [
            "Training shard 4/5, slice 4/10\n"
          ]
        },
        {
          "name": "stderr",
          "output_type": "stream",
          "text": [
            "Epoch 1/5: 100%|██████████| 16/16 [00:00<00:00, 34.93it/s]\n",
            "Epoch 2/5: 100%|██████████| 16/16 [00:00<00:00, 35.36it/s]\n",
            "Epoch 3/5: 100%|██████████| 16/16 [00:00<00:00, 35.47it/s]\n",
            "Epoch 4/5: 100%|██████████| 16/16 [00:00<00:00, 35.37it/s]\n",
            "Epoch 5/5: 100%|██████████| 16/16 [00:00<00:00, 35.33it/s]\n"
          ]
        },
        {
          "name": "stdout",
          "output_type": "stream",
          "text": [
            "Training shard 4/5, slice 5/10\n"
          ]
        },
        {
          "name": "stderr",
          "output_type": "stream",
          "text": [
            "Epoch 1/5: 100%|██████████| 16/16 [00:00<00:00, 35.06it/s]\n",
            "Epoch 2/5: 100%|██████████| 16/16 [00:00<00:00, 35.42it/s]\n",
            "Epoch 3/5: 100%|██████████| 16/16 [00:00<00:00, 35.34it/s]\n",
            "Epoch 4/5: 100%|██████████| 16/16 [00:00<00:00, 35.50it/s]\n",
            "Epoch 5/5: 100%|██████████| 16/16 [00:00<00:00, 35.37it/s]\n"
          ]
        },
        {
          "name": "stdout",
          "output_type": "stream",
          "text": [
            "Training shard 4/5, slice 6/10\n"
          ]
        },
        {
          "name": "stderr",
          "output_type": "stream",
          "text": [
            "Epoch 1/5: 100%|██████████| 16/16 [00:00<00:00, 35.01it/s]\n",
            "Epoch 2/5: 100%|██████████| 16/16 [00:00<00:00, 35.48it/s]\n",
            "Epoch 3/5: 100%|██████████| 16/16 [00:00<00:00, 35.55it/s]\n",
            "Epoch 4/5: 100%|██████████| 16/16 [00:00<00:00, 35.30it/s]\n",
            "Epoch 5/5: 100%|██████████| 16/16 [00:00<00:00, 35.50it/s]\n"
          ]
        },
        {
          "name": "stdout",
          "output_type": "stream",
          "text": [
            "Training shard 4/5, slice 7/10\n"
          ]
        },
        {
          "name": "stderr",
          "output_type": "stream",
          "text": [
            "Epoch 1/5: 100%|██████████| 16/16 [00:00<00:00, 35.03it/s]\n",
            "Epoch 2/5: 100%|██████████| 16/16 [00:00<00:00, 35.42it/s]\n",
            "Epoch 3/5: 100%|██████████| 16/16 [00:00<00:00, 35.39it/s]\n",
            "Epoch 4/5: 100%|██████████| 16/16 [00:00<00:00, 35.35it/s]\n",
            "Epoch 5/5: 100%|██████████| 16/16 [00:00<00:00, 35.29it/s]\n"
          ]
        },
        {
          "name": "stdout",
          "output_type": "stream",
          "text": [
            "Training shard 4/5, slice 8/10\n"
          ]
        },
        {
          "name": "stderr",
          "output_type": "stream",
          "text": [
            "Epoch 1/5: 100%|██████████| 16/16 [00:00<00:00, 34.90it/s]\n",
            "Epoch 2/5: 100%|██████████| 16/16 [00:00<00:00, 35.44it/s]\n",
            "Epoch 3/5: 100%|██████████| 16/16 [00:00<00:00, 35.44it/s]\n",
            "Epoch 4/5: 100%|██████████| 16/16 [00:00<00:00, 35.44it/s]\n",
            "Epoch 5/5: 100%|██████████| 16/16 [00:00<00:00, 35.47it/s]\n"
          ]
        },
        {
          "name": "stdout",
          "output_type": "stream",
          "text": [
            "Training shard 4/5, slice 9/10\n"
          ]
        },
        {
          "name": "stderr",
          "output_type": "stream",
          "text": [
            "Epoch 1/5: 100%|██████████| 16/16 [00:00<00:00, 34.69it/s]\n",
            "Epoch 2/5: 100%|██████████| 16/16 [00:00<00:00, 35.22it/s]\n",
            "Epoch 3/5: 100%|██████████| 16/16 [00:00<00:00, 35.51it/s]\n",
            "Epoch 4/5: 100%|██████████| 16/16 [00:00<00:00, 35.43it/s]\n",
            "Epoch 5/5: 100%|██████████| 16/16 [00:00<00:00, 35.38it/s]\n"
          ]
        },
        {
          "name": "stdout",
          "output_type": "stream",
          "text": [
            "Training shard 4/5, slice 10/10\n"
          ]
        },
        {
          "name": "stderr",
          "output_type": "stream",
          "text": [
            "Epoch 1/5: 100%|██████████| 16/16 [00:00<00:00, 34.58it/s]\n",
            "Epoch 2/5: 100%|██████████| 16/16 [00:00<00:00, 35.18it/s]\n",
            "Epoch 3/5: 100%|██████████| 16/16 [00:00<00:00, 35.33it/s]\n",
            "Epoch 4/5: 100%|██████████| 16/16 [00:00<00:00, 35.36it/s]\n",
            "Epoch 5/5: 100%|██████████| 16/16 [00:00<00:00, 35.29it/s]\n"
          ]
        },
        {
          "name": "stdout",
          "output_type": "stream",
          "text": [
            "Training shard 5/5, slice 1/10\n"
          ]
        },
        {
          "name": "stderr",
          "output_type": "stream",
          "text": [
            "Epoch 1/5: 100%|██████████| 16/16 [00:00<00:00, 34.81it/s]\n",
            "Epoch 2/5: 100%|██████████| 16/16 [00:00<00:00, 35.27it/s]\n",
            "Epoch 3/5: 100%|██████████| 16/16 [00:00<00:00, 35.22it/s]\n",
            "Epoch 4/5: 100%|██████████| 16/16 [00:00<00:00, 35.25it/s]\n",
            "Epoch 5/5: 100%|██████████| 16/16 [00:00<00:00, 35.40it/s]\n"
          ]
        },
        {
          "name": "stdout",
          "output_type": "stream",
          "text": [
            "Training shard 5/5, slice 2/10\n"
          ]
        },
        {
          "name": "stderr",
          "output_type": "stream",
          "text": [
            "Epoch 1/5: 100%|██████████| 16/16 [00:00<00:00, 35.01it/s]\n",
            "Epoch 2/5: 100%|██████████| 16/16 [00:00<00:00, 35.31it/s]\n",
            "Epoch 3/5: 100%|██████████| 16/16 [00:00<00:00, 35.50it/s]\n",
            "Epoch 4/5: 100%|██████████| 16/16 [00:00<00:00, 35.55it/s]\n",
            "Epoch 5/5: 100%|██████████| 16/16 [00:00<00:00, 35.55it/s]\n"
          ]
        },
        {
          "name": "stdout",
          "output_type": "stream",
          "text": [
            "Training shard 5/5, slice 3/10\n"
          ]
        },
        {
          "name": "stderr",
          "output_type": "stream",
          "text": [
            "Epoch 1/5: 100%|██████████| 16/16 [00:00<00:00, 34.92it/s]\n",
            "Epoch 2/5: 100%|██████████| 16/16 [00:00<00:00, 35.44it/s]\n",
            "Epoch 3/5: 100%|██████████| 16/16 [00:00<00:00, 35.41it/s]\n",
            "Epoch 4/5: 100%|██████████| 16/16 [00:00<00:00, 35.43it/s]\n",
            "Epoch 5/5: 100%|██████████| 16/16 [00:00<00:00, 35.59it/s]\n"
          ]
        },
        {
          "name": "stdout",
          "output_type": "stream",
          "text": [
            "Training shard 5/5, slice 4/10\n"
          ]
        },
        {
          "name": "stderr",
          "output_type": "stream",
          "text": [
            "Epoch 1/5: 100%|██████████| 16/16 [00:00<00:00, 34.88it/s]\n",
            "Epoch 2/5: 100%|██████████| 16/16 [00:00<00:00, 35.34it/s]\n",
            "Epoch 3/5: 100%|██████████| 16/16 [00:00<00:00, 35.42it/s]\n",
            "Epoch 4/5: 100%|██████████| 16/16 [00:00<00:00, 35.47it/s]\n",
            "Epoch 5/5: 100%|██████████| 16/16 [00:00<00:00, 35.20it/s]\n"
          ]
        },
        {
          "name": "stdout",
          "output_type": "stream",
          "text": [
            "Training shard 5/5, slice 5/10\n"
          ]
        },
        {
          "name": "stderr",
          "output_type": "stream",
          "text": [
            "Epoch 1/5: 100%|██████████| 16/16 [00:00<00:00, 34.92it/s]\n",
            "Epoch 2/5: 100%|██████████| 16/16 [00:00<00:00, 35.33it/s]\n",
            "Epoch 3/5: 100%|██████████| 16/16 [00:00<00:00, 35.35it/s]\n",
            "Epoch 4/5: 100%|██████████| 16/16 [00:00<00:00, 35.41it/s]\n",
            "Epoch 5/5: 100%|██████████| 16/16 [00:00<00:00, 35.47it/s]\n"
          ]
        },
        {
          "name": "stdout",
          "output_type": "stream",
          "text": [
            "Training shard 5/5, slice 6/10\n"
          ]
        },
        {
          "name": "stderr",
          "output_type": "stream",
          "text": [
            "Epoch 1/5: 100%|██████████| 16/16 [00:00<00:00, 34.96it/s]\n",
            "Epoch 2/5: 100%|██████████| 16/16 [00:00<00:00, 35.27it/s]\n",
            "Epoch 3/5: 100%|██████████| 16/16 [00:00<00:00, 35.40it/s]\n",
            "Epoch 4/5: 100%|██████████| 16/16 [00:00<00:00, 35.38it/s]\n",
            "Epoch 5/5: 100%|██████████| 16/16 [00:00<00:00, 35.44it/s]\n"
          ]
        },
        {
          "name": "stdout",
          "output_type": "stream",
          "text": [
            "Training shard 5/5, slice 7/10\n"
          ]
        },
        {
          "name": "stderr",
          "output_type": "stream",
          "text": [
            "Epoch 1/5: 100%|██████████| 16/16 [00:00<00:00, 35.06it/s]\n",
            "Epoch 2/5: 100%|██████████| 16/16 [00:00<00:00, 35.39it/s]\n",
            "Epoch 3/5: 100%|██████████| 16/16 [00:00<00:00, 35.32it/s]\n",
            "Epoch 4/5: 100%|██████████| 16/16 [00:00<00:00, 35.48it/s]\n",
            "Epoch 5/5: 100%|██████████| 16/16 [00:00<00:00, 35.37it/s]\n"
          ]
        },
        {
          "name": "stdout",
          "output_type": "stream",
          "text": [
            "Training shard 5/5, slice 8/10\n"
          ]
        },
        {
          "name": "stderr",
          "output_type": "stream",
          "text": [
            "Epoch 1/5: 100%|██████████| 16/16 [00:00<00:00, 34.95it/s]\n",
            "Epoch 2/5: 100%|██████████| 16/16 [00:00<00:00, 35.37it/s]\n",
            "Epoch 3/5: 100%|██████████| 16/16 [00:00<00:00, 35.43it/s]\n",
            "Epoch 4/5: 100%|██████████| 16/16 [00:00<00:00, 35.38it/s]\n",
            "Epoch 5/5: 100%|██████████| 16/16 [00:00<00:00, 35.42it/s]\n"
          ]
        },
        {
          "name": "stdout",
          "output_type": "stream",
          "text": [
            "Training shard 5/5, slice 9/10\n"
          ]
        },
        {
          "name": "stderr",
          "output_type": "stream",
          "text": [
            "Epoch 1/5: 100%|██████████| 16/16 [00:00<00:00, 34.94it/s]\n",
            "Epoch 2/5: 100%|██████████| 16/16 [00:00<00:00, 35.33it/s]\n",
            "Epoch 3/5: 100%|██████████| 16/16 [00:00<00:00, 35.50it/s]\n",
            "Epoch 4/5: 100%|██████████| 16/16 [00:00<00:00, 35.40it/s]\n",
            "Epoch 5/5: 100%|██████████| 16/16 [00:00<00:00, 35.42it/s]\n"
          ]
        },
        {
          "name": "stdout",
          "output_type": "stream",
          "text": [
            "Training shard 5/5, slice 10/10\n"
          ]
        },
        {
          "name": "stderr",
          "output_type": "stream",
          "text": [
            "Epoch 1/5: 100%|██████████| 16/16 [00:00<00:00, 35.03it/s]\n",
            "Epoch 2/5: 100%|██████████| 16/16 [00:00<00:00, 35.44it/s]\n",
            "Epoch 3/5: 100%|██████████| 16/16 [00:00<00:00, 35.43it/s]\n",
            "Epoch 4/5: 100%|██████████| 16/16 [00:00<00:00, 35.46it/s]\n",
            "Epoch 5/5: 100%|██████████| 16/16 [00:00<00:00, 35.42it/s]\n",
            "Evaluating model: Shard 1/5, slice 1/10: 100%|██████████| 157/157 [00:02<00:00, 53.94it/s]\n",
            "Evaluating model: Shard 1/5, slice 2/10: 100%|██████████| 157/157 [00:02<00:00, 53.75it/s]\n",
            "Evaluating model: Shard 1/5, slice 3/10: 100%|██████████| 157/157 [00:02<00:00, 53.81it/s]\n",
            "Evaluating model: Shard 1/5, slice 4/10: 100%|██████████| 157/157 [00:02<00:00, 53.87it/s]\n",
            "Evaluating model: Shard 1/5, slice 5/10: 100%|██████████| 157/157 [00:02<00:00, 53.79it/s]\n",
            "Evaluating model: Shard 1/5, slice 6/10: 100%|██████████| 157/157 [00:02<00:00, 53.81it/s]\n",
            "Evaluating model: Shard 1/5, slice 7/10: 100%|██████████| 157/157 [00:02<00:00, 53.94it/s]\n",
            "Evaluating model: Shard 1/5, slice 8/10: 100%|██████████| 157/157 [00:02<00:00, 53.83it/s]\n",
            "Evaluating model: Shard 1/5, slice 9/10: 100%|██████████| 157/157 [00:02<00:00, 53.82it/s]\n",
            "Evaluating model: Shard 1/5, slice 10/10: 100%|██████████| 157/157 [00:02<00:00, 53.97it/s]\n",
            "Evaluating model: Shard 2/5, slice 1/10: 100%|██████████| 157/157 [00:02<00:00, 53.82it/s]\n",
            "Evaluating model: Shard 2/5, slice 2/10: 100%|██████████| 157/157 [00:02<00:00, 53.77it/s]\n",
            "Evaluating model: Shard 2/5, slice 3/10: 100%|██████████| 157/157 [00:02<00:00, 53.90it/s]\n",
            "Evaluating model: Shard 2/5, slice 4/10: 100%|██████████| 157/157 [00:02<00:00, 53.86it/s]\n",
            "Evaluating model: Shard 2/5, slice 5/10: 100%|██████████| 157/157 [00:02<00:00, 53.83it/s]\n",
            "Evaluating model: Shard 2/5, slice 6/10: 100%|██████████| 157/157 [00:02<00:00, 53.93it/s]\n",
            "Evaluating model: Shard 2/5, slice 7/10: 100%|██████████| 157/157 [00:02<00:00, 53.87it/s]\n",
            "Evaluating model: Shard 2/5, slice 8/10: 100%|██████████| 157/157 [00:02<00:00, 53.81it/s]\n",
            "Evaluating model: Shard 2/5, slice 9/10: 100%|██████████| 157/157 [00:02<00:00, 53.85it/s]\n",
            "Evaluating model: Shard 2/5, slice 10/10: 100%|██████████| 157/157 [00:02<00:00, 53.85it/s]\n",
            "Evaluating model: Shard 3/5, slice 1/10: 100%|██████████| 157/157 [00:02<00:00, 53.77it/s]\n",
            "Evaluating model: Shard 3/5, slice 2/10: 100%|██████████| 157/157 [00:02<00:00, 53.77it/s]\n",
            "Evaluating model: Shard 3/5, slice 3/10: 100%|██████████| 157/157 [00:02<00:00, 53.93it/s]\n",
            "Evaluating model: Shard 3/5, slice 4/10: 100%|██████████| 157/157 [00:02<00:00, 53.86it/s]\n",
            "Evaluating model: Shard 3/5, slice 5/10: 100%|██████████| 157/157 [00:02<00:00, 53.84it/s]\n",
            "Evaluating model: Shard 3/5, slice 6/10: 100%|██████████| 157/157 [00:02<00:00, 53.87it/s]\n",
            "Evaluating model: Shard 3/5, slice 7/10: 100%|██████████| 157/157 [00:02<00:00, 53.88it/s]\n",
            "Evaluating model: Shard 3/5, slice 8/10: 100%|██████████| 157/157 [00:02<00:00, 53.80it/s]\n",
            "Evaluating model: Shard 3/5, slice 9/10: 100%|██████████| 157/157 [00:02<00:00, 53.83it/s]\n",
            "Evaluating model: Shard 3/5, slice 10/10: 100%|██████████| 157/157 [00:02<00:00, 53.90it/s]\n",
            "Evaluating model: Shard 4/5, slice 1/10: 100%|██████████| 157/157 [00:02<00:00, 53.86it/s]\n",
            "Evaluating model: Shard 4/5, slice 2/10: 100%|██████████| 157/157 [00:02<00:00, 53.84it/s]\n",
            "Evaluating model: Shard 4/5, slice 3/10: 100%|██████████| 157/157 [00:02<00:00, 53.82it/s]\n",
            "Evaluating model: Shard 4/5, slice 4/10: 100%|██████████| 157/157 [00:02<00:00, 53.87it/s]\n",
            "Evaluating model: Shard 4/5, slice 5/10: 100%|██████████| 157/157 [00:02<00:00, 53.90it/s]\n",
            "Evaluating model: Shard 4/5, slice 6/10: 100%|██████████| 157/157 [00:02<00:00, 53.91it/s]\n",
            "Evaluating model: Shard 4/5, slice 7/10: 100%|██████████| 157/157 [00:02<00:00, 53.95it/s]\n",
            "Evaluating model: Shard 4/5, slice 8/10: 100%|██████████| 157/157 [00:02<00:00, 53.84it/s]\n",
            "Evaluating model: Shard 4/5, slice 9/10: 100%|██████████| 157/157 [00:02<00:00, 53.92it/s]\n",
            "Evaluating model: Shard 4/5, slice 10/10: 100%|██████████| 157/157 [00:02<00:00, 53.88it/s]\n",
            "Evaluating model: Shard 5/5, slice 1/10: 100%|██████████| 157/157 [00:02<00:00, 53.90it/s]\n",
            "Evaluating model: Shard 5/5, slice 2/10: 100%|██████████| 157/157 [00:02<00:00, 53.89it/s]\n",
            "Evaluating model: Shard 5/5, slice 3/10: 100%|██████████| 157/157 [00:02<00:00, 53.76it/s]\n",
            "Evaluating model: Shard 5/5, slice 4/10: 100%|██████████| 157/157 [00:02<00:00, 53.90it/s]\n",
            "Evaluating model: Shard 5/5, slice 5/10: 100%|██████████| 157/157 [00:02<00:00, 53.89it/s]\n",
            "Evaluating model: Shard 5/5, slice 6/10: 100%|██████████| 157/157 [00:02<00:00, 53.81it/s]\n",
            "Evaluating model: Shard 5/5, slice 7/10: 100%|██████████| 157/157 [00:02<00:00, 53.84it/s]\n",
            "Evaluating model: Shard 5/5, slice 8/10: 100%|██████████| 157/157 [00:02<00:00, 53.80it/s]\n",
            "Evaluating model: Shard 5/5, slice 9/10: 100%|██████████| 157/157 [00:02<00:00, 53.77it/s]\n",
            "Evaluating model: Shard 5/5, slice 10/10: 100%|██████████| 157/157 [00:02<00:00, 53.95it/s]\n"
          ]
        },
        {
          "name": "stdout",
          "output_type": "stream",
          "text": [
            "Retraining shard 1/5 containing data to forget\n"
          ]
        },
        {
          "name": "stderr",
          "output_type": "stream",
          "text": [
            "Epoch 1/5: 100%|██████████| 16/16 [00:00<00:00, 29.40it/s]\n",
            "Epoch 2/5: 100%|██████████| 16/16 [00:00<00:00, 33.99it/s]\n",
            "Epoch 3/5: 100%|██████████| 16/16 [00:00<00:00, 35.59it/s]\n",
            "Epoch 4/5: 100%|██████████| 16/16 [00:00<00:00, 35.58it/s]\n",
            "Epoch 5/5: 100%|██████████| 16/16 [00:00<00:00, 35.66it/s]\n"
          ]
        },
        {
          "name": "stdout",
          "output_type": "stream",
          "text": [
            "Slice 1/10 retrained for shard 1/5\n"
          ]
        },
        {
          "name": "stderr",
          "output_type": "stream",
          "text": [
            "Epoch 1/5: 100%|██████████| 16/16 [00:00<00:00, 29.72it/s]\n",
            "Epoch 2/5: 100%|██████████| 16/16 [00:00<00:00, 34.26it/s]\n",
            "Epoch 3/5: 100%|██████████| 16/16 [00:00<00:00, 35.77it/s]\n",
            "Epoch 4/5: 100%|██████████| 16/16 [00:00<00:00, 35.79it/s]\n",
            "Epoch 5/5: 100%|██████████| 16/16 [00:00<00:00, 35.83it/s]\n"
          ]
        },
        {
          "name": "stdout",
          "output_type": "stream",
          "text": [
            "Slice 2/10 retrained for shard 1/5\n"
          ]
        },
        {
          "name": "stderr",
          "output_type": "stream",
          "text": [
            "Epoch 1/5: 100%|██████████| 16/16 [00:00<00:00, 29.64it/s]\n",
            "Epoch 2/5: 100%|██████████| 16/16 [00:00<00:00, 34.06it/s]\n",
            "Epoch 3/5: 100%|██████████| 16/16 [00:00<00:00, 35.61it/s]\n",
            "Epoch 4/5: 100%|██████████| 16/16 [00:00<00:00, 35.73it/s]\n",
            "Epoch 5/5: 100%|██████████| 16/16 [00:00<00:00, 35.66it/s]\n"
          ]
        },
        {
          "name": "stdout",
          "output_type": "stream",
          "text": [
            "Slice 3/10 retrained for shard 1/5\n"
          ]
        },
        {
          "name": "stderr",
          "output_type": "stream",
          "text": [
            "Epoch 1/5: 100%|██████████| 16/16 [00:00<00:00, 29.75it/s]\n",
            "Epoch 2/5: 100%|██████████| 16/16 [00:00<00:00, 34.40it/s]\n",
            "Epoch 3/5: 100%|██████████| 16/16 [00:00<00:00, 35.48it/s]\n",
            "Epoch 4/5: 100%|██████████| 16/16 [00:00<00:00, 35.47it/s]\n",
            "Epoch 5/5: 100%|██████████| 16/16 [00:00<00:00, 35.75it/s]\n"
          ]
        },
        {
          "name": "stdout",
          "output_type": "stream",
          "text": [
            "Slice 4/10 retrained for shard 1/5\n"
          ]
        },
        {
          "name": "stderr",
          "output_type": "stream",
          "text": [
            "Epoch 1/5: 100%|██████████| 16/16 [00:00<00:00, 35.14it/s]\n",
            "Epoch 2/5: 100%|██████████| 16/16 [00:00<00:00, 35.48it/s]\n",
            "Epoch 3/5: 100%|██████████| 16/16 [00:00<00:00, 35.39it/s]\n",
            "Epoch 4/5: 100%|██████████| 16/16 [00:00<00:00, 35.30it/s]\n",
            "Epoch 5/5: 100%|██████████| 16/16 [00:00<00:00, 35.43it/s]\n"
          ]
        },
        {
          "name": "stdout",
          "output_type": "stream",
          "text": [
            "Slice 5/10 retrained for shard 1/5\n"
          ]
        },
        {
          "name": "stderr",
          "output_type": "stream",
          "text": [
            "Epoch 1/5: 100%|██████████| 16/16 [00:00<00:00, 30.01it/s]\n",
            "Epoch 2/5: 100%|██████████| 16/16 [00:00<00:00, 34.91it/s]\n",
            "Epoch 3/5: 100%|██████████| 16/16 [00:00<00:00, 35.90it/s]\n",
            "Epoch 4/5: 100%|██████████| 16/16 [00:00<00:00, 35.80it/s]\n",
            "Epoch 5/5: 100%|██████████| 16/16 [00:00<00:00, 35.90it/s]\n"
          ]
        },
        {
          "name": "stdout",
          "output_type": "stream",
          "text": [
            "Slice 6/10 retrained for shard 1/5\n"
          ]
        },
        {
          "name": "stderr",
          "output_type": "stream",
          "text": [
            "Epoch 1/5: 100%|██████████| 16/16 [00:00<00:00, 29.55it/s]\n",
            "Epoch 2/5: 100%|██████████| 16/16 [00:00<00:00, 35.51it/s]\n",
            "Epoch 3/5: 100%|██████████| 16/16 [00:00<00:00, 35.49it/s]\n",
            "Epoch 4/5: 100%|██████████| 16/16 [00:00<00:00, 36.00it/s]\n",
            "Epoch 5/5: 100%|██████████| 16/16 [00:00<00:00, 35.91it/s]\n"
          ]
        },
        {
          "name": "stdout",
          "output_type": "stream",
          "text": [
            "Slice 7/10 retrained for shard 1/5\n"
          ]
        },
        {
          "name": "stderr",
          "output_type": "stream",
          "text": [
            "Epoch 1/5: 100%|██████████| 16/16 [00:00<00:00, 29.86it/s]\n",
            "Epoch 2/5: 100%|██████████| 16/16 [00:00<00:00, 34.20it/s]\n",
            "Epoch 3/5: 100%|██████████| 16/16 [00:00<00:00, 35.79it/s]\n",
            "Epoch 4/5: 100%|██████████| 16/16 [00:00<00:00, 35.88it/s]\n",
            "Epoch 5/5: 100%|██████████| 16/16 [00:00<00:00, 35.81it/s]\n"
          ]
        },
        {
          "name": "stdout",
          "output_type": "stream",
          "text": [
            "Slice 8/10 retrained for shard 1/5\n"
          ]
        },
        {
          "name": "stderr",
          "output_type": "stream",
          "text": [
            "Epoch 1/5: 100%|██████████| 16/16 [00:00<00:00, 35.25it/s]\n",
            "Epoch 2/5: 100%|██████████| 16/16 [00:00<00:00, 35.49it/s]\n",
            "Epoch 3/5: 100%|██████████| 16/16 [00:00<00:00, 35.61it/s]\n",
            "Epoch 4/5: 100%|██████████| 16/16 [00:00<00:00, 35.50it/s]\n",
            "Epoch 5/5: 100%|██████████| 16/16 [00:00<00:00, 35.65it/s]\n"
          ]
        },
        {
          "name": "stdout",
          "output_type": "stream",
          "text": [
            "Slice 9/10 retrained for shard 1/5\n"
          ]
        },
        {
          "name": "stderr",
          "output_type": "stream",
          "text": [
            "Epoch 1/5: 100%|██████████| 16/16 [00:00<00:00, 29.58it/s]\n",
            "Epoch 2/5: 100%|██████████| 16/16 [00:00<00:00, 33.64it/s]\n",
            "Epoch 3/5: 100%|██████████| 16/16 [00:00<00:00, 35.48it/s]\n",
            "Epoch 4/5: 100%|██████████| 16/16 [00:00<00:00, 35.29it/s]\n",
            "Epoch 5/5: 100%|██████████| 16/16 [00:00<00:00, 35.64it/s]\n"
          ]
        },
        {
          "name": "stdout",
          "output_type": "stream",
          "text": [
            "Slice 10/10 retrained for shard 1/5\n",
            "Retraining shard 2/5 containing data to forget\n"
          ]
        },
        {
          "name": "stderr",
          "output_type": "stream",
          "text": [
            "Epoch 1/5: 100%|██████████| 16/16 [00:00<00:00, 35.05it/s]\n",
            "Epoch 2/5: 100%|██████████| 16/16 [00:00<00:00, 35.63it/s]\n",
            "Epoch 3/5: 100%|██████████| 16/16 [00:00<00:00, 35.16it/s]\n",
            "Epoch 4/5: 100%|██████████| 16/16 [00:00<00:00, 35.24it/s]\n",
            "Epoch 5/5: 100%|██████████| 16/16 [00:00<00:00, 35.64it/s]\n"
          ]
        },
        {
          "name": "stdout",
          "output_type": "stream",
          "text": [
            "Slice 1/10 retrained for shard 2/5\n"
          ]
        },
        {
          "name": "stderr",
          "output_type": "stream",
          "text": [
            "Epoch 1/5: 100%|██████████| 16/16 [00:00<00:00, 35.10it/s]\n",
            "Epoch 2/5: 100%|██████████| 16/16 [00:00<00:00, 35.43it/s]\n",
            "Epoch 3/5: 100%|██████████| 16/16 [00:00<00:00, 35.33it/s]\n",
            "Epoch 4/5: 100%|██████████| 16/16 [00:00<00:00, 35.67it/s]\n",
            "Epoch 5/5: 100%|██████████| 16/16 [00:00<00:00, 35.73it/s]\n"
          ]
        },
        {
          "name": "stdout",
          "output_type": "stream",
          "text": [
            "Slice 2/10 retrained for shard 2/5\n"
          ]
        },
        {
          "name": "stderr",
          "output_type": "stream",
          "text": [
            "Epoch 1/5: 100%|██████████| 16/16 [00:00<00:00, 34.95it/s]\n",
            "Epoch 2/5: 100%|██████████| 16/16 [00:00<00:00, 36.08it/s]\n",
            "Epoch 3/5: 100%|██████████| 16/16 [00:00<00:00, 35.78it/s]\n",
            "Epoch 4/5: 100%|██████████| 16/16 [00:00<00:00, 35.52it/s]\n",
            "Epoch 5/5: 100%|██████████| 16/16 [00:00<00:00, 35.81it/s]\n"
          ]
        },
        {
          "name": "stdout",
          "output_type": "stream",
          "text": [
            "Slice 3/10 retrained for shard 2/5\n"
          ]
        },
        {
          "name": "stderr",
          "output_type": "stream",
          "text": [
            "Epoch 1/5: 100%|██████████| 16/16 [00:00<00:00, 35.22it/s]\n",
            "Epoch 2/5: 100%|██████████| 16/16 [00:00<00:00, 35.58it/s]\n",
            "Epoch 3/5: 100%|██████████| 16/16 [00:00<00:00, 35.54it/s]\n",
            "Epoch 4/5: 100%|██████████| 16/16 [00:00<00:00, 35.98it/s]\n",
            "Epoch 5/5: 100%|██████████| 16/16 [00:00<00:00, 35.59it/s]\n"
          ]
        },
        {
          "name": "stdout",
          "output_type": "stream",
          "text": [
            "Slice 4/10 retrained for shard 2/5\n"
          ]
        },
        {
          "name": "stderr",
          "output_type": "stream",
          "text": [
            "Epoch 1/5: 100%|██████████| 16/16 [00:00<00:00, 35.14it/s]\n",
            "Epoch 2/5: 100%|██████████| 16/16 [00:00<00:00, 35.66it/s]\n",
            "Epoch 3/5: 100%|██████████| 16/16 [00:00<00:00, 35.74it/s]\n",
            "Epoch 4/5: 100%|██████████| 16/16 [00:00<00:00, 35.39it/s]\n",
            "Epoch 5/5: 100%|██████████| 16/16 [00:00<00:00, 35.46it/s]\n"
          ]
        },
        {
          "name": "stdout",
          "output_type": "stream",
          "text": [
            "Slice 5/10 retrained for shard 2/5\n"
          ]
        },
        {
          "name": "stderr",
          "output_type": "stream",
          "text": [
            "Epoch 1/5: 100%|██████████| 16/16 [00:00<00:00, 35.20it/s]\n",
            "Epoch 2/5: 100%|██████████| 16/16 [00:00<00:00, 35.27it/s]\n",
            "Epoch 3/5: 100%|██████████| 16/16 [00:00<00:00, 35.57it/s]\n",
            "Epoch 4/5: 100%|██████████| 16/16 [00:00<00:00, 35.58it/s]\n",
            "Epoch 5/5: 100%|██████████| 16/16 [00:00<00:00, 35.36it/s]\n"
          ]
        },
        {
          "name": "stdout",
          "output_type": "stream",
          "text": [
            "Slice 6/10 retrained for shard 2/5\n"
          ]
        },
        {
          "name": "stderr",
          "output_type": "stream",
          "text": [
            "Epoch 1/5: 100%|██████████| 16/16 [00:00<00:00, 35.39it/s]\n",
            "Epoch 2/5: 100%|██████████| 16/16 [00:00<00:00, 35.66it/s]\n",
            "Epoch 3/5: 100%|██████████| 16/16 [00:00<00:00, 35.58it/s]\n",
            "Epoch 4/5: 100%|██████████| 16/16 [00:00<00:00, 35.69it/s]\n",
            "Epoch 5/5: 100%|██████████| 16/16 [00:00<00:00, 35.58it/s]\n"
          ]
        },
        {
          "name": "stdout",
          "output_type": "stream",
          "text": [
            "Slice 7/10 retrained for shard 2/5\n"
          ]
        },
        {
          "name": "stderr",
          "output_type": "stream",
          "text": [
            "Epoch 1/5: 100%|██████████| 16/16 [00:00<00:00, 35.14it/s]\n",
            "Epoch 2/5: 100%|██████████| 16/16 [00:00<00:00, 35.70it/s]\n",
            "Epoch 3/5: 100%|██████████| 16/16 [00:00<00:00, 35.55it/s]\n",
            "Epoch 4/5: 100%|██████████| 16/16 [00:00<00:00, 35.86it/s]\n",
            "Epoch 5/5: 100%|██████████| 16/16 [00:00<00:00, 35.51it/s]\n"
          ]
        },
        {
          "name": "stdout",
          "output_type": "stream",
          "text": [
            "Slice 8/10 retrained for shard 2/5\n"
          ]
        },
        {
          "name": "stderr",
          "output_type": "stream",
          "text": [
            "Epoch 1/5: 100%|██████████| 16/16 [00:00<00:00, 35.04it/s]\n",
            "Epoch 2/5: 100%|██████████| 16/16 [00:00<00:00, 35.33it/s]\n",
            "Epoch 3/5: 100%|██████████| 16/16 [00:00<00:00, 35.49it/s]\n",
            "Epoch 4/5: 100%|██████████| 16/16 [00:00<00:00, 35.27it/s]\n",
            "Epoch 5/5: 100%|██████████| 16/16 [00:00<00:00, 35.85it/s]\n"
          ]
        },
        {
          "name": "stdout",
          "output_type": "stream",
          "text": [
            "Slice 9/10 retrained for shard 2/5\n"
          ]
        },
        {
          "name": "stderr",
          "output_type": "stream",
          "text": [
            "Epoch 1/5: 100%|██████████| 16/16 [00:00<00:00, 34.78it/s]\n",
            "Epoch 2/5: 100%|██████████| 16/16 [00:00<00:00, 35.22it/s]\n",
            "Epoch 3/5: 100%|██████████| 16/16 [00:00<00:00, 35.51it/s]\n",
            "Epoch 4/5: 100%|██████████| 16/16 [00:00<00:00, 35.18it/s]\n",
            "Epoch 5/5: 100%|██████████| 16/16 [00:00<00:00, 35.94it/s]\n"
          ]
        },
        {
          "name": "stdout",
          "output_type": "stream",
          "text": [
            "Slice 10/10 retrained for shard 2/5\n",
            "Retraining shard 3/5 containing data to forget\n"
          ]
        },
        {
          "name": "stderr",
          "output_type": "stream",
          "text": [
            "Epoch 1/5: 100%|██████████| 16/16 [00:00<00:00, 35.27it/s]\n",
            "Epoch 2/5: 100%|██████████| 16/16 [00:00<00:00, 35.49it/s]\n",
            "Epoch 3/5: 100%|██████████| 16/16 [00:00<00:00, 35.70it/s]\n",
            "Epoch 4/5: 100%|██████████| 16/16 [00:00<00:00, 35.56it/s]\n",
            "Epoch 5/5: 100%|██████████| 16/16 [00:00<00:00, 35.40it/s]\n"
          ]
        },
        {
          "name": "stdout",
          "output_type": "stream",
          "text": [
            "Slice 1/10 retrained for shard 3/5\n"
          ]
        },
        {
          "name": "stderr",
          "output_type": "stream",
          "text": [
            "Epoch 1/5: 100%|██████████| 16/16 [00:00<00:00, 35.24it/s]\n",
            "Epoch 2/5: 100%|██████████| 16/16 [00:00<00:00, 35.74it/s]\n",
            "Epoch 3/5: 100%|██████████| 16/16 [00:00<00:00, 35.49it/s]\n",
            "Epoch 4/5: 100%|██████████| 16/16 [00:00<00:00, 35.17it/s]\n",
            "Epoch 5/5: 100%|██████████| 16/16 [00:00<00:00, 34.99it/s]\n"
          ]
        },
        {
          "name": "stdout",
          "output_type": "stream",
          "text": [
            "Slice 2/10 retrained for shard 3/5\n"
          ]
        },
        {
          "name": "stderr",
          "output_type": "stream",
          "text": [
            "Epoch 1/5: 100%|██████████| 16/16 [00:00<00:00, 35.05it/s]\n",
            "Epoch 2/5: 100%|██████████| 16/16 [00:00<00:00, 35.84it/s]\n",
            "Epoch 3/5: 100%|██████████| 16/16 [00:00<00:00, 35.66it/s]\n",
            "Epoch 4/5: 100%|██████████| 16/16 [00:00<00:00, 35.51it/s]\n",
            "Epoch 5/5: 100%|██████████| 16/16 [00:00<00:00, 35.02it/s]\n"
          ]
        },
        {
          "name": "stdout",
          "output_type": "stream",
          "text": [
            "Slice 3/10 retrained for shard 3/5\n"
          ]
        },
        {
          "name": "stderr",
          "output_type": "stream",
          "text": [
            "Epoch 1/5: 100%|██████████| 16/16 [00:00<00:00, 34.62it/s]\n",
            "Epoch 2/5: 100%|██████████| 16/16 [00:00<00:00, 35.04it/s]\n",
            "Epoch 3/5: 100%|██████████| 16/16 [00:00<00:00, 35.06it/s]\n",
            "Epoch 4/5: 100%|██████████| 16/16 [00:00<00:00, 35.03it/s]\n",
            "Epoch 5/5: 100%|██████████| 16/16 [00:00<00:00, 35.02it/s]\n"
          ]
        },
        {
          "name": "stdout",
          "output_type": "stream",
          "text": [
            "Slice 4/10 retrained for shard 3/5\n"
          ]
        },
        {
          "name": "stderr",
          "output_type": "stream",
          "text": [
            "Epoch 1/5: 100%|██████████| 16/16 [00:00<00:00, 34.69it/s]\n",
            "Epoch 2/5: 100%|██████████| 16/16 [00:00<00:00, 34.96it/s]\n",
            "Epoch 3/5: 100%|██████████| 16/16 [00:00<00:00, 34.92it/s]\n",
            "Epoch 4/5: 100%|██████████| 16/16 [00:00<00:00, 35.34it/s]\n",
            "Epoch 5/5: 100%|██████████| 16/16 [00:00<00:00, 35.44it/s]\n"
          ]
        },
        {
          "name": "stdout",
          "output_type": "stream",
          "text": [
            "Slice 5/10 retrained for shard 3/5\n"
          ]
        },
        {
          "name": "stderr",
          "output_type": "stream",
          "text": [
            "Epoch 1/5: 100%|██████████| 16/16 [00:00<00:00, 35.11it/s]\n",
            "Epoch 2/5: 100%|██████████| 16/16 [00:00<00:00, 35.68it/s]\n",
            "Epoch 3/5: 100%|██████████| 16/16 [00:00<00:00, 35.50it/s]\n",
            "Epoch 4/5: 100%|██████████| 16/16 [00:00<00:00, 35.56it/s]\n",
            "Epoch 5/5: 100%|██████████| 16/16 [00:00<00:00, 35.35it/s]\n"
          ]
        },
        {
          "name": "stdout",
          "output_type": "stream",
          "text": [
            "Slice 6/10 retrained for shard 3/5\n"
          ]
        },
        {
          "name": "stderr",
          "output_type": "stream",
          "text": [
            "Epoch 1/5: 100%|██████████| 16/16 [00:00<00:00, 35.04it/s]\n",
            "Epoch 2/5: 100%|██████████| 16/16 [00:00<00:00, 35.71it/s]\n",
            "Epoch 3/5: 100%|██████████| 16/16 [00:00<00:00, 35.29it/s]\n",
            "Epoch 4/5: 100%|██████████| 16/16 [00:00<00:00, 35.56it/s]\n",
            "Epoch 5/5: 100%|██████████| 16/16 [00:00<00:00, 35.61it/s]\n"
          ]
        },
        {
          "name": "stdout",
          "output_type": "stream",
          "text": [
            "Slice 7/10 retrained for shard 3/5\n"
          ]
        },
        {
          "name": "stderr",
          "output_type": "stream",
          "text": [
            "Epoch 1/5: 100%|██████████| 16/16 [00:00<00:00, 35.26it/s]\n",
            "Epoch 2/5: 100%|██████████| 16/16 [00:00<00:00, 35.53it/s]\n",
            "Epoch 3/5: 100%|██████████| 16/16 [00:00<00:00, 35.55it/s]\n",
            "Epoch 4/5: 100%|██████████| 16/16 [00:00<00:00, 35.40it/s]\n",
            "Epoch 5/5: 100%|██████████| 16/16 [00:00<00:00, 35.34it/s]\n"
          ]
        },
        {
          "name": "stdout",
          "output_type": "stream",
          "text": [
            "Slice 8/10 retrained for shard 3/5\n"
          ]
        },
        {
          "name": "stderr",
          "output_type": "stream",
          "text": [
            "Epoch 1/5: 100%|██████████| 16/16 [00:00<00:00, 34.89it/s]\n",
            "Epoch 2/5: 100%|██████████| 16/16 [00:00<00:00, 35.40it/s]\n",
            "Epoch 3/5: 100%|██████████| 16/16 [00:00<00:00, 35.38it/s]\n",
            "Epoch 4/5: 100%|██████████| 16/16 [00:00<00:00, 35.00it/s]\n",
            "Epoch 5/5: 100%|██████████| 16/16 [00:00<00:00, 34.98it/s]\n"
          ]
        },
        {
          "name": "stdout",
          "output_type": "stream",
          "text": [
            "Slice 9/10 retrained for shard 3/5\n"
          ]
        },
        {
          "name": "stderr",
          "output_type": "stream",
          "text": [
            "Epoch 1/5: 100%|██████████| 16/16 [00:00<00:00, 35.12it/s]\n",
            "Epoch 2/5: 100%|██████████| 16/16 [00:00<00:00, 35.61it/s]\n",
            "Epoch 3/5: 100%|██████████| 16/16 [00:00<00:00, 35.56it/s]\n",
            "Epoch 4/5: 100%|██████████| 16/16 [00:00<00:00, 34.94it/s]\n",
            "Epoch 5/5: 100%|██████████| 16/16 [00:00<00:00, 35.38it/s]\n"
          ]
        },
        {
          "name": "stdout",
          "output_type": "stream",
          "text": [
            "Slice 10/10 retrained for shard 3/5\n",
            "Retraining shard 4/5 containing data to forget\n"
          ]
        },
        {
          "name": "stderr",
          "output_type": "stream",
          "text": [
            "Epoch 1/5: 100%|██████████| 16/16 [00:00<00:00, 34.92it/s]\n",
            "Epoch 2/5: 100%|██████████| 16/16 [00:00<00:00, 35.49it/s]\n",
            "Epoch 3/5: 100%|██████████| 16/16 [00:00<00:00, 35.31it/s]\n",
            "Epoch 4/5: 100%|██████████| 16/16 [00:00<00:00, 35.47it/s]\n",
            "Epoch 5/5: 100%|██████████| 16/16 [00:00<00:00, 35.13it/s]\n"
          ]
        },
        {
          "name": "stdout",
          "output_type": "stream",
          "text": [
            "Slice 1/10 retrained for shard 4/5\n"
          ]
        },
        {
          "name": "stderr",
          "output_type": "stream",
          "text": [
            "Epoch 1/5: 100%|██████████| 16/16 [00:00<00:00, 34.42it/s]\n",
            "Epoch 2/5: 100%|██████████| 16/16 [00:00<00:00, 35.02it/s]\n",
            "Epoch 3/5: 100%|██████████| 16/16 [00:00<00:00, 35.38it/s]\n",
            "Epoch 4/5: 100%|██████████| 16/16 [00:00<00:00, 35.38it/s]\n",
            "Epoch 5/5: 100%|██████████| 16/16 [00:00<00:00, 35.05it/s]\n"
          ]
        },
        {
          "name": "stdout",
          "output_type": "stream",
          "text": [
            "Slice 2/10 retrained for shard 4/5\n"
          ]
        },
        {
          "name": "stderr",
          "output_type": "stream",
          "text": [
            "Epoch 1/5: 100%|██████████| 16/16 [00:00<00:00, 34.78it/s]\n",
            "Epoch 2/5: 100%|██████████| 16/16 [00:00<00:00, 34.88it/s]\n",
            "Epoch 3/5: 100%|██████████| 16/16 [00:00<00:00, 35.09it/s]\n",
            "Epoch 4/5: 100%|██████████| 16/16 [00:00<00:00, 35.43it/s]\n",
            "Epoch 5/5: 100%|██████████| 16/16 [00:00<00:00, 35.04it/s]\n"
          ]
        },
        {
          "name": "stdout",
          "output_type": "stream",
          "text": [
            "Slice 3/10 retrained for shard 4/5\n"
          ]
        },
        {
          "name": "stderr",
          "output_type": "stream",
          "text": [
            "Epoch 1/5: 100%|██████████| 16/16 [00:00<00:00, 34.55it/s]\n",
            "Epoch 2/5: 100%|██████████| 16/16 [00:00<00:00, 34.84it/s]\n",
            "Epoch 3/5: 100%|██████████| 16/16 [00:00<00:00, 35.46it/s]\n",
            "Epoch 4/5: 100%|██████████| 16/16 [00:00<00:00, 35.26it/s]\n",
            "Epoch 5/5: 100%|██████████| 16/16 [00:00<00:00, 35.21it/s]\n"
          ]
        },
        {
          "name": "stdout",
          "output_type": "stream",
          "text": [
            "Slice 4/10 retrained for shard 4/5\n"
          ]
        },
        {
          "name": "stderr",
          "output_type": "stream",
          "text": [
            "Epoch 1/5: 100%|██████████| 16/16 [00:00<00:00, 34.91it/s]\n",
            "Epoch 2/5: 100%|██████████| 16/16 [00:00<00:00, 35.64it/s]\n",
            "Epoch 3/5: 100%|██████████| 16/16 [00:00<00:00, 35.72it/s]\n",
            "Epoch 4/5: 100%|██████████| 16/16 [00:00<00:00, 35.76it/s]\n",
            "Epoch 5/5: 100%|██████████| 16/16 [00:00<00:00, 35.78it/s]\n"
          ]
        },
        {
          "name": "stdout",
          "output_type": "stream",
          "text": [
            "Slice 5/10 retrained for shard 4/5\n"
          ]
        },
        {
          "name": "stderr",
          "output_type": "stream",
          "text": [
            "Epoch 1/5: 100%|██████████| 16/16 [00:00<00:00, 35.08it/s]\n",
            "Epoch 2/5: 100%|██████████| 16/16 [00:00<00:00, 35.38it/s]\n",
            "Epoch 3/5: 100%|██████████| 16/16 [00:00<00:00, 35.01it/s]\n",
            "Epoch 4/5: 100%|██████████| 16/16 [00:00<00:00, 35.29it/s]\n",
            "Epoch 5/5: 100%|██████████| 16/16 [00:00<00:00, 35.81it/s]\n"
          ]
        },
        {
          "name": "stdout",
          "output_type": "stream",
          "text": [
            "Slice 6/10 retrained for shard 4/5\n"
          ]
        },
        {
          "name": "stderr",
          "output_type": "stream",
          "text": [
            "Epoch 1/5: 100%|██████████| 16/16 [00:00<00:00, 35.56it/s]\n",
            "Epoch 2/5: 100%|██████████| 16/16 [00:00<00:00, 35.50it/s]\n",
            "Epoch 3/5: 100%|██████████| 16/16 [00:00<00:00, 35.67it/s]\n",
            "Epoch 4/5: 100%|██████████| 16/16 [00:00<00:00, 35.73it/s]\n",
            "Epoch 5/5: 100%|██████████| 16/16 [00:00<00:00, 36.13it/s]\n"
          ]
        },
        {
          "name": "stdout",
          "output_type": "stream",
          "text": [
            "Slice 7/10 retrained for shard 4/5\n"
          ]
        },
        {
          "name": "stderr",
          "output_type": "stream",
          "text": [
            "Epoch 1/5: 100%|██████████| 16/16 [00:00<00:00, 35.29it/s]\n",
            "Epoch 2/5: 100%|██████████| 16/16 [00:00<00:00, 35.90it/s]\n",
            "Epoch 3/5: 100%|██████████| 16/16 [00:00<00:00, 35.63it/s]\n",
            "Epoch 4/5: 100%|██████████| 16/16 [00:00<00:00, 35.43it/s]\n",
            "Epoch 5/5: 100%|██████████| 16/16 [00:00<00:00, 35.52it/s]\n"
          ]
        },
        {
          "name": "stdout",
          "output_type": "stream",
          "text": [
            "Slice 8/10 retrained for shard 4/5\n"
          ]
        },
        {
          "name": "stderr",
          "output_type": "stream",
          "text": [
            "Epoch 1/5: 100%|██████████| 16/16 [00:00<00:00, 35.07it/s]\n",
            "Epoch 2/5: 100%|██████████| 16/16 [00:00<00:00, 35.50it/s]\n",
            "Epoch 3/5: 100%|██████████| 16/16 [00:00<00:00, 35.79it/s]\n",
            "Epoch 4/5: 100%|██████████| 16/16 [00:00<00:00, 35.87it/s]\n",
            "Epoch 5/5: 100%|██████████| 16/16 [00:00<00:00, 35.70it/s]\n"
          ]
        },
        {
          "name": "stdout",
          "output_type": "stream",
          "text": [
            "Slice 9/10 retrained for shard 4/5\n"
          ]
        },
        {
          "name": "stderr",
          "output_type": "stream",
          "text": [
            "Epoch 1/5: 100%|██████████| 16/16 [00:00<00:00, 35.34it/s]\n",
            "Epoch 2/5: 100%|██████████| 16/16 [00:00<00:00, 35.80it/s]\n",
            "Epoch 3/5: 100%|██████████| 16/16 [00:00<00:00, 35.44it/s]\n",
            "Epoch 4/5: 100%|██████████| 16/16 [00:00<00:00, 35.78it/s]\n",
            "Epoch 5/5: 100%|██████████| 16/16 [00:00<00:00, 35.83it/s]\n"
          ]
        },
        {
          "name": "stdout",
          "output_type": "stream",
          "text": [
            "Slice 10/10 retrained for shard 4/5\n"
          ]
        },
        {
          "name": "stderr",
          "output_type": "stream",
          "text": [
            "Evaluating model: Shard 1/5, slice 1/10: 100%|██████████| 157/157 [00:02<00:00, 54.00it/s]\n",
            "Evaluating model: Shard 1/5, slice 2/10: 100%|██████████| 157/157 [00:02<00:00, 53.94it/s]\n",
            "Evaluating model: Shard 1/5, slice 3/10: 100%|██████████| 157/157 [00:02<00:00, 53.90it/s]\n",
            "Evaluating model: Shard 1/5, slice 4/10: 100%|██████████| 157/157 [00:02<00:00, 53.96it/s]\n",
            "Evaluating model: Shard 1/5, slice 5/10: 100%|██████████| 157/157 [00:02<00:00, 53.97it/s]\n",
            "Evaluating model: Shard 1/5, slice 6/10: 100%|██████████| 157/157 [00:02<00:00, 53.90it/s]\n",
            "Evaluating model: Shard 1/5, slice 7/10: 100%|██████████| 157/157 [00:02<00:00, 53.95it/s]\n",
            "Evaluating model: Shard 1/5, slice 8/10: 100%|██████████| 157/157 [00:02<00:00, 53.90it/s]\n",
            "Evaluating model: Shard 1/5, slice 9/10: 100%|██████████| 157/157 [00:02<00:00, 53.86it/s]\n",
            "Evaluating model: Shard 1/5, slice 10/10: 100%|██████████| 157/157 [00:02<00:00, 53.89it/s]\n",
            "Evaluating model: Shard 2/5, slice 1/10: 100%|██████████| 157/157 [00:02<00:00, 53.83it/s]\n",
            "Evaluating model: Shard 2/5, slice 2/10: 100%|██████████| 157/157 [00:02<00:00, 53.89it/s]\n",
            "Evaluating model: Shard 2/5, slice 3/10: 100%|██████████| 157/157 [00:02<00:00, 53.91it/s]\n",
            "Evaluating model: Shard 2/5, slice 4/10: 100%|██████████| 157/157 [00:02<00:00, 53.91it/s]\n",
            "Evaluating model: Shard 2/5, slice 5/10: 100%|██████████| 157/157 [00:02<00:00, 53.85it/s]\n",
            "Evaluating model: Shard 2/5, slice 6/10: 100%|██████████| 157/157 [00:02<00:00, 53.86it/s]\n",
            "Evaluating model: Shard 2/5, slice 7/10: 100%|██████████| 157/157 [00:02<00:00, 53.86it/s]\n",
            "Evaluating model: Shard 2/5, slice 8/10: 100%|██████████| 157/157 [00:02<00:00, 53.89it/s]\n",
            "Evaluating model: Shard 2/5, slice 9/10: 100%|██████████| 157/157 [00:02<00:00, 53.92it/s]\n",
            "Evaluating model: Shard 2/5, slice 10/10: 100%|██████████| 157/157 [00:02<00:00, 53.92it/s]\n",
            "Evaluating model: Shard 3/5, slice 1/10: 100%|██████████| 157/157 [00:02<00:00, 53.89it/s]\n",
            "Evaluating model: Shard 3/5, slice 2/10: 100%|██████████| 157/157 [00:02<00:00, 53.88it/s]\n",
            "Evaluating model: Shard 3/5, slice 3/10: 100%|██████████| 157/157 [00:02<00:00, 53.82it/s]\n",
            "Evaluating model: Shard 3/5, slice 4/10: 100%|██████████| 157/157 [00:02<00:00, 53.83it/s]\n",
            "Evaluating model: Shard 3/5, slice 5/10: 100%|██████████| 157/157 [00:02<00:00, 53.80it/s]\n",
            "Evaluating model: Shard 3/5, slice 6/10: 100%|██████████| 157/157 [00:02<00:00, 53.81it/s]\n",
            "Evaluating model: Shard 3/5, slice 7/10: 100%|██████████| 157/157 [00:02<00:00, 53.79it/s]\n",
            "Evaluating model: Shard 3/5, slice 8/10: 100%|██████████| 157/157 [00:02<00:00, 53.84it/s]\n",
            "Evaluating model: Shard 3/5, slice 9/10: 100%|██████████| 157/157 [00:02<00:00, 53.80it/s]\n",
            "Evaluating model: Shard 3/5, slice 10/10: 100%|██████████| 157/157 [00:02<00:00, 53.86it/s]\n",
            "Evaluating model: Shard 4/5, slice 1/10: 100%|██████████| 157/157 [00:02<00:00, 53.86it/s]\n",
            "Evaluating model: Shard 4/5, slice 2/10: 100%|██████████| 157/157 [00:02<00:00, 53.87it/s]\n",
            "Evaluating model: Shard 4/5, slice 3/10: 100%|██████████| 157/157 [00:02<00:00, 53.89it/s]\n",
            "Evaluating model: Shard 4/5, slice 4/10: 100%|██████████| 157/157 [00:02<00:00, 53.88it/s]\n",
            "Evaluating model: Shard 4/5, slice 5/10: 100%|██████████| 157/157 [00:02<00:00, 53.87it/s]\n",
            "Evaluating model: Shard 4/5, slice 6/10: 100%|██████████| 157/157 [00:02<00:00, 53.82it/s]\n",
            "Evaluating model: Shard 4/5, slice 7/10: 100%|██████████| 157/157 [00:02<00:00, 53.83it/s]\n",
            "Evaluating model: Shard 4/5, slice 8/10: 100%|██████████| 157/157 [00:02<00:00, 53.84it/s]\n",
            "Evaluating model: Shard 4/5, slice 9/10: 100%|██████████| 157/157 [00:02<00:00, 53.79it/s]\n",
            "Evaluating model: Shard 4/5, slice 10/10: 100%|██████████| 157/157 [00:02<00:00, 53.85it/s]\n",
            "Evaluating model: Shard 5/5, slice 1/10: 100%|██████████| 157/157 [00:02<00:00, 53.86it/s]\n",
            "Evaluating model: Shard 5/5, slice 2/10: 100%|██████████| 157/157 [00:02<00:00, 53.89it/s]\n",
            "Evaluating model: Shard 5/5, slice 3/10: 100%|██████████| 157/157 [00:02<00:00, 53.80it/s]\n",
            "Evaluating model: Shard 5/5, slice 4/10: 100%|██████████| 157/157 [00:02<00:00, 53.85it/s]\n",
            "Evaluating model: Shard 5/5, slice 5/10: 100%|██████████| 157/157 [00:02<00:00, 53.86it/s]\n",
            "Evaluating model: Shard 5/5, slice 6/10: 100%|██████████| 157/157 [00:02<00:00, 53.95it/s]\n",
            "Evaluating model: Shard 5/5, slice 7/10: 100%|██████████| 157/157 [00:02<00:00, 53.83it/s]\n",
            "Evaluating model: Shard 5/5, slice 8/10: 100%|██████████| 157/157 [00:02<00:00, 53.92it/s]\n",
            "Evaluating model: Shard 5/5, slice 9/10: 100%|██████████| 157/157 [00:02<00:00, 53.93it/s]\n",
            "Evaluating model: Shard 5/5, slice 10/10: 100%|██████████| 157/157 [00:02<00:00, 53.83it/s]\n"
          ]
        }
      ],
      "source": [
        "S = 5\n",
        "R = 10\n",
        "shards = create_shards(train_dataset, S)\n",
        "shard_models = sisa_train(shards, R, num_epochs, initial_model, criterion, optimizer_fn)\n",
        "\n",
        "test_loader = data.DataLoader(test_dataset, batch_size=64, shuffle=False)\n",
        "\n",
        "accuracy, precision, recall, f1, auroc = evaluate_models(shard_models, test_loader)\n",
        "results.append((S, R, \"Majority Voting\", accuracy, precision, recall, f1, auroc))\n",
        "\n",
        "if accuracy > best_accuracy:\n",
        "    best_accuracy = accuracy\n",
        "    best_model = shard_models\n",
        "    best_result = (S, R, accuracy, precision, recall, f1, auroc)\n",
        "\n",
        "# Perform unlearning\n",
        "data_to_forget_indices = np.random.choice(len(train_data), 500, replace=False)\n",
        "shard_models_unlearned = sisa_unlearn(shards, R, shard_models, initial_model, criterion, optimizer_fn, data_to_forget_indices)\n",
        "\n",
        "accuracy, precision, recall, f1, auroc = evaluate_models(shard_models_unlearned, test_loader)\n",
        "results_unlearning.append((S, R, \"Majority Voting\" + \" (Unlearned)\", accuracy, precision, recall, f1, auroc))\n",
        "\n",
        "\n",
        "if accuracy > best_accuracy_unlearned:\n",
        "    best_accuracy_unlearned = accuracy\n",
        "    best_model_unlearned = shard_models_unlearned\n",
        "    best_result_unlearned = (S, R, accuracy, precision, recall, f1, auroc)\n",
        "\n",
        "clear_CUDA()"
      ]
    },
    {
      "cell_type": "code",
      "execution_count": 16,
      "metadata": {
        "colab": {
          "base_uri": "https://localhost:8080/"
        },
        "collapsed": true,
        "id": "woKTioihErlX",
        "outputId": "c9f48bfc-ab37-4a15-850f-f850de7d2dd2"
      },
      "outputs": [
        {
          "name": "stdout",
          "output_type": "stream",
          "text": [
            "Training shard 1/5, slice 1/20\n"
          ]
        },
        {
          "name": "stderr",
          "output_type": "stream",
          "text": [
            "Epoch 1/5: 100%|██████████| 8/8 [00:00<00:00, 24.72it/s]\n",
            "Epoch 2/5: 100%|██████████| 8/8 [00:00<00:00, 31.97it/s]\n",
            "Epoch 3/5: 100%|██████████| 8/8 [00:00<00:00, 35.12it/s]\n",
            "Epoch 4/5: 100%|██████████| 8/8 [00:00<00:00, 35.67it/s]\n",
            "Epoch 5/5: 100%|██████████| 8/8 [00:00<00:00, 35.63it/s]\n"
          ]
        },
        {
          "name": "stdout",
          "output_type": "stream",
          "text": [
            "Training shard 1/5, slice 2/20\n"
          ]
        },
        {
          "name": "stderr",
          "output_type": "stream",
          "text": [
            "Epoch 1/5: 100%|██████████| 8/8 [00:00<00:00, 34.61it/s]\n",
            "Epoch 2/5: 100%|██████████| 8/8 [00:00<00:00, 35.04it/s]\n",
            "Epoch 3/5: 100%|██████████| 8/8 [00:00<00:00, 35.40it/s]\n",
            "Epoch 4/5: 100%|██████████| 8/8 [00:00<00:00, 36.17it/s]\n",
            "Epoch 5/5: 100%|██████████| 8/8 [00:00<00:00, 35.56it/s]\n"
          ]
        },
        {
          "name": "stdout",
          "output_type": "stream",
          "text": [
            "Training shard 1/5, slice 3/20\n"
          ]
        },
        {
          "name": "stderr",
          "output_type": "stream",
          "text": [
            "Epoch 1/5: 100%|██████████| 8/8 [00:00<00:00, 34.65it/s]\n",
            "Epoch 2/5: 100%|██████████| 8/8 [00:00<00:00, 35.64it/s]\n",
            "Epoch 3/5: 100%|██████████| 8/8 [00:00<00:00, 35.59it/s]\n",
            "Epoch 4/5: 100%|██████████| 8/8 [00:00<00:00, 35.27it/s]\n",
            "Epoch 5/5: 100%|██████████| 8/8 [00:00<00:00, 35.65it/s]\n"
          ]
        },
        {
          "name": "stdout",
          "output_type": "stream",
          "text": [
            "Training shard 1/5, slice 4/20\n"
          ]
        },
        {
          "name": "stderr",
          "output_type": "stream",
          "text": [
            "Epoch 1/5: 100%|██████████| 8/8 [00:00<00:00, 34.73it/s]\n",
            "Epoch 2/5: 100%|██████████| 8/8 [00:00<00:00, 35.78it/s]\n",
            "Epoch 3/5: 100%|██████████| 8/8 [00:00<00:00, 35.72it/s]\n",
            "Epoch 4/5: 100%|██████████| 8/8 [00:00<00:00, 35.60it/s]\n",
            "Epoch 5/5: 100%|██████████| 8/8 [00:00<00:00, 35.28it/s]\n"
          ]
        },
        {
          "name": "stdout",
          "output_type": "stream",
          "text": [
            "Training shard 1/5, slice 5/20\n"
          ]
        },
        {
          "name": "stderr",
          "output_type": "stream",
          "text": [
            "Epoch 1/5: 100%|██████████| 8/8 [00:00<00:00, 34.86it/s]\n",
            "Epoch 2/5: 100%|██████████| 8/8 [00:00<00:00, 35.83it/s]\n",
            "Epoch 3/5: 100%|██████████| 8/8 [00:00<00:00, 35.62it/s]\n",
            "Epoch 4/5: 100%|██████████| 8/8 [00:00<00:00, 35.62it/s]\n",
            "Epoch 5/5: 100%|██████████| 8/8 [00:00<00:00, 35.70it/s]\n"
          ]
        },
        {
          "name": "stdout",
          "output_type": "stream",
          "text": [
            "Training shard 1/5, slice 6/20\n"
          ]
        },
        {
          "name": "stderr",
          "output_type": "stream",
          "text": [
            "Epoch 1/5: 100%|██████████| 8/8 [00:00<00:00, 34.98it/s]\n",
            "Epoch 2/5: 100%|██████████| 8/8 [00:00<00:00, 35.47it/s]\n",
            "Epoch 3/5: 100%|██████████| 8/8 [00:00<00:00, 35.52it/s]\n",
            "Epoch 4/5: 100%|██████████| 8/8 [00:00<00:00, 35.65it/s]\n",
            "Epoch 5/5: 100%|██████████| 8/8 [00:00<00:00, 36.41it/s]\n"
          ]
        },
        {
          "name": "stdout",
          "output_type": "stream",
          "text": [
            "Training shard 1/5, slice 7/20\n"
          ]
        },
        {
          "name": "stderr",
          "output_type": "stream",
          "text": [
            "Epoch 1/5: 100%|██████████| 8/8 [00:00<00:00, 34.98it/s]\n",
            "Epoch 2/5: 100%|██████████| 8/8 [00:00<00:00, 35.29it/s]\n",
            "Epoch 3/5: 100%|██████████| 8/8 [00:00<00:00, 35.55it/s]\n",
            "Epoch 4/5: 100%|██████████| 8/8 [00:00<00:00, 35.13it/s]\n",
            "Epoch 5/5:  50%|█████     | 4/8 [00:00<00:00, 34.36it/s]"
          ]
        },
        {
          "name": "stderr",
          "output_type": "stream",
          "text": [
            "Epoch 5/5: 100%|██████████| 8/8 [00:00<00:00, 34.77it/s]\n"
          ]
        },
        {
          "name": "stdout",
          "output_type": "stream",
          "text": [
            "Training shard 1/5, slice 8/20\n"
          ]
        },
        {
          "name": "stderr",
          "output_type": "stream",
          "text": [
            "Epoch 1/5: 100%|██████████| 8/8 [00:00<00:00, 34.25it/s]\n",
            "Epoch 2/5: 100%|██████████| 8/8 [00:00<00:00, 34.84it/s]\n",
            "Epoch 3/5: 100%|██████████| 8/8 [00:00<00:00, 35.26it/s]\n",
            "Epoch 4/5: 100%|██████████| 8/8 [00:00<00:00, 35.79it/s]\n",
            "Epoch 5/5: 100%|██████████| 8/8 [00:00<00:00, 35.50it/s]\n"
          ]
        },
        {
          "name": "stdout",
          "output_type": "stream",
          "text": [
            "Training shard 1/5, slice 9/20\n"
          ]
        },
        {
          "name": "stderr",
          "output_type": "stream",
          "text": [
            "Epoch 1/5: 100%|██████████| 8/8 [00:00<00:00, 34.68it/s]\n",
            "Epoch 2/5: 100%|██████████| 8/8 [00:00<00:00, 35.11it/s]\n",
            "Epoch 3/5: 100%|██████████| 8/8 [00:00<00:00, 35.00it/s]\n",
            "Epoch 4/5: 100%|██████████| 8/8 [00:00<00:00, 35.15it/s]\n",
            "Epoch 5/5: 100%|██████████| 8/8 [00:00<00:00, 35.49it/s]\n"
          ]
        },
        {
          "name": "stdout",
          "output_type": "stream",
          "text": [
            "Training shard 1/5, slice 10/20\n"
          ]
        },
        {
          "name": "stderr",
          "output_type": "stream",
          "text": [
            "Epoch 1/5: 100%|██████████| 8/8 [00:00<00:00, 34.73it/s]\n",
            "Epoch 2/5: 100%|██████████| 8/8 [00:00<00:00, 35.65it/s]\n",
            "Epoch 3/5: 100%|██████████| 8/8 [00:00<00:00, 35.16it/s]\n",
            "Epoch 4/5: 100%|██████████| 8/8 [00:00<00:00, 34.97it/s]\n",
            "Epoch 5/5: 100%|██████████| 8/8 [00:00<00:00, 35.16it/s]\n"
          ]
        },
        {
          "name": "stdout",
          "output_type": "stream",
          "text": [
            "Training shard 1/5, slice 11/20\n"
          ]
        },
        {
          "name": "stderr",
          "output_type": "stream",
          "text": [
            "Epoch 1/5: 100%|██████████| 8/8 [00:00<00:00, 34.35it/s]\n",
            "Epoch 2/5: 100%|██████████| 8/8 [00:00<00:00, 35.30it/s]\n",
            "Epoch 3/5: 100%|██████████| 8/8 [00:00<00:00, 35.59it/s]\n",
            "Epoch 4/5: 100%|██████████| 8/8 [00:00<00:00, 35.44it/s]\n",
            "Epoch 5/5: 100%|██████████| 8/8 [00:00<00:00, 35.57it/s]\n"
          ]
        },
        {
          "name": "stdout",
          "output_type": "stream",
          "text": [
            "Training shard 1/5, slice 12/20\n"
          ]
        },
        {
          "name": "stderr",
          "output_type": "stream",
          "text": [
            "Epoch 1/5: 100%|██████████| 8/8 [00:00<00:00, 34.44it/s]\n",
            "Epoch 2/5: 100%|██████████| 8/8 [00:00<00:00, 35.42it/s]\n",
            "Epoch 3/5: 100%|██████████| 8/8 [00:00<00:00, 35.10it/s]\n",
            "Epoch 4/5: 100%|██████████| 8/8 [00:00<00:00, 35.10it/s]\n",
            "Epoch 5/5: 100%|██████████| 8/8 [00:00<00:00, 34.84it/s]\n"
          ]
        },
        {
          "name": "stdout",
          "output_type": "stream",
          "text": [
            "Training shard 1/5, slice 13/20\n"
          ]
        },
        {
          "name": "stderr",
          "output_type": "stream",
          "text": [
            "Epoch 1/5: 100%|██████████| 8/8 [00:00<00:00, 34.30it/s]\n",
            "Epoch 2/5: 100%|██████████| 8/8 [00:00<00:00, 35.04it/s]\n",
            "Epoch 3/5: 100%|██████████| 8/8 [00:00<00:00, 35.25it/s]\n",
            "Epoch 4/5: 100%|██████████| 8/8 [00:00<00:00, 35.24it/s]\n",
            "Epoch 5/5: 100%|██████████| 8/8 [00:00<00:00, 35.48it/s]\n"
          ]
        },
        {
          "name": "stdout",
          "output_type": "stream",
          "text": [
            "Training shard 1/5, slice 14/20\n"
          ]
        },
        {
          "name": "stderr",
          "output_type": "stream",
          "text": [
            "Epoch 1/5: 100%|██████████| 8/8 [00:00<00:00, 34.55it/s]\n",
            "Epoch 2/5: 100%|██████████| 8/8 [00:00<00:00, 35.38it/s]\n",
            "Epoch 3/5: 100%|██████████| 8/8 [00:00<00:00, 35.39it/s]\n",
            "Epoch 4/5: 100%|██████████| 8/8 [00:00<00:00, 35.36it/s]\n",
            "Epoch 5/5: 100%|██████████| 8/8 [00:00<00:00, 35.12it/s]\n"
          ]
        },
        {
          "name": "stdout",
          "output_type": "stream",
          "text": [
            "Training shard 1/5, slice 15/20\n"
          ]
        },
        {
          "name": "stderr",
          "output_type": "stream",
          "text": [
            "Epoch 1/5: 100%|██████████| 8/8 [00:00<00:00, 34.47it/s]\n",
            "Epoch 2/5: 100%|██████████| 8/8 [00:00<00:00, 35.30it/s]\n",
            "Epoch 3/5: 100%|██████████| 8/8 [00:00<00:00, 36.01it/s]\n",
            "Epoch 4/5: 100%|██████████| 8/8 [00:00<00:00, 35.50it/s]\n",
            "Epoch 5/5: 100%|██████████| 8/8 [00:00<00:00, 35.20it/s]\n"
          ]
        },
        {
          "name": "stdout",
          "output_type": "stream",
          "text": [
            "Training shard 1/5, slice 16/20\n"
          ]
        },
        {
          "name": "stderr",
          "output_type": "stream",
          "text": [
            "Epoch 1/5: 100%|██████████| 8/8 [00:00<00:00, 34.28it/s]\n",
            "Epoch 2/5: 100%|██████████| 8/8 [00:00<00:00, 34.90it/s]\n",
            "Epoch 3/5: 100%|██████████| 8/8 [00:00<00:00, 35.51it/s]\n",
            "Epoch 4/5: 100%|██████████| 8/8 [00:00<00:00, 35.50it/s]\n",
            "Epoch 5/5: 100%|██████████| 8/8 [00:00<00:00, 35.13it/s]\n"
          ]
        },
        {
          "name": "stdout",
          "output_type": "stream",
          "text": [
            "Training shard 1/5, slice 17/20\n"
          ]
        },
        {
          "name": "stderr",
          "output_type": "stream",
          "text": [
            "Epoch 1/5: 100%|██████████| 8/8 [00:00<00:00, 34.48it/s]\n",
            "Epoch 2/5: 100%|██████████| 8/8 [00:00<00:00, 35.23it/s]\n",
            "Epoch 3/5: 100%|██████████| 8/8 [00:00<00:00, 35.74it/s]\n",
            "Epoch 4/5: 100%|██████████| 8/8 [00:00<00:00, 35.75it/s]\n",
            "Epoch 5/5: 100%|██████████| 8/8 [00:00<00:00, 35.67it/s]\n"
          ]
        },
        {
          "name": "stdout",
          "output_type": "stream",
          "text": [
            "Training shard 1/5, slice 18/20\n"
          ]
        },
        {
          "name": "stderr",
          "output_type": "stream",
          "text": [
            "Epoch 1/5: 100%|██████████| 8/8 [00:00<00:00, 34.62it/s]\n",
            "Epoch 2/5: 100%|██████████| 8/8 [00:00<00:00, 35.56it/s]\n",
            "Epoch 3/5: 100%|██████████| 8/8 [00:00<00:00, 35.02it/s]\n",
            "Epoch 4/5: 100%|██████████| 8/8 [00:00<00:00, 35.40it/s]\n",
            "Epoch 5/5: 100%|██████████| 8/8 [00:00<00:00, 35.32it/s]\n"
          ]
        },
        {
          "name": "stdout",
          "output_type": "stream",
          "text": [
            "Training shard 1/5, slice 19/20\n"
          ]
        },
        {
          "name": "stderr",
          "output_type": "stream",
          "text": [
            "Epoch 1/5: 100%|██████████| 8/8 [00:00<00:00, 35.36it/s]\n",
            "Epoch 2/5: 100%|██████████| 8/8 [00:00<00:00, 35.63it/s]\n",
            "Epoch 3/5: 100%|██████████| 8/8 [00:00<00:00, 35.11it/s]\n",
            "Epoch 4/5: 100%|██████████| 8/8 [00:00<00:00, 35.35it/s]\n",
            "Epoch 5/5: 100%|██████████| 8/8 [00:00<00:00, 35.29it/s]\n"
          ]
        },
        {
          "name": "stdout",
          "output_type": "stream",
          "text": [
            "Training shard 1/5, slice 20/20\n"
          ]
        },
        {
          "name": "stderr",
          "output_type": "stream",
          "text": [
            "Epoch 1/5: 100%|██████████| 8/8 [00:00<00:00, 34.47it/s]\n",
            "Epoch 2/5: 100%|██████████| 8/8 [00:00<00:00, 35.55it/s]\n",
            "Epoch 3/5: 100%|██████████| 8/8 [00:00<00:00, 35.59it/s]\n",
            "Epoch 4/5: 100%|██████████| 8/8 [00:00<00:00, 35.71it/s]\n",
            "Epoch 5/5: 100%|██████████| 8/8 [00:00<00:00, 35.12it/s]\n"
          ]
        },
        {
          "name": "stdout",
          "output_type": "stream",
          "text": [
            "Training shard 2/5, slice 1/20\n"
          ]
        },
        {
          "name": "stderr",
          "output_type": "stream",
          "text": [
            "Epoch 1/5: 100%|██████████| 8/8 [00:00<00:00, 34.52it/s]\n",
            "Epoch 2/5: 100%|██████████| 8/8 [00:00<00:00, 35.67it/s]\n",
            "Epoch 3/5: 100%|██████████| 8/8 [00:00<00:00, 35.73it/s]\n",
            "Epoch 4/5: 100%|██████████| 8/8 [00:00<00:00, 35.74it/s]\n",
            "Epoch 5/5: 100%|██████████| 8/8 [00:00<00:00, 35.72it/s]\n"
          ]
        },
        {
          "name": "stdout",
          "output_type": "stream",
          "text": [
            "Training shard 2/5, slice 2/20\n"
          ]
        },
        {
          "name": "stderr",
          "output_type": "stream",
          "text": [
            "Epoch 1/5: 100%|██████████| 8/8 [00:00<00:00, 34.50it/s]\n",
            "Epoch 2/5: 100%|██████████| 8/8 [00:00<00:00, 35.37it/s]\n",
            "Epoch 3/5: 100%|██████████| 8/8 [00:00<00:00, 36.12it/s]\n",
            "Epoch 4/5: 100%|██████████| 8/8 [00:00<00:00, 35.62it/s]\n",
            "Epoch 5/5: 100%|██████████| 8/8 [00:00<00:00, 35.60it/s]\n"
          ]
        },
        {
          "name": "stdout",
          "output_type": "stream",
          "text": [
            "Training shard 2/5, slice 3/20\n"
          ]
        },
        {
          "name": "stderr",
          "output_type": "stream",
          "text": [
            "Epoch 1/5: 100%|██████████| 8/8 [00:00<00:00, 34.88it/s]\n",
            "Epoch 2/5: 100%|██████████| 8/8 [00:00<00:00, 35.62it/s]\n",
            "Epoch 3/5: 100%|██████████| 8/8 [00:00<00:00, 35.11it/s]\n",
            "Epoch 4/5: 100%|██████████| 8/8 [00:00<00:00, 35.69it/s]\n",
            "Epoch 5/5: 100%|██████████| 8/8 [00:00<00:00, 35.71it/s]\n"
          ]
        },
        {
          "name": "stdout",
          "output_type": "stream",
          "text": [
            "Training shard 2/5, slice 4/20\n"
          ]
        },
        {
          "name": "stderr",
          "output_type": "stream",
          "text": [
            "Epoch 1/5: 100%|██████████| 8/8 [00:00<00:00, 34.64it/s]\n",
            "Epoch 2/5: 100%|██████████| 8/8 [00:00<00:00, 36.02it/s]\n",
            "Epoch 3/5: 100%|██████████| 8/8 [00:00<00:00, 35.73it/s]\n",
            "Epoch 4/5: 100%|██████████| 8/8 [00:00<00:00, 35.35it/s]\n",
            "Epoch 5/5: 100%|██████████| 8/8 [00:00<00:00, 35.28it/s]\n"
          ]
        },
        {
          "name": "stdout",
          "output_type": "stream",
          "text": [
            "Training shard 2/5, slice 5/20\n"
          ]
        },
        {
          "name": "stderr",
          "output_type": "stream",
          "text": [
            "Epoch 1/5: 100%|██████████| 8/8 [00:00<00:00, 34.58it/s]\n",
            "Epoch 2/5: 100%|██████████| 8/8 [00:00<00:00, 34.74it/s]\n",
            "Epoch 3/5: 100%|██████████| 8/8 [00:00<00:00, 34.87it/s]\n",
            "Epoch 4/5: 100%|██████████| 8/8 [00:00<00:00, 34.88it/s]\n",
            "Epoch 5/5: 100%|██████████| 8/8 [00:00<00:00, 34.95it/s]\n"
          ]
        },
        {
          "name": "stdout",
          "output_type": "stream",
          "text": [
            "Training shard 2/5, slice 6/20\n"
          ]
        },
        {
          "name": "stderr",
          "output_type": "stream",
          "text": [
            "Epoch 1/5: 100%|██████████| 8/8 [00:00<00:00, 34.30it/s]\n",
            "Epoch 2/5: 100%|██████████| 8/8 [00:00<00:00, 34.96it/s]\n",
            "Epoch 3/5: 100%|██████████| 8/8 [00:00<00:00, 35.26it/s]\n",
            "Epoch 4/5: 100%|██████████| 8/8 [00:00<00:00, 35.14it/s]\n",
            "Epoch 5/5: 100%|██████████| 8/8 [00:00<00:00, 35.03it/s]\n"
          ]
        },
        {
          "name": "stdout",
          "output_type": "stream",
          "text": [
            "Training shard 2/5, slice 7/20\n"
          ]
        },
        {
          "name": "stderr",
          "output_type": "stream",
          "text": [
            "Epoch 1/5: 100%|██████████| 8/8 [00:00<00:00, 34.31it/s]\n",
            "Epoch 2/5: 100%|██████████| 8/8 [00:00<00:00, 35.03it/s]\n",
            "Epoch 3/5: 100%|██████████| 8/8 [00:00<00:00, 35.19it/s]\n",
            "Epoch 4/5: 100%|██████████| 8/8 [00:00<00:00, 35.83it/s]\n",
            "Epoch 5/5: 100%|██████████| 8/8 [00:00<00:00, 35.12it/s]\n"
          ]
        },
        {
          "name": "stdout",
          "output_type": "stream",
          "text": [
            "Training shard 2/5, slice 8/20\n"
          ]
        },
        {
          "name": "stderr",
          "output_type": "stream",
          "text": [
            "Epoch 1/5: 100%|██████████| 8/8 [00:00<00:00, 33.86it/s]\n",
            "Epoch 2/5: 100%|██████████| 8/8 [00:00<00:00, 34.85it/s]\n",
            "Epoch 3/5: 100%|██████████| 8/8 [00:00<00:00, 35.09it/s]\n",
            "Epoch 4/5: 100%|██████████| 8/8 [00:00<00:00, 35.31it/s]\n",
            "Epoch 5/5: 100%|██████████| 8/8 [00:00<00:00, 35.35it/s]\n"
          ]
        },
        {
          "name": "stdout",
          "output_type": "stream",
          "text": [
            "Training shard 2/5, slice 9/20\n"
          ]
        },
        {
          "name": "stderr",
          "output_type": "stream",
          "text": [
            "Epoch 1/5: 100%|██████████| 8/8 [00:00<00:00, 34.19it/s]\n",
            "Epoch 2/5: 100%|██████████| 8/8 [00:00<00:00, 35.08it/s]\n",
            "Epoch 3/5: 100%|██████████| 8/8 [00:00<00:00, 34.96it/s]\n",
            "Epoch 4/5: 100%|██████████| 8/8 [00:00<00:00, 35.08it/s]\n",
            "Epoch 5/5: 100%|██████████| 8/8 [00:00<00:00, 35.07it/s]\n"
          ]
        },
        {
          "name": "stdout",
          "output_type": "stream",
          "text": [
            "Training shard 2/5, slice 10/20\n"
          ]
        },
        {
          "name": "stderr",
          "output_type": "stream",
          "text": [
            "Epoch 1/5: 100%|██████████| 8/8 [00:00<00:00, 34.15it/s]\n",
            "Epoch 2/5: 100%|██████████| 8/8 [00:00<00:00, 35.47it/s]\n",
            "Epoch 3/5: 100%|██████████| 8/8 [00:00<00:00, 35.52it/s]\n",
            "Epoch 4/5: 100%|██████████| 8/8 [00:00<00:00, 35.41it/s]\n",
            "Epoch 5/5: 100%|██████████| 8/8 [00:00<00:00, 35.15it/s]\n"
          ]
        },
        {
          "name": "stdout",
          "output_type": "stream",
          "text": [
            "Training shard 2/5, slice 11/20\n"
          ]
        },
        {
          "name": "stderr",
          "output_type": "stream",
          "text": [
            "Epoch 1/5: 100%|██████████| 8/8 [00:00<00:00, 34.98it/s]\n",
            "Epoch 2/5: 100%|██████████| 8/8 [00:00<00:00, 35.59it/s]\n",
            "Epoch 3/5: 100%|██████████| 8/8 [00:00<00:00, 35.51it/s]\n",
            "Epoch 4/5: 100%|██████████| 8/8 [00:00<00:00, 35.59it/s]\n",
            "Epoch 5/5: 100%|██████████| 8/8 [00:00<00:00, 35.86it/s]\n"
          ]
        },
        {
          "name": "stdout",
          "output_type": "stream",
          "text": [
            "Training shard 2/5, slice 12/20\n"
          ]
        },
        {
          "name": "stderr",
          "output_type": "stream",
          "text": [
            "Epoch 1/5: 100%|██████████| 8/8 [00:00<00:00, 34.59it/s]\n",
            "Epoch 2/5: 100%|██████████| 8/8 [00:00<00:00, 35.32it/s]\n",
            "Epoch 3/5: 100%|██████████| 8/8 [00:00<00:00, 35.25it/s]\n",
            "Epoch 4/5: 100%|██████████| 8/8 [00:00<00:00, 35.19it/s]\n",
            "Epoch 5/5: 100%|██████████| 8/8 [00:00<00:00, 35.36it/s]\n"
          ]
        },
        {
          "name": "stdout",
          "output_type": "stream",
          "text": [
            "Training shard 2/5, slice 13/20\n"
          ]
        },
        {
          "name": "stderr",
          "output_type": "stream",
          "text": [
            "Epoch 1/5: 100%|██████████| 8/8 [00:00<00:00, 34.66it/s]\n",
            "Epoch 2/5: 100%|██████████| 8/8 [00:00<00:00, 35.12it/s]\n",
            "Epoch 3/5: 100%|██████████| 8/8 [00:00<00:00, 35.44it/s]\n",
            "Epoch 4/5: 100%|██████████| 8/8 [00:00<00:00, 35.83it/s]\n",
            "Epoch 5/5: 100%|██████████| 8/8 [00:00<00:00, 35.21it/s]\n"
          ]
        },
        {
          "name": "stdout",
          "output_type": "stream",
          "text": [
            "Training shard 2/5, slice 14/20\n"
          ]
        },
        {
          "name": "stderr",
          "output_type": "stream",
          "text": [
            "Epoch 1/5: 100%|██████████| 8/8 [00:00<00:00, 34.20it/s]\n",
            "Epoch 2/5: 100%|██████████| 8/8 [00:00<00:00, 34.65it/s]\n",
            "Epoch 3/5: 100%|██████████| 8/8 [00:00<00:00, 35.15it/s]\n",
            "Epoch 4/5: 100%|██████████| 8/8 [00:00<00:00, 35.53it/s]\n",
            "Epoch 5/5: 100%|██████████| 8/8 [00:00<00:00, 35.49it/s]\n"
          ]
        },
        {
          "name": "stdout",
          "output_type": "stream",
          "text": [
            "Training shard 2/5, slice 15/20\n"
          ]
        },
        {
          "name": "stderr",
          "output_type": "stream",
          "text": [
            "Epoch 1/5: 100%|██████████| 8/8 [00:00<00:00, 34.57it/s]\n",
            "Epoch 2/5: 100%|██████████| 8/8 [00:00<00:00, 35.27it/s]\n",
            "Epoch 3/5: 100%|██████████| 8/8 [00:00<00:00, 35.35it/s]\n",
            "Epoch 4/5: 100%|██████████| 8/8 [00:00<00:00, 35.33it/s]\n",
            "Epoch 5/5: 100%|██████████| 8/8 [00:00<00:00, 35.19it/s]\n"
          ]
        },
        {
          "name": "stdout",
          "output_type": "stream",
          "text": [
            "Training shard 2/5, slice 16/20\n"
          ]
        },
        {
          "name": "stderr",
          "output_type": "stream",
          "text": [
            "Epoch 1/5: 100%|██████████| 8/8 [00:00<00:00, 34.59it/s]\n",
            "Epoch 2/5: 100%|██████████| 8/8 [00:00<00:00, 34.81it/s]\n",
            "Epoch 3/5: 100%|██████████| 8/8 [00:00<00:00, 34.90it/s]\n",
            "Epoch 4/5: 100%|██████████| 8/8 [00:00<00:00, 34.96it/s]\n",
            "Epoch 5/5: 100%|██████████| 8/8 [00:00<00:00, 35.00it/s]\n"
          ]
        },
        {
          "name": "stdout",
          "output_type": "stream",
          "text": [
            "Training shard 2/5, slice 17/20\n"
          ]
        },
        {
          "name": "stderr",
          "output_type": "stream",
          "text": [
            "Epoch 1/5: 100%|██████████| 8/8 [00:00<00:00, 34.94it/s]\n",
            "Epoch 2/5: 100%|██████████| 8/8 [00:00<00:00, 35.45it/s]\n",
            "Epoch 3/5: 100%|██████████| 8/8 [00:00<00:00, 35.61it/s]\n",
            "Epoch 4/5: 100%|██████████| 8/8 [00:00<00:00, 35.58it/s]\n",
            "Epoch 5/5: 100%|██████████| 8/8 [00:00<00:00, 35.58it/s]\n"
          ]
        },
        {
          "name": "stdout",
          "output_type": "stream",
          "text": [
            "Training shard 2/5, slice 18/20\n"
          ]
        },
        {
          "name": "stderr",
          "output_type": "stream",
          "text": [
            "Epoch 1/5: 100%|██████████| 8/8 [00:00<00:00, 34.90it/s]\n",
            "Epoch 2/5: 100%|██████████| 8/8 [00:00<00:00, 35.34it/s]\n",
            "Epoch 3/5: 100%|██████████| 8/8 [00:00<00:00, 35.40it/s]\n",
            "Epoch 4/5: 100%|██████████| 8/8 [00:00<00:00, 35.42it/s]\n",
            "Epoch 5/5: 100%|██████████| 8/8 [00:00<00:00, 35.36it/s]\n"
          ]
        },
        {
          "name": "stdout",
          "output_type": "stream",
          "text": [
            "Training shard 2/5, slice 19/20\n"
          ]
        },
        {
          "name": "stderr",
          "output_type": "stream",
          "text": [
            "Epoch 1/5: 100%|██████████| 8/8 [00:00<00:00, 34.24it/s]\n",
            "Epoch 2/5: 100%|██████████| 8/8 [00:00<00:00, 35.55it/s]\n",
            "Epoch 3/5: 100%|██████████| 8/8 [00:00<00:00, 35.31it/s]\n",
            "Epoch 4/5: 100%|██████████| 8/8 [00:00<00:00, 35.69it/s]\n",
            "Epoch 5/5: 100%|██████████| 8/8 [00:00<00:00, 35.14it/s]\n"
          ]
        },
        {
          "name": "stdout",
          "output_type": "stream",
          "text": [
            "Training shard 2/5, slice 20/20\n"
          ]
        },
        {
          "name": "stderr",
          "output_type": "stream",
          "text": [
            "Epoch 1/5: 100%|██████████| 8/8 [00:00<00:00, 33.94it/s]\n",
            "Epoch 2/5: 100%|██████████| 8/8 [00:00<00:00, 34.61it/s]\n",
            "Epoch 3/5: 100%|██████████| 8/8 [00:00<00:00, 34.94it/s]\n",
            "Epoch 4/5: 100%|██████████| 8/8 [00:00<00:00, 34.82it/s]\n",
            "Epoch 5/5: 100%|██████████| 8/8 [00:00<00:00, 35.25it/s]\n"
          ]
        },
        {
          "name": "stdout",
          "output_type": "stream",
          "text": [
            "Training shard 3/5, slice 1/20\n"
          ]
        },
        {
          "name": "stderr",
          "output_type": "stream",
          "text": [
            "Epoch 1/5: 100%|██████████| 8/8 [00:00<00:00, 34.69it/s]\n",
            "Epoch 2/5: 100%|██████████| 8/8 [00:00<00:00, 35.42it/s]\n",
            "Epoch 3/5: 100%|██████████| 8/8 [00:00<00:00, 35.30it/s]\n",
            "Epoch 4/5: 100%|██████████| 8/8 [00:00<00:00, 35.53it/s]\n",
            "Epoch 5/5: 100%|██████████| 8/8 [00:00<00:00, 35.65it/s]\n"
          ]
        },
        {
          "name": "stdout",
          "output_type": "stream",
          "text": [
            "Training shard 3/5, slice 2/20\n"
          ]
        },
        {
          "name": "stderr",
          "output_type": "stream",
          "text": [
            "Epoch 1/5: 100%|██████████| 8/8 [00:00<00:00, 34.14it/s]\n",
            "Epoch 2/5: 100%|██████████| 8/8 [00:00<00:00, 35.49it/s]\n",
            "Epoch 3/5: 100%|██████████| 8/8 [00:00<00:00, 35.37it/s]\n",
            "Epoch 4/5: 100%|██████████| 8/8 [00:00<00:00, 35.38it/s]\n",
            "Epoch 5/5: 100%|██████████| 8/8 [00:00<00:00, 35.38it/s]\n"
          ]
        },
        {
          "name": "stdout",
          "output_type": "stream",
          "text": [
            "Training shard 3/5, slice 3/20\n"
          ]
        },
        {
          "name": "stderr",
          "output_type": "stream",
          "text": [
            "Epoch 1/5: 100%|██████████| 8/8 [00:00<00:00, 35.00it/s]\n",
            "Epoch 2/5: 100%|██████████| 8/8 [00:00<00:00, 35.28it/s]\n",
            "Epoch 3/5: 100%|██████████| 8/8 [00:00<00:00, 35.27it/s]\n",
            "Epoch 4/5: 100%|██████████| 8/8 [00:00<00:00, 35.14it/s]\n",
            "Epoch 5/5: 100%|██████████| 8/8 [00:00<00:00, 35.21it/s]\n"
          ]
        },
        {
          "name": "stdout",
          "output_type": "stream",
          "text": [
            "Training shard 3/5, slice 4/20\n"
          ]
        },
        {
          "name": "stderr",
          "output_type": "stream",
          "text": [
            "Epoch 1/5: 100%|██████████| 8/8 [00:00<00:00, 33.99it/s]\n",
            "Epoch 2/5: 100%|██████████| 8/8 [00:00<00:00, 34.85it/s]\n",
            "Epoch 3/5: 100%|██████████| 8/8 [00:00<00:00, 35.07it/s]\n",
            "Epoch 4/5: 100%|██████████| 8/8 [00:00<00:00, 35.30it/s]\n",
            "Epoch 5/5: 100%|██████████| 8/8 [00:00<00:00, 35.56it/s]\n"
          ]
        },
        {
          "name": "stdout",
          "output_type": "stream",
          "text": [
            "Training shard 3/5, slice 5/20\n"
          ]
        },
        {
          "name": "stderr",
          "output_type": "stream",
          "text": [
            "Epoch 1/5: 100%|██████████| 8/8 [00:00<00:00, 34.89it/s]\n",
            "Epoch 2/5: 100%|██████████| 8/8 [00:00<00:00, 35.53it/s]\n",
            "Epoch 3/5: 100%|██████████| 8/8 [00:00<00:00, 35.58it/s]\n",
            "Epoch 4/5: 100%|██████████| 8/8 [00:00<00:00, 35.12it/s]\n",
            "Epoch 5/5: 100%|██████████| 8/8 [00:00<00:00, 35.64it/s]\n"
          ]
        },
        {
          "name": "stdout",
          "output_type": "stream",
          "text": [
            "Training shard 3/5, slice 6/20\n"
          ]
        },
        {
          "name": "stderr",
          "output_type": "stream",
          "text": [
            "Epoch 1/5: 100%|██████████| 8/8 [00:00<00:00, 34.58it/s]\n",
            "Epoch 2/5: 100%|██████████| 8/8 [00:00<00:00, 35.63it/s]\n",
            "Epoch 3/5: 100%|██████████| 8/8 [00:00<00:00, 35.60it/s]\n",
            "Epoch 4/5: 100%|██████████| 8/8 [00:00<00:00, 35.70it/s]\n",
            "Epoch 5/5: 100%|██████████| 8/8 [00:00<00:00, 35.51it/s]\n"
          ]
        },
        {
          "name": "stdout",
          "output_type": "stream",
          "text": [
            "Training shard 3/5, slice 7/20\n"
          ]
        },
        {
          "name": "stderr",
          "output_type": "stream",
          "text": [
            "Epoch 1/5: 100%|██████████| 8/8 [00:00<00:00, 34.19it/s]\n",
            "Epoch 2/5: 100%|██████████| 8/8 [00:00<00:00, 35.60it/s]\n",
            "Epoch 3/5: 100%|██████████| 8/8 [00:00<00:00, 35.49it/s]\n",
            "Epoch 4/5: 100%|██████████| 8/8 [00:00<00:00, 35.60it/s]\n",
            "Epoch 5/5: 100%|██████████| 8/8 [00:00<00:00, 35.61it/s]\n"
          ]
        },
        {
          "name": "stdout",
          "output_type": "stream",
          "text": [
            "Training shard 3/5, slice 8/20\n"
          ]
        },
        {
          "name": "stderr",
          "output_type": "stream",
          "text": [
            "Epoch 1/5: 100%|██████████| 8/8 [00:00<00:00, 34.66it/s]\n",
            "Epoch 2/5: 100%|██████████| 8/8 [00:00<00:00, 35.44it/s]\n",
            "Epoch 3/5: 100%|██████████| 8/8 [00:00<00:00, 35.52it/s]\n",
            "Epoch 4/5: 100%|██████████| 8/8 [00:00<00:00, 35.57it/s]\n",
            "Epoch 5/5: 100%|██████████| 8/8 [00:00<00:00, 35.67it/s]\n"
          ]
        },
        {
          "name": "stdout",
          "output_type": "stream",
          "text": [
            "Training shard 3/5, slice 9/20\n"
          ]
        },
        {
          "name": "stderr",
          "output_type": "stream",
          "text": [
            "Epoch 1/5: 100%|██████████| 8/8 [00:00<00:00, 34.66it/s]\n",
            "Epoch 2/5: 100%|██████████| 8/8 [00:00<00:00, 35.59it/s]\n",
            "Epoch 3/5: 100%|██████████| 8/8 [00:00<00:00, 35.29it/s]\n",
            "Epoch 4/5: 100%|██████████| 8/8 [00:00<00:00, 35.31it/s]\n",
            "Epoch 5/5: 100%|██████████| 8/8 [00:00<00:00, 35.22it/s]\n"
          ]
        },
        {
          "name": "stdout",
          "output_type": "stream",
          "text": [
            "Training shard 3/5, slice 10/20\n"
          ]
        },
        {
          "name": "stderr",
          "output_type": "stream",
          "text": [
            "Epoch 1/5: 100%|██████████| 8/8 [00:00<00:00, 34.52it/s]\n",
            "Epoch 2/5: 100%|██████████| 8/8 [00:00<00:00, 35.37it/s]\n",
            "Epoch 3/5: 100%|██████████| 8/8 [00:00<00:00, 35.65it/s]\n",
            "Epoch 4/5: 100%|██████████| 8/8 [00:00<00:00, 35.19it/s]\n",
            "Epoch 5/5: 100%|██████████| 8/8 [00:00<00:00, 35.40it/s]\n"
          ]
        },
        {
          "name": "stdout",
          "output_type": "stream",
          "text": [
            "Training shard 3/5, slice 11/20\n"
          ]
        },
        {
          "name": "stderr",
          "output_type": "stream",
          "text": [
            "Epoch 1/5: 100%|██████████| 8/8 [00:00<00:00, 34.80it/s]\n",
            "Epoch 2/5: 100%|██████████| 8/8 [00:00<00:00, 35.53it/s]\n",
            "Epoch 3/5: 100%|██████████| 8/8 [00:00<00:00, 35.52it/s]\n",
            "Epoch 4/5: 100%|██████████| 8/8 [00:00<00:00, 35.57it/s]\n",
            "Epoch 5/5: 100%|██████████| 8/8 [00:00<00:00, 35.45it/s]\n"
          ]
        },
        {
          "name": "stdout",
          "output_type": "stream",
          "text": [
            "Training shard 3/5, slice 12/20\n"
          ]
        },
        {
          "name": "stderr",
          "output_type": "stream",
          "text": [
            "Epoch 1/5: 100%|██████████| 8/8 [00:00<00:00, 34.42it/s]\n",
            "Epoch 2/5: 100%|██████████| 8/8 [00:00<00:00, 35.16it/s]\n",
            "Epoch 3/5: 100%|██████████| 8/8 [00:00<00:00, 35.45it/s]\n",
            "Epoch 4/5: 100%|██████████| 8/8 [00:00<00:00, 35.27it/s]\n",
            "Epoch 5/5: 100%|██████████| 8/8 [00:00<00:00, 35.40it/s]\n"
          ]
        },
        {
          "name": "stdout",
          "output_type": "stream",
          "text": [
            "Training shard 3/5, slice 13/20\n"
          ]
        },
        {
          "name": "stderr",
          "output_type": "stream",
          "text": [
            "Epoch 1/5: 100%|██████████| 8/8 [00:00<00:00, 34.31it/s]\n",
            "Epoch 2/5: 100%|██████████| 8/8 [00:00<00:00, 35.51it/s]\n",
            "Epoch 3/5: 100%|██████████| 8/8 [00:00<00:00, 35.19it/s]\n",
            "Epoch 4/5: 100%|██████████| 8/8 [00:00<00:00, 35.06it/s]\n",
            "Epoch 5/5: 100%|██████████| 8/8 [00:00<00:00, 34.88it/s]\n"
          ]
        },
        {
          "name": "stdout",
          "output_type": "stream",
          "text": [
            "Training shard 3/5, slice 14/20\n"
          ]
        },
        {
          "name": "stderr",
          "output_type": "stream",
          "text": [
            "Epoch 1/5: 100%|██████████| 8/8 [00:00<00:00, 33.70it/s]\n",
            "Epoch 2/5: 100%|██████████| 8/8 [00:00<00:00, 34.80it/s]\n",
            "Epoch 3/5: 100%|██████████| 8/8 [00:00<00:00, 35.53it/s]\n",
            "Epoch 4/5: 100%|██████████| 8/8 [00:00<00:00, 35.43it/s]\n",
            "Epoch 5/5: 100%|██████████| 8/8 [00:00<00:00, 35.27it/s]\n"
          ]
        },
        {
          "name": "stdout",
          "output_type": "stream",
          "text": [
            "Training shard 3/5, slice 15/20\n"
          ]
        },
        {
          "name": "stderr",
          "output_type": "stream",
          "text": [
            "Epoch 1/5: 100%|██████████| 8/8 [00:00<00:00, 34.10it/s]\n",
            "Epoch 2/5: 100%|██████████| 8/8 [00:00<00:00, 35.18it/s]\n",
            "Epoch 3/5: 100%|██████████| 8/8 [00:00<00:00, 35.50it/s]\n",
            "Epoch 4/5: 100%|██████████| 8/8 [00:00<00:00, 35.14it/s]\n",
            "Epoch 5/5: 100%|██████████| 8/8 [00:00<00:00, 35.43it/s]\n"
          ]
        },
        {
          "name": "stdout",
          "output_type": "stream",
          "text": [
            "Training shard 3/5, slice 16/20\n"
          ]
        },
        {
          "name": "stderr",
          "output_type": "stream",
          "text": [
            "Epoch 1/5: 100%|██████████| 8/8 [00:00<00:00, 34.74it/s]\n",
            "Epoch 2/5: 100%|██████████| 8/8 [00:00<00:00, 35.40it/s]\n",
            "Epoch 3/5: 100%|██████████| 8/8 [00:00<00:00, 35.30it/s]\n",
            "Epoch 4/5: 100%|██████████| 8/8 [00:00<00:00, 35.50it/s]\n",
            "Epoch 5/5: 100%|██████████| 8/8 [00:00<00:00, 35.34it/s]\n"
          ]
        },
        {
          "name": "stdout",
          "output_type": "stream",
          "text": [
            "Training shard 3/5, slice 17/20\n"
          ]
        },
        {
          "name": "stderr",
          "output_type": "stream",
          "text": [
            "Epoch 1/5: 100%|██████████| 8/8 [00:00<00:00, 34.27it/s]\n",
            "Epoch 2/5: 100%|██████████| 8/8 [00:00<00:00, 34.80it/s]\n",
            "Epoch 3/5: 100%|██████████| 8/8 [00:00<00:00, 34.61it/s]\n",
            "Epoch 4/5: 100%|██████████| 8/8 [00:00<00:00, 34.95it/s]\n",
            "Epoch 5/5: 100%|██████████| 8/8 [00:00<00:00, 34.86it/s]\n"
          ]
        },
        {
          "name": "stdout",
          "output_type": "stream",
          "text": [
            "Training shard 3/5, slice 18/20\n"
          ]
        },
        {
          "name": "stderr",
          "output_type": "stream",
          "text": [
            "Epoch 1/5: 100%|██████████| 8/8 [00:00<00:00, 33.54it/s]\n",
            "Epoch 2/5: 100%|██████████| 8/8 [00:00<00:00, 34.97it/s]\n",
            "Epoch 3/5: 100%|██████████| 8/8 [00:00<00:00, 35.11it/s]\n",
            "Epoch 4/5: 100%|██████████| 8/8 [00:00<00:00, 35.13it/s]\n",
            "Epoch 5/5: 100%|██████████| 8/8 [00:00<00:00, 35.38it/s]\n"
          ]
        },
        {
          "name": "stdout",
          "output_type": "stream",
          "text": [
            "Training shard 3/5, slice 19/20\n"
          ]
        },
        {
          "name": "stderr",
          "output_type": "stream",
          "text": [
            "Epoch 1/5: 100%|██████████| 8/8 [00:00<00:00, 34.55it/s]\n",
            "Epoch 2/5: 100%|██████████| 8/8 [00:00<00:00, 35.09it/s]\n",
            "Epoch 3/5: 100%|██████████| 8/8 [00:00<00:00, 35.25it/s]\n",
            "Epoch 4/5: 100%|██████████| 8/8 [00:00<00:00, 35.02it/s]\n",
            "Epoch 5/5: 100%|██████████| 8/8 [00:00<00:00, 34.78it/s]\n"
          ]
        },
        {
          "name": "stdout",
          "output_type": "stream",
          "text": [
            "Training shard 3/5, slice 20/20\n"
          ]
        },
        {
          "name": "stderr",
          "output_type": "stream",
          "text": [
            "Epoch 1/5: 100%|██████████| 8/8 [00:00<00:00, 33.93it/s]\n",
            "Epoch 2/5: 100%|██████████| 8/8 [00:00<00:00, 34.62it/s]\n",
            "Epoch 3/5: 100%|██████████| 8/8 [00:00<00:00, 34.83it/s]\n",
            "Epoch 4/5: 100%|██████████| 8/8 [00:00<00:00, 34.78it/s]\n",
            "Epoch 5/5: 100%|██████████| 8/8 [00:00<00:00, 35.47it/s]\n"
          ]
        },
        {
          "name": "stdout",
          "output_type": "stream",
          "text": [
            "Training shard 4/5, slice 1/20\n"
          ]
        },
        {
          "name": "stderr",
          "output_type": "stream",
          "text": [
            "Epoch 1/5: 100%|██████████| 8/8 [00:00<00:00, 34.55it/s]\n",
            "Epoch 2/5: 100%|██████████| 8/8 [00:00<00:00, 35.26it/s]\n",
            "Epoch 3/5: 100%|██████████| 8/8 [00:00<00:00, 35.44it/s]\n",
            "Epoch 4/5: 100%|██████████| 8/8 [00:00<00:00, 35.53it/s]\n",
            "Epoch 5/5: 100%|██████████| 8/8 [00:00<00:00, 35.27it/s]\n"
          ]
        },
        {
          "name": "stdout",
          "output_type": "stream",
          "text": [
            "Training shard 4/5, slice 2/20\n"
          ]
        },
        {
          "name": "stderr",
          "output_type": "stream",
          "text": [
            "Epoch 1/5: 100%|██████████| 8/8 [00:00<00:00, 34.63it/s]\n",
            "Epoch 2/5: 100%|██████████| 8/8 [00:00<00:00, 35.54it/s]\n",
            "Epoch 3/5: 100%|██████████| 8/8 [00:00<00:00, 35.44it/s]\n",
            "Epoch 4/5: 100%|██████████| 8/8 [00:00<00:00, 35.52it/s]\n",
            "Epoch 5/5: 100%|██████████| 8/8 [00:00<00:00, 35.67it/s]\n"
          ]
        },
        {
          "name": "stdout",
          "output_type": "stream",
          "text": [
            "Training shard 4/5, slice 3/20\n"
          ]
        },
        {
          "name": "stderr",
          "output_type": "stream",
          "text": [
            "Epoch 1/5: 100%|██████████| 8/8 [00:00<00:00, 34.30it/s]\n",
            "Epoch 2/5: 100%|██████████| 8/8 [00:00<00:00, 35.24it/s]\n",
            "Epoch 3/5: 100%|██████████| 8/8 [00:00<00:00, 35.47it/s]\n",
            "Epoch 4/5: 100%|██████████| 8/8 [00:00<00:00, 35.46it/s]\n",
            "Epoch 5/5: 100%|██████████| 8/8 [00:00<00:00, 35.33it/s]\n"
          ]
        },
        {
          "name": "stdout",
          "output_type": "stream",
          "text": [
            "Training shard 4/5, slice 4/20\n"
          ]
        },
        {
          "name": "stderr",
          "output_type": "stream",
          "text": [
            "Epoch 1/5: 100%|██████████| 8/8 [00:00<00:00, 34.67it/s]\n",
            "Epoch 2/5: 100%|██████████| 8/8 [00:00<00:00, 35.28it/s]\n",
            "Epoch 3/5: 100%|██████████| 8/8 [00:00<00:00, 34.95it/s]\n",
            "Epoch 4/5: 100%|██████████| 8/8 [00:00<00:00, 35.23it/s]\n",
            "Epoch 5/5: 100%|██████████| 8/8 [00:00<00:00, 35.51it/s]\n"
          ]
        },
        {
          "name": "stdout",
          "output_type": "stream",
          "text": [
            "Training shard 4/5, slice 5/20\n"
          ]
        },
        {
          "name": "stderr",
          "output_type": "stream",
          "text": [
            "Epoch 1/5: 100%|██████████| 8/8 [00:00<00:00, 34.64it/s]\n",
            "Epoch 2/5: 100%|██████████| 8/8 [00:00<00:00, 35.60it/s]\n",
            "Epoch 3/5: 100%|██████████| 8/8 [00:00<00:00, 35.46it/s]\n",
            "Epoch 4/5: 100%|██████████| 8/8 [00:00<00:00, 35.14it/s]\n",
            "Epoch 5/5: 100%|██████████| 8/8 [00:00<00:00, 35.56it/s]\n"
          ]
        },
        {
          "name": "stdout",
          "output_type": "stream",
          "text": [
            "Training shard 4/5, slice 6/20\n"
          ]
        },
        {
          "name": "stderr",
          "output_type": "stream",
          "text": [
            "Epoch 1/5: 100%|██████████| 8/8 [00:00<00:00, 34.65it/s]\n",
            "Epoch 2/5: 100%|██████████| 8/8 [00:00<00:00, 35.47it/s]\n",
            "Epoch 3/5: 100%|██████████| 8/8 [00:00<00:00, 35.53it/s]\n",
            "Epoch 4/5: 100%|██████████| 8/8 [00:00<00:00, 35.57it/s]\n",
            "Epoch 5/5: 100%|██████████| 8/8 [00:00<00:00, 35.19it/s]\n"
          ]
        },
        {
          "name": "stdout",
          "output_type": "stream",
          "text": [
            "Training shard 4/5, slice 7/20\n"
          ]
        },
        {
          "name": "stderr",
          "output_type": "stream",
          "text": [
            "Epoch 1/5: 100%|██████████| 8/8 [00:00<00:00, 34.27it/s]\n",
            "Epoch 2/5: 100%|██████████| 8/8 [00:00<00:00, 35.40it/s]\n",
            "Epoch 3/5: 100%|██████████| 8/8 [00:00<00:00, 35.53it/s]\n",
            "Epoch 4/5: 100%|██████████| 8/8 [00:00<00:00, 35.60it/s]\n",
            "Epoch 5/5: 100%|██████████| 8/8 [00:00<00:00, 35.59it/s]\n"
          ]
        },
        {
          "name": "stdout",
          "output_type": "stream",
          "text": [
            "Training shard 4/5, slice 8/20\n"
          ]
        },
        {
          "name": "stderr",
          "output_type": "stream",
          "text": [
            "Epoch 1/5: 100%|██████████| 8/8 [00:00<00:00, 34.17it/s]\n",
            "Epoch 2/5: 100%|██████████| 8/8 [00:00<00:00, 35.24it/s]\n",
            "Epoch 3/5: 100%|██████████| 8/8 [00:00<00:00, 35.41it/s]\n",
            "Epoch 4/5: 100%|██████████| 8/8 [00:00<00:00, 35.57it/s]\n",
            "Epoch 5/5: 100%|██████████| 8/8 [00:00<00:00, 35.40it/s]\n"
          ]
        },
        {
          "name": "stdout",
          "output_type": "stream",
          "text": [
            "Training shard 4/5, slice 9/20\n"
          ]
        },
        {
          "name": "stderr",
          "output_type": "stream",
          "text": [
            "Epoch 1/5: 100%|██████████| 8/8 [00:00<00:00, 34.74it/s]\n",
            "Epoch 2/5: 100%|██████████| 8/8 [00:00<00:00, 35.31it/s]\n",
            "Epoch 3/5: 100%|██████████| 8/8 [00:00<00:00, 35.52it/s]\n",
            "Epoch 4/5: 100%|██████████| 8/8 [00:00<00:00, 35.36it/s]\n",
            "Epoch 5/5: 100%|██████████| 8/8 [00:00<00:00, 35.49it/s]\n"
          ]
        },
        {
          "name": "stdout",
          "output_type": "stream",
          "text": [
            "Training shard 4/5, slice 10/20\n"
          ]
        },
        {
          "name": "stderr",
          "output_type": "stream",
          "text": [
            "Epoch 1/5: 100%|██████████| 8/8 [00:00<00:00, 34.65it/s]\n",
            "Epoch 2/5: 100%|██████████| 8/8 [00:00<00:00, 35.43it/s]\n",
            "Epoch 3/5: 100%|██████████| 8/8 [00:00<00:00, 35.02it/s]\n",
            "Epoch 4/5: 100%|██████████| 8/8 [00:00<00:00, 35.01it/s]\n",
            "Epoch 5/5: 100%|██████████| 8/8 [00:00<00:00, 35.53it/s]\n"
          ]
        },
        {
          "name": "stdout",
          "output_type": "stream",
          "text": [
            "Training shard 4/5, slice 11/20\n"
          ]
        },
        {
          "name": "stderr",
          "output_type": "stream",
          "text": [
            "Epoch 1/5: 100%|██████████| 8/8 [00:00<00:00, 34.58it/s]\n",
            "Epoch 2/5: 100%|██████████| 8/8 [00:00<00:00, 35.67it/s]\n",
            "Epoch 3/5: 100%|██████████| 8/8 [00:00<00:00, 35.55it/s]\n",
            "Epoch 4/5: 100%|██████████| 8/8 [00:00<00:00, 35.55it/s]\n",
            "Epoch 5/5: 100%|██████████| 8/8 [00:00<00:00, 35.09it/s]\n"
          ]
        },
        {
          "name": "stdout",
          "output_type": "stream",
          "text": [
            "Training shard 4/5, slice 12/20\n"
          ]
        },
        {
          "name": "stderr",
          "output_type": "stream",
          "text": [
            "Epoch 1/5: 100%|██████████| 8/8 [00:00<00:00, 33.92it/s]\n",
            "Epoch 2/5: 100%|██████████| 8/8 [00:00<00:00, 35.17it/s]\n",
            "Epoch 3/5: 100%|██████████| 8/8 [00:00<00:00, 35.46it/s]\n",
            "Epoch 4/5: 100%|██████████| 8/8 [00:00<00:00, 35.59it/s]\n",
            "Epoch 5/5: 100%|██████████| 8/8 [00:00<00:00, 35.56it/s]\n"
          ]
        },
        {
          "name": "stdout",
          "output_type": "stream",
          "text": [
            "Training shard 4/5, slice 13/20\n"
          ]
        },
        {
          "name": "stderr",
          "output_type": "stream",
          "text": [
            "Epoch 1/5: 100%|██████████| 8/8 [00:00<00:00, 34.21it/s]\n",
            "Epoch 2/5: 100%|██████████| 8/8 [00:00<00:00, 35.26it/s]\n",
            "Epoch 3/5: 100%|██████████| 8/8 [00:00<00:00, 35.32it/s]\n",
            "Epoch 4/5: 100%|██████████| 8/8 [00:00<00:00, 35.58it/s]\n",
            "Epoch 5/5: 100%|██████████| 8/8 [00:00<00:00, 35.30it/s]\n"
          ]
        },
        {
          "name": "stdout",
          "output_type": "stream",
          "text": [
            "Training shard 4/5, slice 14/20\n"
          ]
        },
        {
          "name": "stderr",
          "output_type": "stream",
          "text": [
            "Epoch 1/5: 100%|██████████| 8/8 [00:00<00:00, 34.33it/s]\n",
            "Epoch 2/5: 100%|██████████| 8/8 [00:00<00:00, 35.16it/s]\n",
            "Epoch 3/5: 100%|██████████| 8/8 [00:00<00:00, 34.82it/s]\n",
            "Epoch 4/5: 100%|██████████| 8/8 [00:00<00:00, 34.89it/s]\n",
            "Epoch 5/5: 100%|██████████| 8/8 [00:00<00:00, 34.81it/s]\n"
          ]
        },
        {
          "name": "stdout",
          "output_type": "stream",
          "text": [
            "Training shard 4/5, slice 15/20\n"
          ]
        },
        {
          "name": "stderr",
          "output_type": "stream",
          "text": [
            "Epoch 1/5: 100%|██████████| 8/8 [00:00<00:00, 34.12it/s]\n",
            "Epoch 2/5: 100%|██████████| 8/8 [00:00<00:00, 34.89it/s]\n",
            "Epoch 3/5: 100%|██████████| 8/8 [00:00<00:00, 34.87it/s]\n",
            "Epoch 4/5: 100%|██████████| 8/8 [00:00<00:00, 34.97it/s]\n",
            "Epoch 5/5: 100%|██████████| 8/8 [00:00<00:00, 35.62it/s]\n"
          ]
        },
        {
          "name": "stdout",
          "output_type": "stream",
          "text": [
            "Training shard 4/5, slice 16/20\n"
          ]
        },
        {
          "name": "stderr",
          "output_type": "stream",
          "text": [
            "Epoch 1/5: 100%|██████████| 8/8 [00:00<00:00, 34.48it/s]\n",
            "Epoch 2/5: 100%|██████████| 8/8 [00:00<00:00, 35.33it/s]\n",
            "Epoch 3/5: 100%|██████████| 8/8 [00:00<00:00, 35.55it/s]\n",
            "Epoch 4/5: 100%|██████████| 8/8 [00:00<00:00, 35.37it/s]\n",
            "Epoch 5/5: 100%|██████████| 8/8 [00:00<00:00, 35.18it/s]\n"
          ]
        },
        {
          "name": "stdout",
          "output_type": "stream",
          "text": [
            "Training shard 4/5, slice 17/20\n"
          ]
        },
        {
          "name": "stderr",
          "output_type": "stream",
          "text": [
            "Epoch 1/5: 100%|██████████| 8/8 [00:00<00:00, 34.55it/s]\n",
            "Epoch 2/5: 100%|██████████| 8/8 [00:00<00:00, 35.43it/s]\n",
            "Epoch 3/5: 100%|██████████| 8/8 [00:00<00:00, 35.33it/s]\n",
            "Epoch 4/5: 100%|██████████| 8/8 [00:00<00:00, 35.40it/s]\n",
            "Epoch 5/5: 100%|██████████| 8/8 [00:00<00:00, 35.33it/s]\n"
          ]
        },
        {
          "name": "stdout",
          "output_type": "stream",
          "text": [
            "Training shard 4/5, slice 18/20\n"
          ]
        },
        {
          "name": "stderr",
          "output_type": "stream",
          "text": [
            "Epoch 1/5: 100%|██████████| 8/8 [00:00<00:00, 34.24it/s]\n",
            "Epoch 2/5: 100%|██████████| 8/8 [00:00<00:00, 34.88it/s]\n",
            "Epoch 3/5: 100%|██████████| 8/8 [00:00<00:00, 34.87it/s]\n",
            "Epoch 4/5: 100%|██████████| 8/8 [00:00<00:00, 34.84it/s]\n",
            "Epoch 5/5: 100%|██████████| 8/8 [00:00<00:00, 34.84it/s]\n"
          ]
        },
        {
          "name": "stdout",
          "output_type": "stream",
          "text": [
            "Training shard 4/5, slice 19/20\n"
          ]
        },
        {
          "name": "stderr",
          "output_type": "stream",
          "text": [
            "Epoch 1/5: 100%|██████████| 8/8 [00:00<00:00, 33.93it/s]\n",
            "Epoch 2/5: 100%|██████████| 8/8 [00:00<00:00, 34.85it/s]\n",
            "Epoch 3/5: 100%|██████████| 8/8 [00:00<00:00, 34.90it/s]\n",
            "Epoch 4/5: 100%|██████████| 8/8 [00:00<00:00, 35.17it/s]\n",
            "Epoch 5/5: 100%|██████████| 8/8 [00:00<00:00, 34.99it/s]\n"
          ]
        },
        {
          "name": "stdout",
          "output_type": "stream",
          "text": [
            "Training shard 4/5, slice 20/20\n"
          ]
        },
        {
          "name": "stderr",
          "output_type": "stream",
          "text": [
            "Epoch 1/5: 100%|██████████| 8/8 [00:00<00:00, 34.35it/s]\n",
            "Epoch 2/5: 100%|██████████| 8/8 [00:00<00:00, 35.25it/s]\n",
            "Epoch 3/5: 100%|██████████| 8/8 [00:00<00:00, 35.17it/s]\n",
            "Epoch 4/5: 100%|██████████| 8/8 [00:00<00:00, 35.53it/s]\n",
            "Epoch 5/5: 100%|██████████| 8/8 [00:00<00:00, 35.56it/s]\n"
          ]
        },
        {
          "name": "stdout",
          "output_type": "stream",
          "text": [
            "Training shard 5/5, slice 1/20\n"
          ]
        },
        {
          "name": "stderr",
          "output_type": "stream",
          "text": [
            "Epoch 1/5: 100%|██████████| 8/8 [00:00<00:00, 34.62it/s]\n",
            "Epoch 2/5: 100%|██████████| 8/8 [00:00<00:00, 35.53it/s]\n",
            "Epoch 3/5: 100%|██████████| 8/8 [00:00<00:00, 35.55it/s]\n",
            "Epoch 4/5: 100%|██████████| 8/8 [00:00<00:00, 35.30it/s]\n",
            "Epoch 5/5: 100%|██████████| 8/8 [00:00<00:00, 35.44it/s]\n"
          ]
        },
        {
          "name": "stdout",
          "output_type": "stream",
          "text": [
            "Training shard 5/5, slice 2/20\n"
          ]
        },
        {
          "name": "stderr",
          "output_type": "stream",
          "text": [
            "Epoch 1/5: 100%|██████████| 8/8 [00:00<00:00, 34.35it/s]\n",
            "Epoch 2/5: 100%|██████████| 8/8 [00:00<00:00, 35.56it/s]\n",
            "Epoch 3/5: 100%|██████████| 8/8 [00:00<00:00, 35.60it/s]\n",
            "Epoch 4/5: 100%|██████████| 8/8 [00:00<00:00, 35.42it/s]\n",
            "Epoch 5/5: 100%|██████████| 8/8 [00:00<00:00, 35.13it/s]\n"
          ]
        },
        {
          "name": "stdout",
          "output_type": "stream",
          "text": [
            "Training shard 5/5, slice 3/20\n"
          ]
        },
        {
          "name": "stderr",
          "output_type": "stream",
          "text": [
            "Epoch 1/5: 100%|██████████| 8/8 [00:00<00:00, 34.22it/s]\n",
            "Epoch 2/5: 100%|██████████| 8/8 [00:00<00:00, 35.21it/s]\n",
            "Epoch 3/5: 100%|██████████| 8/8 [00:00<00:00, 35.21it/s]\n",
            "Epoch 4/5: 100%|██████████| 8/8 [00:00<00:00, 35.34it/s]\n",
            "Epoch 5/5: 100%|██████████| 8/8 [00:00<00:00, 35.30it/s]\n"
          ]
        },
        {
          "name": "stdout",
          "output_type": "stream",
          "text": [
            "Training shard 5/5, slice 4/20\n"
          ]
        },
        {
          "name": "stderr",
          "output_type": "stream",
          "text": [
            "Epoch 1/5: 100%|██████████| 8/8 [00:00<00:00, 34.21it/s]\n",
            "Epoch 2/5: 100%|██████████| 8/8 [00:00<00:00, 35.10it/s]\n",
            "Epoch 3/5: 100%|██████████| 8/8 [00:00<00:00, 35.50it/s]\n",
            "Epoch 4/5: 100%|██████████| 8/8 [00:00<00:00, 35.50it/s]\n",
            "Epoch 5/5: 100%|██████████| 8/8 [00:00<00:00, 35.37it/s]\n"
          ]
        },
        {
          "name": "stdout",
          "output_type": "stream",
          "text": [
            "Training shard 5/5, slice 5/20\n"
          ]
        },
        {
          "name": "stderr",
          "output_type": "stream",
          "text": [
            "Epoch 1/5: 100%|██████████| 8/8 [00:00<00:00, 34.54it/s]\n",
            "Epoch 2/5: 100%|██████████| 8/8 [00:00<00:00, 35.53it/s]\n",
            "Epoch 3/5: 100%|██████████| 8/8 [00:00<00:00, 35.16it/s]\n",
            "Epoch 4/5: 100%|██████████| 8/8 [00:00<00:00, 35.24it/s]\n",
            "Epoch 5/5: 100%|██████████| 8/8 [00:00<00:00, 35.06it/s]\n"
          ]
        },
        {
          "name": "stdout",
          "output_type": "stream",
          "text": [
            "Training shard 5/5, slice 6/20\n"
          ]
        },
        {
          "name": "stderr",
          "output_type": "stream",
          "text": [
            "Epoch 1/5: 100%|██████████| 8/8 [00:00<00:00, 33.84it/s]\n",
            "Epoch 2/5: 100%|██████████| 8/8 [00:00<00:00, 34.81it/s]\n",
            "Epoch 3/5: 100%|██████████| 8/8 [00:00<00:00, 34.51it/s]\n",
            "Epoch 4/5: 100%|██████████| 8/8 [00:00<00:00, 34.96it/s]\n",
            "Epoch 5/5: 100%|██████████| 8/8 [00:00<00:00, 35.36it/s]\n"
          ]
        },
        {
          "name": "stdout",
          "output_type": "stream",
          "text": [
            "Training shard 5/5, slice 7/20\n"
          ]
        },
        {
          "name": "stderr",
          "output_type": "stream",
          "text": [
            "Epoch 1/5: 100%|██████████| 8/8 [00:00<00:00, 34.53it/s]\n",
            "Epoch 2/5: 100%|██████████| 8/8 [00:00<00:00, 35.53it/s]\n",
            "Epoch 3/5: 100%|██████████| 8/8 [00:00<00:00, 35.54it/s]\n",
            "Epoch 4/5: 100%|██████████| 8/8 [00:00<00:00, 35.37it/s]\n",
            "Epoch 5/5: 100%|██████████| 8/8 [00:00<00:00, 35.05it/s]\n"
          ]
        },
        {
          "name": "stdout",
          "output_type": "stream",
          "text": [
            "Training shard 5/5, slice 8/20\n"
          ]
        },
        {
          "name": "stderr",
          "output_type": "stream",
          "text": [
            "Epoch 1/5: 100%|██████████| 8/8 [00:00<00:00, 33.99it/s]\n",
            "Epoch 2/5: 100%|██████████| 8/8 [00:00<00:00, 34.91it/s]\n",
            "Epoch 3/5: 100%|██████████| 8/8 [00:00<00:00, 35.02it/s]\n",
            "Epoch 4/5: 100%|██████████| 8/8 [00:00<00:00, 34.94it/s]\n",
            "Epoch 5/5: 100%|██████████| 8/8 [00:00<00:00, 34.86it/s]\n"
          ]
        },
        {
          "name": "stdout",
          "output_type": "stream",
          "text": [
            "Training shard 5/5, slice 9/20\n"
          ]
        },
        {
          "name": "stderr",
          "output_type": "stream",
          "text": [
            "Epoch 1/5: 100%|██████████| 8/8 [00:00<00:00, 33.88it/s]\n",
            "Epoch 2/5: 100%|██████████| 8/8 [00:00<00:00, 34.73it/s]\n",
            "Epoch 3/5: 100%|██████████| 8/8 [00:00<00:00, 35.05it/s]\n",
            "Epoch 4/5: 100%|██████████| 8/8 [00:00<00:00, 35.15it/s]\n",
            "Epoch 5/5: 100%|██████████| 8/8 [00:00<00:00, 35.43it/s]\n"
          ]
        },
        {
          "name": "stdout",
          "output_type": "stream",
          "text": [
            "Training shard 5/5, slice 10/20\n"
          ]
        },
        {
          "name": "stderr",
          "output_type": "stream",
          "text": [
            "Epoch 1/5: 100%|██████████| 8/8 [00:00<00:00, 34.30it/s]\n",
            "Epoch 2/5: 100%|██████████| 8/8 [00:00<00:00, 35.35it/s]\n",
            "Epoch 3/5: 100%|██████████| 8/8 [00:00<00:00, 35.20it/s]\n",
            "Epoch 4/5: 100%|██████████| 8/8 [00:00<00:00, 35.44it/s]\n",
            "Epoch 5/5: 100%|██████████| 8/8 [00:00<00:00, 35.56it/s]\n"
          ]
        },
        {
          "name": "stdout",
          "output_type": "stream",
          "text": [
            "Training shard 5/5, slice 11/20\n"
          ]
        },
        {
          "name": "stderr",
          "output_type": "stream",
          "text": [
            "Epoch 1/5: 100%|██████████| 8/8 [00:00<00:00, 34.37it/s]\n",
            "Epoch 2/5: 100%|██████████| 8/8 [00:00<00:00, 35.36it/s]\n",
            "Epoch 3/5: 100%|██████████| 8/8 [00:00<00:00, 35.15it/s]\n",
            "Epoch 4/5: 100%|██████████| 8/8 [00:00<00:00, 35.08it/s]\n",
            "Epoch 5/5: 100%|██████████| 8/8 [00:00<00:00, 35.57it/s]\n"
          ]
        },
        {
          "name": "stdout",
          "output_type": "stream",
          "text": [
            "Training shard 5/5, slice 12/20\n"
          ]
        },
        {
          "name": "stderr",
          "output_type": "stream",
          "text": [
            "Epoch 1/5: 100%|██████████| 8/8 [00:00<00:00, 34.30it/s]\n",
            "Epoch 2/5: 100%|██████████| 8/8 [00:00<00:00, 35.35it/s]\n",
            "Epoch 3/5: 100%|██████████| 8/8 [00:00<00:00, 35.43it/s]\n",
            "Epoch 4/5: 100%|██████████| 8/8 [00:00<00:00, 35.42it/s]\n",
            "Epoch 5/5: 100%|██████████| 8/8 [00:00<00:00, 34.99it/s]\n"
          ]
        },
        {
          "name": "stdout",
          "output_type": "stream",
          "text": [
            "Training shard 5/5, slice 13/20\n"
          ]
        },
        {
          "name": "stderr",
          "output_type": "stream",
          "text": [
            "Epoch 1/5: 100%|██████████| 8/8 [00:00<00:00, 34.53it/s]\n",
            "Epoch 2/5: 100%|██████████| 8/8 [00:00<00:00, 35.33it/s]\n",
            "Epoch 3/5: 100%|██████████| 8/8 [00:00<00:00, 35.47it/s]\n",
            "Epoch 4/5: 100%|██████████| 8/8 [00:00<00:00, 35.38it/s]\n",
            "Epoch 5/5: 100%|██████████| 8/8 [00:00<00:00, 35.56it/s]\n"
          ]
        },
        {
          "name": "stdout",
          "output_type": "stream",
          "text": [
            "Training shard 5/5, slice 14/20\n"
          ]
        },
        {
          "name": "stderr",
          "output_type": "stream",
          "text": [
            "Epoch 1/5: 100%|██████████| 8/8 [00:00<00:00, 33.65it/s]\n",
            "Epoch 2/5: 100%|██████████| 8/8 [00:00<00:00, 34.85it/s]\n",
            "Epoch 3/5: 100%|██████████| 8/8 [00:00<00:00, 35.21it/s]\n",
            "Epoch 4/5: 100%|██████████| 8/8 [00:00<00:00, 34.93it/s]\n",
            "Epoch 5/5: 100%|██████████| 8/8 [00:00<00:00, 34.89it/s]\n"
          ]
        },
        {
          "name": "stdout",
          "output_type": "stream",
          "text": [
            "Training shard 5/5, slice 15/20\n"
          ]
        },
        {
          "name": "stderr",
          "output_type": "stream",
          "text": [
            "Epoch 1/5: 100%|██████████| 8/8 [00:00<00:00, 34.16it/s]\n",
            "Epoch 2/5: 100%|██████████| 8/8 [00:00<00:00, 34.95it/s]\n",
            "Epoch 3/5: 100%|██████████| 8/8 [00:00<00:00, 34.97it/s]\n",
            "Epoch 4/5: 100%|██████████| 8/8 [00:00<00:00, 34.93it/s]\n",
            "Epoch 5/5: 100%|██████████| 8/8 [00:00<00:00, 35.23it/s]\n"
          ]
        },
        {
          "name": "stdout",
          "output_type": "stream",
          "text": [
            "Training shard 5/5, slice 16/20\n"
          ]
        },
        {
          "name": "stderr",
          "output_type": "stream",
          "text": [
            "Epoch 1/5: 100%|██████████| 8/8 [00:00<00:00, 33.85it/s]\n",
            "Epoch 2/5: 100%|██████████| 8/8 [00:00<00:00, 34.93it/s]\n",
            "Epoch 3/5: 100%|██████████| 8/8 [00:00<00:00, 34.75it/s]\n",
            "Epoch 4/5: 100%|██████████| 8/8 [00:00<00:00, 34.89it/s]\n",
            "Epoch 5/5: 100%|██████████| 8/8 [00:00<00:00, 35.24it/s]\n"
          ]
        },
        {
          "name": "stdout",
          "output_type": "stream",
          "text": [
            "Training shard 5/5, slice 17/20\n"
          ]
        },
        {
          "name": "stderr",
          "output_type": "stream",
          "text": [
            "Epoch 1/5: 100%|██████████| 8/8 [00:00<00:00, 34.29it/s]\n",
            "Epoch 2/5: 100%|██████████| 8/8 [00:00<00:00, 35.47it/s]\n",
            "Epoch 3/5: 100%|██████████| 8/8 [00:00<00:00, 35.41it/s]\n",
            "Epoch 4/5: 100%|██████████| 8/8 [00:00<00:00, 35.51it/s]\n",
            "Epoch 5/5: 100%|██████████| 8/8 [00:00<00:00, 35.35it/s]\n"
          ]
        },
        {
          "name": "stdout",
          "output_type": "stream",
          "text": [
            "Training shard 5/5, slice 18/20\n"
          ]
        },
        {
          "name": "stderr",
          "output_type": "stream",
          "text": [
            "Epoch 1/5: 100%|██████████| 8/8 [00:00<00:00, 34.61it/s]\n",
            "Epoch 2/5: 100%|██████████| 8/8 [00:00<00:00, 35.37it/s]\n",
            "Epoch 3/5: 100%|██████████| 8/8 [00:00<00:00, 35.28it/s]\n",
            "Epoch 4/5: 100%|██████████| 8/8 [00:00<00:00, 35.35it/s]\n",
            "Epoch 5/5: 100%|██████████| 8/8 [00:00<00:00, 35.50it/s]\n"
          ]
        },
        {
          "name": "stdout",
          "output_type": "stream",
          "text": [
            "Training shard 5/5, slice 19/20\n"
          ]
        },
        {
          "name": "stderr",
          "output_type": "stream",
          "text": [
            "Epoch 1/5: 100%|██████████| 8/8 [00:00<00:00, 34.49it/s]\n",
            "Epoch 2/5: 100%|██████████| 8/8 [00:00<00:00, 35.39it/s]\n",
            "Epoch 3/5: 100%|██████████| 8/8 [00:00<00:00, 35.33it/s]\n",
            "Epoch 4/5: 100%|██████████| 8/8 [00:00<00:00, 35.54it/s]\n",
            "Epoch 5/5: 100%|██████████| 8/8 [00:00<00:00, 35.54it/s]\n"
          ]
        },
        {
          "name": "stdout",
          "output_type": "stream",
          "text": [
            "Training shard 5/5, slice 20/20\n"
          ]
        },
        {
          "name": "stderr",
          "output_type": "stream",
          "text": [
            "Epoch 1/5: 100%|██████████| 8/8 [00:00<00:00, 34.54it/s]\n",
            "Epoch 2/5: 100%|██████████| 8/8 [00:00<00:00, 35.16it/s]\n",
            "Epoch 3/5: 100%|██████████| 8/8 [00:00<00:00, 35.56it/s]\n",
            "Epoch 4/5: 100%|██████████| 8/8 [00:00<00:00, 35.52it/s]\n",
            "Epoch 5/5: 100%|██████████| 8/8 [00:00<00:00, 35.67it/s]\n",
            "Evaluating model: Shard 1/5, slice 1/20: 100%|██████████| 157/157 [00:02<00:00, 53.58it/s]\n",
            "Evaluating model: Shard 1/5, slice 2/20: 100%|██████████| 157/157 [00:02<00:00, 53.68it/s]\n",
            "Evaluating model: Shard 1/5, slice 3/20: 100%|██████████| 157/157 [00:02<00:00, 53.67it/s]\n",
            "Evaluating model: Shard 1/5, slice 4/20: 100%|██████████| 157/157 [00:02<00:00, 53.68it/s]\n",
            "Evaluating model: Shard 1/5, slice 5/20: 100%|██████████| 157/157 [00:02<00:00, 53.64it/s]\n",
            "Evaluating model: Shard 1/5, slice 6/20: 100%|██████████| 157/157 [00:02<00:00, 53.66it/s]\n",
            "Evaluating model: Shard 1/5, slice 7/20: 100%|██████████| 157/157 [00:02<00:00, 53.67it/s]\n",
            "Evaluating model: Shard 1/5, slice 8/20: 100%|██████████| 157/157 [00:02<00:00, 53.67it/s]\n",
            "Evaluating model: Shard 1/5, slice 9/20: 100%|██████████| 157/157 [00:02<00:00, 53.67it/s]\n",
            "Evaluating model: Shard 1/5, slice 10/20: 100%|██████████| 157/157 [00:02<00:00, 53.69it/s]\n",
            "Evaluating model: Shard 1/5, slice 11/20: 100%|██████████| 157/157 [00:02<00:00, 53.76it/s]\n",
            "Evaluating model: Shard 1/5, slice 12/20: 100%|██████████| 157/157 [00:02<00:00, 53.68it/s]\n",
            "Evaluating model: Shard 1/5, slice 13/20: 100%|██████████| 157/157 [00:02<00:00, 53.69it/s]\n",
            "Evaluating model: Shard 1/5, slice 14/20: 100%|██████████| 157/157 [00:02<00:00, 53.66it/s]\n",
            "Evaluating model: Shard 1/5, slice 15/20: 100%|██████████| 157/157 [00:02<00:00, 53.71it/s]\n",
            "Evaluating model: Shard 1/5, slice 16/20: 100%|██████████| 157/157 [00:02<00:00, 53.70it/s]\n",
            "Evaluating model: Shard 1/5, slice 17/20: 100%|██████████| 157/157 [00:02<00:00, 53.71it/s]\n",
            "Evaluating model: Shard 1/5, slice 18/20: 100%|██████████| 157/157 [00:02<00:00, 53.70it/s]\n",
            "Evaluating model: Shard 1/5, slice 19/20: 100%|██████████| 157/157 [00:02<00:00, 53.72it/s]\n",
            "Evaluating model: Shard 1/5, slice 20/20: 100%|██████████| 157/157 [00:02<00:00, 53.70it/s]\n",
            "Evaluating model: Shard 2/5, slice 1/20: 100%|██████████| 157/157 [00:02<00:00, 53.71it/s]\n",
            "Evaluating model: Shard 2/5, slice 2/20: 100%|██████████| 157/157 [00:02<00:00, 53.72it/s]\n",
            "Evaluating model: Shard 2/5, slice 3/20: 100%|██████████| 157/157 [00:02<00:00, 53.69it/s]\n",
            "Evaluating model: Shard 2/5, slice 4/20: 100%|██████████| 157/157 [00:02<00:00, 53.69it/s]\n",
            "Evaluating model: Shard 2/5, slice 5/20: 100%|██████████| 157/157 [00:02<00:00, 53.76it/s]\n",
            "Evaluating model: Shard 2/5, slice 6/20: 100%|██████████| 157/157 [00:02<00:00, 53.78it/s]\n",
            "Evaluating model: Shard 2/5, slice 7/20: 100%|██████████| 157/157 [00:02<00:00, 53.69it/s]\n",
            "Evaluating model: Shard 2/5, slice 8/20: 100%|██████████| 157/157 [00:02<00:00, 53.78it/s]\n",
            "Evaluating model: Shard 2/5, slice 9/20: 100%|██████████| 157/157 [00:02<00:00, 53.72it/s]\n",
            "Evaluating model: Shard 2/5, slice 10/20: 100%|██████████| 157/157 [00:02<00:00, 53.71it/s]\n",
            "Evaluating model: Shard 2/5, slice 11/20: 100%|██████████| 157/157 [00:02<00:00, 53.74it/s]\n",
            "Evaluating model: Shard 2/5, slice 12/20: 100%|██████████| 157/157 [00:02<00:00, 53.74it/s]\n",
            "Evaluating model: Shard 2/5, slice 13/20: 100%|██████████| 157/157 [00:02<00:00, 53.71it/s]\n",
            "Evaluating model: Shard 2/5, slice 14/20: 100%|██████████| 157/157 [00:02<00:00, 53.67it/s]\n",
            "Evaluating model: Shard 2/5, slice 15/20: 100%|██████████| 157/157 [00:02<00:00, 53.73it/s]\n",
            "Evaluating model: Shard 2/5, slice 16/20: 100%|██████████| 157/157 [00:02<00:00, 53.71it/s]\n",
            "Evaluating model: Shard 2/5, slice 17/20: 100%|██████████| 157/157 [00:02<00:00, 53.73it/s]\n",
            "Evaluating model: Shard 2/5, slice 18/20: 100%|██████████| 157/157 [00:02<00:00, 53.72it/s]\n",
            "Evaluating model: Shard 2/5, slice 19/20: 100%|██████████| 157/157 [00:02<00:00, 53.70it/s]\n",
            "Evaluating model: Shard 2/5, slice 20/20: 100%|██████████| 157/157 [00:02<00:00, 53.67it/s]\n",
            "Evaluating model: Shard 3/5, slice 1/20: 100%|██████████| 157/157 [00:02<00:00, 53.72it/s]\n",
            "Evaluating model: Shard 3/5, slice 2/20: 100%|██████████| 157/157 [00:02<00:00, 53.76it/s]\n",
            "Evaluating model: Shard 3/5, slice 3/20: 100%|██████████| 157/157 [00:02<00:00, 53.67it/s]\n",
            "Evaluating model: Shard 3/5, slice 4/20: 100%|██████████| 157/157 [00:02<00:00, 53.70it/s]\n",
            "Evaluating model: Shard 3/5, slice 5/20: 100%|██████████| 157/157 [00:02<00:00, 53.66it/s]\n",
            "Evaluating model: Shard 3/5, slice 6/20: 100%|██████████| 157/157 [00:02<00:00, 53.76it/s]\n",
            "Evaluating model: Shard 3/5, slice 7/20: 100%|██████████| 157/157 [00:02<00:00, 53.80it/s]\n",
            "Evaluating model: Shard 3/5, slice 8/20: 100%|██████████| 157/157 [00:02<00:00, 53.73it/s]\n",
            "Evaluating model: Shard 3/5, slice 9/20: 100%|██████████| 157/157 [00:02<00:00, 53.76it/s]\n",
            "Evaluating model: Shard 3/5, slice 10/20: 100%|██████████| 157/157 [00:02<00:00, 53.79it/s]\n",
            "Evaluating model: Shard 3/5, slice 11/20: 100%|██████████| 157/157 [00:02<00:00, 53.74it/s]\n",
            "Evaluating model: Shard 3/5, slice 12/20: 100%|██████████| 157/157 [00:02<00:00, 53.76it/s]\n",
            "Evaluating model: Shard 3/5, slice 13/20: 100%|██████████| 157/157 [00:02<00:00, 53.76it/s]\n",
            "Evaluating model: Shard 3/5, slice 14/20: 100%|██████████| 157/157 [00:02<00:00, 53.79it/s]\n",
            "Evaluating model: Shard 3/5, slice 15/20: 100%|██████████| 157/157 [00:02<00:00, 53.76it/s]\n",
            "Evaluating model: Shard 3/5, slice 16/20: 100%|██████████| 157/157 [00:02<00:00, 53.78it/s]\n",
            "Evaluating model: Shard 3/5, slice 17/20: 100%|██████████| 157/157 [00:02<00:00, 53.73it/s]\n",
            "Evaluating model: Shard 3/5, slice 18/20: 100%|██████████| 157/157 [00:02<00:00, 53.75it/s]\n",
            "Evaluating model: Shard 3/5, slice 19/20: 100%|██████████| 157/157 [00:02<00:00, 53.83it/s]\n",
            "Evaluating model: Shard 3/5, slice 20/20: 100%|██████████| 157/157 [00:02<00:00, 53.74it/s]\n",
            "Evaluating model: Shard 4/5, slice 1/20: 100%|██████████| 157/157 [00:02<00:00, 53.75it/s]\n",
            "Evaluating model: Shard 4/5, slice 2/20: 100%|██████████| 157/157 [00:02<00:00, 53.76it/s]\n",
            "Evaluating model: Shard 4/5, slice 3/20: 100%|██████████| 157/157 [00:02<00:00, 53.79it/s]\n",
            "Evaluating model: Shard 4/5, slice 4/20: 100%|██████████| 157/157 [00:02<00:00, 53.78it/s]\n",
            "Evaluating model: Shard 4/5, slice 5/20: 100%|██████████| 157/157 [00:02<00:00, 53.72it/s]\n",
            "Evaluating model: Shard 4/5, slice 6/20: 100%|██████████| 157/157 [00:02<00:00, 53.79it/s]\n",
            "Evaluating model: Shard 4/5, slice 7/20: 100%|██████████| 157/157 [00:02<00:00, 53.78it/s]\n",
            "Evaluating model: Shard 4/5, slice 8/20: 100%|██████████| 157/157 [00:02<00:00, 53.77it/s]\n",
            "Evaluating model: Shard 4/5, slice 9/20: 100%|██████████| 157/157 [00:02<00:00, 53.77it/s]\n",
            "Evaluating model: Shard 4/5, slice 10/20: 100%|██████████| 157/157 [00:02<00:00, 53.78it/s]\n",
            "Evaluating model: Shard 4/5, slice 11/20: 100%|██████████| 157/157 [00:02<00:00, 53.81it/s]\n",
            "Evaluating model: Shard 4/5, slice 12/20: 100%|██████████| 157/157 [00:02<00:00, 53.77it/s]\n",
            "Evaluating model: Shard 4/5, slice 13/20: 100%|██████████| 157/157 [00:02<00:00, 53.78it/s]\n",
            "Evaluating model: Shard 4/5, slice 14/20: 100%|██████████| 157/157 [00:02<00:00, 53.80it/s]\n",
            "Evaluating model: Shard 4/5, slice 15/20: 100%|██████████| 157/157 [00:02<00:00, 53.79it/s]\n",
            "Evaluating model: Shard 4/5, slice 16/20: 100%|██████████| 157/157 [00:02<00:00, 53.80it/s]\n",
            "Evaluating model: Shard 4/5, slice 17/20: 100%|██████████| 157/157 [00:02<00:00, 53.80it/s]\n",
            "Evaluating model: Shard 4/5, slice 18/20: 100%|██████████| 157/157 [00:02<00:00, 53.74it/s]\n",
            "Evaluating model: Shard 4/5, slice 19/20: 100%|██████████| 157/157 [00:02<00:00, 53.77it/s]\n",
            "Evaluating model: Shard 4/5, slice 20/20: 100%|██████████| 157/157 [00:02<00:00, 53.77it/s]\n",
            "Evaluating model: Shard 5/5, slice 1/20: 100%|██████████| 157/157 [00:02<00:00, 53.76it/s]\n",
            "Evaluating model: Shard 5/5, slice 2/20: 100%|██████████| 157/157 [00:02<00:00, 53.78it/s]\n",
            "Evaluating model: Shard 5/5, slice 3/20: 100%|██████████| 157/157 [00:02<00:00, 53.77it/s]\n",
            "Evaluating model: Shard 5/5, slice 4/20: 100%|██████████| 157/157 [00:02<00:00, 53.70it/s]\n",
            "Evaluating model: Shard 5/5, slice 5/20: 100%|██████████| 157/157 [00:02<00:00, 53.69it/s]\n",
            "Evaluating model: Shard 5/5, slice 6/20: 100%|██████████| 157/157 [00:02<00:00, 53.77it/s]\n",
            "Evaluating model: Shard 5/5, slice 7/20: 100%|██████████| 157/157 [00:02<00:00, 53.85it/s]\n",
            "Evaluating model: Shard 5/5, slice 8/20: 100%|██████████| 157/157 [00:02<00:00, 53.78it/s]\n",
            "Evaluating model: Shard 5/5, slice 9/20: 100%|██████████| 157/157 [00:02<00:00, 53.77it/s]\n",
            "Evaluating model: Shard 5/5, slice 10/20: 100%|██████████| 157/157 [00:02<00:00, 53.76it/s]\n",
            "Evaluating model: Shard 5/5, slice 11/20: 100%|██████████| 157/157 [00:02<00:00, 53.74it/s]\n",
            "Evaluating model: Shard 5/5, slice 12/20: 100%|██████████| 157/157 [00:02<00:00, 53.76it/s]\n",
            "Evaluating model: Shard 5/5, slice 13/20: 100%|██████████| 157/157 [00:02<00:00, 53.77it/s]\n",
            "Evaluating model: Shard 5/5, slice 14/20: 100%|██████████| 157/157 [00:02<00:00, 53.71it/s]\n",
            "Evaluating model: Shard 5/5, slice 15/20: 100%|██████████| 157/157 [00:02<00:00, 53.76it/s]\n",
            "Evaluating model: Shard 5/5, slice 16/20: 100%|██████████| 157/157 [00:02<00:00, 53.79it/s]\n",
            "Evaluating model: Shard 5/5, slice 17/20: 100%|██████████| 157/157 [00:02<00:00, 53.78it/s]\n",
            "Evaluating model: Shard 5/5, slice 18/20: 100%|██████████| 157/157 [00:02<00:00, 53.76it/s]\n",
            "Evaluating model: Shard 5/5, slice 19/20: 100%|██████████| 157/157 [00:02<00:00, 53.74it/s]\n",
            "Evaluating model: Shard 5/5, slice 20/20: 100%|██████████| 157/157 [00:02<00:00, 53.76it/s]\n"
          ]
        },
        {
          "name": "stdout",
          "output_type": "stream",
          "text": [
            "Retraining shard 1/5 containing data to forget\n"
          ]
        },
        {
          "name": "stderr",
          "output_type": "stream",
          "text": [
            "Epoch 1/5: 100%|██████████| 8/8 [00:00<00:00, 24.17it/s]\n",
            "Epoch 2/5: 100%|██████████| 8/8 [00:00<00:00, 31.81it/s]\n",
            "Epoch 3/5: 100%|██████████| 8/8 [00:00<00:00, 35.12it/s]\n",
            "Epoch 4/5: 100%|██████████| 8/8 [00:00<00:00, 35.53it/s]\n",
            "Epoch 5/5: 100%|██████████| 8/8 [00:00<00:00, 35.53it/s]\n"
          ]
        },
        {
          "name": "stdout",
          "output_type": "stream",
          "text": [
            "Slice 1/20 retrained for shard 1/5\n"
          ]
        },
        {
          "name": "stderr",
          "output_type": "stream",
          "text": [
            "Epoch 1/5: 100%|██████████| 8/8 [00:00<00:00, 25.26it/s]\n",
            "Epoch 2/5: 100%|██████████| 8/8 [00:00<00:00, 34.39it/s]\n",
            "Epoch 3/5: 100%|██████████| 8/8 [00:00<00:00, 35.52it/s]\n",
            "Epoch 4/5: 100%|██████████| 8/8 [00:00<00:00, 35.55it/s]\n",
            "Epoch 5/5: 100%|██████████| 8/8 [00:00<00:00, 35.63it/s]\n"
          ]
        },
        {
          "name": "stdout",
          "output_type": "stream",
          "text": [
            "Slice 2/20 retrained for shard 1/5\n"
          ]
        },
        {
          "name": "stderr",
          "output_type": "stream",
          "text": [
            "Epoch 1/5: 100%|██████████| 8/8 [00:00<00:00, 25.40it/s]\n",
            "Epoch 2/5: 100%|██████████| 8/8 [00:00<00:00, 35.53it/s]\n",
            "Epoch 3/5: 100%|██████████| 8/8 [00:00<00:00, 35.05it/s]\n",
            "Epoch 4/5: 100%|██████████| 8/8 [00:00<00:00, 35.63it/s]\n",
            "Epoch 5/5: 100%|██████████| 8/8 [00:00<00:00, 35.60it/s]\n"
          ]
        },
        {
          "name": "stdout",
          "output_type": "stream",
          "text": [
            "Slice 3/20 retrained for shard 1/5\n"
          ]
        },
        {
          "name": "stderr",
          "output_type": "stream",
          "text": [
            "Epoch 1/5: 100%|██████████| 8/8 [00:00<00:00, 25.49it/s]\n",
            "Epoch 2/5: 100%|██████████| 8/8 [00:00<00:00, 33.70it/s]\n",
            "Epoch 3/5: 100%|██████████| 8/8 [00:00<00:00, 35.43it/s]\n",
            "Epoch 4/5: 100%|██████████| 8/8 [00:00<00:00, 35.50it/s]\n",
            "Epoch 5/5: 100%|██████████| 8/8 [00:00<00:00, 35.33it/s]\n"
          ]
        },
        {
          "name": "stdout",
          "output_type": "stream",
          "text": [
            "Slice 4/20 retrained for shard 1/5\n"
          ]
        },
        {
          "name": "stderr",
          "output_type": "stream",
          "text": [
            "Epoch 1/5: 100%|██████████| 8/8 [00:00<00:00, 25.38it/s]\n",
            "Epoch 2/5: 100%|██████████| 8/8 [00:00<00:00, 33.50it/s]\n",
            "Epoch 3/5: 100%|██████████| 8/8 [00:00<00:00, 35.39it/s]\n",
            "Epoch 4/5: 100%|██████████| 8/8 [00:00<00:00, 35.29it/s]\n",
            "Epoch 5/5: 100%|██████████| 8/8 [00:00<00:00, 35.27it/s]\n"
          ]
        },
        {
          "name": "stdout",
          "output_type": "stream",
          "text": [
            "Slice 5/20 retrained for shard 1/5\n"
          ]
        },
        {
          "name": "stderr",
          "output_type": "stream",
          "text": [
            "Epoch 1/5: 100%|██████████| 8/8 [00:00<00:00, 34.46it/s]\n",
            "Epoch 2/5: 100%|██████████| 8/8 [00:00<00:00, 34.77it/s]\n",
            "Epoch 3/5: 100%|██████████| 8/8 [00:00<00:00, 34.86it/s]\n",
            "Epoch 4/5: 100%|██████████| 8/8 [00:00<00:00, 35.00it/s]\n",
            "Epoch 5/5: 100%|██████████| 8/8 [00:00<00:00, 34.90it/s]\n"
          ]
        },
        {
          "name": "stdout",
          "output_type": "stream",
          "text": [
            "Slice 6/20 retrained for shard 1/5\n"
          ]
        },
        {
          "name": "stderr",
          "output_type": "stream",
          "text": [
            "Epoch 1/5: 100%|██████████| 8/8 [00:00<00:00, 25.04it/s]\n",
            "Epoch 2/5: 100%|██████████| 8/8 [00:00<00:00, 32.37it/s]\n",
            "Epoch 3/5: 100%|██████████| 8/8 [00:00<00:00, 35.30it/s]\n",
            "Epoch 4/5: 100%|██████████| 8/8 [00:00<00:00, 35.37it/s]\n",
            "Epoch 5/5: 100%|██████████| 8/8 [00:00<00:00, 35.34it/s]\n"
          ]
        },
        {
          "name": "stdout",
          "output_type": "stream",
          "text": [
            "Slice 7/20 retrained for shard 1/5\n"
          ]
        },
        {
          "name": "stderr",
          "output_type": "stream",
          "text": [
            "Epoch 1/5: 100%|██████████| 8/8 [00:00<00:00, 34.93it/s]\n",
            "Epoch 2/5: 100%|██████████| 8/8 [00:00<00:00, 35.10it/s]\n",
            "Epoch 3/5: 100%|██████████| 8/8 [00:00<00:00, 35.00it/s]\n",
            "Epoch 4/5: 100%|██████████| 8/8 [00:00<00:00, 34.86it/s]\n",
            "Epoch 5/5: 100%|██████████| 8/8 [00:00<00:00, 35.09it/s]\n"
          ]
        },
        {
          "name": "stdout",
          "output_type": "stream",
          "text": [
            "Slice 8/20 retrained for shard 1/5\n"
          ]
        },
        {
          "name": "stderr",
          "output_type": "stream",
          "text": [
            "Epoch 1/5: 100%|██████████| 8/8 [00:00<00:00, 25.53it/s]\n",
            "Epoch 2/5: 100%|██████████| 8/8 [00:00<00:00, 32.24it/s]\n",
            "Epoch 3/5: 100%|██████████| 8/8 [00:00<00:00, 35.02it/s]\n",
            "Epoch 4/5: 100%|██████████| 8/8 [00:00<00:00, 35.11it/s]\n",
            "Epoch 5/5: 100%|██████████| 8/8 [00:00<00:00, 35.23it/s]\n"
          ]
        },
        {
          "name": "stdout",
          "output_type": "stream",
          "text": [
            "Slice 9/20 retrained for shard 1/5\n"
          ]
        },
        {
          "name": "stderr",
          "output_type": "stream",
          "text": [
            "Epoch 1/5: 100%|██████████| 8/8 [00:00<00:00, 34.53it/s]\n",
            "Epoch 2/5: 100%|██████████| 8/8 [00:00<00:00, 35.04it/s]\n",
            "Epoch 3/5: 100%|██████████| 8/8 [00:00<00:00, 34.93it/s]\n",
            "Epoch 4/5: 100%|██████████| 8/8 [00:00<00:00, 35.18it/s]\n",
            "Epoch 5/5: 100%|██████████| 8/8 [00:00<00:00, 35.62it/s]\n"
          ]
        },
        {
          "name": "stdout",
          "output_type": "stream",
          "text": [
            "Slice 10/20 retrained for shard 1/5\n"
          ]
        },
        {
          "name": "stderr",
          "output_type": "stream",
          "text": [
            "Epoch 1/5: 100%|██████████| 8/8 [00:00<00:00, 35.43it/s]\n",
            "Epoch 2/5: 100%|██████████| 8/8 [00:00<00:00, 35.77it/s]\n",
            "Epoch 3/5: 100%|██████████| 8/8 [00:00<00:00, 35.74it/s]\n",
            "Epoch 4/5: 100%|██████████| 8/8 [00:00<00:00, 35.23it/s]\n",
            "Epoch 5/5: 100%|██████████| 8/8 [00:00<00:00, 35.78it/s]\n"
          ]
        },
        {
          "name": "stdout",
          "output_type": "stream",
          "text": [
            "Slice 11/20 retrained for shard 1/5\n"
          ]
        },
        {
          "name": "stderr",
          "output_type": "stream",
          "text": [
            "Epoch 1/5: 100%|██████████| 8/8 [00:00<00:00, 35.53it/s]\n",
            "Epoch 2/5: 100%|██████████| 8/8 [00:00<00:00, 35.84it/s]\n",
            "Epoch 3/5: 100%|██████████| 8/8 [00:00<00:00, 35.73it/s]\n",
            "Epoch 4/5: 100%|██████████| 8/8 [00:00<00:00, 35.71it/s]\n",
            "Epoch 5/5: 100%|██████████| 8/8 [00:00<00:00, 35.26it/s]\n"
          ]
        },
        {
          "name": "stdout",
          "output_type": "stream",
          "text": [
            "Slice 12/20 retrained for shard 1/5\n"
          ]
        },
        {
          "name": "stderr",
          "output_type": "stream",
          "text": [
            "Epoch 1/5: 100%|██████████| 8/8 [00:00<00:00, 26.15it/s]\n",
            "Epoch 2/5: 100%|██████████| 8/8 [00:00<00:00, 35.82it/s]\n",
            "Epoch 3/5: 100%|██████████| 8/8 [00:00<00:00, 36.05it/s]\n",
            "Epoch 4/5: 100%|██████████| 8/8 [00:00<00:00, 35.99it/s]\n",
            "Epoch 5/5: 100%|██████████| 8/8 [00:00<00:00, 35.86it/s]\n"
          ]
        },
        {
          "name": "stdout",
          "output_type": "stream",
          "text": [
            "Slice 13/20 retrained for shard 1/5\n"
          ]
        },
        {
          "name": "stderr",
          "output_type": "stream",
          "text": [
            "Epoch 1/5: 100%|██████████| 8/8 [00:00<00:00, 35.38it/s]\n",
            "Epoch 2/5: 100%|██████████| 8/8 [00:00<00:00, 35.74it/s]\n",
            "Epoch 3/5: 100%|██████████| 8/8 [00:00<00:00, 35.75it/s]\n",
            "Epoch 4/5: 100%|██████████| 8/8 [00:00<00:00, 35.70it/s]\n",
            "Epoch 5/5: 100%|██████████| 8/8 [00:00<00:00, 35.58it/s]\n"
          ]
        },
        {
          "name": "stdout",
          "output_type": "stream",
          "text": [
            "Slice 14/20 retrained for shard 1/5\n"
          ]
        },
        {
          "name": "stderr",
          "output_type": "stream",
          "text": [
            "Epoch 1/5: 100%|██████████| 8/8 [00:00<00:00, 35.30it/s]\n",
            "Epoch 2/5: 100%|██████████| 8/8 [00:00<00:00, 35.53it/s]\n",
            "Epoch 3/5: 100%|██████████| 8/8 [00:00<00:00, 35.71it/s]\n",
            "Epoch 4/5: 100%|██████████| 8/8 [00:00<00:00, 35.88it/s]\n",
            "Epoch 5/5: 100%|██████████| 8/8 [00:00<00:00, 35.77it/s]\n"
          ]
        },
        {
          "name": "stdout",
          "output_type": "stream",
          "text": [
            "Slice 15/20 retrained for shard 1/5\n"
          ]
        },
        {
          "name": "stderr",
          "output_type": "stream",
          "text": [
            "Epoch 1/5: 100%|██████████| 8/8 [00:00<00:00, 35.34it/s]\n",
            "Epoch 2/5: 100%|██████████| 8/8 [00:00<00:00, 35.79it/s]\n",
            "Epoch 3/5: 100%|██████████| 8/8 [00:00<00:00, 35.60it/s]\n",
            "Epoch 4/5: 100%|██████████| 8/8 [00:00<00:00, 35.26it/s]\n",
            "Epoch 5/5: 100%|██████████| 8/8 [00:00<00:00, 35.81it/s]\n"
          ]
        },
        {
          "name": "stdout",
          "output_type": "stream",
          "text": [
            "Slice 16/20 retrained for shard 1/5\n"
          ]
        },
        {
          "name": "stderr",
          "output_type": "stream",
          "text": [
            "Epoch 1/5: 100%|██████████| 8/8 [00:00<00:00, 26.02it/s]\n",
            "Epoch 2/5: 100%|██████████| 8/8 [00:00<00:00, 36.15it/s]\n",
            "Epoch 3/5: 100%|██████████| 8/8 [00:00<00:00, 35.79it/s]\n",
            "Epoch 4/5: 100%|██████████| 8/8 [00:00<00:00, 35.64it/s]\n",
            "Epoch 5/5: 100%|██████████| 8/8 [00:00<00:00, 35.58it/s]\n"
          ]
        },
        {
          "name": "stdout",
          "output_type": "stream",
          "text": [
            "Slice 17/20 retrained for shard 1/5\n"
          ]
        },
        {
          "name": "stderr",
          "output_type": "stream",
          "text": [
            "Epoch 1/5: 100%|██████████| 8/8 [00:00<00:00, 35.58it/s]\n",
            "Epoch 2/5: 100%|██████████| 8/8 [00:00<00:00, 35.76it/s]\n",
            "Epoch 3/5: 100%|██████████| 8/8 [00:00<00:00, 35.74it/s]\n",
            "Epoch 4/5: 100%|██████████| 8/8 [00:00<00:00, 35.76it/s]\n",
            "Epoch 5/5: 100%|██████████| 8/8 [00:00<00:00, 35.75it/s]\n"
          ]
        },
        {
          "name": "stdout",
          "output_type": "stream",
          "text": [
            "Slice 18/20 retrained for shard 1/5\n"
          ]
        },
        {
          "name": "stderr",
          "output_type": "stream",
          "text": [
            "Epoch 1/5: 100%|██████████| 8/8 [00:00<00:00, 34.90it/s]\n",
            "Epoch 2/5: 100%|██████████| 8/8 [00:00<00:00, 35.77it/s]\n",
            "Epoch 3/5: 100%|██████████| 8/8 [00:00<00:00, 35.84it/s]\n",
            "Epoch 4/5: 100%|██████████| 8/8 [00:00<00:00, 35.86it/s]\n",
            "Epoch 5/5: 100%|██████████| 8/8 [00:00<00:00, 35.76it/s]\n"
          ]
        },
        {
          "name": "stdout",
          "output_type": "stream",
          "text": [
            "Slice 19/20 retrained for shard 1/5\n"
          ]
        },
        {
          "name": "stderr",
          "output_type": "stream",
          "text": [
            "Epoch 1/5: 100%|██████████| 8/8 [00:00<00:00, 35.42it/s]\n",
            "Epoch 2/5: 100%|██████████| 8/8 [00:00<00:00, 35.33it/s]\n",
            "Epoch 3/5: 100%|██████████| 8/8 [00:00<00:00, 35.72it/s]\n",
            "Epoch 4/5: 100%|██████████| 8/8 [00:00<00:00, 35.81it/s]\n",
            "Epoch 5/5: 100%|██████████| 8/8 [00:00<00:00, 35.63it/s]\n"
          ]
        },
        {
          "name": "stdout",
          "output_type": "stream",
          "text": [
            "Slice 20/20 retrained for shard 1/5\n",
            "Retraining shard 2/5 containing data to forget\n"
          ]
        },
        {
          "name": "stderr",
          "output_type": "stream",
          "text": [
            "Epoch 1/5: 100%|██████████| 8/8 [00:00<00:00, 35.18it/s]\n",
            "Epoch 2/5: 100%|██████████| 8/8 [00:00<00:00, 35.04it/s]\n",
            "Epoch 3/5: 100%|██████████| 8/8 [00:00<00:00, 35.30it/s]\n",
            "Epoch 4/5: 100%|██████████| 8/8 [00:00<00:00, 35.19it/s]\n",
            "Epoch 5/5: 100%|██████████| 8/8 [00:00<00:00, 34.98it/s]\n"
          ]
        },
        {
          "name": "stdout",
          "output_type": "stream",
          "text": [
            "Slice 1/20 retrained for shard 2/5\n"
          ]
        },
        {
          "name": "stderr",
          "output_type": "stream",
          "text": [
            "Epoch 1/5: 100%|██████████| 8/8 [00:00<00:00, 34.56it/s]\n",
            "Epoch 2/5: 100%|██████████| 8/8 [00:00<00:00, 34.83it/s]\n",
            "Epoch 3/5: 100%|██████████| 8/8 [00:00<00:00, 34.98it/s]\n",
            "Epoch 4/5: 100%|██████████| 8/8 [00:00<00:00, 34.88it/s]\n",
            "Epoch 5/5: 100%|██████████| 8/8 [00:00<00:00, 35.04it/s]\n"
          ]
        },
        {
          "name": "stdout",
          "output_type": "stream",
          "text": [
            "Slice 2/20 retrained for shard 2/5\n"
          ]
        },
        {
          "name": "stderr",
          "output_type": "stream",
          "text": [
            "Epoch 1/5: 100%|██████████| 8/8 [00:00<00:00, 34.89it/s]\n",
            "Epoch 2/5: 100%|██████████| 8/8 [00:00<00:00, 35.42it/s]\n",
            "Epoch 3/5: 100%|██████████| 8/8 [00:00<00:00, 35.33it/s]\n",
            "Epoch 4/5: 100%|██████████| 8/8 [00:00<00:00, 35.41it/s]\n",
            "Epoch 5/5: 100%|██████████| 8/8 [00:00<00:00, 35.28it/s]\n"
          ]
        },
        {
          "name": "stdout",
          "output_type": "stream",
          "text": [
            "Slice 3/20 retrained for shard 2/5\n"
          ]
        },
        {
          "name": "stderr",
          "output_type": "stream",
          "text": [
            "Epoch 1/5: 100%|██████████| 8/8 [00:00<00:00, 34.60it/s]\n",
            "Epoch 2/5: 100%|██████████| 8/8 [00:00<00:00, 34.90it/s]\n",
            "Epoch 3/5: 100%|██████████| 8/8 [00:00<00:00, 34.98it/s]\n",
            "Epoch 4/5: 100%|██████████| 8/8 [00:00<00:00, 35.11it/s]\n",
            "Epoch 5/5: 100%|██████████| 8/8 [00:00<00:00, 35.02it/s]\n"
          ]
        },
        {
          "name": "stdout",
          "output_type": "stream",
          "text": [
            "Slice 4/20 retrained for shard 2/5\n"
          ]
        },
        {
          "name": "stderr",
          "output_type": "stream",
          "text": [
            "Epoch 1/5: 100%|██████████| 8/8 [00:00<00:00, 34.44it/s]\n",
            "Epoch 2/5: 100%|██████████| 8/8 [00:00<00:00, 35.06it/s]\n",
            "Epoch 3/5: 100%|██████████| 8/8 [00:00<00:00, 35.21it/s]\n",
            "Epoch 4/5: 100%|██████████| 8/8 [00:00<00:00, 35.46it/s]\n",
            "Epoch 5/5: 100%|██████████| 8/8 [00:00<00:00, 35.38it/s]\n"
          ]
        },
        {
          "name": "stdout",
          "output_type": "stream",
          "text": [
            "Slice 5/20 retrained for shard 2/5\n"
          ]
        },
        {
          "name": "stderr",
          "output_type": "stream",
          "text": [
            "Epoch 1/5: 100%|██████████| 8/8 [00:00<00:00, 35.02it/s]\n",
            "Epoch 2/5: 100%|██████████| 8/8 [00:00<00:00, 35.10it/s]\n",
            "Epoch 3/5: 100%|██████████| 8/8 [00:00<00:00, 35.01it/s]\n",
            "Epoch 4/5: 100%|██████████| 8/8 [00:00<00:00, 35.49it/s]\n",
            "Epoch 5/5: 100%|██████████| 8/8 [00:00<00:00, 35.53it/s]\n"
          ]
        },
        {
          "name": "stdout",
          "output_type": "stream",
          "text": [
            "Slice 6/20 retrained for shard 2/5\n"
          ]
        },
        {
          "name": "stderr",
          "output_type": "stream",
          "text": [
            "Epoch 1/5: 100%|██████████| 8/8 [00:00<00:00, 35.09it/s]\n",
            "Epoch 2/5: 100%|██████████| 8/8 [00:00<00:00, 35.26it/s]\n",
            "Epoch 3/5: 100%|██████████| 8/8 [00:00<00:00, 35.07it/s]\n",
            "Epoch 4/5: 100%|██████████| 8/8 [00:00<00:00, 35.70it/s]\n",
            "Epoch 5/5: 100%|██████████| 8/8 [00:00<00:00, 35.42it/s]\n"
          ]
        },
        {
          "name": "stdout",
          "output_type": "stream",
          "text": [
            "Slice 7/20 retrained for shard 2/5\n"
          ]
        },
        {
          "name": "stderr",
          "output_type": "stream",
          "text": [
            "Epoch 1/5: 100%|██████████| 8/8 [00:00<00:00, 35.30it/s]\n",
            "Epoch 2/5: 100%|██████████| 8/8 [00:00<00:00, 35.47it/s]\n",
            "Epoch 3/5: 100%|██████████| 8/8 [00:00<00:00, 35.59it/s]\n",
            "Epoch 4/5: 100%|██████████| 8/8 [00:00<00:00, 35.06it/s]\n",
            "Epoch 5/5: 100%|██████████| 8/8 [00:00<00:00, 35.48it/s]\n"
          ]
        },
        {
          "name": "stdout",
          "output_type": "stream",
          "text": [
            "Slice 8/20 retrained for shard 2/5\n"
          ]
        },
        {
          "name": "stderr",
          "output_type": "stream",
          "text": [
            "Epoch 1/5: 100%|██████████| 8/8 [00:00<00:00, 35.22it/s]\n",
            "Epoch 2/5: 100%|██████████| 8/8 [00:00<00:00, 35.61it/s]\n",
            "Epoch 3/5: 100%|██████████| 8/8 [00:00<00:00, 35.39it/s]\n",
            "Epoch 4/5: 100%|██████████| 8/8 [00:00<00:00, 35.52it/s]\n",
            "Epoch 5/5: 100%|██████████| 8/8 [00:00<00:00, 35.27it/s]\n"
          ]
        },
        {
          "name": "stdout",
          "output_type": "stream",
          "text": [
            "Slice 9/20 retrained for shard 2/5\n"
          ]
        },
        {
          "name": "stderr",
          "output_type": "stream",
          "text": [
            "Epoch 1/5: 100%|██████████| 8/8 [00:00<00:00, 34.97it/s]\n",
            "Epoch 2/5: 100%|██████████| 8/8 [00:00<00:00, 35.36it/s]\n",
            "Epoch 3/5: 100%|██████████| 8/8 [00:00<00:00, 35.44it/s]\n",
            "Epoch 4/5: 100%|██████████| 8/8 [00:00<00:00, 35.45it/s]\n",
            "Epoch 5/5: 100%|██████████| 8/8 [00:00<00:00, 35.43it/s]\n"
          ]
        },
        {
          "name": "stdout",
          "output_type": "stream",
          "text": [
            "Slice 10/20 retrained for shard 2/5\n"
          ]
        },
        {
          "name": "stderr",
          "output_type": "stream",
          "text": [
            "Epoch 1/5: 100%|██████████| 8/8 [00:00<00:00, 34.68it/s]\n",
            "Epoch 2/5: 100%|██████████| 8/8 [00:00<00:00, 35.01it/s]\n",
            "Epoch 3/5: 100%|██████████| 8/8 [00:00<00:00, 34.81it/s]\n",
            "Epoch 4/5: 100%|██████████| 8/8 [00:00<00:00, 35.11it/s]\n",
            "Epoch 5/5: 100%|██████████| 8/8 [00:00<00:00, 35.56it/s]\n"
          ]
        },
        {
          "name": "stdout",
          "output_type": "stream",
          "text": [
            "Slice 11/20 retrained for shard 2/5\n"
          ]
        },
        {
          "name": "stderr",
          "output_type": "stream",
          "text": [
            "Epoch 1/5: 100%|██████████| 8/8 [00:00<00:00, 35.22it/s]\n",
            "Epoch 2/5: 100%|██████████| 8/8 [00:00<00:00, 35.21it/s]\n",
            "Epoch 3/5: 100%|██████████| 8/8 [00:00<00:00, 35.03it/s]\n",
            "Epoch 4/5: 100%|██████████| 8/8 [00:00<00:00, 34.76it/s]\n",
            "Epoch 5/5: 100%|██████████| 8/8 [00:00<00:00, 35.40it/s]\n"
          ]
        },
        {
          "name": "stdout",
          "output_type": "stream",
          "text": [
            "Slice 12/20 retrained for shard 2/5\n"
          ]
        },
        {
          "name": "stderr",
          "output_type": "stream",
          "text": [
            "Epoch 1/5: 100%|██████████| 8/8 [00:00<00:00, 35.14it/s]\n",
            "Epoch 2/5: 100%|██████████| 8/8 [00:00<00:00, 35.38it/s]\n",
            "Epoch 3/5: 100%|██████████| 8/8 [00:00<00:00, 35.20it/s]\n",
            "Epoch 4/5: 100%|██████████| 8/8 [00:00<00:00, 35.06it/s]\n",
            "Epoch 5/5: 100%|██████████| 8/8 [00:00<00:00, 35.53it/s]\n"
          ]
        },
        {
          "name": "stdout",
          "output_type": "stream",
          "text": [
            "Slice 13/20 retrained for shard 2/5\n"
          ]
        },
        {
          "name": "stderr",
          "output_type": "stream",
          "text": [
            "Epoch 1/5: 100%|██████████| 8/8 [00:00<00:00, 35.17it/s]\n",
            "Epoch 2/5: 100%|██████████| 8/8 [00:00<00:00, 35.51it/s]\n",
            "Epoch 3/5: 100%|██████████| 8/8 [00:00<00:00, 35.41it/s]\n",
            "Epoch 4/5: 100%|██████████| 8/8 [00:00<00:00, 35.42it/s]\n",
            "Epoch 5/5: 100%|██████████| 8/8 [00:00<00:00, 35.07it/s]\n"
          ]
        },
        {
          "name": "stdout",
          "output_type": "stream",
          "text": [
            "Slice 14/20 retrained for shard 2/5\n"
          ]
        },
        {
          "name": "stderr",
          "output_type": "stream",
          "text": [
            "Epoch 1/5: 100%|██████████| 8/8 [00:00<00:00, 35.18it/s]\n",
            "Epoch 2/5: 100%|██████████| 8/8 [00:00<00:00, 35.30it/s]\n",
            "Epoch 3/5: 100%|██████████| 8/8 [00:00<00:00, 35.18it/s]\n",
            "Epoch 4/5: 100%|██████████| 8/8 [00:00<00:00, 35.52it/s]\n",
            "Epoch 5/5: 100%|██████████| 8/8 [00:00<00:00, 35.49it/s]\n"
          ]
        },
        {
          "name": "stdout",
          "output_type": "stream",
          "text": [
            "Slice 15/20 retrained for shard 2/5\n"
          ]
        },
        {
          "name": "stderr",
          "output_type": "stream",
          "text": [
            "Epoch 1/5: 100%|██████████| 8/8 [00:00<00:00, 34.90it/s]\n",
            "Epoch 2/5: 100%|██████████| 8/8 [00:00<00:00, 35.49it/s]\n",
            "Epoch 3/5: 100%|██████████| 8/8 [00:00<00:00, 35.36it/s]\n",
            "Epoch 4/5: 100%|██████████| 8/8 [00:00<00:00, 34.84it/s]\n",
            "Epoch 5/5: 100%|██████████| 8/8 [00:00<00:00, 34.78it/s]\n"
          ]
        },
        {
          "name": "stdout",
          "output_type": "stream",
          "text": [
            "Slice 16/20 retrained for shard 2/5\n"
          ]
        },
        {
          "name": "stderr",
          "output_type": "stream",
          "text": [
            "Epoch 1/5: 100%|██████████| 8/8 [00:00<00:00, 34.39it/s]\n",
            "Epoch 2/5: 100%|██████████| 8/8 [00:00<00:00, 35.11it/s]\n",
            "Epoch 3/5: 100%|██████████| 8/8 [00:00<00:00, 35.27it/s]\n",
            "Epoch 4/5: 100%|██████████| 8/8 [00:00<00:00, 35.38it/s]\n",
            "Epoch 5/5: 100%|██████████| 8/8 [00:00<00:00, 35.30it/s]\n"
          ]
        },
        {
          "name": "stdout",
          "output_type": "stream",
          "text": [
            "Slice 17/20 retrained for shard 2/5\n"
          ]
        },
        {
          "name": "stderr",
          "output_type": "stream",
          "text": [
            "Epoch 1/5: 100%|██████████| 8/8 [00:00<00:00, 34.96it/s]\n",
            "Epoch 2/5: 100%|██████████| 8/8 [00:00<00:00, 35.27it/s]\n",
            "Epoch 3/5: 100%|██████████| 8/8 [00:00<00:00, 35.38it/s]\n",
            "Epoch 4/5: 100%|██████████| 8/8 [00:00<00:00, 35.39it/s]\n",
            "Epoch 5/5: 100%|██████████| 8/8 [00:00<00:00, 35.54it/s]\n"
          ]
        },
        {
          "name": "stdout",
          "output_type": "stream",
          "text": [
            "Slice 18/20 retrained for shard 2/5\n"
          ]
        },
        {
          "name": "stderr",
          "output_type": "stream",
          "text": [
            "Epoch 1/5: 100%|██████████| 8/8 [00:00<00:00, 35.04it/s]\n",
            "Epoch 2/5: 100%|██████████| 8/8 [00:00<00:00, 35.55it/s]\n",
            "Epoch 3/5: 100%|██████████| 8/8 [00:00<00:00, 35.38it/s]\n",
            "Epoch 4/5: 100%|██████████| 8/8 [00:00<00:00, 35.46it/s]\n",
            "Epoch 5/5: 100%|██████████| 8/8 [00:00<00:00, 35.19it/s]\n"
          ]
        },
        {
          "name": "stdout",
          "output_type": "stream",
          "text": [
            "Slice 19/20 retrained for shard 2/5\n"
          ]
        },
        {
          "name": "stderr",
          "output_type": "stream",
          "text": [
            "Epoch 1/5: 100%|██████████| 8/8 [00:00<00:00, 35.27it/s]\n",
            "Epoch 2/5: 100%|██████████| 8/8 [00:00<00:00, 35.52it/s]\n",
            "Epoch 3/5: 100%|██████████| 8/8 [00:00<00:00, 35.52it/s]\n",
            "Epoch 4/5: 100%|██████████| 8/8 [00:00<00:00, 35.31it/s]\n",
            "Epoch 5/5: 100%|██████████| 8/8 [00:00<00:00, 35.59it/s]\n"
          ]
        },
        {
          "name": "stdout",
          "output_type": "stream",
          "text": [
            "Slice 20/20 retrained for shard 2/5\n",
            "Retraining shard 3/5 containing data to forget\n"
          ]
        },
        {
          "name": "stderr",
          "output_type": "stream",
          "text": [
            "Epoch 1/5: 100%|██████████| 8/8 [00:00<00:00, 35.04it/s]\n",
            "Epoch 2/5: 100%|██████████| 8/8 [00:00<00:00, 35.48it/s]\n",
            "Epoch 3/5: 100%|██████████| 8/8 [00:00<00:00, 35.14it/s]\n",
            "Epoch 4/5: 100%|██████████| 8/8 [00:00<00:00, 35.35it/s]\n",
            "Epoch 5/5: 100%|██████████| 8/8 [00:00<00:00, 35.47it/s]\n"
          ]
        },
        {
          "name": "stdout",
          "output_type": "stream",
          "text": [
            "Slice 1/20 retrained for shard 3/5\n"
          ]
        },
        {
          "name": "stderr",
          "output_type": "stream",
          "text": [
            "Epoch 1/5: 100%|██████████| 8/8 [00:00<00:00, 34.74it/s]\n",
            "Epoch 2/5: 100%|██████████| 8/8 [00:00<00:00, 35.11it/s]\n",
            "Epoch 3/5: 100%|██████████| 8/8 [00:00<00:00, 35.24it/s]\n",
            "Epoch 4/5: 100%|██████████| 8/8 [00:00<00:00, 35.40it/s]\n",
            "Epoch 5/5: 100%|██████████| 8/8 [00:00<00:00, 35.47it/s]\n"
          ]
        },
        {
          "name": "stdout",
          "output_type": "stream",
          "text": [
            "Slice 2/20 retrained for shard 3/5\n"
          ]
        },
        {
          "name": "stderr",
          "output_type": "stream",
          "text": [
            "Epoch 1/5: 100%|██████████| 8/8 [00:00<00:00, 35.07it/s]\n",
            "Epoch 2/5: 100%|██████████| 8/8 [00:00<00:00, 35.11it/s]\n",
            "Epoch 3/5: 100%|██████████| 8/8 [00:00<00:00, 35.33it/s]\n",
            "Epoch 4/5: 100%|██████████| 8/8 [00:00<00:00, 35.46it/s]\n",
            "Epoch 5/5: 100%|██████████| 8/8 [00:00<00:00, 35.35it/s]\n"
          ]
        },
        {
          "name": "stdout",
          "output_type": "stream",
          "text": [
            "Slice 3/20 retrained for shard 3/5\n"
          ]
        },
        {
          "name": "stderr",
          "output_type": "stream",
          "text": [
            "Epoch 1/5: 100%|██████████| 8/8 [00:00<00:00, 35.10it/s]\n",
            "Epoch 2/5: 100%|██████████| 8/8 [00:00<00:00, 35.43it/s]\n",
            "Epoch 3/5: 100%|██████████| 8/8 [00:00<00:00, 35.31it/s]\n",
            "Epoch 4/5: 100%|██████████| 8/8 [00:00<00:00, 35.52it/s]\n",
            "Epoch 5/5: 100%|██████████| 8/8 [00:00<00:00, 35.46it/s]\n"
          ]
        },
        {
          "name": "stdout",
          "output_type": "stream",
          "text": [
            "Slice 4/20 retrained for shard 3/5\n"
          ]
        },
        {
          "name": "stderr",
          "output_type": "stream",
          "text": [
            "Epoch 1/5: 100%|██████████| 8/8 [00:00<00:00, 34.94it/s]\n",
            "Epoch 2/5: 100%|██████████| 8/8 [00:00<00:00, 34.71it/s]\n",
            "Epoch 3/5: 100%|██████████| 8/8 [00:00<00:00, 35.24it/s]\n",
            "Epoch 4/5: 100%|██████████| 8/8 [00:00<00:00, 35.31it/s]\n",
            "Epoch 5/5: 100%|██████████| 8/8 [00:00<00:00, 35.12it/s]\n"
          ]
        },
        {
          "name": "stdout",
          "output_type": "stream",
          "text": [
            "Slice 5/20 retrained for shard 3/5\n"
          ]
        },
        {
          "name": "stderr",
          "output_type": "stream",
          "text": [
            "Epoch 1/5: 100%|██████████| 8/8 [00:00<00:00, 35.08it/s]\n",
            "Epoch 2/5: 100%|██████████| 8/8 [00:00<00:00, 35.28it/s]\n",
            "Epoch 3/5: 100%|██████████| 8/8 [00:00<00:00, 35.24it/s]\n",
            "Epoch 4/5: 100%|██████████| 8/8 [00:00<00:00, 35.43it/s]\n",
            "Epoch 5/5: 100%|██████████| 8/8 [00:00<00:00, 35.40it/s]\n"
          ]
        },
        {
          "name": "stdout",
          "output_type": "stream",
          "text": [
            "Slice 6/20 retrained for shard 3/5\n"
          ]
        },
        {
          "name": "stderr",
          "output_type": "stream",
          "text": [
            "Epoch 1/5: 100%|██████████| 8/8 [00:00<00:00, 34.49it/s]\n",
            "Epoch 2/5: 100%|██████████| 8/8 [00:00<00:00, 35.51it/s]\n",
            "Epoch 3/5: 100%|██████████| 8/8 [00:00<00:00, 35.50it/s]\n",
            "Epoch 4/5: 100%|██████████| 8/8 [00:00<00:00, 35.25it/s]\n",
            "Epoch 5/5: 100%|██████████| 8/8 [00:00<00:00, 35.24it/s]\n"
          ]
        },
        {
          "name": "stdout",
          "output_type": "stream",
          "text": [
            "Slice 7/20 retrained for shard 3/5\n"
          ]
        },
        {
          "name": "stderr",
          "output_type": "stream",
          "text": [
            "Epoch 1/5: 100%|██████████| 8/8 [00:00<00:00, 35.20it/s]\n",
            "Epoch 2/5: 100%|██████████| 8/8 [00:00<00:00, 35.31it/s]\n",
            "Epoch 3/5: 100%|██████████| 8/8 [00:00<00:00, 35.26it/s]\n",
            "Epoch 4/5: 100%|██████████| 8/8 [00:00<00:00, 34.99it/s]\n",
            "Epoch 5/5: 100%|██████████| 8/8 [00:00<00:00, 35.18it/s]\n"
          ]
        },
        {
          "name": "stdout",
          "output_type": "stream",
          "text": [
            "Slice 8/20 retrained for shard 3/5\n"
          ]
        },
        {
          "name": "stderr",
          "output_type": "stream",
          "text": [
            "Epoch 1/5: 100%|██████████| 8/8 [00:00<00:00, 34.98it/s]\n",
            "Epoch 2/5: 100%|██████████| 8/8 [00:00<00:00, 35.14it/s]\n",
            "Epoch 3/5: 100%|██████████| 8/8 [00:00<00:00, 34.93it/s]\n",
            "Epoch 4/5: 100%|██████████| 8/8 [00:00<00:00, 34.96it/s]\n",
            "Epoch 5/5: 100%|██████████| 8/8 [00:00<00:00, 34.80it/s]\n"
          ]
        },
        {
          "name": "stdout",
          "output_type": "stream",
          "text": [
            "Slice 9/20 retrained for shard 3/5\n"
          ]
        },
        {
          "name": "stderr",
          "output_type": "stream",
          "text": [
            "Epoch 1/5: 100%|██████████| 8/8 [00:00<00:00, 34.45it/s]\n",
            "Epoch 2/5: 100%|██████████| 8/8 [00:00<00:00, 34.88it/s]\n",
            "Epoch 3/5: 100%|██████████| 8/8 [00:00<00:00, 34.73it/s]\n",
            "Epoch 4/5: 100%|██████████| 8/8 [00:00<00:00, 34.92it/s]\n",
            "Epoch 5/5: 100%|██████████| 8/8 [00:00<00:00, 34.84it/s]\n"
          ]
        },
        {
          "name": "stdout",
          "output_type": "stream",
          "text": [
            "Slice 10/20 retrained for shard 3/5\n"
          ]
        },
        {
          "name": "stderr",
          "output_type": "stream",
          "text": [
            "Epoch 1/5: 100%|██████████| 8/8 [00:00<00:00, 33.81it/s]\n",
            "Epoch 2/5: 100%|██████████| 8/8 [00:00<00:00, 35.19it/s]\n",
            "Epoch 3/5: 100%|██████████| 8/8 [00:00<00:00, 35.45it/s]\n",
            "Epoch 4/5: 100%|██████████| 8/8 [00:00<00:00, 35.42it/s]\n",
            "Epoch 5/5: 100%|██████████| 8/8 [00:00<00:00, 35.28it/s]\n"
          ]
        },
        {
          "name": "stdout",
          "output_type": "stream",
          "text": [
            "Slice 11/20 retrained for shard 3/5\n"
          ]
        },
        {
          "name": "stderr",
          "output_type": "stream",
          "text": [
            "Epoch 1/5: 100%|██████████| 8/8 [00:00<00:00, 34.01it/s]\n",
            "Epoch 2/5: 100%|██████████| 8/8 [00:00<00:00, 34.80it/s]\n",
            "Epoch 3/5: 100%|██████████| 8/8 [00:00<00:00, 34.67it/s]\n",
            "Epoch 4/5: 100%|██████████| 8/8 [00:00<00:00, 34.74it/s]\n",
            "Epoch 5/5: 100%|██████████| 8/8 [00:00<00:00, 34.76it/s]\n"
          ]
        },
        {
          "name": "stdout",
          "output_type": "stream",
          "text": [
            "Slice 12/20 retrained for shard 3/5\n"
          ]
        },
        {
          "name": "stderr",
          "output_type": "stream",
          "text": [
            "Epoch 1/5: 100%|██████████| 8/8 [00:00<00:00, 34.10it/s]\n",
            "Epoch 2/5: 100%|██████████| 8/8 [00:00<00:00, 34.97it/s]\n",
            "Epoch 3/5: 100%|██████████| 8/8 [00:00<00:00, 34.83it/s]\n",
            "Epoch 4/5: 100%|██████████| 8/8 [00:00<00:00, 34.76it/s]\n",
            "Epoch 5/5: 100%|██████████| 8/8 [00:00<00:00, 34.70it/s]\n"
          ]
        },
        {
          "name": "stdout",
          "output_type": "stream",
          "text": [
            "Slice 13/20 retrained for shard 3/5\n"
          ]
        },
        {
          "name": "stderr",
          "output_type": "stream",
          "text": [
            "Epoch 1/5: 100%|██████████| 8/8 [00:00<00:00, 33.89it/s]\n",
            "Epoch 2/5: 100%|██████████| 8/8 [00:00<00:00, 34.75it/s]\n",
            "Epoch 3/5: 100%|██████████| 8/8 [00:00<00:00, 34.83it/s]\n",
            "Epoch 4/5: 100%|██████████| 8/8 [00:00<00:00, 34.90it/s]\n",
            "Epoch 5/5: 100%|██████████| 8/8 [00:00<00:00, 35.23it/s]\n"
          ]
        },
        {
          "name": "stdout",
          "output_type": "stream",
          "text": [
            "Slice 14/20 retrained for shard 3/5\n"
          ]
        },
        {
          "name": "stderr",
          "output_type": "stream",
          "text": [
            "Epoch 1/5: 100%|██████████| 8/8 [00:00<00:00, 34.28it/s]\n",
            "Epoch 2/5: 100%|██████████| 8/8 [00:00<00:00, 35.24it/s]\n",
            "Epoch 3/5: 100%|██████████| 8/8 [00:00<00:00, 35.20it/s]\n",
            "Epoch 4/5: 100%|██████████| 8/8 [00:00<00:00, 35.32it/s]\n",
            "Epoch 5/5: 100%|██████████| 8/8 [00:00<00:00, 35.37it/s]\n"
          ]
        },
        {
          "name": "stdout",
          "output_type": "stream",
          "text": [
            "Slice 15/20 retrained for shard 3/5\n"
          ]
        },
        {
          "name": "stderr",
          "output_type": "stream",
          "text": [
            "Epoch 1/5: 100%|██████████| 8/8 [00:00<00:00, 34.32it/s]\n",
            "Epoch 2/5: 100%|██████████| 8/8 [00:00<00:00, 35.49it/s]\n",
            "Epoch 3/5: 100%|██████████| 8/8 [00:00<00:00, 35.37it/s]\n",
            "Epoch 4/5: 100%|██████████| 8/8 [00:00<00:00, 35.39it/s]\n",
            "Epoch 5/5: 100%|██████████| 8/8 [00:00<00:00, 34.95it/s]\n"
          ]
        },
        {
          "name": "stdout",
          "output_type": "stream",
          "text": [
            "Slice 16/20 retrained for shard 3/5\n"
          ]
        },
        {
          "name": "stderr",
          "output_type": "stream",
          "text": [
            "Epoch 1/5: 100%|██████████| 8/8 [00:00<00:00, 34.37it/s]\n",
            "Epoch 2/5: 100%|██████████| 8/8 [00:00<00:00, 35.34it/s]\n",
            "Epoch 3/5: 100%|██████████| 8/8 [00:00<00:00, 35.46it/s]\n",
            "Epoch 4/5: 100%|██████████| 8/8 [00:00<00:00, 35.45it/s]\n",
            "Epoch 5/5: 100%|██████████| 8/8 [00:00<00:00, 35.47it/s]\n"
          ]
        },
        {
          "name": "stdout",
          "output_type": "stream",
          "text": [
            "Slice 17/20 retrained for shard 3/5\n"
          ]
        },
        {
          "name": "stderr",
          "output_type": "stream",
          "text": [
            "Epoch 1/5: 100%|██████████| 8/8 [00:00<00:00, 33.90it/s]\n",
            "Epoch 2/5: 100%|██████████| 8/8 [00:00<00:00, 35.40it/s]\n",
            "Epoch 3/5: 100%|██████████| 8/8 [00:00<00:00, 35.52it/s]\n",
            "Epoch 4/5: 100%|██████████| 8/8 [00:00<00:00, 35.34it/s]\n",
            "Epoch 5/5: 100%|██████████| 8/8 [00:00<00:00, 35.21it/s]\n"
          ]
        },
        {
          "name": "stdout",
          "output_type": "stream",
          "text": [
            "Slice 18/20 retrained for shard 3/5\n"
          ]
        },
        {
          "name": "stderr",
          "output_type": "stream",
          "text": [
            "Epoch 1/5: 100%|██████████| 8/8 [00:00<00:00, 34.45it/s]\n",
            "Epoch 2/5: 100%|██████████| 8/8 [00:00<00:00, 34.82it/s]\n",
            "Epoch 3/5: 100%|██████████| 8/8 [00:00<00:00, 35.28it/s]\n",
            "Epoch 4/5: 100%|██████████| 8/8 [00:00<00:00, 35.41it/s]\n",
            "Epoch 5/5: 100%|██████████| 8/8 [00:00<00:00, 35.35it/s]\n"
          ]
        },
        {
          "name": "stdout",
          "output_type": "stream",
          "text": [
            "Slice 19/20 retrained for shard 3/5\n"
          ]
        },
        {
          "name": "stderr",
          "output_type": "stream",
          "text": [
            "Epoch 1/5: 100%|██████████| 8/8 [00:00<00:00, 34.35it/s]\n",
            "Epoch 2/5: 100%|██████████| 8/8 [00:00<00:00, 35.44it/s]\n",
            "Epoch 3/5: 100%|██████████| 8/8 [00:00<00:00, 35.15it/s]\n",
            "Epoch 4/5: 100%|██████████| 8/8 [00:00<00:00, 35.01it/s]\n",
            "Epoch 5/5: 100%|██████████| 8/8 [00:00<00:00, 34.88it/s]\n"
          ]
        },
        {
          "name": "stdout",
          "output_type": "stream",
          "text": [
            "Slice 20/20 retrained for shard 3/5\n",
            "Retraining shard 4/5 containing data to forget\n"
          ]
        },
        {
          "name": "stderr",
          "output_type": "stream",
          "text": [
            "Epoch 1/5: 100%|██████████| 8/8 [00:00<00:00, 34.02it/s]\n",
            "Epoch 2/5: 100%|██████████| 8/8 [00:00<00:00, 34.84it/s]\n",
            "Epoch 3/5: 100%|██████████| 8/8 [00:00<00:00, 34.77it/s]\n",
            "Epoch 4/5: 100%|██████████| 8/8 [00:00<00:00, 34.81it/s]\n",
            "Epoch 5/5: 100%|██████████| 8/8 [00:00<00:00, 35.16it/s]\n"
          ]
        },
        {
          "name": "stdout",
          "output_type": "stream",
          "text": [
            "Slice 1/20 retrained for shard 4/5\n"
          ]
        },
        {
          "name": "stderr",
          "output_type": "stream",
          "text": [
            "Epoch 1/5: 100%|██████████| 8/8 [00:00<00:00, 34.21it/s]\n",
            "Epoch 2/5: 100%|██████████| 8/8 [00:00<00:00, 35.17it/s]\n",
            "Epoch 3/5: 100%|██████████| 8/8 [00:00<00:00, 35.52it/s]\n",
            "Epoch 4/5: 100%|██████████| 8/8 [00:00<00:00, 35.11it/s]\n",
            "Epoch 5/5: 100%|██████████| 8/8 [00:00<00:00, 35.25it/s]\n"
          ]
        },
        {
          "name": "stdout",
          "output_type": "stream",
          "text": [
            "Slice 2/20 retrained for shard 4/5\n"
          ]
        },
        {
          "name": "stderr",
          "output_type": "stream",
          "text": [
            "Epoch 1/5: 100%|██████████| 8/8 [00:00<00:00, 34.59it/s]\n",
            "Epoch 2/5: 100%|██████████| 8/8 [00:00<00:00, 35.42it/s]\n",
            "Epoch 3/5: 100%|██████████| 8/8 [00:00<00:00, 35.45it/s]\n",
            "Epoch 4/5: 100%|██████████| 8/8 [00:00<00:00, 35.41it/s]\n",
            "Epoch 5/5: 100%|██████████| 8/8 [00:00<00:00, 35.39it/s]\n"
          ]
        },
        {
          "name": "stdout",
          "output_type": "stream",
          "text": [
            "Slice 3/20 retrained for shard 4/5\n"
          ]
        },
        {
          "name": "stderr",
          "output_type": "stream",
          "text": [
            "Epoch 1/5: 100%|██████████| 8/8 [00:00<00:00, 34.27it/s]\n",
            "Epoch 2/5: 100%|██████████| 8/8 [00:00<00:00, 35.41it/s]\n",
            "Epoch 3/5: 100%|██████████| 8/8 [00:00<00:00, 35.47it/s]\n",
            "Epoch 4/5: 100%|██████████| 8/8 [00:00<00:00, 35.44it/s]\n",
            "Epoch 5/5: 100%|██████████| 8/8 [00:00<00:00, 35.51it/s]\n"
          ]
        },
        {
          "name": "stdout",
          "output_type": "stream",
          "text": [
            "Slice 4/20 retrained for shard 4/5\n"
          ]
        },
        {
          "name": "stderr",
          "output_type": "stream",
          "text": [
            "Epoch 1/5: 100%|██████████| 8/8 [00:00<00:00, 34.13it/s]\n",
            "Epoch 2/5: 100%|██████████| 8/8 [00:00<00:00, 34.95it/s]\n",
            "Epoch 3/5: 100%|██████████| 8/8 [00:00<00:00, 35.48it/s]\n",
            "Epoch 4/5: 100%|██████████| 8/8 [00:00<00:00, 35.15it/s]\n",
            "Epoch 5/5: 100%|██████████| 8/8 [00:00<00:00, 35.32it/s]\n"
          ]
        },
        {
          "name": "stdout",
          "output_type": "stream",
          "text": [
            "Slice 5/20 retrained for shard 4/5\n"
          ]
        },
        {
          "name": "stderr",
          "output_type": "stream",
          "text": [
            "Epoch 1/5: 100%|██████████| 8/8 [00:00<00:00, 34.42it/s]\n",
            "Epoch 2/5: 100%|██████████| 8/8 [00:00<00:00, 35.22it/s]\n",
            "Epoch 3/5: 100%|██████████| 8/8 [00:00<00:00, 35.22it/s]\n",
            "Epoch 4/5: 100%|██████████| 8/8 [00:00<00:00, 35.14it/s]\n",
            "Epoch 5/5: 100%|██████████| 8/8 [00:00<00:00, 35.25it/s]\n"
          ]
        },
        {
          "name": "stdout",
          "output_type": "stream",
          "text": [
            "Slice 6/20 retrained for shard 4/5\n"
          ]
        },
        {
          "name": "stderr",
          "output_type": "stream",
          "text": [
            "Epoch 1/5: 100%|██████████| 8/8 [00:00<00:00, 34.24it/s]\n",
            "Epoch 2/5: 100%|██████████| 8/8 [00:00<00:00, 35.23it/s]\n",
            "Epoch 3/5: 100%|██████████| 8/8 [00:00<00:00, 35.22it/s]\n",
            "Epoch 4/5: 100%|██████████| 8/8 [00:00<00:00, 35.03it/s]\n",
            "Epoch 5/5: 100%|██████████| 8/8 [00:00<00:00, 35.17it/s]\n"
          ]
        },
        {
          "name": "stdout",
          "output_type": "stream",
          "text": [
            "Slice 7/20 retrained for shard 4/5\n"
          ]
        },
        {
          "name": "stderr",
          "output_type": "stream",
          "text": [
            "Epoch 1/5: 100%|██████████| 8/8 [00:00<00:00, 33.90it/s]\n",
            "Epoch 2/5: 100%|██████████| 8/8 [00:00<00:00, 34.47it/s]\n",
            "Epoch 3/5: 100%|██████████| 8/8 [00:00<00:00, 34.72it/s]\n",
            "Epoch 4/5: 100%|██████████| 8/8 [00:00<00:00, 34.78it/s]\n",
            "Epoch 5/5: 100%|██████████| 8/8 [00:00<00:00, 34.75it/s]\n"
          ]
        },
        {
          "name": "stdout",
          "output_type": "stream",
          "text": [
            "Slice 8/20 retrained for shard 4/5\n"
          ]
        },
        {
          "name": "stderr",
          "output_type": "stream",
          "text": [
            "Epoch 1/5: 100%|██████████| 8/8 [00:00<00:00, 33.86it/s]\n",
            "Epoch 2/5: 100%|██████████| 8/8 [00:00<00:00, 35.19it/s]\n",
            "Epoch 3/5: 100%|██████████| 8/8 [00:00<00:00, 35.28it/s]\n",
            "Epoch 4/5: 100%|██████████| 8/8 [00:00<00:00, 35.38it/s]\n",
            "Epoch 5/5: 100%|██████████| 8/8 [00:00<00:00, 35.38it/s]\n"
          ]
        },
        {
          "name": "stdout",
          "output_type": "stream",
          "text": [
            "Slice 9/20 retrained for shard 4/5\n"
          ]
        },
        {
          "name": "stderr",
          "output_type": "stream",
          "text": [
            "Epoch 1/5: 100%|██████████| 8/8 [00:00<00:00, 34.18it/s]\n",
            "Epoch 2/5: 100%|██████████| 8/8 [00:00<00:00, 34.86it/s]\n",
            "Epoch 3/5: 100%|██████████| 8/8 [00:00<00:00, 34.93it/s]\n",
            "Epoch 4/5: 100%|██████████| 8/8 [00:00<00:00, 34.92it/s]\n",
            "Epoch 5/5: 100%|██████████| 8/8 [00:00<00:00, 35.39it/s]\n"
          ]
        },
        {
          "name": "stdout",
          "output_type": "stream",
          "text": [
            "Slice 10/20 retrained for shard 4/5\n"
          ]
        },
        {
          "name": "stderr",
          "output_type": "stream",
          "text": [
            "Epoch 1/5: 100%|██████████| 8/8 [00:00<00:00, 34.33it/s]\n",
            "Epoch 2/5: 100%|██████████| 8/8 [00:00<00:00, 35.44it/s]\n",
            "Epoch 3/5: 100%|██████████| 8/8 [00:00<00:00, 35.59it/s]\n",
            "Epoch 4/5: 100%|██████████| 8/8 [00:00<00:00, 38.35it/s]\n",
            "Epoch 5/5: 100%|██████████| 8/8 [00:00<00:00, 36.78it/s]\n"
          ]
        },
        {
          "name": "stdout",
          "output_type": "stream",
          "text": [
            "Slice 11/20 retrained for shard 4/5\n"
          ]
        },
        {
          "name": "stderr",
          "output_type": "stream",
          "text": [
            "Epoch 1/5: 100%|██████████| 8/8 [00:00<00:00, 35.25it/s]\n",
            "Epoch 2/5: 100%|██████████| 8/8 [00:00<00:00, 35.33it/s]\n",
            "Epoch 3/5: 100%|██████████| 8/8 [00:00<00:00, 35.85it/s]\n",
            "Epoch 4/5: 100%|██████████| 8/8 [00:00<00:00, 35.84it/s]\n",
            "Epoch 5/5: 100%|██████████| 8/8 [00:00<00:00, 36.36it/s]\n"
          ]
        },
        {
          "name": "stdout",
          "output_type": "stream",
          "text": [
            "Slice 12/20 retrained for shard 4/5\n"
          ]
        },
        {
          "name": "stderr",
          "output_type": "stream",
          "text": [
            "Epoch 1/5: 100%|██████████| 8/8 [00:00<00:00, 34.99it/s]\n",
            "Epoch 2/5: 100%|██████████| 8/8 [00:00<00:00, 35.31it/s]\n",
            "Epoch 3/5: 100%|██████████| 8/8 [00:00<00:00, 36.50it/s]\n",
            "Epoch 4/5: 100%|██████████| 8/8 [00:00<00:00, 37.58it/s]\n",
            "Epoch 5/5: 100%|██████████| 8/8 [00:00<00:00, 36.70it/s]\n"
          ]
        },
        {
          "name": "stdout",
          "output_type": "stream",
          "text": [
            "Slice 13/20 retrained for shard 4/5\n"
          ]
        },
        {
          "name": "stderr",
          "output_type": "stream",
          "text": [
            "Epoch 1/5: 100%|██████████| 8/8 [00:00<00:00, 34.51it/s]\n",
            "Epoch 2/5: 100%|██████████| 8/8 [00:00<00:00, 35.45it/s]\n",
            "Epoch 3/5: 100%|██████████| 8/8 [00:00<00:00, 36.24it/s]\n",
            "Epoch 4/5: 100%|██████████| 8/8 [00:00<00:00, 36.48it/s]\n",
            "Epoch 5/5: 100%|██████████| 8/8 [00:00<00:00, 35.37it/s]\n"
          ]
        },
        {
          "name": "stdout",
          "output_type": "stream",
          "text": [
            "Slice 14/20 retrained for shard 4/5\n"
          ]
        },
        {
          "name": "stderr",
          "output_type": "stream",
          "text": [
            "Epoch 1/5: 100%|██████████| 8/8 [00:00<00:00, 34.39it/s]\n",
            "Epoch 2/5: 100%|██████████| 8/8 [00:00<00:00, 36.45it/s]\n",
            "Epoch 3/5: 100%|██████████| 8/8 [00:00<00:00, 37.38it/s]\n",
            "Epoch 4/5: 100%|██████████| 8/8 [00:00<00:00, 36.53it/s]\n",
            "Epoch 5/5: 100%|██████████| 8/8 [00:00<00:00, 35.81it/s]\n"
          ]
        },
        {
          "name": "stdout",
          "output_type": "stream",
          "text": [
            "Slice 15/20 retrained for shard 4/5\n"
          ]
        },
        {
          "name": "stderr",
          "output_type": "stream",
          "text": [
            "Epoch 1/5: 100%|██████████| 8/8 [00:00<00:00, 34.63it/s]\n",
            "Epoch 2/5: 100%|██████████| 8/8 [00:00<00:00, 35.78it/s]\n",
            "Epoch 3/5: 100%|██████████| 8/8 [00:00<00:00, 36.58it/s]\n",
            "Epoch 4/5: 100%|██████████| 8/8 [00:00<00:00, 35.40it/s]\n",
            "Epoch 5/5: 100%|██████████| 8/8 [00:00<00:00, 35.40it/s]\n"
          ]
        },
        {
          "name": "stdout",
          "output_type": "stream",
          "text": [
            "Slice 16/20 retrained for shard 4/5\n"
          ]
        },
        {
          "name": "stderr",
          "output_type": "stream",
          "text": [
            "Epoch 1/5: 100%|██████████| 8/8 [00:00<00:00, 36.23it/s]\n",
            "Epoch 2/5: 100%|██████████| 8/8 [00:00<00:00, 36.67it/s]\n",
            "Epoch 3/5: 100%|██████████| 8/8 [00:00<00:00, 35.76it/s]\n",
            "Epoch 4/5: 100%|██████████| 8/8 [00:00<00:00, 35.25it/s]\n",
            "Epoch 5/5: 100%|██████████| 8/8 [00:00<00:00, 35.44it/s]\n"
          ]
        },
        {
          "name": "stdout",
          "output_type": "stream",
          "text": [
            "Slice 17/20 retrained for shard 4/5\n"
          ]
        },
        {
          "name": "stderr",
          "output_type": "stream",
          "text": [
            "Epoch 1/5: 100%|██████████| 8/8 [00:00<00:00, 35.07it/s]\n",
            "Epoch 2/5: 100%|██████████| 8/8 [00:00<00:00, 35.66it/s]\n",
            "Epoch 3/5: 100%|██████████| 8/8 [00:00<00:00, 35.42it/s]\n",
            "Epoch 4/5: 100%|██████████| 8/8 [00:00<00:00, 35.88it/s]\n",
            "Epoch 5/5: 100%|██████████| 8/8 [00:00<00:00, 37.25it/s]\n"
          ]
        },
        {
          "name": "stdout",
          "output_type": "stream",
          "text": [
            "Slice 18/20 retrained for shard 4/5\n"
          ]
        },
        {
          "name": "stderr",
          "output_type": "stream",
          "text": [
            "Epoch 1/5: 100%|██████████| 8/8 [00:00<00:00, 35.36it/s]\n",
            "Epoch 2/5: 100%|██████████| 8/8 [00:00<00:00, 35.54it/s]\n",
            "Epoch 3/5: 100%|██████████| 8/8 [00:00<00:00, 35.49it/s]\n",
            "Epoch 4/5: 100%|██████████| 8/8 [00:00<00:00, 36.04it/s]\n",
            "Epoch 5/5: 100%|██████████| 8/8 [00:00<00:00, 36.33it/s]\n"
          ]
        },
        {
          "name": "stdout",
          "output_type": "stream",
          "text": [
            "Slice 19/20 retrained for shard 4/5\n"
          ]
        },
        {
          "name": "stderr",
          "output_type": "stream",
          "text": [
            "Epoch 1/5: 100%|██████████| 8/8 [00:00<00:00, 35.68it/s]\n",
            "Epoch 2/5: 100%|██████████| 8/8 [00:00<00:00, 36.62it/s]\n",
            "Epoch 3/5: 100%|██████████| 8/8 [00:00<00:00, 36.09it/s]\n",
            "Epoch 4/5: 100%|██████████| 8/8 [00:00<00:00, 36.23it/s]\n",
            "Epoch 5/5: 100%|██████████| 8/8 [00:00<00:00, 38.66it/s]\n"
          ]
        },
        {
          "name": "stdout",
          "output_type": "stream",
          "text": [
            "Slice 20/20 retrained for shard 4/5\n"
          ]
        },
        {
          "name": "stderr",
          "output_type": "stream",
          "text": [
            "Evaluating model: Shard 1/5, slice 1/20: 100%|██████████| 157/157 [00:02<00:00, 53.50it/s]\n",
            "Evaluating model: Shard 1/5, slice 2/20: 100%|██████████| 157/157 [00:02<00:00, 53.53it/s]\n",
            "Evaluating model: Shard 1/5, slice 3/20: 100%|██████████| 157/157 [00:02<00:00, 53.53it/s]\n",
            "Evaluating model: Shard 1/5, slice 4/20: 100%|██████████| 157/157 [00:02<00:00, 53.54it/s]\n",
            "Evaluating model: Shard 1/5, slice 5/20: 100%|██████████| 157/157 [00:02<00:00, 53.51it/s]\n",
            "Evaluating model: Shard 1/5, slice 6/20: 100%|██████████| 157/157 [00:02<00:00, 53.50it/s]\n",
            "Evaluating model: Shard 1/5, slice 7/20: 100%|██████████| 157/157 [00:02<00:00, 53.53it/s]\n",
            "Evaluating model: Shard 1/5, slice 8/20: 100%|██████████| 157/157 [00:02<00:00, 53.50it/s]\n",
            "Evaluating model: Shard 1/5, slice 9/20: 100%|██████████| 157/157 [00:02<00:00, 53.47it/s]\n",
            "Evaluating model: Shard 1/5, slice 10/20: 100%|██████████| 157/157 [00:02<00:00, 53.46it/s]\n",
            "Evaluating model: Shard 1/5, slice 11/20: 100%|██████████| 157/157 [00:02<00:00, 53.49it/s]\n",
            "Evaluating model: Shard 1/5, slice 12/20: 100%|██████████| 157/157 [00:02<00:00, 53.54it/s]\n",
            "Evaluating model: Shard 1/5, slice 13/20: 100%|██████████| 157/157 [00:02<00:00, 53.52it/s]\n",
            "Evaluating model: Shard 1/5, slice 14/20: 100%|██████████| 157/157 [00:02<00:00, 53.52it/s]\n",
            "Evaluating model: Shard 1/5, slice 15/20: 100%|██████████| 157/157 [00:02<00:00, 53.58it/s]\n",
            "Evaluating model: Shard 1/5, slice 16/20: 100%|██████████| 157/157 [00:02<00:00, 53.58it/s]\n",
            "Evaluating model: Shard 1/5, slice 17/20: 100%|██████████| 157/157 [00:02<00:00, 53.52it/s]\n",
            "Evaluating model: Shard 1/5, slice 18/20: 100%|██████████| 157/157 [00:02<00:00, 53.59it/s]\n",
            "Evaluating model: Shard 1/5, slice 19/20: 100%|██████████| 157/157 [00:02<00:00, 53.64it/s]\n",
            "Evaluating model: Shard 1/5, slice 20/20: 100%|██████████| 157/157 [00:02<00:00, 53.63it/s]\n",
            "Evaluating model: Shard 2/5, slice 1/20: 100%|██████████| 157/157 [00:02<00:00, 53.61it/s]\n",
            "Evaluating model: Shard 2/5, slice 2/20: 100%|██████████| 157/157 [00:02<00:00, 53.65it/s]\n",
            "Evaluating model: Shard 2/5, slice 3/20: 100%|██████████| 157/157 [00:02<00:00, 53.62it/s]\n",
            "Evaluating model: Shard 2/5, slice 4/20: 100%|██████████| 157/157 [00:02<00:00, 53.66it/s]\n",
            "Evaluating model: Shard 2/5, slice 5/20: 100%|██████████| 157/157 [00:02<00:00, 53.62it/s]\n",
            "Evaluating model: Shard 2/5, slice 6/20: 100%|██████████| 157/157 [00:02<00:00, 53.57it/s]\n",
            "Evaluating model: Shard 2/5, slice 7/20: 100%|██████████| 157/157 [00:02<00:00, 53.57it/s]\n",
            "Evaluating model: Shard 2/5, slice 8/20: 100%|██████████| 157/157 [00:02<00:00, 53.58it/s]\n",
            "Evaluating model: Shard 2/5, slice 9/20: 100%|██████████| 157/157 [00:02<00:00, 53.62it/s]\n",
            "Evaluating model: Shard 2/5, slice 10/20: 100%|██████████| 157/157 [00:02<00:00, 53.59it/s]\n",
            "Evaluating model: Shard 2/5, slice 11/20: 100%|██████████| 157/157 [00:02<00:00, 53.55it/s]\n",
            "Evaluating model: Shard 2/5, slice 12/20: 100%|██████████| 157/157 [00:02<00:00, 53.58it/s]\n",
            "Evaluating model: Shard 2/5, slice 13/20: 100%|██████████| 157/157 [00:02<00:00, 53.61it/s]\n",
            "Evaluating model: Shard 2/5, slice 14/20: 100%|██████████| 157/157 [00:02<00:00, 53.52it/s]\n",
            "Evaluating model: Shard 2/5, slice 15/20: 100%|██████████| 157/157 [00:02<00:00, 53.49it/s]\n",
            "Evaluating model: Shard 2/5, slice 16/20: 100%|██████████| 157/157 [00:02<00:00, 53.46it/s]\n",
            "Evaluating model: Shard 2/5, slice 17/20: 100%|██████████| 157/157 [00:02<00:00, 53.55it/s]\n",
            "Evaluating model: Shard 2/5, slice 18/20: 100%|██████████| 157/157 [00:02<00:00, 53.71it/s]\n",
            "Evaluating model: Shard 2/5, slice 19/20: 100%|██████████| 157/157 [00:02<00:00, 53.70it/s]\n",
            "Evaluating model: Shard 2/5, slice 20/20: 100%|██████████| 157/157 [00:02<00:00, 53.67it/s]\n",
            "Evaluating model: Shard 3/5, slice 1/20: 100%|██████████| 157/157 [00:02<00:00, 53.72it/s]\n",
            "Evaluating model: Shard 3/5, slice 2/20: 100%|██████████| 157/157 [00:02<00:00, 53.69it/s]\n",
            "Evaluating model: Shard 3/5, slice 3/20: 100%|██████████| 157/157 [00:02<00:00, 53.67it/s]\n",
            "Evaluating model: Shard 3/5, slice 4/20: 100%|██████████| 157/157 [00:02<00:00, 53.66it/s]\n",
            "Evaluating model: Shard 3/5, slice 5/20: 100%|██████████| 157/157 [00:02<00:00, 53.67it/s]\n",
            "Evaluating model: Shard 3/5, slice 6/20: 100%|██████████| 157/157 [00:02<00:00, 53.62it/s]\n",
            "Evaluating model: Shard 3/5, slice 7/20: 100%|██████████| 157/157 [00:02<00:00, 53.62it/s]\n",
            "Evaluating model: Shard 3/5, slice 8/20: 100%|██████████| 157/157 [00:02<00:00, 53.62it/s]\n",
            "Evaluating model: Shard 3/5, slice 9/20: 100%|██████████| 157/157 [00:02<00:00, 53.62it/s]\n",
            "Evaluating model: Shard 3/5, slice 10/20: 100%|██████████| 157/157 [00:02<00:00, 53.68it/s]\n",
            "Evaluating model: Shard 3/5, slice 11/20: 100%|██████████| 157/157 [00:02<00:00, 53.63it/s]\n",
            "Evaluating model: Shard 3/5, slice 12/20: 100%|██████████| 157/157 [00:02<00:00, 53.74it/s]\n",
            "Evaluating model: Shard 3/5, slice 13/20: 100%|██████████| 157/157 [00:02<00:00, 53.73it/s]\n",
            "Evaluating model: Shard 3/5, slice 14/20: 100%|██████████| 157/157 [00:02<00:00, 53.68it/s]\n",
            "Evaluating model: Shard 3/5, slice 15/20: 100%|██████████| 157/157 [00:02<00:00, 53.69it/s]\n",
            "Evaluating model: Shard 3/5, slice 16/20: 100%|██████████| 157/157 [00:02<00:00, 53.65it/s]\n",
            "Evaluating model: Shard 3/5, slice 17/20: 100%|██████████| 157/157 [00:02<00:00, 53.63it/s]\n",
            "Evaluating model: Shard 3/5, slice 18/20: 100%|██████████| 157/157 [00:02<00:00, 53.62it/s]\n",
            "Evaluating model: Shard 3/5, slice 19/20: 100%|██████████| 157/157 [00:02<00:00, 53.67it/s]\n",
            "Evaluating model: Shard 3/5, slice 20/20: 100%|██████████| 157/157 [00:02<00:00, 53.66it/s]\n",
            "Evaluating model: Shard 4/5, slice 1/20: 100%|██████████| 157/157 [00:02<00:00, 53.62it/s]\n",
            "Evaluating model: Shard 4/5, slice 2/20: 100%|██████████| 157/157 [00:02<00:00, 53.66it/s]\n",
            "Evaluating model: Shard 4/5, slice 3/20: 100%|██████████| 157/157 [00:02<00:00, 53.66it/s]\n",
            "Evaluating model: Shard 4/5, slice 4/20: 100%|██████████| 157/157 [00:02<00:00, 53.67it/s]\n",
            "Evaluating model: Shard 4/5, slice 5/20: 100%|██████████| 157/157 [00:02<00:00, 53.62it/s]\n",
            "Evaluating model: Shard 4/5, slice 6/20: 100%|██████████| 157/157 [00:02<00:00, 53.70it/s]\n",
            "Evaluating model: Shard 4/5, slice 7/20: 100%|██████████| 157/157 [00:02<00:00, 53.66it/s]\n",
            "Evaluating model: Shard 4/5, slice 8/20: 100%|██████████| 157/157 [00:02<00:00, 53.67it/s]\n",
            "Evaluating model: Shard 4/5, slice 9/20: 100%|██████████| 157/157 [00:02<00:00, 53.66it/s]\n",
            "Evaluating model: Shard 4/5, slice 10/20: 100%|██████████| 157/157 [00:02<00:00, 53.69it/s]\n",
            "Evaluating model: Shard 4/5, slice 11/20: 100%|██████████| 157/157 [00:02<00:00, 53.69it/s]\n",
            "Evaluating model: Shard 4/5, slice 12/20: 100%|██████████| 157/157 [00:02<00:00, 53.77it/s]\n",
            "Evaluating model: Shard 4/5, slice 13/20: 100%|██████████| 157/157 [00:02<00:00, 53.80it/s]\n",
            "Evaluating model: Shard 4/5, slice 14/20: 100%|██████████| 157/157 [00:02<00:00, 53.69it/s]\n",
            "Evaluating model: Shard 4/5, slice 15/20: 100%|██████████| 157/157 [00:02<00:00, 53.67it/s]\n",
            "Evaluating model: Shard 4/5, slice 16/20: 100%|██████████| 157/157 [00:02<00:00, 53.73it/s]\n",
            "Evaluating model: Shard 4/5, slice 17/20: 100%|██████████| 157/157 [00:02<00:00, 53.70it/s]\n",
            "Evaluating model: Shard 4/5, slice 18/20: 100%|██████████| 157/157 [00:02<00:00, 53.68it/s]\n",
            "Evaluating model: Shard 4/5, slice 19/20: 100%|██████████| 157/157 [00:02<00:00, 53.70it/s]\n",
            "Evaluating model: Shard 4/5, slice 20/20: 100%|██████████| 157/157 [00:02<00:00, 53.71it/s]\n",
            "Evaluating model: Shard 5/5, slice 1/20: 100%|██████████| 157/157 [00:02<00:00, 53.75it/s]\n",
            "Evaluating model: Shard 5/5, slice 2/20: 100%|██████████| 157/157 [00:02<00:00, 53.70it/s]\n",
            "Evaluating model: Shard 5/5, slice 3/20: 100%|██████████| 157/157 [00:02<00:00, 53.74it/s]\n",
            "Evaluating model: Shard 5/5, slice 4/20: 100%|██████████| 157/157 [00:02<00:00, 53.74it/s]\n",
            "Evaluating model: Shard 5/5, slice 5/20: 100%|██████████| 157/157 [00:02<00:00, 53.65it/s]\n",
            "Evaluating model: Shard 5/5, slice 6/20: 100%|██████████| 157/157 [00:02<00:00, 53.62it/s]\n",
            "Evaluating model: Shard 5/5, slice 7/20: 100%|██████████| 157/157 [00:02<00:00, 53.69it/s]\n",
            "Evaluating model: Shard 5/5, slice 8/20: 100%|██████████| 157/157 [00:02<00:00, 53.73it/s]\n",
            "Evaluating model: Shard 5/5, slice 9/20: 100%|██████████| 157/157 [00:02<00:00, 53.73it/s]\n",
            "Evaluating model: Shard 5/5, slice 10/20: 100%|██████████| 157/157 [00:02<00:00, 53.69it/s]\n",
            "Evaluating model: Shard 5/5, slice 11/20: 100%|██████████| 157/157 [00:02<00:00, 53.68it/s]\n",
            "Evaluating model: Shard 5/5, slice 12/20: 100%|██████████| 157/157 [00:02<00:00, 53.63it/s]\n",
            "Evaluating model: Shard 5/5, slice 13/20: 100%|██████████| 157/157 [00:02<00:00, 53.60it/s]\n",
            "Evaluating model: Shard 5/5, slice 14/20: 100%|██████████| 157/157 [00:02<00:00, 53.65it/s]\n",
            "Evaluating model: Shard 5/5, slice 15/20: 100%|██████████| 157/157 [00:02<00:00, 53.66it/s]\n",
            "Evaluating model: Shard 5/5, slice 16/20: 100%|██████████| 157/157 [00:02<00:00, 53.69it/s]\n",
            "Evaluating model: Shard 5/5, slice 17/20: 100%|██████████| 157/157 [00:02<00:00, 53.66it/s]\n",
            "Evaluating model: Shard 5/5, slice 18/20: 100%|██████████| 157/157 [00:02<00:00, 53.65it/s]\n",
            "Evaluating model: Shard 5/5, slice 19/20: 100%|██████████| 157/157 [00:02<00:00, 53.66it/s]\n",
            "Evaluating model: Shard 5/5, slice 20/20: 100%|██████████| 157/157 [00:02<00:00, 53.71it/s]\n"
          ]
        }
      ],
      "source": [
        "S = 5\n",
        "R = 20\n",
        "shards = create_shards(train_dataset, S)\n",
        "shard_models = sisa_train(shards, R, num_epochs, initial_model, criterion, optimizer_fn)\n",
        "\n",
        "test_loader = data.DataLoader(test_dataset, batch_size=64, shuffle=False)\n",
        "\n",
        "accuracy, precision, recall, f1, auroc = evaluate_models(shard_models, test_loader)\n",
        "results.append((S, R, \"Majority Voting\", accuracy, precision, recall, f1, auroc))\n",
        "\n",
        "if accuracy > best_accuracy:\n",
        "    best_accuracy = accuracy\n",
        "    best_model = shard_models\n",
        "    best_result = (S, R, accuracy, precision, recall, f1, auroc)\n",
        "\n",
        "\n",
        "# Perform unlearning\n",
        "data_to_forget_indices = np.random.choice(len(train_data), 500, replace=False)\n",
        "shard_models_unlearned = sisa_unlearn(shards, R, shard_models, initial_model, criterion, optimizer_fn, data_to_forget_indices)\n",
        "\n",
        "accuracy, precision, recall, f1, auroc = evaluate_models(shard_models_unlearned, test_loader)\n",
        "results_unlearning.append((S, R, \"Majority Voting\" + \" (Unlearned)\", accuracy, precision, recall, f1, auroc))\n",
        "\n",
        "if accuracy > best_accuracy_unlearned:\n",
        "    best_accuracy_unlearned = accuracy\n",
        "    best_model_unlearned = shard_models_unlearned\n",
        "    best_result_unlearned = (S, R, accuracy, precision, recall, f1, auroc)\n",
        "    \n",
        "clear_CUDA()"
      ]
    },
    {
      "cell_type": "code",
      "execution_count": 17,
      "metadata": {
        "colab": {
          "base_uri": "https://localhost:8080/"
        },
        "collapsed": true,
        "id": "yg_SELZ_ErlX",
        "outputId": "5d61d87c-244f-4233-958e-c641d896cbc8"
      },
      "outputs": [
        {
          "name": "stdout",
          "output_type": "stream",
          "text": [
            "Training shard 1/10, slice 1/5\n"
          ]
        },
        {
          "name": "stderr",
          "output_type": "stream",
          "text": [
            "Epoch 1/5: 100%|██████████| 16/16 [00:00<00:00, 35.20it/s]\n",
            "Epoch 2/5: 100%|██████████| 16/16 [00:00<00:00, 35.94it/s]\n",
            "Epoch 3/5:   0%|          | 0/16 [00:00<?, ?it/s]"
          ]
        },
        {
          "name": "stderr",
          "output_type": "stream",
          "text": [
            "Epoch 3/5: 100%|██████████| 16/16 [00:00<00:00, 35.77it/s]\n",
            "Epoch 4/5: 100%|██████████| 16/16 [00:00<00:00, 35.06it/s]\n",
            "Epoch 5/5: 100%|██████████| 16/16 [00:00<00:00, 35.96it/s]\n"
          ]
        },
        {
          "name": "stdout",
          "output_type": "stream",
          "text": [
            "Training shard 1/10, slice 2/5\n"
          ]
        },
        {
          "name": "stderr",
          "output_type": "stream",
          "text": [
            "Epoch 1/5: 100%|██████████| 16/16 [00:00<00:00, 35.05it/s]\n",
            "Epoch 2/5: 100%|██████████| 16/16 [00:00<00:00, 35.86it/s]\n",
            "Epoch 3/5: 100%|██████████| 16/16 [00:00<00:00, 36.32it/s]\n",
            "Epoch 4/5: 100%|██████████| 16/16 [00:00<00:00, 35.12it/s]\n",
            "Epoch 5/5: 100%|██████████| 16/16 [00:00<00:00, 35.60it/s]\n"
          ]
        },
        {
          "name": "stdout",
          "output_type": "stream",
          "text": [
            "Training shard 1/10, slice 3/5\n"
          ]
        },
        {
          "name": "stderr",
          "output_type": "stream",
          "text": [
            "Epoch 1/5: 100%|██████████| 16/16 [00:00<00:00, 34.84it/s]\n",
            "Epoch 2/5: 100%|██████████| 16/16 [00:00<00:00, 37.00it/s]\n",
            "Epoch 3/5: 100%|██████████| 16/16 [00:00<00:00, 35.42it/s]\n",
            "Epoch 4/5: 100%|██████████| 16/16 [00:00<00:00, 35.59it/s]\n",
            "Epoch 5/5: 100%|██████████| 16/16 [00:00<00:00, 35.50it/s]\n"
          ]
        },
        {
          "name": "stdout",
          "output_type": "stream",
          "text": [
            "Training shard 1/10, slice 4/5\n"
          ]
        },
        {
          "name": "stderr",
          "output_type": "stream",
          "text": [
            "Epoch 1/5: 100%|██████████| 16/16 [00:00<00:00, 35.08it/s]\n",
            "Epoch 2/5: 100%|██████████| 16/16 [00:00<00:00, 36.69it/s]\n",
            "Epoch 3/5: 100%|██████████| 16/16 [00:00<00:00, 35.23it/s]\n",
            "Epoch 4/5: 100%|██████████| 16/16 [00:00<00:00, 36.03it/s]\n",
            "Epoch 5/5: 100%|██████████| 16/16 [00:00<00:00, 35.43it/s]\n"
          ]
        },
        {
          "name": "stdout",
          "output_type": "stream",
          "text": [
            "Training shard 1/10, slice 5/5\n"
          ]
        },
        {
          "name": "stderr",
          "output_type": "stream",
          "text": [
            "Epoch 1/5: 100%|██████████| 16/16 [00:00<00:00, 35.83it/s]\n",
            "Epoch 2/5: 100%|██████████| 16/16 [00:00<00:00, 36.25it/s]\n",
            "Epoch 3/5: 100%|██████████| 16/16 [00:00<00:00, 35.39it/s]\n",
            "Epoch 4/5: 100%|██████████| 16/16 [00:00<00:00, 36.19it/s]\n",
            "Epoch 5/5: 100%|██████████| 16/16 [00:00<00:00, 35.41it/s]\n"
          ]
        },
        {
          "name": "stdout",
          "output_type": "stream",
          "text": [
            "Training shard 2/10, slice 1/5\n"
          ]
        },
        {
          "name": "stderr",
          "output_type": "stream",
          "text": [
            "Epoch 1/5: 100%|██████████| 16/16 [00:00<00:00, 36.41it/s]\n",
            "Epoch 2/5: 100%|██████████| 16/16 [00:00<00:00, 35.67it/s]\n",
            "Epoch 3/5: 100%|██████████| 16/16 [00:00<00:00, 35.92it/s]\n",
            "Epoch 4/5: 100%|██████████| 16/16 [00:00<00:00, 35.75it/s]\n",
            "Epoch 5/5: 100%|██████████| 16/16 [00:00<00:00, 36.18it/s]\n"
          ]
        },
        {
          "name": "stdout",
          "output_type": "stream",
          "text": [
            "Training shard 2/10, slice 2/5\n"
          ]
        },
        {
          "name": "stderr",
          "output_type": "stream",
          "text": [
            "Epoch 1/5: 100%|██████████| 16/16 [00:00<00:00, 36.17it/s]\n",
            "Epoch 2/5: 100%|██████████| 16/16 [00:00<00:00, 35.58it/s]\n",
            "Epoch 3/5: 100%|██████████| 16/16 [00:00<00:00, 35.28it/s]\n",
            "Epoch 4/5: 100%|██████████| 16/16 [00:00<00:00, 36.21it/s]\n",
            "Epoch 5/5: 100%|██████████| 16/16 [00:00<00:00, 35.24it/s]\n"
          ]
        },
        {
          "name": "stdout",
          "output_type": "stream",
          "text": [
            "Training shard 2/10, slice 3/5\n"
          ]
        },
        {
          "name": "stderr",
          "output_type": "stream",
          "text": [
            "Epoch 1/5: 100%|██████████| 16/16 [00:00<00:00, 35.92it/s]\n",
            "Epoch 2/5: 100%|██████████| 16/16 [00:00<00:00, 35.39it/s]\n",
            "Epoch 3/5: 100%|██████████| 16/16 [00:00<00:00, 35.31it/s]\n",
            "Epoch 4/5: 100%|██████████| 16/16 [00:00<00:00, 35.39it/s]\n",
            "Epoch 5/5: 100%|██████████| 16/16 [00:00<00:00, 36.04it/s]\n"
          ]
        },
        {
          "name": "stdout",
          "output_type": "stream",
          "text": [
            "Training shard 2/10, slice 4/5\n"
          ]
        },
        {
          "name": "stderr",
          "output_type": "stream",
          "text": [
            "Epoch 1/5: 100%|██████████| 16/16 [00:00<00:00, 35.59it/s]\n",
            "Epoch 2/5: 100%|██████████| 16/16 [00:00<00:00, 35.47it/s]\n",
            "Epoch 3/5: 100%|██████████| 16/16 [00:00<00:00, 35.44it/s]\n",
            "Epoch 4/5: 100%|██████████| 16/16 [00:00<00:00, 35.52it/s]\n",
            "Epoch 5/5: 100%|██████████| 16/16 [00:00<00:00, 36.88it/s]\n"
          ]
        },
        {
          "name": "stdout",
          "output_type": "stream",
          "text": [
            "Training shard 2/10, slice 5/5\n"
          ]
        },
        {
          "name": "stderr",
          "output_type": "stream",
          "text": [
            "Epoch 1/5: 100%|██████████| 16/16 [00:00<00:00, 34.82it/s]\n",
            "Epoch 2/5: 100%|██████████| 16/16 [00:00<00:00, 35.55it/s]\n",
            "Epoch 3/5: 100%|██████████| 16/16 [00:00<00:00, 35.88it/s]\n",
            "Epoch 4/5: 100%|██████████| 16/16 [00:00<00:00, 35.61it/s]\n",
            "Epoch 5/5: 100%|██████████| 16/16 [00:00<00:00, 36.73it/s]\n"
          ]
        },
        {
          "name": "stdout",
          "output_type": "stream",
          "text": [
            "Training shard 3/10, slice 1/5\n"
          ]
        },
        {
          "name": "stderr",
          "output_type": "stream",
          "text": [
            "Epoch 1/5: 100%|██████████| 16/16 [00:00<00:00, 34.74it/s]\n",
            "Epoch 2/5: 100%|██████████| 16/16 [00:00<00:00, 35.91it/s]\n",
            "Epoch 3/5: 100%|██████████| 16/16 [00:00<00:00, 35.27it/s]\n",
            "Epoch 4/5: 100%|██████████| 16/16 [00:00<00:00, 35.46it/s]\n",
            "Epoch 5/5: 100%|██████████| 16/16 [00:00<00:00, 35.19it/s]\n"
          ]
        },
        {
          "name": "stdout",
          "output_type": "stream",
          "text": [
            "Training shard 3/10, slice 2/5\n"
          ]
        },
        {
          "name": "stderr",
          "output_type": "stream",
          "text": [
            "Epoch 1/5: 100%|██████████| 16/16 [00:00<00:00, 34.79it/s]\n",
            "Epoch 2/5: 100%|██████████| 16/16 [00:00<00:00, 35.23it/s]\n",
            "Epoch 3/5: 100%|██████████| 16/16 [00:00<00:00, 35.24it/s]\n",
            "Epoch 4/5: 100%|██████████| 16/16 [00:00<00:00, 35.29it/s]\n",
            "Epoch 5/5: 100%|██████████| 16/16 [00:00<00:00, 35.24it/s]\n"
          ]
        },
        {
          "name": "stdout",
          "output_type": "stream",
          "text": [
            "Training shard 3/10, slice 3/5\n"
          ]
        },
        {
          "name": "stderr",
          "output_type": "stream",
          "text": [
            "Epoch 1/5: 100%|██████████| 16/16 [00:00<00:00, 34.79it/s]\n",
            "Epoch 2/5: 100%|██████████| 16/16 [00:00<00:00, 35.24it/s]\n",
            "Epoch 3/5: 100%|██████████| 16/16 [00:00<00:00, 35.28it/s]\n",
            "Epoch 4/5: 100%|██████████| 16/16 [00:00<00:00, 35.22it/s]\n",
            "Epoch 5/5: 100%|██████████| 16/16 [00:00<00:00, 35.27it/s]\n"
          ]
        },
        {
          "name": "stdout",
          "output_type": "stream",
          "text": [
            "Training shard 3/10, slice 4/5\n"
          ]
        },
        {
          "name": "stderr",
          "output_type": "stream",
          "text": [
            "Epoch 1/5: 100%|██████████| 16/16 [00:00<00:00, 34.83it/s]\n",
            "Epoch 2/5: 100%|██████████| 16/16 [00:00<00:00, 35.16it/s]\n",
            "Epoch 3/5: 100%|██████████| 16/16 [00:00<00:00, 35.24it/s]\n",
            "Epoch 4/5: 100%|██████████| 16/16 [00:00<00:00, 35.25it/s]\n",
            "Epoch 5/5: 100%|██████████| 16/16 [00:00<00:00, 35.15it/s]\n"
          ]
        },
        {
          "name": "stdout",
          "output_type": "stream",
          "text": [
            "Training shard 3/10, slice 5/5\n"
          ]
        },
        {
          "name": "stderr",
          "output_type": "stream",
          "text": [
            "Epoch 1/5: 100%|██████████| 16/16 [00:00<00:00, 34.76it/s]\n",
            "Epoch 2/5: 100%|██████████| 16/16 [00:00<00:00, 35.20it/s]\n",
            "Epoch 3/5: 100%|██████████| 16/16 [00:00<00:00, 35.19it/s]\n",
            "Epoch 4/5: 100%|██████████| 16/16 [00:00<00:00, 35.24it/s]\n",
            "Epoch 5/5: 100%|██████████| 16/16 [00:00<00:00, 35.22it/s]\n"
          ]
        },
        {
          "name": "stdout",
          "output_type": "stream",
          "text": [
            "Training shard 4/10, slice 1/5\n"
          ]
        },
        {
          "name": "stderr",
          "output_type": "stream",
          "text": [
            "Epoch 1/5: 100%|██████████| 16/16 [00:00<00:00, 34.73it/s]\n",
            "Epoch 2/5: 100%|██████████| 16/16 [00:00<00:00, 35.24it/s]\n",
            "Epoch 3/5: 100%|██████████| 16/16 [00:00<00:00, 35.19it/s]\n",
            "Epoch 4/5: 100%|██████████| 16/16 [00:00<00:00, 35.21it/s]\n",
            "Epoch 5/5: 100%|██████████| 16/16 [00:00<00:00, 35.16it/s]\n"
          ]
        },
        {
          "name": "stdout",
          "output_type": "stream",
          "text": [
            "Training shard 4/10, slice 2/5\n"
          ]
        },
        {
          "name": "stderr",
          "output_type": "stream",
          "text": [
            "Epoch 1/5: 100%|██████████| 16/16 [00:00<00:00, 34.77it/s]\n",
            "Epoch 2/5: 100%|██████████| 16/16 [00:00<00:00, 35.21it/s]\n",
            "Epoch 3/5: 100%|██████████| 16/16 [00:00<00:00, 35.18it/s]\n",
            "Epoch 4/5: 100%|██████████| 16/16 [00:00<00:00, 35.23it/s]\n",
            "Epoch 5/5: 100%|██████████| 16/16 [00:00<00:00, 35.19it/s]\n"
          ]
        },
        {
          "name": "stdout",
          "output_type": "stream",
          "text": [
            "Training shard 4/10, slice 3/5\n"
          ]
        },
        {
          "name": "stderr",
          "output_type": "stream",
          "text": [
            "Epoch 1/5: 100%|██████████| 16/16 [00:00<00:00, 34.91it/s]\n",
            "Epoch 2/5: 100%|██████████| 16/16 [00:00<00:00, 35.25it/s]\n",
            "Epoch 3/5: 100%|██████████| 16/16 [00:00<00:00, 35.24it/s]\n",
            "Epoch 4/5: 100%|██████████| 16/16 [00:00<00:00, 35.20it/s]\n",
            "Epoch 5/5: 100%|██████████| 16/16 [00:00<00:00, 35.22it/s]\n"
          ]
        },
        {
          "name": "stdout",
          "output_type": "stream",
          "text": [
            "Training shard 4/10, slice 4/5\n"
          ]
        },
        {
          "name": "stderr",
          "output_type": "stream",
          "text": [
            "Epoch 1/5: 100%|██████████| 16/16 [00:00<00:00, 34.75it/s]\n",
            "Epoch 2/5: 100%|██████████| 16/16 [00:00<00:00, 35.18it/s]\n",
            "Epoch 3/5: 100%|██████████| 16/16 [00:00<00:00, 35.24it/s]\n",
            "Epoch 4/5: 100%|██████████| 16/16 [00:00<00:00, 35.25it/s]\n",
            "Epoch 5/5: 100%|██████████| 16/16 [00:00<00:00, 35.22it/s]\n"
          ]
        },
        {
          "name": "stdout",
          "output_type": "stream",
          "text": [
            "Training shard 4/10, slice 5/5\n"
          ]
        },
        {
          "name": "stderr",
          "output_type": "stream",
          "text": [
            "Epoch 1/5: 100%|██████████| 16/16 [00:00<00:00, 34.82it/s]\n",
            "Epoch 2/5: 100%|██████████| 16/16 [00:00<00:00, 35.32it/s]\n",
            "Epoch 3/5: 100%|██████████| 16/16 [00:00<00:00, 35.15it/s]\n",
            "Epoch 4/5: 100%|██████████| 16/16 [00:00<00:00, 35.25it/s]\n",
            "Epoch 5/5: 100%|██████████| 16/16 [00:00<00:00, 35.29it/s]\n"
          ]
        },
        {
          "name": "stdout",
          "output_type": "stream",
          "text": [
            "Training shard 5/10, slice 1/5\n"
          ]
        },
        {
          "name": "stderr",
          "output_type": "stream",
          "text": [
            "Epoch 1/5: 100%|██████████| 16/16 [00:00<00:00, 34.71it/s]\n",
            "Epoch 2/5: 100%|██████████| 16/16 [00:00<00:00, 35.22it/s]\n",
            "Epoch 3/5: 100%|██████████| 16/16 [00:00<00:00, 35.19it/s]\n",
            "Epoch 4/5: 100%|██████████| 16/16 [00:00<00:00, 35.19it/s]\n",
            "Epoch 5/5: 100%|██████████| 16/16 [00:00<00:00, 35.20it/s]\n"
          ]
        },
        {
          "name": "stdout",
          "output_type": "stream",
          "text": [
            "Training shard 5/10, slice 2/5\n"
          ]
        },
        {
          "name": "stderr",
          "output_type": "stream",
          "text": [
            "Epoch 1/5: 100%|██████████| 16/16 [00:00<00:00, 34.89it/s]\n",
            "Epoch 2/5: 100%|██████████| 16/16 [00:00<00:00, 35.22it/s]\n",
            "Epoch 3/5: 100%|██████████| 16/16 [00:00<00:00, 35.25it/s]\n",
            "Epoch 4/5: 100%|██████████| 16/16 [00:00<00:00, 35.21it/s]\n",
            "Epoch 5/5: 100%|██████████| 16/16 [00:00<00:00, 35.23it/s]\n"
          ]
        },
        {
          "name": "stdout",
          "output_type": "stream",
          "text": [
            "Training shard 5/10, slice 3/5\n"
          ]
        },
        {
          "name": "stderr",
          "output_type": "stream",
          "text": [
            "Epoch 1/5: 100%|██████████| 16/16 [00:00<00:00, 34.88it/s]\n",
            "Epoch 2/5: 100%|██████████| 16/16 [00:00<00:00, 35.34it/s]\n",
            "Epoch 3/5: 100%|██████████| 16/16 [00:00<00:00, 35.22it/s]\n",
            "Epoch 4/5: 100%|██████████| 16/16 [00:00<00:00, 35.16it/s]\n",
            "Epoch 5/5: 100%|██████████| 16/16 [00:00<00:00, 35.24it/s]\n"
          ]
        },
        {
          "name": "stdout",
          "output_type": "stream",
          "text": [
            "Training shard 5/10, slice 4/5\n"
          ]
        },
        {
          "name": "stderr",
          "output_type": "stream",
          "text": [
            "Epoch 1/5: 100%|██████████| 16/16 [00:00<00:00, 34.87it/s]\n",
            "Epoch 2/5: 100%|██████████| 16/16 [00:00<00:00, 35.13it/s]\n",
            "Epoch 3/5: 100%|██████████| 16/16 [00:00<00:00, 35.17it/s]\n",
            "Epoch 4/5: 100%|██████████| 16/16 [00:00<00:00, 35.15it/s]\n",
            "Epoch 5/5: 100%|██████████| 16/16 [00:00<00:00, 35.17it/s]\n"
          ]
        },
        {
          "name": "stdout",
          "output_type": "stream",
          "text": [
            "Training shard 5/10, slice 5/5\n"
          ]
        },
        {
          "name": "stderr",
          "output_type": "stream",
          "text": [
            "Epoch 1/5: 100%|██████████| 16/16 [00:00<00:00, 34.82it/s]\n",
            "Epoch 2/5: 100%|██████████| 16/16 [00:00<00:00, 35.29it/s]\n",
            "Epoch 3/5: 100%|██████████| 16/16 [00:00<00:00, 35.11it/s]\n",
            "Epoch 4/5: 100%|██████████| 16/16 [00:00<00:00, 35.18it/s]\n",
            "Epoch 5/5: 100%|██████████| 16/16 [00:00<00:00, 35.26it/s]\n"
          ]
        },
        {
          "name": "stdout",
          "output_type": "stream",
          "text": [
            "Training shard 6/10, slice 1/5\n"
          ]
        },
        {
          "name": "stderr",
          "output_type": "stream",
          "text": [
            "Epoch 1/5: 100%|██████████| 16/16 [00:00<00:00, 34.70it/s]\n",
            "Epoch 2/5: 100%|██████████| 16/16 [00:00<00:00, 35.32it/s]\n",
            "Epoch 3/5: 100%|██████████| 16/16 [00:00<00:00, 35.41it/s]\n",
            "Epoch 4/5: 100%|██████████| 16/16 [00:00<00:00, 36.67it/s]\n",
            "Epoch 5/5: 100%|██████████| 16/16 [00:00<00:00, 35.59it/s]\n"
          ]
        },
        {
          "name": "stdout",
          "output_type": "stream",
          "text": [
            "Training shard 6/10, slice 2/5\n"
          ]
        },
        {
          "name": "stderr",
          "output_type": "stream",
          "text": [
            "Epoch 1/5: 100%|██████████| 16/16 [00:00<00:00, 35.82it/s]\n",
            "Epoch 2/5: 100%|██████████| 16/16 [00:00<00:00, 36.23it/s]\n",
            "Epoch 3/5: 100%|██████████| 16/16 [00:00<00:00, 35.22it/s]\n",
            "Epoch 4/5: 100%|██████████| 16/16 [00:00<00:00, 36.80it/s]\n",
            "Epoch 5/5: 100%|██████████| 16/16 [00:00<00:00, 35.65it/s]\n"
          ]
        },
        {
          "name": "stdout",
          "output_type": "stream",
          "text": [
            "Training shard 6/10, slice 3/5\n"
          ]
        },
        {
          "name": "stderr",
          "output_type": "stream",
          "text": [
            "Epoch 1/5: 100%|██████████| 16/16 [00:00<00:00, 35.46it/s]\n",
            "Epoch 2/5: 100%|██████████| 16/16 [00:00<00:00, 36.06it/s]\n",
            "Epoch 3/5: 100%|██████████| 16/16 [00:00<00:00, 35.20it/s]\n",
            "Epoch 4/5: 100%|██████████| 16/16 [00:00<00:00, 36.52it/s]\n",
            "Epoch 5/5: 100%|██████████| 16/16 [00:00<00:00, 35.46it/s]\n"
          ]
        },
        {
          "name": "stdout",
          "output_type": "stream",
          "text": [
            "Training shard 6/10, slice 4/5\n"
          ]
        },
        {
          "name": "stderr",
          "output_type": "stream",
          "text": [
            "Epoch 1/5: 100%|██████████| 16/16 [00:00<00:00, 35.20it/s]\n",
            "Epoch 2/5: 100%|██████████| 16/16 [00:00<00:00, 35.69it/s]\n",
            "Epoch 3/5: 100%|██████████| 16/16 [00:00<00:00, 35.75it/s]\n",
            "Epoch 4/5: 100%|██████████| 16/16 [00:00<00:00, 36.72it/s]\n",
            "Epoch 5/5: 100%|██████████| 16/16 [00:00<00:00, 35.42it/s]\n"
          ]
        },
        {
          "name": "stdout",
          "output_type": "stream",
          "text": [
            "Training shard 6/10, slice 5/5\n"
          ]
        },
        {
          "name": "stderr",
          "output_type": "stream",
          "text": [
            "Epoch 1/5: 100%|██████████| 16/16 [00:00<00:00, 35.61it/s]\n",
            "Epoch 2/5: 100%|██████████| 16/16 [00:00<00:00, 35.80it/s]\n",
            "Epoch 3/5: 100%|██████████| 16/16 [00:00<00:00, 35.57it/s]\n",
            "Epoch 4/5: 100%|██████████| 16/16 [00:00<00:00, 36.59it/s]\n",
            "Epoch 5/5: 100%|██████████| 16/16 [00:00<00:00, 35.35it/s]\n"
          ]
        },
        {
          "name": "stdout",
          "output_type": "stream",
          "text": [
            "Training shard 7/10, slice 1/5\n"
          ]
        },
        {
          "name": "stderr",
          "output_type": "stream",
          "text": [
            "Epoch 1/5: 100%|██████████| 16/16 [00:00<00:00, 35.38it/s]\n",
            "Epoch 2/5: 100%|██████████| 16/16 [00:00<00:00, 35.35it/s]\n",
            "Epoch 3/5: 100%|██████████| 16/16 [00:00<00:00, 36.42it/s]\n",
            "Epoch 4/5: 100%|██████████| 16/16 [00:00<00:00, 36.31it/s]\n",
            "Epoch 5/5: 100%|██████████| 16/16 [00:00<00:00, 35.43it/s]\n"
          ]
        },
        {
          "name": "stdout",
          "output_type": "stream",
          "text": [
            "Training shard 7/10, slice 2/5\n"
          ]
        },
        {
          "name": "stderr",
          "output_type": "stream",
          "text": [
            "Epoch 1/5: 100%|██████████| 16/16 [00:00<00:00, 35.81it/s]\n",
            "Epoch 2/5: 100%|██████████| 16/16 [00:00<00:00, 35.84it/s]\n",
            "Epoch 3/5: 100%|██████████| 16/16 [00:00<00:00, 35.53it/s]\n",
            "Epoch 4/5: 100%|██████████| 16/16 [00:00<00:00, 37.26it/s]\n",
            "Epoch 5/5: 100%|██████████| 16/16 [00:00<00:00, 35.84it/s]\n"
          ]
        },
        {
          "name": "stdout",
          "output_type": "stream",
          "text": [
            "Training shard 7/10, slice 3/5\n"
          ]
        },
        {
          "name": "stderr",
          "output_type": "stream",
          "text": [
            "Epoch 1/5: 100%|██████████| 16/16 [00:00<00:00, 35.06it/s]\n",
            "Epoch 2/5: 100%|██████████| 16/16 [00:00<00:00, 35.90it/s]\n",
            "Epoch 3/5: 100%|██████████| 16/16 [00:00<00:00, 36.30it/s]\n",
            "Epoch 4/5: 100%|██████████| 16/16 [00:00<00:00, 36.26it/s]\n",
            "Epoch 5/5: 100%|██████████| 16/16 [00:00<00:00, 35.42it/s]\n"
          ]
        },
        {
          "name": "stdout",
          "output_type": "stream",
          "text": [
            "Training shard 7/10, slice 4/5\n"
          ]
        },
        {
          "name": "stderr",
          "output_type": "stream",
          "text": [
            "Epoch 1/5: 100%|██████████| 16/16 [00:00<00:00, 35.39it/s]\n",
            "Epoch 2/5: 100%|██████████| 16/16 [00:00<00:00, 35.73it/s]\n",
            "Epoch 3/5: 100%|██████████| 16/16 [00:00<00:00, 36.24it/s]\n",
            "Epoch 4/5: 100%|██████████| 16/16 [00:00<00:00, 36.64it/s]\n",
            "Epoch 5/5: 100%|██████████| 16/16 [00:00<00:00, 36.50it/s]\n"
          ]
        },
        {
          "name": "stdout",
          "output_type": "stream",
          "text": [
            "Training shard 7/10, slice 5/5\n"
          ]
        },
        {
          "name": "stderr",
          "output_type": "stream",
          "text": [
            "Epoch 1/5: 100%|██████████| 16/16 [00:00<00:00, 34.80it/s]\n",
            "Epoch 2/5: 100%|██████████| 16/16 [00:00<00:00, 35.94it/s]\n",
            "Epoch 3/5: 100%|██████████| 16/16 [00:00<00:00, 36.08it/s]\n",
            "Epoch 4/5: 100%|██████████| 16/16 [00:00<00:00, 35.85it/s]\n",
            "Epoch 5/5: 100%|██████████| 16/16 [00:00<00:00, 36.16it/s]\n"
          ]
        },
        {
          "name": "stdout",
          "output_type": "stream",
          "text": [
            "Training shard 8/10, slice 1/5\n"
          ]
        },
        {
          "name": "stderr",
          "output_type": "stream",
          "text": [
            "Epoch 1/5: 100%|██████████| 16/16 [00:00<00:00, 35.56it/s]\n",
            "Epoch 2/5: 100%|██████████| 16/16 [00:00<00:00, 35.93it/s]\n",
            "Epoch 3/5: 100%|██████████| 16/16 [00:00<00:00, 35.68it/s]\n",
            "Epoch 4/5: 100%|██████████| 16/16 [00:00<00:00, 37.09it/s]\n",
            "Epoch 5/5: 100%|██████████| 16/16 [00:00<00:00, 36.12it/s]\n"
          ]
        },
        {
          "name": "stdout",
          "output_type": "stream",
          "text": [
            "Training shard 8/10, slice 2/5\n"
          ]
        },
        {
          "name": "stderr",
          "output_type": "stream",
          "text": [
            "Epoch 1/5: 100%|██████████| 16/16 [00:00<00:00, 35.18it/s]\n",
            "Epoch 2/5: 100%|██████████| 16/16 [00:00<00:00, 36.40it/s]\n",
            "Epoch 3/5: 100%|██████████| 16/16 [00:00<00:00, 35.80it/s]\n",
            "Epoch 4/5: 100%|██████████| 16/16 [00:00<00:00, 36.91it/s]\n",
            "Epoch 5/5: 100%|██████████| 16/16 [00:00<00:00, 36.11it/s]\n"
          ]
        },
        {
          "name": "stdout",
          "output_type": "stream",
          "text": [
            "Training shard 8/10, slice 3/5\n"
          ]
        },
        {
          "name": "stderr",
          "output_type": "stream",
          "text": [
            "Epoch 1/5: 100%|██████████| 16/16 [00:00<00:00, 35.35it/s]\n",
            "Epoch 2/5: 100%|██████████| 16/16 [00:00<00:00, 35.96it/s]\n",
            "Epoch 3/5: 100%|██████████| 16/16 [00:00<00:00, 36.47it/s]\n",
            "Epoch 4/5: 100%|██████████| 16/16 [00:00<00:00, 36.00it/s]\n",
            "Epoch 5/5: 100%|██████████| 16/16 [00:00<00:00, 36.80it/s]\n"
          ]
        },
        {
          "name": "stdout",
          "output_type": "stream",
          "text": [
            "Training shard 8/10, slice 4/5\n"
          ]
        },
        {
          "name": "stderr",
          "output_type": "stream",
          "text": [
            "Epoch 1/5: 100%|██████████| 16/16 [00:00<00:00, 35.06it/s]\n",
            "Epoch 2/5: 100%|██████████| 16/16 [00:00<00:00, 36.17it/s]\n",
            "Epoch 3/5: 100%|██████████| 16/16 [00:00<00:00, 35.66it/s]\n",
            "Epoch 4/5: 100%|██████████| 16/16 [00:00<00:00, 36.04it/s]\n",
            "Epoch 5/5: 100%|██████████| 16/16 [00:00<00:00, 36.42it/s]\n"
          ]
        },
        {
          "name": "stdout",
          "output_type": "stream",
          "text": [
            "Training shard 8/10, slice 5/5\n"
          ]
        },
        {
          "name": "stderr",
          "output_type": "stream",
          "text": [
            "Epoch 1/5: 100%|██████████| 16/16 [00:00<00:00, 34.89it/s]\n",
            "Epoch 2/5: 100%|██████████| 16/16 [00:00<00:00, 35.78it/s]\n",
            "Epoch 3/5: 100%|██████████| 16/16 [00:00<00:00, 35.58it/s]\n",
            "Epoch 4/5: 100%|██████████| 16/16 [00:00<00:00, 36.42it/s]\n",
            "Epoch 5/5: 100%|██████████| 16/16 [00:00<00:00, 35.98it/s]\n"
          ]
        },
        {
          "name": "stdout",
          "output_type": "stream",
          "text": [
            "Training shard 9/10, slice 1/5\n"
          ]
        },
        {
          "name": "stderr",
          "output_type": "stream",
          "text": [
            "Epoch 1/5: 100%|██████████| 16/16 [00:00<00:00, 35.40it/s]\n",
            "Epoch 2/5: 100%|██████████| 16/16 [00:00<00:00, 35.54it/s]\n",
            "Epoch 3/5: 100%|██████████| 16/16 [00:00<00:00, 36.05it/s]\n",
            "Epoch 4/5: 100%|██████████| 16/16 [00:00<00:00, 36.81it/s]\n",
            "Epoch 5/5: 100%|██████████| 16/16 [00:00<00:00, 35.24it/s]\n"
          ]
        },
        {
          "name": "stdout",
          "output_type": "stream",
          "text": [
            "Training shard 9/10, slice 2/5\n"
          ]
        },
        {
          "name": "stderr",
          "output_type": "stream",
          "text": [
            "Epoch 1/5: 100%|██████████| 16/16 [00:00<00:00, 35.16it/s]\n",
            "Epoch 2/5: 100%|██████████| 16/16 [00:00<00:00, 35.54it/s]\n",
            "Epoch 3/5: 100%|██████████| 16/16 [00:00<00:00, 36.76it/s]\n",
            "Epoch 4/5: 100%|██████████| 16/16 [00:00<00:00, 35.54it/s]\n",
            "Epoch 5/5: 100%|██████████| 16/16 [00:00<00:00, 35.82it/s]\n"
          ]
        },
        {
          "name": "stdout",
          "output_type": "stream",
          "text": [
            "Training shard 9/10, slice 3/5\n"
          ]
        },
        {
          "name": "stderr",
          "output_type": "stream",
          "text": [
            "Epoch 1/5: 100%|██████████| 16/16 [00:00<00:00, 34.95it/s]\n",
            "Epoch 2/5: 100%|██████████| 16/16 [00:00<00:00, 37.32it/s]\n",
            "Epoch 3/5: 100%|██████████| 16/16 [00:00<00:00, 35.80it/s]\n",
            "Epoch 4/5: 100%|██████████| 16/16 [00:00<00:00, 36.04it/s]\n",
            "Epoch 5/5: 100%|██████████| 16/16 [00:00<00:00, 36.17it/s]\n"
          ]
        },
        {
          "name": "stdout",
          "output_type": "stream",
          "text": [
            "Training shard 9/10, slice 4/5\n"
          ]
        },
        {
          "name": "stderr",
          "output_type": "stream",
          "text": [
            "Epoch 1/5: 100%|██████████| 16/16 [00:00<00:00, 35.27it/s]\n",
            "Epoch 2/5: 100%|██████████| 16/16 [00:00<00:00, 37.68it/s]\n",
            "Epoch 3/5: 100%|██████████| 16/16 [00:00<00:00, 35.89it/s]\n",
            "Epoch 4/5: 100%|██████████| 16/16 [00:00<00:00, 35.90it/s]\n",
            "Epoch 5/5: 100%|██████████| 16/16 [00:00<00:00, 36.29it/s]\n"
          ]
        },
        {
          "name": "stdout",
          "output_type": "stream",
          "text": [
            "Training shard 9/10, slice 5/5\n"
          ]
        },
        {
          "name": "stderr",
          "output_type": "stream",
          "text": [
            "Epoch 1/5: 100%|██████████| 16/16 [00:00<00:00, 35.57it/s]\n",
            "Epoch 2/5: 100%|██████████| 16/16 [00:00<00:00, 37.11it/s]\n",
            "Epoch 3/5: 100%|██████████| 16/16 [00:00<00:00, 35.80it/s]\n",
            "Epoch 4/5: 100%|██████████| 16/16 [00:00<00:00, 36.12it/s]\n",
            "Epoch 5/5: 100%|██████████| 16/16 [00:00<00:00, 36.26it/s]\n"
          ]
        },
        {
          "name": "stdout",
          "output_type": "stream",
          "text": [
            "Training shard 10/10, slice 1/5\n"
          ]
        },
        {
          "name": "stderr",
          "output_type": "stream",
          "text": [
            "Epoch 1/5: 100%|██████████| 16/16 [00:00<00:00, 35.15it/s]\n",
            "Epoch 2/5: 100%|██████████| 16/16 [00:00<00:00, 37.02it/s]\n",
            "Epoch 3/5: 100%|██████████| 16/16 [00:00<00:00, 36.02it/s]\n",
            "Epoch 4/5: 100%|██████████| 16/16 [00:00<00:00, 35.83it/s]\n",
            "Epoch 5/5: 100%|██████████| 16/16 [00:00<00:00, 36.15it/s]\n"
          ]
        },
        {
          "name": "stdout",
          "output_type": "stream",
          "text": [
            "Training shard 10/10, slice 2/5\n"
          ]
        },
        {
          "name": "stderr",
          "output_type": "stream",
          "text": [
            "Epoch 1/5: 100%|██████████| 16/16 [00:00<00:00, 35.36it/s]\n",
            "Epoch 2/5: 100%|██████████| 16/16 [00:00<00:00, 37.09it/s]\n",
            "Epoch 3/5: 100%|██████████| 16/16 [00:00<00:00, 35.52it/s]\n",
            "Epoch 4/5: 100%|██████████| 16/16 [00:00<00:00, 36.05it/s]\n",
            "Epoch 5/5: 100%|██████████| 16/16 [00:00<00:00, 35.41it/s]\n"
          ]
        },
        {
          "name": "stdout",
          "output_type": "stream",
          "text": [
            "Training shard 10/10, slice 3/5\n"
          ]
        },
        {
          "name": "stderr",
          "output_type": "stream",
          "text": [
            "Epoch 1/5: 100%|██████████| 16/16 [00:00<00:00, 34.81it/s]\n",
            "Epoch 2/5: 100%|██████████| 16/16 [00:00<00:00, 35.41it/s]\n",
            "Epoch 3/5: 100%|██████████| 16/16 [00:00<00:00, 35.48it/s]\n",
            "Epoch 4/5: 100%|██████████| 16/16 [00:00<00:00, 35.47it/s]\n",
            "Epoch 5/5: 100%|██████████| 16/16 [00:00<00:00, 35.49it/s]\n"
          ]
        },
        {
          "name": "stdout",
          "output_type": "stream",
          "text": [
            "Training shard 10/10, slice 4/5\n"
          ]
        },
        {
          "name": "stderr",
          "output_type": "stream",
          "text": [
            "Epoch 1/5: 100%|██████████| 16/16 [00:00<00:00, 34.97it/s]\n",
            "Epoch 2/5: 100%|██████████| 16/16 [00:00<00:00, 35.54it/s]\n",
            "Epoch 3/5: 100%|██████████| 16/16 [00:00<00:00, 35.53it/s]\n",
            "Epoch 4/5: 100%|██████████| 16/16 [00:00<00:00, 35.39it/s]\n",
            "Epoch 5/5: 100%|██████████| 16/16 [00:00<00:00, 35.49it/s]\n"
          ]
        },
        {
          "name": "stdout",
          "output_type": "stream",
          "text": [
            "Training shard 10/10, slice 5/5\n"
          ]
        },
        {
          "name": "stderr",
          "output_type": "stream",
          "text": [
            "Epoch 1/5: 100%|██████████| 16/16 [00:00<00:00, 34.97it/s]\n",
            "Epoch 2/5: 100%|██████████| 16/16 [00:00<00:00, 35.48it/s]\n",
            "Epoch 3/5: 100%|██████████| 16/16 [00:00<00:00, 35.51it/s]\n",
            "Epoch 4/5: 100%|██████████| 16/16 [00:00<00:00, 35.57it/s]\n",
            "Epoch 5/5: 100%|██████████| 16/16 [00:00<00:00, 35.55it/s]\n",
            "Evaluating model: Shard 1/10, slice 1/5: 100%|██████████| 157/157 [00:02<00:00, 53.30it/s]\n",
            "Evaluating model: Shard 1/10, slice 2/5: 100%|██████████| 157/157 [00:02<00:00, 53.31it/s]\n",
            "Evaluating model: Shard 1/10, slice 3/5: 100%|██████████| 157/157 [00:02<00:00, 53.29it/s]\n",
            "Evaluating model: Shard 1/10, slice 4/5: 100%|██████████| 157/157 [00:02<00:00, 53.33it/s]\n",
            "Evaluating model: Shard 1/10, slice 5/5: 100%|██████████| 157/157 [00:02<00:00, 53.31it/s]\n",
            "Evaluating model: Shard 2/10, slice 1/5: 100%|██████████| 157/157 [00:02<00:00, 53.31it/s]\n",
            "Evaluating model: Shard 2/10, slice 2/5: 100%|██████████| 157/157 [00:02<00:00, 53.31it/s]\n",
            "Evaluating model: Shard 2/10, slice 3/5: 100%|██████████| 157/157 [00:02<00:00, 53.32it/s]\n",
            "Evaluating model: Shard 2/10, slice 4/5: 100%|██████████| 157/157 [00:02<00:00, 53.26it/s]\n",
            "Evaluating model: Shard 2/10, slice 5/5: 100%|██████████| 157/157 [00:02<00:00, 53.20it/s]\n",
            "Evaluating model: Shard 3/10, slice 1/5: 100%|██████████| 157/157 [00:02<00:00, 53.20it/s]\n",
            "Evaluating model: Shard 3/10, slice 2/5: 100%|██████████| 157/157 [00:02<00:00, 53.25it/s]\n",
            "Evaluating model: Shard 3/10, slice 3/5: 100%|██████████| 157/157 [00:02<00:00, 53.22it/s]\n",
            "Evaluating model: Shard 3/10, slice 4/5: 100%|██████████| 157/157 [00:02<00:00, 53.20it/s]\n",
            "Evaluating model: Shard 3/10, slice 5/5: 100%|██████████| 157/157 [00:02<00:00, 53.19it/s]\n",
            "Evaluating model: Shard 4/10, slice 1/5: 100%|██████████| 157/157 [00:02<00:00, 53.15it/s]\n",
            "Evaluating model: Shard 4/10, slice 2/5: 100%|██████████| 157/157 [00:02<00:00, 53.18it/s]\n",
            "Evaluating model: Shard 4/10, slice 3/5: 100%|██████████| 157/157 [00:02<00:00, 53.20it/s]\n",
            "Evaluating model: Shard 4/10, slice 4/5: 100%|██████████| 157/157 [00:02<00:00, 53.20it/s]\n",
            "Evaluating model: Shard 4/10, slice 5/5: 100%|██████████| 157/157 [00:02<00:00, 53.18it/s]\n",
            "Evaluating model: Shard 5/10, slice 1/5: 100%|██████████| 157/157 [00:02<00:00, 53.23it/s]\n",
            "Evaluating model: Shard 5/10, slice 2/5: 100%|██████████| 157/157 [00:02<00:00, 53.22it/s]\n",
            "Evaluating model: Shard 5/10, slice 3/5: 100%|██████████| 157/157 [00:02<00:00, 53.23it/s]\n",
            "Evaluating model: Shard 5/10, slice 4/5: 100%|██████████| 157/157 [00:02<00:00, 53.22it/s]\n",
            "Evaluating model: Shard 5/10, slice 5/5: 100%|██████████| 157/157 [00:02<00:00, 53.22it/s]\n",
            "Evaluating model: Shard 6/10, slice 1/5: 100%|██████████| 157/157 [00:02<00:00, 53.22it/s]\n",
            "Evaluating model: Shard 6/10, slice 2/5: 100%|██████████| 157/157 [00:02<00:00, 53.16it/s]\n",
            "Evaluating model: Shard 6/10, slice 3/5: 100%|██████████| 157/157 [00:02<00:00, 53.23it/s]\n",
            "Evaluating model: Shard 6/10, slice 4/5: 100%|██████████| 157/157 [00:02<00:00, 53.22it/s]\n",
            "Evaluating model: Shard 6/10, slice 5/5: 100%|██████████| 157/157 [00:02<00:00, 53.23it/s]\n",
            "Evaluating model: Shard 7/10, slice 1/5: 100%|██████████| 157/157 [00:02<00:00, 53.29it/s]\n",
            "Evaluating model: Shard 7/10, slice 2/5: 100%|██████████| 157/157 [00:02<00:00, 53.27it/s]\n",
            "Evaluating model: Shard 7/10, slice 3/5: 100%|██████████| 157/157 [00:02<00:00, 53.24it/s]\n",
            "Evaluating model: Shard 7/10, slice 4/5: 100%|██████████| 157/157 [00:02<00:00, 53.24it/s]\n",
            "Evaluating model: Shard 7/10, slice 5/5: 100%|██████████| 157/157 [00:02<00:00, 53.23it/s]\n",
            "Evaluating model: Shard 8/10, slice 1/5: 100%|██████████| 157/157 [00:02<00:00, 53.21it/s]\n",
            "Evaluating model: Shard 8/10, slice 2/5: 100%|██████████| 157/157 [00:02<00:00, 53.18it/s]\n",
            "Evaluating model: Shard 8/10, slice 3/5: 100%|██████████| 157/157 [00:02<00:00, 53.28it/s]\n",
            "Evaluating model: Shard 8/10, slice 4/5: 100%|██████████| 157/157 [00:02<00:00, 53.27it/s]\n",
            "Evaluating model: Shard 8/10, slice 5/5: 100%|██████████| 157/157 [00:02<00:00, 53.25it/s]\n",
            "Evaluating model: Shard 9/10, slice 1/5: 100%|██████████| 157/157 [00:02<00:00, 53.24it/s]\n",
            "Evaluating model: Shard 9/10, slice 2/5: 100%|██████████| 157/157 [00:02<00:00, 53.26it/s]\n",
            "Evaluating model: Shard 9/10, slice 3/5: 100%|██████████| 157/157 [00:02<00:00, 53.23it/s]\n",
            "Evaluating model: Shard 9/10, slice 4/5: 100%|██████████| 157/157 [00:02<00:00, 53.20it/s]\n",
            "Evaluating model: Shard 9/10, slice 5/5: 100%|██████████| 157/157 [00:02<00:00, 53.40it/s]\n",
            "Evaluating model: Shard 10/10, slice 1/5: 100%|██████████| 157/157 [00:02<00:00, 53.39it/s]\n",
            "Evaluating model: Shard 10/10, slice 2/5: 100%|██████████| 157/157 [00:02<00:00, 53.37it/s]\n",
            "Evaluating model: Shard 10/10, slice 3/5: 100%|██████████| 157/157 [00:02<00:00, 53.38it/s]\n",
            "Evaluating model: Shard 10/10, slice 4/5: 100%|██████████| 157/157 [00:02<00:00, 53.39it/s]\n",
            "Evaluating model: Shard 10/10, slice 5/5: 100%|██████████| 157/157 [00:02<00:00, 53.48it/s]\n"
          ]
        },
        {
          "name": "stdout",
          "output_type": "stream",
          "text": [
            "Retraining shard 1/10 containing data to forget\n"
          ]
        },
        {
          "name": "stderr",
          "output_type": "stream",
          "text": [
            "Epoch 1/5: 100%|██████████| 16/16 [00:00<00:00, 34.77it/s]\n",
            "Epoch 2/5: 100%|██████████| 16/16 [00:00<00:00, 35.26it/s]\n",
            "Epoch 3/5: 100%|██████████| 16/16 [00:00<00:00, 35.22it/s]\n",
            "Epoch 4/5: 100%|██████████| 16/16 [00:00<00:00, 35.20it/s]\n",
            "Epoch 5/5: 100%|██████████| 16/16 [00:00<00:00, 35.19it/s]\n"
          ]
        },
        {
          "name": "stdout",
          "output_type": "stream",
          "text": [
            "Slice 1/5 retrained for shard 1/10\n"
          ]
        },
        {
          "name": "stderr",
          "output_type": "stream",
          "text": [
            "Epoch 1/5: 100%|██████████| 16/16 [00:00<00:00, 29.01it/s]\n",
            "Epoch 2/5: 100%|██████████| 16/16 [00:00<00:00, 34.02it/s]\n",
            "Epoch 3/5: 100%|██████████| 16/16 [00:00<00:00, 35.47it/s]\n",
            "Epoch 4/5: 100%|██████████| 16/16 [00:00<00:00, 35.46it/s]\n",
            "Epoch 5/5: 100%|██████████| 16/16 [00:00<00:00, 35.44it/s]\n"
          ]
        },
        {
          "name": "stdout",
          "output_type": "stream",
          "text": [
            "Slice 2/5 retrained for shard 1/10\n"
          ]
        },
        {
          "name": "stderr",
          "output_type": "stream",
          "text": [
            "Epoch 1/5: 100%|██████████| 16/16 [00:00<00:00, 35.15it/s]\n",
            "Epoch 2/5: 100%|██████████| 16/16 [00:00<00:00, 35.40it/s]\n",
            "Epoch 3/5: 100%|██████████| 16/16 [00:00<00:00, 35.35it/s]\n",
            "Epoch 4/5: 100%|██████████| 16/16 [00:00<00:00, 35.38it/s]\n",
            "Epoch 5/5: 100%|██████████| 16/16 [00:00<00:00, 35.41it/s]\n"
          ]
        },
        {
          "name": "stdout",
          "output_type": "stream",
          "text": [
            "Slice 3/5 retrained for shard 1/10\n"
          ]
        },
        {
          "name": "stderr",
          "output_type": "stream",
          "text": [
            "Epoch 1/5: 100%|██████████| 16/16 [00:00<00:00, 35.34it/s]\n",
            "Epoch 2/5: 100%|██████████| 16/16 [00:00<00:00, 35.56it/s]\n",
            "Epoch 3/5: 100%|██████████| 16/16 [00:00<00:00, 35.60it/s]\n",
            "Epoch 4/5: 100%|██████████| 16/16 [00:00<00:00, 35.56it/s]\n",
            "Epoch 5/5: 100%|██████████| 16/16 [00:00<00:00, 35.56it/s]\n"
          ]
        },
        {
          "name": "stdout",
          "output_type": "stream",
          "text": [
            "Slice 4/5 retrained for shard 1/10\n"
          ]
        },
        {
          "name": "stderr",
          "output_type": "stream",
          "text": [
            "Epoch 1/5: 100%|██████████| 16/16 [00:00<00:00, 29.50it/s]\n",
            "Epoch 2/5: 100%|██████████| 16/16 [00:00<00:00, 34.58it/s]\n",
            "Epoch 3/5: 100%|██████████| 16/16 [00:00<00:00, 35.57it/s]\n",
            "Epoch 4/5: 100%|██████████| 16/16 [00:00<00:00, 35.59it/s]\n",
            "Epoch 5/5: 100%|██████████| 16/16 [00:00<00:00, 35.60it/s]\n"
          ]
        },
        {
          "name": "stdout",
          "output_type": "stream",
          "text": [
            "Slice 5/5 retrained for shard 1/10\n",
            "Retraining shard 2/10 containing data to forget\n"
          ]
        },
        {
          "name": "stderr",
          "output_type": "stream",
          "text": [
            "Epoch 1/5: 100%|██████████| 16/16 [00:00<00:00, 34.94it/s]\n",
            "Epoch 2/5: 100%|██████████| 16/16 [00:00<00:00, 35.20it/s]\n",
            "Epoch 3/5: 100%|██████████| 16/16 [00:00<00:00, 35.13it/s]\n",
            "Epoch 4/5: 100%|██████████| 16/16 [00:00<00:00, 35.20it/s]\n",
            "Epoch 5/5: 100%|██████████| 16/16 [00:00<00:00, 35.21it/s]\n"
          ]
        },
        {
          "name": "stdout",
          "output_type": "stream",
          "text": [
            "Slice 1/5 retrained for shard 2/10\n"
          ]
        },
        {
          "name": "stderr",
          "output_type": "stream",
          "text": [
            "Epoch 1/5: 100%|██████████| 16/16 [00:00<00:00, 34.93it/s]\n",
            "Epoch 2/5: 100%|██████████| 16/16 [00:00<00:00, 35.13it/s]\n",
            "Epoch 3/5: 100%|██████████| 16/16 [00:00<00:00, 35.13it/s]\n",
            "Epoch 4/5: 100%|██████████| 16/16 [00:00<00:00, 35.08it/s]\n",
            "Epoch 5/5: 100%|██████████| 16/16 [00:00<00:00, 35.01it/s]\n"
          ]
        },
        {
          "name": "stdout",
          "output_type": "stream",
          "text": [
            "Slice 2/5 retrained for shard 2/10\n"
          ]
        },
        {
          "name": "stderr",
          "output_type": "stream",
          "text": [
            "Epoch 1/5: 100%|██████████| 16/16 [00:00<00:00, 34.92it/s]\n",
            "Epoch 2/5: 100%|██████████| 16/16 [00:00<00:00, 35.02it/s]\n",
            "Epoch 3/5: 100%|██████████| 16/16 [00:00<00:00, 35.00it/s]\n",
            "Epoch 4/5: 100%|██████████| 16/16 [00:00<00:00, 35.12it/s]\n",
            "Epoch 5/5: 100%|██████████| 16/16 [00:00<00:00, 35.08it/s]\n"
          ]
        },
        {
          "name": "stdout",
          "output_type": "stream",
          "text": [
            "Slice 3/5 retrained for shard 2/10\n"
          ]
        },
        {
          "name": "stderr",
          "output_type": "stream",
          "text": [
            "Epoch 1/5: 100%|██████████| 16/16 [00:00<00:00, 34.91it/s]\n",
            "Epoch 2/5: 100%|██████████| 16/16 [00:00<00:00, 35.14it/s]\n",
            "Epoch 3/5: 100%|██████████| 16/16 [00:00<00:00, 35.13it/s]\n",
            "Epoch 4/5: 100%|██████████| 16/16 [00:00<00:00, 35.11it/s]\n",
            "Epoch 5/5: 100%|██████████| 16/16 [00:00<00:00, 35.08it/s]\n"
          ]
        },
        {
          "name": "stdout",
          "output_type": "stream",
          "text": [
            "Slice 4/5 retrained for shard 2/10\n"
          ]
        },
        {
          "name": "stderr",
          "output_type": "stream",
          "text": [
            "Epoch 1/5: 100%|██████████| 16/16 [00:00<00:00, 34.96it/s]\n",
            "Epoch 2/5: 100%|██████████| 16/16 [00:00<00:00, 35.10it/s]\n",
            "Epoch 3/5: 100%|██████████| 16/16 [00:00<00:00, 35.14it/s]\n",
            "Epoch 4/5: 100%|██████████| 16/16 [00:00<00:00, 35.13it/s]\n",
            "Epoch 5/5: 100%|██████████| 16/16 [00:00<00:00, 35.15it/s]\n"
          ]
        },
        {
          "name": "stdout",
          "output_type": "stream",
          "text": [
            "Slice 5/5 retrained for shard 2/10\n",
            "Retraining shard 3/10 containing data to forget\n"
          ]
        },
        {
          "name": "stderr",
          "output_type": "stream",
          "text": [
            "Epoch 1/5: 100%|██████████| 16/16 [00:00<00:00, 34.91it/s]\n",
            "Epoch 2/5: 100%|██████████| 16/16 [00:00<00:00, 35.16it/s]\n",
            "Epoch 3/5: 100%|██████████| 16/16 [00:00<00:00, 35.10it/s]\n",
            "Epoch 4/5: 100%|██████████| 16/16 [00:00<00:00, 35.17it/s]\n",
            "Epoch 5/5: 100%|██████████| 16/16 [00:00<00:00, 35.19it/s]\n"
          ]
        },
        {
          "name": "stdout",
          "output_type": "stream",
          "text": [
            "Slice 1/5 retrained for shard 3/10\n"
          ]
        },
        {
          "name": "stderr",
          "output_type": "stream",
          "text": [
            "Epoch 1/5: 100%|██████████| 16/16 [00:00<00:00, 34.98it/s]\n",
            "Epoch 2/5: 100%|██████████| 16/16 [00:00<00:00, 35.16it/s]\n",
            "Epoch 3/5: 100%|██████████| 16/16 [00:00<00:00, 35.20it/s]\n",
            "Epoch 4/5: 100%|██████████| 16/16 [00:00<00:00, 35.19it/s]\n",
            "Epoch 5/5: 100%|██████████| 16/16 [00:00<00:00, 35.15it/s]\n"
          ]
        },
        {
          "name": "stdout",
          "output_type": "stream",
          "text": [
            "Slice 2/5 retrained for shard 3/10\n"
          ]
        },
        {
          "name": "stderr",
          "output_type": "stream",
          "text": [
            "Epoch 1/5: 100%|██████████| 16/16 [00:00<00:00, 35.01it/s]\n",
            "Epoch 2/5: 100%|██████████| 16/16 [00:00<00:00, 35.12it/s]\n",
            "Epoch 3/5: 100%|██████████| 16/16 [00:00<00:00, 35.17it/s]\n",
            "Epoch 4/5: 100%|██████████| 16/16 [00:00<00:00, 35.21it/s]\n",
            "Epoch 5/5: 100%|██████████| 16/16 [00:00<00:00, 35.08it/s]\n"
          ]
        },
        {
          "name": "stdout",
          "output_type": "stream",
          "text": [
            "Slice 3/5 retrained for shard 3/10\n"
          ]
        },
        {
          "name": "stderr",
          "output_type": "stream",
          "text": [
            "Epoch 1/5: 100%|██████████| 16/16 [00:00<00:00, 34.94it/s]\n",
            "Epoch 2/5: 100%|██████████| 16/16 [00:00<00:00, 35.15it/s]\n",
            "Epoch 3/5: 100%|██████████| 16/16 [00:00<00:00, 35.08it/s]\n",
            "Epoch 4/5: 100%|██████████| 16/16 [00:00<00:00, 35.06it/s]\n",
            "Epoch 5/5: 100%|██████████| 16/16 [00:00<00:00, 35.13it/s]\n"
          ]
        },
        {
          "name": "stdout",
          "output_type": "stream",
          "text": [
            "Slice 4/5 retrained for shard 3/10\n"
          ]
        },
        {
          "name": "stderr",
          "output_type": "stream",
          "text": [
            "Epoch 1/5: 100%|██████████| 16/16 [00:00<00:00, 34.93it/s]\n",
            "Epoch 2/5: 100%|██████████| 16/16 [00:00<00:00, 35.12it/s]\n",
            "Epoch 3/5: 100%|██████████| 16/16 [00:00<00:00, 35.12it/s]\n",
            "Epoch 4/5: 100%|██████████| 16/16 [00:00<00:00, 35.13it/s]\n",
            "Epoch 5/5: 100%|██████████| 16/16 [00:00<00:00, 35.12it/s]\n"
          ]
        },
        {
          "name": "stdout",
          "output_type": "stream",
          "text": [
            "Slice 5/5 retrained for shard 3/10\n",
            "Retraining shard 4/10 containing data to forget\n"
          ]
        },
        {
          "name": "stderr",
          "output_type": "stream",
          "text": [
            "Epoch 1/5: 100%|██████████| 16/16 [00:00<00:00, 35.02it/s]\n",
            "Epoch 2/5: 100%|██████████| 16/16 [00:00<00:00, 35.22it/s]\n",
            "Epoch 3/5: 100%|██████████| 16/16 [00:00<00:00, 35.16it/s]\n",
            "Epoch 4/5: 100%|██████████| 16/16 [00:00<00:00, 35.24it/s]\n",
            "Epoch 5/5: 100%|██████████| 16/16 [00:00<00:00, 35.14it/s]\n"
          ]
        },
        {
          "name": "stdout",
          "output_type": "stream",
          "text": [
            "Slice 1/5 retrained for shard 4/10\n"
          ]
        },
        {
          "name": "stderr",
          "output_type": "stream",
          "text": [
            "Epoch 1/5: 100%|██████████| 16/16 [00:00<00:00, 35.03it/s]\n",
            "Epoch 2/5: 100%|██████████| 16/16 [00:00<00:00, 35.22it/s]\n",
            "Epoch 3/5: 100%|██████████| 16/16 [00:00<00:00, 35.20it/s]\n",
            "Epoch 4/5: 100%|██████████| 16/16 [00:00<00:00, 35.20it/s]\n",
            "Epoch 5/5: 100%|██████████| 16/16 [00:00<00:00, 35.03it/s]\n"
          ]
        },
        {
          "name": "stdout",
          "output_type": "stream",
          "text": [
            "Slice 2/5 retrained for shard 4/10\n"
          ]
        },
        {
          "name": "stderr",
          "output_type": "stream",
          "text": [
            "Epoch 1/5: 100%|██████████| 16/16 [00:00<00:00, 35.07it/s]\n",
            "Epoch 2/5: 100%|██████████| 16/16 [00:00<00:00, 35.30it/s]\n",
            "Epoch 3/5: 100%|██████████| 16/16 [00:00<00:00, 35.30it/s]\n",
            "Epoch 4/5: 100%|██████████| 16/16 [00:00<00:00, 35.31it/s]\n",
            "Epoch 5/5: 100%|██████████| 16/16 [00:00<00:00, 35.23it/s]\n"
          ]
        },
        {
          "name": "stdout",
          "output_type": "stream",
          "text": [
            "Slice 3/5 retrained for shard 4/10\n"
          ]
        },
        {
          "name": "stderr",
          "output_type": "stream",
          "text": [
            "Epoch 1/5: 100%|██████████| 16/16 [00:00<00:00, 35.04it/s]\n",
            "Epoch 2/5: 100%|██████████| 16/16 [00:00<00:00, 35.32it/s]\n",
            "Epoch 3/5: 100%|██████████| 16/16 [00:00<00:00, 35.26it/s]\n",
            "Epoch 4/5: 100%|██████████| 16/16 [00:00<00:00, 35.28it/s]\n",
            "Epoch 5/5: 100%|██████████| 16/16 [00:00<00:00, 35.30it/s]\n"
          ]
        },
        {
          "name": "stdout",
          "output_type": "stream",
          "text": [
            "Slice 4/5 retrained for shard 4/10\n"
          ]
        },
        {
          "name": "stderr",
          "output_type": "stream",
          "text": [
            "Epoch 1/5: 100%|██████████| 16/16 [00:00<00:00, 35.10it/s]\n",
            "Epoch 2/5: 100%|██████████| 16/16 [00:00<00:00, 35.25it/s]\n",
            "Epoch 3/5: 100%|██████████| 16/16 [00:00<00:00, 35.26it/s]\n",
            "Epoch 4/5: 100%|██████████| 16/16 [00:00<00:00, 35.24it/s]\n",
            "Epoch 5/5: 100%|██████████| 16/16 [00:00<00:00, 35.16it/s]\n"
          ]
        },
        {
          "name": "stdout",
          "output_type": "stream",
          "text": [
            "Slice 5/5 retrained for shard 4/10\n",
            "Retraining shard 5/10 containing data to forget\n"
          ]
        },
        {
          "name": "stderr",
          "output_type": "stream",
          "text": [
            "Epoch 1/5: 100%|██████████| 16/16 [00:00<00:00, 35.07it/s]\n",
            "Epoch 2/5: 100%|██████████| 16/16 [00:00<00:00, 35.33it/s]\n",
            "Epoch 3/5: 100%|██████████| 16/16 [00:00<00:00, 35.28it/s]\n",
            "Epoch 4/5: 100%|██████████| 16/16 [00:00<00:00, 35.25it/s]\n",
            "Epoch 5/5: 100%|██████████| 16/16 [00:00<00:00, 35.35it/s]\n"
          ]
        },
        {
          "name": "stdout",
          "output_type": "stream",
          "text": [
            "Slice 1/5 retrained for shard 5/10\n"
          ]
        },
        {
          "name": "stderr",
          "output_type": "stream",
          "text": [
            "Epoch 1/5: 100%|██████████| 16/16 [00:00<00:00, 35.05it/s]\n",
            "Epoch 2/5: 100%|██████████| 16/16 [00:00<00:00, 35.34it/s]\n",
            "Epoch 3/5: 100%|██████████| 16/16 [00:00<00:00, 35.25it/s]\n",
            "Epoch 4/5: 100%|██████████| 16/16 [00:00<00:00, 35.24it/s]\n",
            "Epoch 5/5: 100%|██████████| 16/16 [00:00<00:00, 35.29it/s]\n"
          ]
        },
        {
          "name": "stdout",
          "output_type": "stream",
          "text": [
            "Slice 2/5 retrained for shard 5/10\n"
          ]
        },
        {
          "name": "stderr",
          "output_type": "stream",
          "text": [
            "Epoch 1/5: 100%|██████████| 16/16 [00:00<00:00, 35.27it/s]\n",
            "Epoch 2/5: 100%|██████████| 16/16 [00:00<00:00, 35.34it/s]\n",
            "Epoch 3/5: 100%|██████████| 16/16 [00:00<00:00, 35.30it/s]\n",
            "Epoch 4/5: 100%|██████████| 16/16 [00:00<00:00, 35.32it/s]\n",
            "Epoch 5/5: 100%|██████████| 16/16 [00:00<00:00, 35.22it/s]\n"
          ]
        },
        {
          "name": "stdout",
          "output_type": "stream",
          "text": [
            "Slice 3/5 retrained for shard 5/10\n"
          ]
        },
        {
          "name": "stderr",
          "output_type": "stream",
          "text": [
            "Epoch 1/5: 100%|██████████| 16/16 [00:00<00:00, 35.10it/s]\n",
            "Epoch 2/5: 100%|██████████| 16/16 [00:00<00:00, 35.33it/s]\n",
            "Epoch 3/5: 100%|██████████| 16/16 [00:00<00:00, 35.34it/s]\n",
            "Epoch 4/5: 100%|██████████| 16/16 [00:00<00:00, 35.28it/s]\n",
            "Epoch 5/5: 100%|██████████| 16/16 [00:00<00:00, 35.30it/s]\n"
          ]
        },
        {
          "name": "stdout",
          "output_type": "stream",
          "text": [
            "Slice 4/5 retrained for shard 5/10\n"
          ]
        },
        {
          "name": "stderr",
          "output_type": "stream",
          "text": [
            "Epoch 1/5: 100%|██████████| 16/16 [00:00<00:00, 35.15it/s]\n",
            "Epoch 2/5: 100%|██████████| 16/16 [00:00<00:00, 35.27it/s]\n",
            "Epoch 3/5: 100%|██████████| 16/16 [00:00<00:00, 35.37it/s]\n",
            "Epoch 4/5: 100%|██████████| 16/16 [00:00<00:00, 35.34it/s]\n",
            "Epoch 5/5: 100%|██████████| 16/16 [00:00<00:00, 35.28it/s]\n"
          ]
        },
        {
          "name": "stdout",
          "output_type": "stream",
          "text": [
            "Slice 5/5 retrained for shard 5/10\n",
            "Retraining shard 6/10 containing data to forget\n"
          ]
        },
        {
          "name": "stderr",
          "output_type": "stream",
          "text": [
            "Epoch 1/5: 100%|██████████| 16/16 [00:00<00:00, 35.12it/s]\n",
            "Epoch 2/5: 100%|██████████| 16/16 [00:00<00:00, 35.34it/s]\n",
            "Epoch 3/5: 100%|██████████| 16/16 [00:00<00:00, 35.26it/s]\n",
            "Epoch 4/5: 100%|██████████| 16/16 [00:00<00:00, 35.09it/s]\n",
            "Epoch 5/5: 100%|██████████| 16/16 [00:00<00:00, 35.35it/s]\n"
          ]
        },
        {
          "name": "stdout",
          "output_type": "stream",
          "text": [
            "Slice 1/5 retrained for shard 6/10\n"
          ]
        },
        {
          "name": "stderr",
          "output_type": "stream",
          "text": [
            "Epoch 1/5: 100%|██████████| 16/16 [00:00<00:00, 35.13it/s]\n",
            "Epoch 2/5: 100%|██████████| 16/16 [00:00<00:00, 35.21it/s]\n",
            "Epoch 3/5: 100%|██████████| 16/16 [00:00<00:00, 35.26it/s]\n",
            "Epoch 4/5: 100%|██████████| 16/16 [00:00<00:00, 35.20it/s]\n",
            "Epoch 5/5: 100%|██████████| 16/16 [00:00<00:00, 35.23it/s]\n"
          ]
        },
        {
          "name": "stdout",
          "output_type": "stream",
          "text": [
            "Slice 2/5 retrained for shard 6/10\n"
          ]
        },
        {
          "name": "stderr",
          "output_type": "stream",
          "text": [
            "Epoch 1/5: 100%|██████████| 16/16 [00:00<00:00, 35.16it/s]\n",
            "Epoch 2/5: 100%|██████████| 16/16 [00:00<00:00, 35.23it/s]\n",
            "Epoch 3/5: 100%|██████████| 16/16 [00:00<00:00, 35.26it/s]\n",
            "Epoch 4/5: 100%|██████████| 16/16 [00:00<00:00, 35.31it/s]\n",
            "Epoch 5/5: 100%|██████████| 16/16 [00:00<00:00, 35.29it/s]\n"
          ]
        },
        {
          "name": "stdout",
          "output_type": "stream",
          "text": [
            "Slice 3/5 retrained for shard 6/10\n"
          ]
        },
        {
          "name": "stderr",
          "output_type": "stream",
          "text": [
            "Epoch 1/5: 100%|██████████| 16/16 [00:00<00:00, 35.13it/s]\n",
            "Epoch 2/5: 100%|██████████| 16/16 [00:00<00:00, 35.29it/s]\n",
            "Epoch 3/5: 100%|██████████| 16/16 [00:00<00:00, 35.24it/s]\n",
            "Epoch 4/5: 100%|██████████| 16/16 [00:00<00:00, 35.23it/s]\n",
            "Epoch 5/5: 100%|██████████| 16/16 [00:00<00:00, 35.32it/s]\n"
          ]
        },
        {
          "name": "stdout",
          "output_type": "stream",
          "text": [
            "Slice 4/5 retrained for shard 6/10\n"
          ]
        },
        {
          "name": "stderr",
          "output_type": "stream",
          "text": [
            "Epoch 1/5: 100%|██████████| 16/16 [00:00<00:00, 35.16it/s]\n",
            "Epoch 2/5: 100%|██████████| 16/16 [00:00<00:00, 35.28it/s]\n",
            "Epoch 3/5: 100%|██████████| 16/16 [00:00<00:00, 35.30it/s]\n",
            "Epoch 4/5: 100%|██████████| 16/16 [00:00<00:00, 35.22it/s]\n",
            "Epoch 5/5: 100%|██████████| 16/16 [00:00<00:00, 35.25it/s]\n"
          ]
        },
        {
          "name": "stdout",
          "output_type": "stream",
          "text": [
            "Slice 5/5 retrained for shard 6/10\n",
            "Retraining shard 7/10 containing data to forget\n"
          ]
        },
        {
          "name": "stderr",
          "output_type": "stream",
          "text": [
            "Epoch 1/5: 100%|██████████| 16/16 [00:00<00:00, 35.06it/s]\n",
            "Epoch 2/5: 100%|██████████| 16/16 [00:00<00:00, 35.26it/s]\n",
            "Epoch 3/5: 100%|██████████| 16/16 [00:00<00:00, 35.22it/s]\n",
            "Epoch 4/5: 100%|██████████| 16/16 [00:00<00:00, 35.28it/s]\n",
            "Epoch 5/5: 100%|██████████| 16/16 [00:00<00:00, 35.33it/s]\n"
          ]
        },
        {
          "name": "stdout",
          "output_type": "stream",
          "text": [
            "Slice 1/5 retrained for shard 7/10\n"
          ]
        },
        {
          "name": "stderr",
          "output_type": "stream",
          "text": [
            "Epoch 1/5: 100%|██████████| 16/16 [00:00<00:00, 35.10it/s]\n",
            "Epoch 2/5: 100%|██████████| 16/16 [00:00<00:00, 35.26it/s]\n",
            "Epoch 3/5: 100%|██████████| 16/16 [00:00<00:00, 35.28it/s]\n",
            "Epoch 4/5: 100%|██████████| 16/16 [00:00<00:00, 35.28it/s]\n",
            "Epoch 5/5: 100%|██████████| 16/16 [00:00<00:00, 35.28it/s]\n"
          ]
        },
        {
          "name": "stdout",
          "output_type": "stream",
          "text": [
            "Slice 2/5 retrained for shard 7/10\n"
          ]
        },
        {
          "name": "stderr",
          "output_type": "stream",
          "text": [
            "Epoch 1/5: 100%|██████████| 16/16 [00:00<00:00, 35.16it/s]\n",
            "Epoch 2/5: 100%|██████████| 16/16 [00:00<00:00, 35.29it/s]\n",
            "Epoch 3/5: 100%|██████████| 16/16 [00:00<00:00, 35.23it/s]\n",
            "Epoch 4/5: 100%|██████████| 16/16 [00:00<00:00, 35.27it/s]\n",
            "Epoch 5/5: 100%|██████████| 16/16 [00:00<00:00, 35.25it/s]\n"
          ]
        },
        {
          "name": "stdout",
          "output_type": "stream",
          "text": [
            "Slice 3/5 retrained for shard 7/10\n"
          ]
        },
        {
          "name": "stderr",
          "output_type": "stream",
          "text": [
            "Epoch 1/5: 100%|██████████| 16/16 [00:00<00:00, 35.06it/s]\n",
            "Epoch 2/5: 100%|██████████| 16/16 [00:00<00:00, 35.32it/s]\n",
            "Epoch 3/5: 100%|██████████| 16/16 [00:00<00:00, 35.30it/s]\n",
            "Epoch 4/5: 100%|██████████| 16/16 [00:00<00:00, 35.31it/s]\n",
            "Epoch 5/5: 100%|██████████| 16/16 [00:00<00:00, 35.28it/s]\n"
          ]
        },
        {
          "name": "stdout",
          "output_type": "stream",
          "text": [
            "Slice 4/5 retrained for shard 7/10\n"
          ]
        },
        {
          "name": "stderr",
          "output_type": "stream",
          "text": [
            "Epoch 1/5: 100%|██████████| 16/16 [00:00<00:00, 35.13it/s]\n",
            "Epoch 2/5: 100%|██████████| 16/16 [00:00<00:00, 35.18it/s]\n",
            "Epoch 3/5: 100%|██████████| 16/16 [00:00<00:00, 35.22it/s]\n",
            "Epoch 4/5: 100%|██████████| 16/16 [00:00<00:00, 35.20it/s]\n",
            "Epoch 5/5: 100%|██████████| 16/16 [00:00<00:00, 35.19it/s]\n"
          ]
        },
        {
          "name": "stdout",
          "output_type": "stream",
          "text": [
            "Slice 5/5 retrained for shard 7/10\n",
            "Retraining shard 8/10 containing data to forget\n"
          ]
        },
        {
          "name": "stderr",
          "output_type": "stream",
          "text": [
            "Epoch 1/5: 100%|██████████| 16/16 [00:00<00:00, 35.04it/s]\n",
            "Epoch 2/5: 100%|██████████| 16/16 [00:00<00:00, 35.20it/s]\n",
            "Epoch 3/5: 100%|██████████| 16/16 [00:00<00:00, 35.08it/s]\n",
            "Epoch 4/5: 100%|██████████| 16/16 [00:00<00:00, 35.26it/s]\n",
            "Epoch 5/5: 100%|██████████| 16/16 [00:00<00:00, 35.30it/s]\n"
          ]
        },
        {
          "name": "stdout",
          "output_type": "stream",
          "text": [
            "Slice 1/5 retrained for shard 8/10\n"
          ]
        },
        {
          "name": "stderr",
          "output_type": "stream",
          "text": [
            "Epoch 1/5: 100%|██████████| 16/16 [00:00<00:00, 34.95it/s]\n",
            "Epoch 2/5: 100%|██████████| 16/16 [00:00<00:00, 35.11it/s]\n",
            "Epoch 3/5: 100%|██████████| 16/16 [00:00<00:00, 35.21it/s]\n",
            "Epoch 4/5: 100%|██████████| 16/16 [00:00<00:00, 35.14it/s]\n",
            "Epoch 5/5: 100%|██████████| 16/16 [00:00<00:00, 35.20it/s]\n"
          ]
        },
        {
          "name": "stdout",
          "output_type": "stream",
          "text": [
            "Slice 2/5 retrained for shard 8/10\n"
          ]
        },
        {
          "name": "stderr",
          "output_type": "stream",
          "text": [
            "Epoch 1/5: 100%|██████████| 16/16 [00:00<00:00, 35.01it/s]\n",
            "Epoch 2/5: 100%|██████████| 16/16 [00:00<00:00, 35.22it/s]\n",
            "Epoch 3/5: 100%|██████████| 16/16 [00:00<00:00, 35.18it/s]\n",
            "Epoch 4/5: 100%|██████████| 16/16 [00:00<00:00, 35.22it/s]\n",
            "Epoch 5/5: 100%|██████████| 16/16 [00:00<00:00, 35.19it/s]\n"
          ]
        },
        {
          "name": "stdout",
          "output_type": "stream",
          "text": [
            "Slice 3/5 retrained for shard 8/10\n"
          ]
        },
        {
          "name": "stderr",
          "output_type": "stream",
          "text": [
            "Epoch 1/5: 100%|██████████| 16/16 [00:00<00:00, 35.00it/s]\n",
            "Epoch 2/5: 100%|██████████| 16/16 [00:00<00:00, 35.17it/s]\n",
            "Epoch 3/5: 100%|██████████| 16/16 [00:00<00:00, 35.08it/s]\n",
            "Epoch 4/5: 100%|██████████| 16/16 [00:00<00:00, 34.98it/s]\n",
            "Epoch 5/5: 100%|██████████| 16/16 [00:00<00:00, 35.17it/s]\n"
          ]
        },
        {
          "name": "stdout",
          "output_type": "stream",
          "text": [
            "Slice 4/5 retrained for shard 8/10\n"
          ]
        },
        {
          "name": "stderr",
          "output_type": "stream",
          "text": [
            "Epoch 1/5: 100%|██████████| 16/16 [00:00<00:00, 35.02it/s]\n",
            "Epoch 2/5: 100%|██████████| 16/16 [00:00<00:00, 35.21it/s]\n",
            "Epoch 3/5: 100%|██████████| 16/16 [00:00<00:00, 35.15it/s]\n",
            "Epoch 4/5: 100%|██████████| 16/16 [00:00<00:00, 35.19it/s]\n",
            "Epoch 5/5: 100%|██████████| 16/16 [00:00<00:00, 35.04it/s]\n"
          ]
        },
        {
          "name": "stdout",
          "output_type": "stream",
          "text": [
            "Slice 5/5 retrained for shard 8/10\n"
          ]
        },
        {
          "name": "stderr",
          "output_type": "stream",
          "text": [
            "Evaluating model: Shard 1/10, slice 1/5: 100%|██████████| 157/157 [00:02<00:00, 53.15it/s]\n",
            "Evaluating model: Shard 1/10, slice 2/5: 100%|██████████| 157/157 [00:02<00:00, 53.19it/s]\n",
            "Evaluating model: Shard 1/10, slice 3/5: 100%|██████████| 157/157 [00:02<00:00, 53.13it/s]\n",
            "Evaluating model: Shard 1/10, slice 4/5: 100%|██████████| 157/157 [00:02<00:00, 53.25it/s]\n",
            "Evaluating model: Shard 1/10, slice 5/5: 100%|██████████| 157/157 [00:02<00:00, 53.21it/s]\n",
            "Evaluating model: Shard 2/10, slice 1/5: 100%|██████████| 157/157 [00:02<00:00, 53.19it/s]\n",
            "Evaluating model: Shard 2/10, slice 2/5: 100%|██████████| 157/157 [00:02<00:00, 53.18it/s]\n",
            "Evaluating model: Shard 2/10, slice 3/5: 100%|██████████| 157/157 [00:02<00:00, 53.20it/s]\n",
            "Evaluating model: Shard 2/10, slice 4/5: 100%|██████████| 157/157 [00:02<00:00, 53.23it/s]\n",
            "Evaluating model: Shard 2/10, slice 5/5: 100%|██████████| 157/157 [00:02<00:00, 53.21it/s]\n",
            "Evaluating model: Shard 3/10, slice 1/5: 100%|██████████| 157/157 [00:02<00:00, 53.22it/s]\n",
            "Evaluating model: Shard 3/10, slice 2/5: 100%|██████████| 157/157 [00:02<00:00, 53.19it/s]\n",
            "Evaluating model: Shard 3/10, slice 3/5: 100%|██████████| 157/157 [00:02<00:00, 53.18it/s]\n",
            "Evaluating model: Shard 3/10, slice 4/5: 100%|██████████| 157/157 [00:02<00:00, 53.16it/s]\n",
            "Evaluating model: Shard 3/10, slice 5/5: 100%|██████████| 157/157 [00:02<00:00, 53.22it/s]\n",
            "Evaluating model: Shard 4/10, slice 1/5: 100%|██████████| 157/157 [00:02<00:00, 53.19it/s]\n",
            "Evaluating model: Shard 4/10, slice 2/5: 100%|██████████| 157/157 [00:02<00:00, 53.18it/s]\n",
            "Evaluating model: Shard 4/10, slice 3/5: 100%|██████████| 157/157 [00:02<00:00, 53.17it/s]\n",
            "Evaluating model: Shard 4/10, slice 4/5: 100%|██████████| 157/157 [00:02<00:00, 53.17it/s]\n",
            "Evaluating model: Shard 4/10, slice 5/5: 100%|██████████| 157/157 [00:02<00:00, 53.19it/s]\n",
            "Evaluating model: Shard 5/10, slice 1/5: 100%|██████████| 157/157 [00:02<00:00, 53.17it/s]\n",
            "Evaluating model: Shard 5/10, slice 2/5: 100%|██████████| 157/157 [00:02<00:00, 53.16it/s]\n",
            "Evaluating model: Shard 5/10, slice 3/5: 100%|██████████| 157/157 [00:02<00:00, 53.29it/s]\n",
            "Evaluating model: Shard 5/10, slice 4/5: 100%|██████████| 157/157 [00:02<00:00, 53.30it/s]\n",
            "Evaluating model: Shard 5/10, slice 5/5: 100%|██████████| 157/157 [00:02<00:00, 53.28it/s]\n",
            "Evaluating model: Shard 6/10, slice 1/5: 100%|██████████| 157/157 [00:02<00:00, 53.29it/s]\n",
            "Evaluating model: Shard 6/10, slice 2/5: 100%|██████████| 157/157 [00:02<00:00, 53.26it/s]\n",
            "Evaluating model: Shard 6/10, slice 3/5: 100%|██████████| 157/157 [00:02<00:00, 53.31it/s]\n",
            "Evaluating model: Shard 6/10, slice 4/5: 100%|██████████| 157/157 [00:02<00:00, 53.31it/s]\n",
            "Evaluating model: Shard 6/10, slice 5/5: 100%|██████████| 157/157 [00:02<00:00, 53.65it/s]\n",
            "Evaluating model: Shard 7/10, slice 1/5: 100%|██████████| 157/157 [00:02<00:00, 53.86it/s]\n",
            "Evaluating model: Shard 7/10, slice 2/5: 100%|██████████| 157/157 [00:02<00:00, 53.35it/s]\n",
            "Evaluating model: Shard 7/10, slice 3/5: 100%|██████████| 157/157 [00:02<00:00, 53.20it/s]\n",
            "Evaluating model: Shard 7/10, slice 4/5: 100%|██████████| 157/157 [00:02<00:00, 53.21it/s]\n",
            "Evaluating model: Shard 7/10, slice 5/5: 100%|██████████| 157/157 [00:02<00:00, 53.25it/s]\n",
            "Evaluating model: Shard 8/10, slice 1/5: 100%|██████████| 157/157 [00:02<00:00, 53.24it/s]\n",
            "Evaluating model: Shard 8/10, slice 2/5: 100%|██████████| 157/157 [00:02<00:00, 53.24it/s]\n",
            "Evaluating model: Shard 8/10, slice 3/5: 100%|██████████| 157/157 [00:02<00:00, 53.20it/s]\n",
            "Evaluating model: Shard 8/10, slice 4/5: 100%|██████████| 157/157 [00:02<00:00, 53.18it/s]\n",
            "Evaluating model: Shard 8/10, slice 5/5: 100%|██████████| 157/157 [00:02<00:00, 53.21it/s]\n",
            "Evaluating model: Shard 9/10, slice 1/5: 100%|██████████| 157/157 [00:02<00:00, 53.19it/s]\n",
            "Evaluating model: Shard 9/10, slice 2/5: 100%|██████████| 157/157 [00:02<00:00, 53.19it/s]\n",
            "Evaluating model: Shard 9/10, slice 3/5: 100%|██████████| 157/157 [00:02<00:00, 53.24it/s]\n",
            "Evaluating model: Shard 9/10, slice 4/5: 100%|██████████| 157/157 [00:02<00:00, 53.23it/s]\n",
            "Evaluating model: Shard 9/10, slice 5/5: 100%|██████████| 157/157 [00:02<00:00, 53.22it/s]\n",
            "Evaluating model: Shard 10/10, slice 1/5: 100%|██████████| 157/157 [00:02<00:00, 53.15it/s]\n",
            "Evaluating model: Shard 10/10, slice 2/5: 100%|██████████| 157/157 [00:02<00:00, 53.23it/s]\n",
            "Evaluating model: Shard 10/10, slice 3/5: 100%|██████████| 157/157 [00:02<00:00, 53.22it/s]\n",
            "Evaluating model: Shard 10/10, slice 4/5: 100%|██████████| 157/157 [00:02<00:00, 53.22it/s]\n",
            "Evaluating model: Shard 10/10, slice 5/5: 100%|██████████| 157/157 [00:02<00:00, 53.26it/s]\n"
          ]
        }
      ],
      "source": [
        "S = 10\n",
        "R = 5\n",
        "shards = create_shards(train_dataset, S)\n",
        "shard_models = sisa_train(shards, R, num_epochs, initial_model, criterion, optimizer_fn)\n",
        "\n",
        "test_loader = data.DataLoader(test_dataset, batch_size=64, shuffle=False)\n",
        "\n",
        "accuracy, precision, recall, f1, auroc = evaluate_models(shard_models, test_loader)\n",
        "results.append((S, R, \"Majority Voting\", accuracy, precision, recall, f1, auroc))\n",
        "\n",
        "if accuracy > best_accuracy:\n",
        "    best_accuracy = accuracy\n",
        "    best_model = shard_models\n",
        "    best_result = (S, R, accuracy, precision, recall, f1, auroc)\n",
        "    \n",
        "# Perform unlearning\n",
        "data_to_forget_indices = np.random.choice(len(train_data), 500, replace=False)\n",
        "shard_models_unlearned = sisa_unlearn(shards, R, shard_models, initial_model, criterion, optimizer_fn, data_to_forget_indices)\n",
        "\n",
        "accuracy, precision, recall, f1, auroc = evaluate_models(shard_models_unlearned, test_loader)\n",
        "results_unlearning.append((S, R, \"Majority Voting\" + \" (Unlearned)\", accuracy, precision, recall, f1, auroc))\n",
        "\n",
        "\n",
        "if accuracy > best_accuracy_unlearned:\n",
        "    best_accuracy_unlearned = accuracy\n",
        "    best_model_unlearned = shard_models_unlearned\n",
        "    best_result_unlearned = (S, R, accuracy, precision, recall, f1, auroc)\n",
        "\n",
        "clear_CUDA()"
      ]
    },
    {
      "cell_type": "code",
      "execution_count": 18,
      "metadata": {
        "collapsed": true,
        "id": "3JheT6iLErlY",
        "outputId": "62ddbb25-4b42-49a6-adcf-2259688be893"
      },
      "outputs": [
        {
          "name": "stdout",
          "output_type": "stream",
          "text": [
            "Training shard 1/10, slice 1/10\n"
          ]
        },
        {
          "name": "stderr",
          "output_type": "stream",
          "text": [
            "Epoch 1/5: 100%|██████████| 8/8 [00:00<00:00, 33.95it/s]\n",
            "Epoch 2/5: 100%|██████████| 8/8 [00:00<00:00, 34.52it/s]\n",
            "Epoch 3/5: 100%|██████████| 8/8 [00:00<00:00, 34.55it/s]\n",
            "Epoch 4/5: 100%|██████████| 8/8 [00:00<00:00, 34.55it/s]\n",
            "Epoch 5/5: 100%|██████████| 8/8 [00:00<00:00, 34.64it/s]\n"
          ]
        },
        {
          "name": "stdout",
          "output_type": "stream",
          "text": [
            "Training shard 1/10, slice 2/10\n"
          ]
        },
        {
          "name": "stderr",
          "output_type": "stream",
          "text": [
            "Epoch 1/5: 100%|██████████| 8/8 [00:00<00:00, 34.32it/s]\n",
            "Epoch 2/5: 100%|██████████| 8/8 [00:00<00:00, 34.60it/s]\n",
            "Epoch 3/5:   0%|          | 0/8 [00:00<?, ?it/s]"
          ]
        },
        {
          "name": "stderr",
          "output_type": "stream",
          "text": [
            "Epoch 3/5: 100%|██████████| 8/8 [00:00<00:00, 34.71it/s]\n",
            "Epoch 4/5: 100%|██████████| 8/8 [00:00<00:00, 34.65it/s]\n",
            "Epoch 5/5: 100%|██████████| 8/8 [00:00<00:00, 34.64it/s]\n"
          ]
        },
        {
          "name": "stdout",
          "output_type": "stream",
          "text": [
            "Training shard 1/10, slice 3/10\n"
          ]
        },
        {
          "name": "stderr",
          "output_type": "stream",
          "text": [
            "Epoch 1/5: 100%|██████████| 8/8 [00:00<00:00, 34.43it/s]\n",
            "Epoch 2/5: 100%|██████████| 8/8 [00:00<00:00, 34.81it/s]\n",
            "Epoch 3/5: 100%|██████████| 8/8 [00:00<00:00, 34.77it/s]\n",
            "Epoch 4/5: 100%|██████████| 8/8 [00:00<00:00, 34.69it/s]\n",
            "Epoch 5/5: 100%|██████████| 8/8 [00:00<00:00, 34.78it/s]\n"
          ]
        },
        {
          "name": "stdout",
          "output_type": "stream",
          "text": [
            "Training shard 1/10, slice 4/10\n"
          ]
        },
        {
          "name": "stderr",
          "output_type": "stream",
          "text": [
            "Epoch 1/5: 100%|██████████| 8/8 [00:00<00:00, 34.41it/s]\n",
            "Epoch 2/5: 100%|██████████| 8/8 [00:00<00:00, 34.74it/s]\n",
            "Epoch 3/5: 100%|██████████| 8/8 [00:00<00:00, 34.74it/s]\n",
            "Epoch 4/5: 100%|██████████| 8/8 [00:00<00:00, 34.70it/s]\n",
            "Epoch 5/5: 100%|██████████| 8/8 [00:00<00:00, 34.75it/s]\n"
          ]
        },
        {
          "name": "stdout",
          "output_type": "stream",
          "text": [
            "Training shard 1/10, slice 5/10\n"
          ]
        },
        {
          "name": "stderr",
          "output_type": "stream",
          "text": [
            "Epoch 1/5: 100%|██████████| 8/8 [00:00<00:00, 34.45it/s]\n",
            "Epoch 2/5: 100%|██████████| 8/8 [00:00<00:00, 34.83it/s]\n",
            "Epoch 3/5: 100%|██████████| 8/8 [00:00<00:00, 34.88it/s]\n",
            "Epoch 4/5: 100%|██████████| 8/8 [00:00<00:00, 34.83it/s]\n",
            "Epoch 5/5: 100%|██████████| 8/8 [00:00<00:00, 34.89it/s]\n"
          ]
        },
        {
          "name": "stdout",
          "output_type": "stream",
          "text": [
            "Training shard 1/10, slice 6/10\n"
          ]
        },
        {
          "name": "stderr",
          "output_type": "stream",
          "text": [
            "Epoch 1/5: 100%|██████████| 8/8 [00:00<00:00, 34.63it/s]\n",
            "Epoch 2/5: 100%|██████████| 8/8 [00:00<00:00, 34.86it/s]\n",
            "Epoch 3/5: 100%|██████████| 8/8 [00:00<00:00, 34.86it/s]\n",
            "Epoch 4/5: 100%|██████████| 8/8 [00:00<00:00, 34.84it/s]\n",
            "Epoch 5/5: 100%|██████████| 8/8 [00:00<00:00, 34.85it/s]\n"
          ]
        },
        {
          "name": "stdout",
          "output_type": "stream",
          "text": [
            "Training shard 1/10, slice 7/10\n"
          ]
        },
        {
          "name": "stderr",
          "output_type": "stream",
          "text": [
            "Epoch 1/5: 100%|██████████| 8/8 [00:00<00:00, 34.53it/s]\n",
            "Epoch 2/5: 100%|██████████| 8/8 [00:00<00:00, 34.87it/s]\n",
            "Epoch 3/5: 100%|██████████| 8/8 [00:00<00:00, 34.88it/s]\n",
            "Epoch 4/5: 100%|██████████| 8/8 [00:00<00:00, 34.87it/s]\n",
            "Epoch 5/5: 100%|██████████| 8/8 [00:00<00:00, 34.92it/s]\n"
          ]
        },
        {
          "name": "stdout",
          "output_type": "stream",
          "text": [
            "Training shard 1/10, slice 8/10\n"
          ]
        },
        {
          "name": "stderr",
          "output_type": "stream",
          "text": [
            "Epoch 1/5: 100%|██████████| 8/8 [00:00<00:00, 34.62it/s]\n",
            "Epoch 2/5: 100%|██████████| 8/8 [00:00<00:00, 34.89it/s]\n",
            "Epoch 3/5: 100%|██████████| 8/8 [00:00<00:00, 34.96it/s]\n",
            "Epoch 4/5: 100%|██████████| 8/8 [00:00<00:00, 34.91it/s]\n",
            "Epoch 5/5: 100%|██████████| 8/8 [00:00<00:00, 34.86it/s]\n"
          ]
        },
        {
          "name": "stdout",
          "output_type": "stream",
          "text": [
            "Training shard 1/10, slice 9/10\n"
          ]
        },
        {
          "name": "stderr",
          "output_type": "stream",
          "text": [
            "Epoch 1/5: 100%|██████████| 8/8 [00:00<00:00, 34.70it/s]\n",
            "Epoch 2/5: 100%|██████████| 8/8 [00:00<00:00, 34.70it/s]\n",
            "Epoch 3/5: 100%|██████████| 8/8 [00:00<00:00, 34.98it/s]\n",
            "Epoch 4/5: 100%|██████████| 8/8 [00:00<00:00, 35.07it/s]\n",
            "Epoch 5/5: 100%|██████████| 8/8 [00:00<00:00, 34.89it/s]\n"
          ]
        },
        {
          "name": "stdout",
          "output_type": "stream",
          "text": [
            "Training shard 1/10, slice 10/10\n"
          ]
        },
        {
          "name": "stderr",
          "output_type": "stream",
          "text": [
            "Epoch 1/5: 100%|██████████| 8/8 [00:00<00:00, 34.62it/s]\n",
            "Epoch 2/5: 100%|██████████| 8/8 [00:00<00:00, 35.07it/s]\n",
            "Epoch 3/5: 100%|██████████| 8/8 [00:00<00:00, 35.05it/s]\n",
            "Epoch 4/5: 100%|██████████| 8/8 [00:00<00:00, 35.04it/s]\n",
            "Epoch 5/5: 100%|██████████| 8/8 [00:00<00:00, 35.00it/s]\n"
          ]
        },
        {
          "name": "stdout",
          "output_type": "stream",
          "text": [
            "Training shard 2/10, slice 1/10\n"
          ]
        },
        {
          "name": "stderr",
          "output_type": "stream",
          "text": [
            "Epoch 1/5: 100%|██████████| 8/8 [00:00<00:00, 34.35it/s]\n",
            "Epoch 2/5: 100%|██████████| 8/8 [00:00<00:00, 34.87it/s]\n",
            "Epoch 3/5: 100%|██████████| 8/8 [00:00<00:00, 34.92it/s]\n",
            "Epoch 4/5: 100%|██████████| 8/8 [00:00<00:00, 34.86it/s]\n",
            "Epoch 5/5: 100%|██████████| 8/8 [00:00<00:00, 34.88it/s]\n"
          ]
        },
        {
          "name": "stdout",
          "output_type": "stream",
          "text": [
            "Training shard 2/10, slice 2/10\n"
          ]
        },
        {
          "name": "stderr",
          "output_type": "stream",
          "text": [
            "Epoch 1/5: 100%|██████████| 8/8 [00:00<00:00, 34.38it/s]\n",
            "Epoch 2/5: 100%|██████████| 8/8 [00:00<00:00, 34.81it/s]\n",
            "Epoch 3/5: 100%|██████████| 8/8 [00:00<00:00, 34.96it/s]\n",
            "Epoch 4/5: 100%|██████████| 8/8 [00:00<00:00, 34.94it/s]\n",
            "Epoch 5/5: 100%|██████████| 8/8 [00:00<00:00, 34.86it/s]\n"
          ]
        },
        {
          "name": "stdout",
          "output_type": "stream",
          "text": [
            "Training shard 2/10, slice 3/10\n"
          ]
        },
        {
          "name": "stderr",
          "output_type": "stream",
          "text": [
            "Epoch 1/5: 100%|██████████| 8/8 [00:00<00:00, 34.34it/s]\n",
            "Epoch 2/5: 100%|██████████| 8/8 [00:00<00:00, 35.01it/s]\n",
            "Epoch 3/5: 100%|██████████| 8/8 [00:00<00:00, 34.97it/s]\n",
            "Epoch 4/5: 100%|██████████| 8/8 [00:00<00:00, 35.00it/s]\n",
            "Epoch 5/5: 100%|██████████| 8/8 [00:00<00:00, 35.02it/s]\n"
          ]
        },
        {
          "name": "stdout",
          "output_type": "stream",
          "text": [
            "Training shard 2/10, slice 4/10\n"
          ]
        },
        {
          "name": "stderr",
          "output_type": "stream",
          "text": [
            "Epoch 1/5: 100%|██████████| 8/8 [00:00<00:00, 34.45it/s]\n",
            "Epoch 2/5: 100%|██████████| 8/8 [00:00<00:00, 35.08it/s]\n",
            "Epoch 3/5: 100%|██████████| 8/8 [00:00<00:00, 35.03it/s]\n",
            "Epoch 4/5: 100%|██████████| 8/8 [00:00<00:00, 35.05it/s]\n",
            "Epoch 5/5: 100%|██████████| 8/8 [00:00<00:00, 34.90it/s]\n"
          ]
        },
        {
          "name": "stdout",
          "output_type": "stream",
          "text": [
            "Training shard 2/10, slice 5/10\n"
          ]
        },
        {
          "name": "stderr",
          "output_type": "stream",
          "text": [
            "Epoch 1/5: 100%|██████████| 8/8 [00:00<00:00, 34.32it/s]\n",
            "Epoch 2/5: 100%|██████████| 8/8 [00:00<00:00, 34.99it/s]\n",
            "Epoch 3/5: 100%|██████████| 8/8 [00:00<00:00, 35.06it/s]\n",
            "Epoch 4/5: 100%|██████████| 8/8 [00:00<00:00, 35.16it/s]\n",
            "Epoch 5/5: 100%|██████████| 8/8 [00:00<00:00, 34.94it/s]\n"
          ]
        },
        {
          "name": "stdout",
          "output_type": "stream",
          "text": [
            "Training shard 2/10, slice 6/10\n"
          ]
        },
        {
          "name": "stderr",
          "output_type": "stream",
          "text": [
            "Epoch 1/5: 100%|██████████| 8/8 [00:00<00:00, 34.25it/s]\n",
            "Epoch 2/5: 100%|██████████| 8/8 [00:00<00:00, 35.12it/s]\n",
            "Epoch 3/5: 100%|██████████| 8/8 [00:00<00:00, 35.05it/s]\n",
            "Epoch 4/5: 100%|██████████| 8/8 [00:00<00:00, 35.09it/s]\n",
            "Epoch 5/5: 100%|██████████| 8/8 [00:00<00:00, 35.19it/s]\n"
          ]
        },
        {
          "name": "stdout",
          "output_type": "stream",
          "text": [
            "Training shard 2/10, slice 7/10\n"
          ]
        },
        {
          "name": "stderr",
          "output_type": "stream",
          "text": [
            "Epoch 1/5: 100%|██████████| 8/8 [00:00<00:00, 34.30it/s]\n",
            "Epoch 2/5: 100%|██████████| 8/8 [00:00<00:00, 34.90it/s]\n",
            "Epoch 3/5: 100%|██████████| 8/8 [00:00<00:00, 34.93it/s]\n",
            "Epoch 4/5: 100%|██████████| 8/8 [00:00<00:00, 35.12it/s]\n",
            "Epoch 5/5: 100%|██████████| 8/8 [00:00<00:00, 35.02it/s]\n"
          ]
        },
        {
          "name": "stdout",
          "output_type": "stream",
          "text": [
            "Training shard 2/10, slice 8/10\n"
          ]
        },
        {
          "name": "stderr",
          "output_type": "stream",
          "text": [
            "Epoch 1/5: 100%|██████████| 8/8 [00:00<00:00, 34.58it/s]\n",
            "Epoch 2/5: 100%|██████████| 8/8 [00:00<00:00, 35.07it/s]\n",
            "Epoch 3/5: 100%|██████████| 8/8 [00:00<00:00, 34.97it/s]\n",
            "Epoch 4/5: 100%|██████████| 8/8 [00:00<00:00, 34.96it/s]\n",
            "Epoch 5/5: 100%|██████████| 8/8 [00:00<00:00, 34.96it/s]\n"
          ]
        },
        {
          "name": "stdout",
          "output_type": "stream",
          "text": [
            "Training shard 2/10, slice 9/10\n"
          ]
        },
        {
          "name": "stderr",
          "output_type": "stream",
          "text": [
            "Epoch 1/5: 100%|██████████| 8/8 [00:00<00:00, 34.56it/s]\n",
            "Epoch 2/5: 100%|██████████| 8/8 [00:00<00:00, 35.11it/s]\n",
            "Epoch 3/5: 100%|██████████| 8/8 [00:00<00:00, 35.04it/s]\n",
            "Epoch 4/5: 100%|██████████| 8/8 [00:00<00:00, 35.02it/s]\n",
            "Epoch 5/5: 100%|██████████| 8/8 [00:00<00:00, 35.88it/s]\n"
          ]
        },
        {
          "name": "stdout",
          "output_type": "stream",
          "text": [
            "Training shard 2/10, slice 10/10\n"
          ]
        },
        {
          "name": "stderr",
          "output_type": "stream",
          "text": [
            "Epoch 1/5: 100%|██████████| 8/8 [00:00<00:00, 35.34it/s]\n",
            "Epoch 2/5: 100%|██████████| 8/8 [00:00<00:00, 35.04it/s]\n",
            "Epoch 3/5: 100%|██████████| 8/8 [00:00<00:00, 35.98it/s]\n",
            "Epoch 4/5: 100%|██████████| 8/8 [00:00<00:00, 36.35it/s]\n",
            "Epoch 5/5: 100%|██████████| 8/8 [00:00<00:00, 35.23it/s]\n"
          ]
        },
        {
          "name": "stdout",
          "output_type": "stream",
          "text": [
            "Training shard 3/10, slice 1/10\n"
          ]
        },
        {
          "name": "stderr",
          "output_type": "stream",
          "text": [
            "Epoch 1/5: 100%|██████████| 8/8 [00:00<00:00, 35.13it/s]\n",
            "Epoch 2/5: 100%|██████████| 8/8 [00:00<00:00, 34.99it/s]\n",
            "Epoch 3/5: 100%|██████████| 8/8 [00:00<00:00, 35.91it/s]\n",
            "Epoch 4/5: 100%|██████████| 8/8 [00:00<00:00, 36.57it/s]\n",
            "Epoch 5/5: 100%|██████████| 8/8 [00:00<00:00, 35.65it/s]\n"
          ]
        },
        {
          "name": "stdout",
          "output_type": "stream",
          "text": [
            "Training shard 3/10, slice 2/10\n"
          ]
        },
        {
          "name": "stderr",
          "output_type": "stream",
          "text": [
            "Epoch 1/5: 100%|██████████| 8/8 [00:00<00:00, 34.56it/s]\n",
            "Epoch 2/5: 100%|██████████| 8/8 [00:00<00:00, 35.24it/s]\n",
            "Epoch 3/5: 100%|██████████| 8/8 [00:00<00:00, 35.44it/s]\n",
            "Epoch 4/5: 100%|██████████| 8/8 [00:00<00:00, 35.44it/s]\n",
            "Epoch 5/5: 100%|██████████| 8/8 [00:00<00:00, 35.52it/s]\n"
          ]
        },
        {
          "name": "stdout",
          "output_type": "stream",
          "text": [
            "Training shard 3/10, slice 3/10\n"
          ]
        },
        {
          "name": "stderr",
          "output_type": "stream",
          "text": [
            "Epoch 1/5: 100%|██████████| 8/8 [00:00<00:00, 34.84it/s]\n",
            "Epoch 2/5: 100%|██████████| 8/8 [00:00<00:00, 35.37it/s]\n",
            "Epoch 3/5: 100%|██████████| 8/8 [00:00<00:00, 35.83it/s]\n",
            "Epoch 4/5: 100%|██████████| 8/8 [00:00<00:00, 36.60it/s]\n",
            "Epoch 5/5: 100%|██████████| 8/8 [00:00<00:00, 35.82it/s]\n"
          ]
        },
        {
          "name": "stdout",
          "output_type": "stream",
          "text": [
            "Training shard 3/10, slice 4/10\n"
          ]
        },
        {
          "name": "stderr",
          "output_type": "stream",
          "text": [
            "Epoch 1/5: 100%|██████████| 8/8 [00:00<00:00, 34.96it/s]\n",
            "Epoch 2/5: 100%|██████████| 8/8 [00:00<00:00, 34.98it/s]\n",
            "Epoch 3/5: 100%|██████████| 8/8 [00:00<00:00, 35.75it/s]\n",
            "Epoch 4/5: 100%|██████████| 8/8 [00:00<00:00, 35.19it/s]\n",
            "Epoch 5/5: 100%|██████████| 8/8 [00:00<00:00, 36.44it/s]\n"
          ]
        },
        {
          "name": "stdout",
          "output_type": "stream",
          "text": [
            "Training shard 3/10, slice 5/10\n"
          ]
        },
        {
          "name": "stderr",
          "output_type": "stream",
          "text": [
            "Epoch 1/5: 100%|██████████| 8/8 [00:00<00:00, 34.55it/s]\n",
            "Epoch 2/5: 100%|██████████| 8/8 [00:00<00:00, 35.40it/s]\n",
            "Epoch 3/5: 100%|██████████| 8/8 [00:00<00:00, 34.97it/s]\n",
            "Epoch 4/5: 100%|██████████| 8/8 [00:00<00:00, 34.91it/s]\n",
            "Epoch 5/5: 100%|██████████| 8/8 [00:00<00:00, 35.02it/s]\n"
          ]
        },
        {
          "name": "stdout",
          "output_type": "stream",
          "text": [
            "Training shard 3/10, slice 6/10\n"
          ]
        },
        {
          "name": "stderr",
          "output_type": "stream",
          "text": [
            "Epoch 1/5: 100%|██████████| 8/8 [00:00<00:00, 34.13it/s]\n",
            "Epoch 2/5: 100%|██████████| 8/8 [00:00<00:00, 35.03it/s]\n",
            "Epoch 3/5: 100%|██████████| 8/8 [00:00<00:00, 35.04it/s]\n",
            "Epoch 4/5: 100%|██████████| 8/8 [00:00<00:00, 35.05it/s]\n",
            "Epoch 5/5: 100%|██████████| 8/8 [00:00<00:00, 35.05it/s]\n"
          ]
        },
        {
          "name": "stdout",
          "output_type": "stream",
          "text": [
            "Training shard 3/10, slice 7/10\n"
          ]
        },
        {
          "name": "stderr",
          "output_type": "stream",
          "text": [
            "Epoch 1/5: 100%|██████████| 8/8 [00:00<00:00, 34.25it/s]\n",
            "Epoch 2/5: 100%|██████████| 8/8 [00:00<00:00, 35.03it/s]\n",
            "Epoch 3/5: 100%|██████████| 8/8 [00:00<00:00, 34.96it/s]\n",
            "Epoch 4/5: 100%|██████████| 8/8 [00:00<00:00, 34.94it/s]\n",
            "Epoch 5/5: 100%|██████████| 8/8 [00:00<00:00, 34.99it/s]\n"
          ]
        },
        {
          "name": "stdout",
          "output_type": "stream",
          "text": [
            "Training shard 3/10, slice 8/10\n"
          ]
        },
        {
          "name": "stderr",
          "output_type": "stream",
          "text": [
            "Epoch 1/5: 100%|██████████| 8/8 [00:00<00:00, 34.29it/s]\n",
            "Epoch 2/5: 100%|██████████| 8/8 [00:00<00:00, 35.08it/s]\n",
            "Epoch 3/5: 100%|██████████| 8/8 [00:00<00:00, 35.08it/s]\n",
            "Epoch 4/5: 100%|██████████| 8/8 [00:00<00:00, 35.03it/s]\n",
            "Epoch 5/5: 100%|██████████| 8/8 [00:00<00:00, 35.04it/s]\n"
          ]
        },
        {
          "name": "stdout",
          "output_type": "stream",
          "text": [
            "Training shard 3/10, slice 9/10\n"
          ]
        },
        {
          "name": "stderr",
          "output_type": "stream",
          "text": [
            "Epoch 1/5: 100%|██████████| 8/8 [00:00<00:00, 34.36it/s]\n",
            "Epoch 2/5: 100%|██████████| 8/8 [00:00<00:00, 34.99it/s]\n",
            "Epoch 3/5: 100%|██████████| 8/8 [00:00<00:00, 35.04it/s]\n",
            "Epoch 4/5: 100%|██████████| 8/8 [00:00<00:00, 35.01it/s]\n",
            "Epoch 5/5: 100%|██████████| 8/8 [00:00<00:00, 35.08it/s]\n"
          ]
        },
        {
          "name": "stdout",
          "output_type": "stream",
          "text": [
            "Training shard 3/10, slice 10/10\n"
          ]
        },
        {
          "name": "stderr",
          "output_type": "stream",
          "text": [
            "Epoch 1/5: 100%|██████████| 8/8 [00:00<00:00, 34.38it/s]\n",
            "Epoch 2/5: 100%|██████████| 8/8 [00:00<00:00, 35.09it/s]\n",
            "Epoch 3/5: 100%|██████████| 8/8 [00:00<00:00, 35.13it/s]\n",
            "Epoch 4/5: 100%|██████████| 8/8 [00:00<00:00, 35.03it/s]\n",
            "Epoch 5/5: 100%|██████████| 8/8 [00:00<00:00, 35.14it/s]\n"
          ]
        },
        {
          "name": "stdout",
          "output_type": "stream",
          "text": [
            "Training shard 4/10, slice 1/10\n"
          ]
        },
        {
          "name": "stderr",
          "output_type": "stream",
          "text": [
            "Epoch 1/5: 100%|██████████| 8/8 [00:00<00:00, 34.30it/s]\n",
            "Epoch 2/5: 100%|██████████| 8/8 [00:00<00:00, 35.02it/s]\n",
            "Epoch 3/5: 100%|██████████| 8/8 [00:00<00:00, 34.98it/s]\n",
            "Epoch 4/5: 100%|██████████| 8/8 [00:00<00:00, 34.96it/s]\n",
            "Epoch 5/5: 100%|██████████| 8/8 [00:00<00:00, 34.95it/s]\n"
          ]
        },
        {
          "name": "stdout",
          "output_type": "stream",
          "text": [
            "Training shard 4/10, slice 2/10\n"
          ]
        },
        {
          "name": "stderr",
          "output_type": "stream",
          "text": [
            "Epoch 1/5: 100%|██████████| 8/8 [00:00<00:00, 34.33it/s]\n",
            "Epoch 2/5: 100%|██████████| 8/8 [00:00<00:00, 34.99it/s]\n",
            "Epoch 3/5: 100%|██████████| 8/8 [00:00<00:00, 34.97it/s]\n",
            "Epoch 4/5: 100%|██████████| 8/8 [00:00<00:00, 35.04it/s]\n",
            "Epoch 5/5: 100%|██████████| 8/8 [00:00<00:00, 35.06it/s]\n"
          ]
        },
        {
          "name": "stdout",
          "output_type": "stream",
          "text": [
            "Training shard 4/10, slice 3/10\n"
          ]
        },
        {
          "name": "stderr",
          "output_type": "stream",
          "text": [
            "Epoch 1/5: 100%|██████████| 8/8 [00:00<00:00, 34.38it/s]\n",
            "Epoch 2/5: 100%|██████████| 8/8 [00:00<00:00, 35.12it/s]\n",
            "Epoch 3/5: 100%|██████████| 8/8 [00:00<00:00, 35.11it/s]\n",
            "Epoch 4/5: 100%|██████████| 8/8 [00:00<00:00, 35.06it/s]\n",
            "Epoch 5/5: 100%|██████████| 8/8 [00:00<00:00, 35.09it/s]\n"
          ]
        },
        {
          "name": "stdout",
          "output_type": "stream",
          "text": [
            "Training shard 4/10, slice 4/10\n"
          ]
        },
        {
          "name": "stderr",
          "output_type": "stream",
          "text": [
            "Epoch 1/5: 100%|██████████| 8/8 [00:00<00:00, 34.29it/s]\n",
            "Epoch 2/5: 100%|██████████| 8/8 [00:00<00:00, 35.13it/s]\n",
            "Epoch 3/5: 100%|██████████| 8/8 [00:00<00:00, 35.07it/s]\n",
            "Epoch 4/5: 100%|██████████| 8/8 [00:00<00:00, 35.11it/s]\n",
            "Epoch 5/5: 100%|██████████| 8/8 [00:00<00:00, 35.12it/s]\n"
          ]
        },
        {
          "name": "stdout",
          "output_type": "stream",
          "text": [
            "Training shard 4/10, slice 5/10\n"
          ]
        },
        {
          "name": "stderr",
          "output_type": "stream",
          "text": [
            "Epoch 1/5: 100%|██████████| 8/8 [00:00<00:00, 34.21it/s]\n",
            "Epoch 2/5: 100%|██████████| 8/8 [00:00<00:00, 34.99it/s]\n",
            "Epoch 3/5: 100%|██████████| 8/8 [00:00<00:00, 35.20it/s]\n",
            "Epoch 4/5: 100%|██████████| 8/8 [00:00<00:00, 35.05it/s]\n",
            "Epoch 5/5: 100%|██████████| 8/8 [00:00<00:00, 35.11it/s]\n"
          ]
        },
        {
          "name": "stdout",
          "output_type": "stream",
          "text": [
            "Training shard 4/10, slice 6/10\n"
          ]
        },
        {
          "name": "stderr",
          "output_type": "stream",
          "text": [
            "Epoch 1/5: 100%|██████████| 8/8 [00:00<00:00, 34.27it/s]\n",
            "Epoch 2/5: 100%|██████████| 8/8 [00:00<00:00, 34.99it/s]\n",
            "Epoch 3/5: 100%|██████████| 8/8 [00:00<00:00, 35.02it/s]\n",
            "Epoch 4/5: 100%|██████████| 8/8 [00:00<00:00, 35.13it/s]\n",
            "Epoch 5/5: 100%|██████████| 8/8 [00:00<00:00, 35.03it/s]\n"
          ]
        },
        {
          "name": "stdout",
          "output_type": "stream",
          "text": [
            "Training shard 4/10, slice 7/10\n"
          ]
        },
        {
          "name": "stderr",
          "output_type": "stream",
          "text": [
            "Epoch 1/5: 100%|██████████| 8/8 [00:00<00:00, 34.31it/s]\n",
            "Epoch 2/5: 100%|██████████| 8/8 [00:00<00:00, 35.05it/s]\n",
            "Epoch 3/5: 100%|██████████| 8/8 [00:00<00:00, 35.11it/s]\n",
            "Epoch 4/5: 100%|██████████| 8/8 [00:00<00:00, 35.08it/s]\n",
            "Epoch 5/5: 100%|██████████| 8/8 [00:00<00:00, 35.11it/s]\n"
          ]
        },
        {
          "name": "stdout",
          "output_type": "stream",
          "text": [
            "Training shard 4/10, slice 8/10\n"
          ]
        },
        {
          "name": "stderr",
          "output_type": "stream",
          "text": [
            "Epoch 1/5: 100%|██████████| 8/8 [00:00<00:00, 34.35it/s]\n",
            "Epoch 2/5: 100%|██████████| 8/8 [00:00<00:00, 35.06it/s]\n",
            "Epoch 3/5: 100%|██████████| 8/8 [00:00<00:00, 35.07it/s]\n",
            "Epoch 4/5: 100%|██████████| 8/8 [00:00<00:00, 35.08it/s]\n",
            "Epoch 5/5: 100%|██████████| 8/8 [00:00<00:00, 35.12it/s]\n"
          ]
        },
        {
          "name": "stdout",
          "output_type": "stream",
          "text": [
            "Training shard 4/10, slice 9/10\n"
          ]
        },
        {
          "name": "stderr",
          "output_type": "stream",
          "text": [
            "Epoch 1/5: 100%|██████████| 8/8 [00:00<00:00, 34.37it/s]\n",
            "Epoch 2/5: 100%|██████████| 8/8 [00:00<00:00, 35.04it/s]\n",
            "Epoch 3/5: 100%|██████████| 8/8 [00:00<00:00, 35.02it/s]\n",
            "Epoch 4/5: 100%|██████████| 8/8 [00:00<00:00, 35.07it/s]\n",
            "Epoch 5/5: 100%|██████████| 8/8 [00:00<00:00, 35.02it/s]\n"
          ]
        },
        {
          "name": "stdout",
          "output_type": "stream",
          "text": [
            "Training shard 4/10, slice 10/10\n"
          ]
        },
        {
          "name": "stderr",
          "output_type": "stream",
          "text": [
            "Epoch 1/5: 100%|██████████| 8/8 [00:00<00:00, 34.37it/s]\n",
            "Epoch 2/5: 100%|██████████| 8/8 [00:00<00:00, 35.17it/s]\n",
            "Epoch 3/5: 100%|██████████| 8/8 [00:00<00:00, 34.96it/s]\n",
            "Epoch 4/5: 100%|██████████| 8/8 [00:00<00:00, 35.11it/s]\n",
            "Epoch 5/5: 100%|██████████| 8/8 [00:00<00:00, 35.05it/s]\n"
          ]
        },
        {
          "name": "stdout",
          "output_type": "stream",
          "text": [
            "Training shard 5/10, slice 1/10\n"
          ]
        },
        {
          "name": "stderr",
          "output_type": "stream",
          "text": [
            "Epoch 1/5: 100%|██████████| 8/8 [00:00<00:00, 34.42it/s]\n",
            "Epoch 2/5: 100%|██████████| 8/8 [00:00<00:00, 35.02it/s]\n",
            "Epoch 3/5: 100%|██████████| 8/8 [00:00<00:00, 35.07it/s]\n",
            "Epoch 4/5: 100%|██████████| 8/8 [00:00<00:00, 35.09it/s]\n",
            "Epoch 5/5: 100%|██████████| 8/8 [00:00<00:00, 35.02it/s]\n"
          ]
        },
        {
          "name": "stdout",
          "output_type": "stream",
          "text": [
            "Training shard 5/10, slice 2/10\n"
          ]
        },
        {
          "name": "stderr",
          "output_type": "stream",
          "text": [
            "Epoch 1/5: 100%|██████████| 8/8 [00:00<00:00, 34.30it/s]\n",
            "Epoch 2/5: 100%|██████████| 8/8 [00:00<00:00, 35.00it/s]\n",
            "Epoch 3/5: 100%|██████████| 8/8 [00:00<00:00, 35.06it/s]\n",
            "Epoch 4/5: 100%|██████████| 8/8 [00:00<00:00, 35.13it/s]\n",
            "Epoch 5/5: 100%|██████████| 8/8 [00:00<00:00, 34.98it/s]\n"
          ]
        },
        {
          "name": "stdout",
          "output_type": "stream",
          "text": [
            "Training shard 5/10, slice 3/10\n"
          ]
        },
        {
          "name": "stderr",
          "output_type": "stream",
          "text": [
            "Epoch 1/5: 100%|██████████| 8/8 [00:00<00:00, 34.37it/s]\n",
            "Epoch 2/5: 100%|██████████| 8/8 [00:00<00:00, 35.08it/s]\n",
            "Epoch 3/5: 100%|██████████| 8/8 [00:00<00:00, 34.77it/s]\n",
            "Epoch 4/5: 100%|██████████| 8/8 [00:00<00:00, 35.01it/s]\n",
            "Epoch 5/5: 100%|██████████| 8/8 [00:00<00:00, 35.09it/s]\n"
          ]
        },
        {
          "name": "stdout",
          "output_type": "stream",
          "text": [
            "Training shard 5/10, slice 4/10\n"
          ]
        },
        {
          "name": "stderr",
          "output_type": "stream",
          "text": [
            "Epoch 1/5: 100%|██████████| 8/8 [00:00<00:00, 34.26it/s]\n",
            "Epoch 2/5: 100%|██████████| 8/8 [00:00<00:00, 35.03it/s]\n",
            "Epoch 3/5: 100%|██████████| 8/8 [00:00<00:00, 35.14it/s]\n",
            "Epoch 4/5: 100%|██████████| 8/8 [00:00<00:00, 34.96it/s]\n",
            "Epoch 5/5: 100%|██████████| 8/8 [00:00<00:00, 35.11it/s]\n"
          ]
        },
        {
          "name": "stdout",
          "output_type": "stream",
          "text": [
            "Training shard 5/10, slice 5/10\n"
          ]
        },
        {
          "name": "stderr",
          "output_type": "stream",
          "text": [
            "Epoch 1/5: 100%|██████████| 8/8 [00:00<00:00, 34.48it/s]\n",
            "Epoch 2/5: 100%|██████████| 8/8 [00:00<00:00, 35.10it/s]\n",
            "Epoch 3/5: 100%|██████████| 8/8 [00:00<00:00, 35.02it/s]\n",
            "Epoch 4/5: 100%|██████████| 8/8 [00:00<00:00, 35.16it/s]\n",
            "Epoch 5/5: 100%|██████████| 8/8 [00:00<00:00, 35.12it/s]\n"
          ]
        },
        {
          "name": "stdout",
          "output_type": "stream",
          "text": [
            "Training shard 5/10, slice 6/10\n"
          ]
        },
        {
          "name": "stderr",
          "output_type": "stream",
          "text": [
            "Epoch 1/5: 100%|██████████| 8/8 [00:00<00:00, 34.46it/s]\n",
            "Epoch 2/5: 100%|██████████| 8/8 [00:00<00:00, 35.07it/s]\n",
            "Epoch 3/5: 100%|██████████| 8/8 [00:00<00:00, 35.14it/s]\n",
            "Epoch 4/5: 100%|██████████| 8/8 [00:00<00:00, 35.11it/s]\n",
            "Epoch 5/5: 100%|██████████| 8/8 [00:00<00:00, 35.05it/s]\n"
          ]
        },
        {
          "name": "stdout",
          "output_type": "stream",
          "text": [
            "Training shard 5/10, slice 7/10\n"
          ]
        },
        {
          "name": "stderr",
          "output_type": "stream",
          "text": [
            "Epoch 1/5: 100%|██████████| 8/8 [00:00<00:00, 34.24it/s]\n",
            "Epoch 2/5: 100%|██████████| 8/8 [00:00<00:00, 34.83it/s]\n",
            "Epoch 3/5: 100%|██████████| 8/8 [00:00<00:00, 35.08it/s]\n",
            "Epoch 4/5: 100%|██████████| 8/8 [00:00<00:00, 35.06it/s]\n",
            "Epoch 5/5: 100%|██████████| 8/8 [00:00<00:00, 35.14it/s]\n"
          ]
        },
        {
          "name": "stdout",
          "output_type": "stream",
          "text": [
            "Training shard 5/10, slice 8/10\n"
          ]
        },
        {
          "name": "stderr",
          "output_type": "stream",
          "text": [
            "Epoch 1/5: 100%|██████████| 8/8 [00:00<00:00, 34.38it/s]\n",
            "Epoch 2/5: 100%|██████████| 8/8 [00:00<00:00, 35.02it/s]\n",
            "Epoch 3/5: 100%|██████████| 8/8 [00:00<00:00, 35.05it/s]\n",
            "Epoch 4/5: 100%|██████████| 8/8 [00:00<00:00, 35.12it/s]\n",
            "Epoch 5/5: 100%|██████████| 8/8 [00:00<00:00, 35.07it/s]\n"
          ]
        },
        {
          "name": "stdout",
          "output_type": "stream",
          "text": [
            "Training shard 5/10, slice 9/10\n"
          ]
        },
        {
          "name": "stderr",
          "output_type": "stream",
          "text": [
            "Epoch 1/5: 100%|██████████| 8/8 [00:00<00:00, 34.24it/s]\n",
            "Epoch 2/5: 100%|██████████| 8/8 [00:00<00:00, 35.05it/s]\n",
            "Epoch 3/5: 100%|██████████| 8/8 [00:00<00:00, 34.94it/s]\n",
            "Epoch 4/5: 100%|██████████| 8/8 [00:00<00:00, 35.11it/s]\n",
            "Epoch 5/5: 100%|██████████| 8/8 [00:00<00:00, 35.11it/s]\n"
          ]
        },
        {
          "name": "stdout",
          "output_type": "stream",
          "text": [
            "Training shard 5/10, slice 10/10\n"
          ]
        },
        {
          "name": "stderr",
          "output_type": "stream",
          "text": [
            "Epoch 1/5: 100%|██████████| 8/8 [00:00<00:00, 34.31it/s]\n",
            "Epoch 2/5: 100%|██████████| 8/8 [00:00<00:00, 35.15it/s]\n",
            "Epoch 3/5: 100%|██████████| 8/8 [00:00<00:00, 35.08it/s]\n",
            "Epoch 4/5: 100%|██████████| 8/8 [00:00<00:00, 35.10it/s]\n",
            "Epoch 5/5: 100%|██████████| 8/8 [00:00<00:00, 35.01it/s]\n"
          ]
        },
        {
          "name": "stdout",
          "output_type": "stream",
          "text": [
            "Training shard 6/10, slice 1/10\n"
          ]
        },
        {
          "name": "stderr",
          "output_type": "stream",
          "text": [
            "Epoch 1/5: 100%|██████████| 8/8 [00:00<00:00, 34.28it/s]\n",
            "Epoch 2/5: 100%|██████████| 8/8 [00:00<00:00, 35.14it/s]\n",
            "Epoch 3/5: 100%|██████████| 8/8 [00:00<00:00, 35.00it/s]\n",
            "Epoch 4/5: 100%|██████████| 8/8 [00:00<00:00, 35.02it/s]\n",
            "Epoch 5/5: 100%|██████████| 8/8 [00:00<00:00, 35.11it/s]\n"
          ]
        },
        {
          "name": "stdout",
          "output_type": "stream",
          "text": [
            "Training shard 6/10, slice 2/10\n"
          ]
        },
        {
          "name": "stderr",
          "output_type": "stream",
          "text": [
            "Epoch 1/5: 100%|██████████| 8/8 [00:00<00:00, 34.18it/s]\n",
            "Epoch 2/5: 100%|██████████| 8/8 [00:00<00:00, 34.64it/s]\n",
            "Epoch 3/5: 100%|██████████| 8/8 [00:00<00:00, 35.01it/s]\n",
            "Epoch 4/5: 100%|██████████| 8/8 [00:00<00:00, 35.09it/s]\n",
            "Epoch 5/5: 100%|██████████| 8/8 [00:00<00:00, 35.10it/s]\n"
          ]
        },
        {
          "name": "stdout",
          "output_type": "stream",
          "text": [
            "Training shard 6/10, slice 3/10\n"
          ]
        },
        {
          "name": "stderr",
          "output_type": "stream",
          "text": [
            "Epoch 1/5: 100%|██████████| 8/8 [00:00<00:00, 34.34it/s]\n",
            "Epoch 2/5: 100%|██████████| 8/8 [00:00<00:00, 35.02it/s]\n",
            "Epoch 3/5: 100%|██████████| 8/8 [00:00<00:00, 35.07it/s]\n",
            "Epoch 4/5: 100%|██████████| 8/8 [00:00<00:00, 35.01it/s]\n",
            "Epoch 5/5: 100%|██████████| 8/8 [00:00<00:00, 35.02it/s]\n"
          ]
        },
        {
          "name": "stdout",
          "output_type": "stream",
          "text": [
            "Training shard 6/10, slice 4/10\n"
          ]
        },
        {
          "name": "stderr",
          "output_type": "stream",
          "text": [
            "Epoch 1/5: 100%|██████████| 8/8 [00:00<00:00, 34.25it/s]\n",
            "Epoch 2/5: 100%|██████████| 8/8 [00:00<00:00, 35.00it/s]\n",
            "Epoch 3/5: 100%|██████████| 8/8 [00:00<00:00, 34.78it/s]\n",
            "Epoch 4/5: 100%|██████████| 8/8 [00:00<00:00, 35.02it/s]\n",
            "Epoch 5/5: 100%|██████████| 8/8 [00:00<00:00, 35.08it/s]\n"
          ]
        },
        {
          "name": "stdout",
          "output_type": "stream",
          "text": [
            "Training shard 6/10, slice 5/10\n"
          ]
        },
        {
          "name": "stderr",
          "output_type": "stream",
          "text": [
            "Epoch 1/5: 100%|██████████| 8/8 [00:00<00:00, 34.34it/s]\n",
            "Epoch 2/5: 100%|██████████| 8/8 [00:00<00:00, 34.97it/s]\n",
            "Epoch 3/5: 100%|██████████| 8/8 [00:00<00:00, 35.08it/s]\n",
            "Epoch 4/5: 100%|██████████| 8/8 [00:00<00:00, 35.05it/s]\n",
            "Epoch 5/5: 100%|██████████| 8/8 [00:00<00:00, 34.92it/s]\n"
          ]
        },
        {
          "name": "stdout",
          "output_type": "stream",
          "text": [
            "Training shard 6/10, slice 6/10\n"
          ]
        },
        {
          "name": "stderr",
          "output_type": "stream",
          "text": [
            "Epoch 1/5: 100%|██████████| 8/8 [00:00<00:00, 34.34it/s]\n",
            "Epoch 2/5: 100%|██████████| 8/8 [00:00<00:00, 35.15it/s]\n",
            "Epoch 3/5: 100%|██████████| 8/8 [00:00<00:00, 35.09it/s]\n",
            "Epoch 4/5: 100%|██████████| 8/8 [00:00<00:00, 35.14it/s]\n",
            "Epoch 5/5: 100%|██████████| 8/8 [00:00<00:00, 35.04it/s]\n"
          ]
        },
        {
          "name": "stdout",
          "output_type": "stream",
          "text": [
            "Training shard 6/10, slice 7/10\n"
          ]
        },
        {
          "name": "stderr",
          "output_type": "stream",
          "text": [
            "Epoch 1/5: 100%|██████████| 8/8 [00:00<00:00, 34.15it/s]\n",
            "Epoch 2/5: 100%|██████████| 8/8 [00:00<00:00, 35.04it/s]\n",
            "Epoch 3/5: 100%|██████████| 8/8 [00:00<00:00, 35.07it/s]\n",
            "Epoch 4/5: 100%|██████████| 8/8 [00:00<00:00, 35.04it/s]\n",
            "Epoch 5/5: 100%|██████████| 8/8 [00:00<00:00, 35.11it/s]\n"
          ]
        },
        {
          "name": "stdout",
          "output_type": "stream",
          "text": [
            "Training shard 6/10, slice 8/10\n"
          ]
        },
        {
          "name": "stderr",
          "output_type": "stream",
          "text": [
            "Epoch 1/5: 100%|██████████| 8/8 [00:00<00:00, 34.38it/s]\n",
            "Epoch 2/5: 100%|██████████| 8/8 [00:00<00:00, 35.06it/s]\n",
            "Epoch 3/5: 100%|██████████| 8/8 [00:00<00:00, 35.14it/s]\n",
            "Epoch 4/5: 100%|██████████| 8/8 [00:00<00:00, 35.10it/s]\n",
            "Epoch 5/5: 100%|██████████| 8/8 [00:00<00:00, 35.18it/s]\n"
          ]
        },
        {
          "name": "stdout",
          "output_type": "stream",
          "text": [
            "Training shard 6/10, slice 9/10\n"
          ]
        },
        {
          "name": "stderr",
          "output_type": "stream",
          "text": [
            "Epoch 1/5: 100%|██████████| 8/8 [00:00<00:00, 34.18it/s]\n",
            "Epoch 2/5: 100%|██████████| 8/8 [00:00<00:00, 35.08it/s]\n",
            "Epoch 3/5: 100%|██████████| 8/8 [00:00<00:00, 35.13it/s]\n",
            "Epoch 4/5: 100%|██████████| 8/8 [00:00<00:00, 35.03it/s]\n",
            "Epoch 5/5: 100%|██████████| 8/8 [00:00<00:00, 35.10it/s]\n"
          ]
        },
        {
          "name": "stdout",
          "output_type": "stream",
          "text": [
            "Training shard 6/10, slice 10/10\n"
          ]
        },
        {
          "name": "stderr",
          "output_type": "stream",
          "text": [
            "Epoch 1/5: 100%|██████████| 8/8 [00:00<00:00, 34.31it/s]\n",
            "Epoch 2/5: 100%|██████████| 8/8 [00:00<00:00, 35.11it/s]\n",
            "Epoch 3/5: 100%|██████████| 8/8 [00:00<00:00, 35.08it/s]\n",
            "Epoch 4/5: 100%|██████████| 8/8 [00:00<00:00, 35.11it/s]\n",
            "Epoch 5/5: 100%|██████████| 8/8 [00:00<00:00, 35.11it/s]\n"
          ]
        },
        {
          "name": "stdout",
          "output_type": "stream",
          "text": [
            "Training shard 7/10, slice 1/10\n"
          ]
        },
        {
          "name": "stderr",
          "output_type": "stream",
          "text": [
            "Epoch 1/5: 100%|██████████| 8/8 [00:00<00:00, 34.40it/s]\n",
            "Epoch 2/5: 100%|██████████| 8/8 [00:00<00:00, 35.06it/s]\n",
            "Epoch 3/5: 100%|██████████| 8/8 [00:00<00:00, 35.25it/s]\n",
            "Epoch 4/5: 100%|██████████| 8/8 [00:00<00:00, 35.06it/s]\n",
            "Epoch 5/5: 100%|██████████| 8/8 [00:00<00:00, 35.08it/s]\n"
          ]
        },
        {
          "name": "stdout",
          "output_type": "stream",
          "text": [
            "Training shard 7/10, slice 2/10\n"
          ]
        },
        {
          "name": "stderr",
          "output_type": "stream",
          "text": [
            "Epoch 1/5: 100%|██████████| 8/8 [00:00<00:00, 34.31it/s]\n",
            "Epoch 2/5: 100%|██████████| 8/8 [00:00<00:00, 35.09it/s]\n",
            "Epoch 3/5: 100%|██████████| 8/8 [00:00<00:00, 35.04it/s]\n",
            "Epoch 4/5: 100%|██████████| 8/8 [00:00<00:00, 35.13it/s]\n",
            "Epoch 5/5: 100%|██████████| 8/8 [00:00<00:00, 35.13it/s]\n"
          ]
        },
        {
          "name": "stdout",
          "output_type": "stream",
          "text": [
            "Training shard 7/10, slice 3/10\n"
          ]
        },
        {
          "name": "stderr",
          "output_type": "stream",
          "text": [
            "Epoch 1/5: 100%|██████████| 8/8 [00:00<00:00, 34.13it/s]\n",
            "Epoch 2/5: 100%|██████████| 8/8 [00:00<00:00, 35.11it/s]\n",
            "Epoch 3/5: 100%|██████████| 8/8 [00:00<00:00, 35.09it/s]\n",
            "Epoch 4/5: 100%|██████████| 8/8 [00:00<00:00, 35.09it/s]\n",
            "Epoch 5/5: 100%|██████████| 8/8 [00:00<00:00, 35.10it/s]\n"
          ]
        },
        {
          "name": "stdout",
          "output_type": "stream",
          "text": [
            "Training shard 7/10, slice 4/10\n"
          ]
        },
        {
          "name": "stderr",
          "output_type": "stream",
          "text": [
            "Epoch 1/5: 100%|██████████| 8/8 [00:00<00:00, 34.26it/s]\n",
            "Epoch 2/5: 100%|██████████| 8/8 [00:00<00:00, 35.16it/s]\n",
            "Epoch 3/5: 100%|██████████| 8/8 [00:00<00:00, 35.05it/s]\n",
            "Epoch 4/5: 100%|██████████| 8/8 [00:00<00:00, 35.12it/s]\n",
            "Epoch 5/5: 100%|██████████| 8/8 [00:00<00:00, 35.18it/s]\n"
          ]
        },
        {
          "name": "stdout",
          "output_type": "stream",
          "text": [
            "Training shard 7/10, slice 5/10\n"
          ]
        },
        {
          "name": "stderr",
          "output_type": "stream",
          "text": [
            "Epoch 1/5: 100%|██████████| 8/8 [00:00<00:00, 34.20it/s]\n",
            "Epoch 2/5: 100%|██████████| 8/8 [00:00<00:00, 34.69it/s]\n",
            "Epoch 3/5: 100%|██████████| 8/8 [00:00<00:00, 34.66it/s]\n",
            "Epoch 4/5: 100%|██████████| 8/8 [00:00<00:00, 34.71it/s]\n",
            "Epoch 5/5: 100%|██████████| 8/8 [00:00<00:00, 34.80it/s]\n"
          ]
        },
        {
          "name": "stdout",
          "output_type": "stream",
          "text": [
            "Training shard 7/10, slice 6/10\n"
          ]
        },
        {
          "name": "stderr",
          "output_type": "stream",
          "text": [
            "Epoch 1/5: 100%|██████████| 8/8 [00:00<00:00, 34.09it/s]\n",
            "Epoch 2/5: 100%|██████████| 8/8 [00:00<00:00, 34.83it/s]\n",
            "Epoch 3/5: 100%|██████████| 8/8 [00:00<00:00, 34.86it/s]\n",
            "Epoch 4/5: 100%|██████████| 8/8 [00:00<00:00, 34.79it/s]\n",
            "Epoch 5/5: 100%|██████████| 8/8 [00:00<00:00, 34.96it/s]\n"
          ]
        },
        {
          "name": "stdout",
          "output_type": "stream",
          "text": [
            "Training shard 7/10, slice 7/10\n"
          ]
        },
        {
          "name": "stderr",
          "output_type": "stream",
          "text": [
            "Epoch 1/5: 100%|██████████| 8/8 [00:00<00:00, 34.16it/s]\n",
            "Epoch 2/5: 100%|██████████| 8/8 [00:00<00:00, 34.83it/s]\n",
            "Epoch 3/5: 100%|██████████| 8/8 [00:00<00:00, 34.82it/s]\n",
            "Epoch 4/5: 100%|██████████| 8/8 [00:00<00:00, 34.75it/s]\n",
            "Epoch 5/5: 100%|██████████| 8/8 [00:00<00:00, 34.90it/s]\n"
          ]
        },
        {
          "name": "stdout",
          "output_type": "stream",
          "text": [
            "Training shard 7/10, slice 8/10\n"
          ]
        },
        {
          "name": "stderr",
          "output_type": "stream",
          "text": [
            "Epoch 1/5: 100%|██████████| 8/8 [00:00<00:00, 33.88it/s]\n",
            "Epoch 2/5: 100%|██████████| 8/8 [00:00<00:00, 34.74it/s]\n",
            "Epoch 3/5: 100%|██████████| 8/8 [00:00<00:00, 34.66it/s]\n",
            "Epoch 4/5: 100%|██████████| 8/8 [00:00<00:00, 34.82it/s]\n",
            "Epoch 5/5: 100%|██████████| 8/8 [00:00<00:00, 34.88it/s]\n"
          ]
        },
        {
          "name": "stdout",
          "output_type": "stream",
          "text": [
            "Training shard 7/10, slice 9/10\n"
          ]
        },
        {
          "name": "stderr",
          "output_type": "stream",
          "text": [
            "Epoch 1/5: 100%|██████████| 8/8 [00:00<00:00, 34.07it/s]\n",
            "Epoch 2/5: 100%|██████████| 8/8 [00:00<00:00, 34.87it/s]\n",
            "Epoch 3/5: 100%|██████████| 8/8 [00:00<00:00, 34.80it/s]\n",
            "Epoch 4/5: 100%|██████████| 8/8 [00:00<00:00, 34.77it/s]\n",
            "Epoch 5/5: 100%|██████████| 8/8 [00:00<00:00, 34.79it/s]\n"
          ]
        },
        {
          "name": "stdout",
          "output_type": "stream",
          "text": [
            "Training shard 7/10, slice 10/10\n"
          ]
        },
        {
          "name": "stderr",
          "output_type": "stream",
          "text": [
            "Epoch 1/5: 100%|██████████| 8/8 [00:00<00:00, 34.01it/s]\n",
            "Epoch 2/5: 100%|██████████| 8/8 [00:00<00:00, 34.78it/s]\n",
            "Epoch 3/5: 100%|██████████| 8/8 [00:00<00:00, 34.86it/s]\n",
            "Epoch 4/5: 100%|██████████| 8/8 [00:00<00:00, 34.86it/s]\n",
            "Epoch 5/5: 100%|██████████| 8/8 [00:00<00:00, 34.84it/s]\n"
          ]
        },
        {
          "name": "stdout",
          "output_type": "stream",
          "text": [
            "Training shard 8/10, slice 1/10\n"
          ]
        },
        {
          "name": "stderr",
          "output_type": "stream",
          "text": [
            "Epoch 1/5: 100%|██████████| 8/8 [00:00<00:00, 33.99it/s]\n",
            "Epoch 2/5: 100%|██████████| 8/8 [00:00<00:00, 34.67it/s]\n",
            "Epoch 3/5: 100%|██████████| 8/8 [00:00<00:00, 34.90it/s]\n",
            "Epoch 4/5: 100%|██████████| 8/8 [00:00<00:00, 34.69it/s]\n",
            "Epoch 5/5: 100%|██████████| 8/8 [00:00<00:00, 34.73it/s]\n"
          ]
        },
        {
          "name": "stdout",
          "output_type": "stream",
          "text": [
            "Training shard 8/10, slice 2/10\n"
          ]
        },
        {
          "name": "stderr",
          "output_type": "stream",
          "text": [
            "Epoch 1/5: 100%|██████████| 8/8 [00:00<00:00, 33.96it/s]\n",
            "Epoch 2/5: 100%|██████████| 8/8 [00:00<00:00, 34.76it/s]\n",
            "Epoch 3/5: 100%|██████████| 8/8 [00:00<00:00, 34.78it/s]\n",
            "Epoch 4/5: 100%|██████████| 8/8 [00:00<00:00, 34.84it/s]\n",
            "Epoch 5/5: 100%|██████████| 8/8 [00:00<00:00, 34.84it/s]\n"
          ]
        },
        {
          "name": "stdout",
          "output_type": "stream",
          "text": [
            "Training shard 8/10, slice 3/10\n"
          ]
        },
        {
          "name": "stderr",
          "output_type": "stream",
          "text": [
            "Epoch 1/5: 100%|██████████| 8/8 [00:00<00:00, 34.07it/s]\n",
            "Epoch 2/5: 100%|██████████| 8/8 [00:00<00:00, 34.82it/s]\n",
            "Epoch 3/5: 100%|██████████| 8/8 [00:00<00:00, 34.80it/s]\n",
            "Epoch 4/5: 100%|██████████| 8/8 [00:00<00:00, 34.83it/s]\n",
            "Epoch 5/5: 100%|██████████| 8/8 [00:00<00:00, 34.74it/s]\n"
          ]
        },
        {
          "name": "stdout",
          "output_type": "stream",
          "text": [
            "Training shard 8/10, slice 4/10\n"
          ]
        },
        {
          "name": "stderr",
          "output_type": "stream",
          "text": [
            "Epoch 1/5: 100%|██████████| 8/8 [00:00<00:00, 34.04it/s]\n",
            "Epoch 2/5: 100%|██████████| 8/8 [00:00<00:00, 34.73it/s]\n",
            "Epoch 3/5: 100%|██████████| 8/8 [00:00<00:00, 34.70it/s]\n",
            "Epoch 4/5: 100%|██████████| 8/8 [00:00<00:00, 34.79it/s]\n",
            "Epoch 5/5: 100%|██████████| 8/8 [00:00<00:00, 34.91it/s]\n"
          ]
        },
        {
          "name": "stdout",
          "output_type": "stream",
          "text": [
            "Training shard 8/10, slice 5/10\n"
          ]
        },
        {
          "name": "stderr",
          "output_type": "stream",
          "text": [
            "Epoch 1/5: 100%|██████████| 8/8 [00:00<00:00, 34.07it/s]\n",
            "Epoch 2/5: 100%|██████████| 8/8 [00:00<00:00, 34.85it/s]\n",
            "Epoch 3/5: 100%|██████████| 8/8 [00:00<00:00, 34.90it/s]\n",
            "Epoch 4/5: 100%|██████████| 8/8 [00:00<00:00, 34.81it/s]\n",
            "Epoch 5/5: 100%|██████████| 8/8 [00:00<00:00, 34.86it/s]\n"
          ]
        },
        {
          "name": "stdout",
          "output_type": "stream",
          "text": [
            "Training shard 8/10, slice 6/10\n"
          ]
        },
        {
          "name": "stderr",
          "output_type": "stream",
          "text": [
            "Epoch 1/5: 100%|██████████| 8/8 [00:00<00:00, 34.12it/s]\n",
            "Epoch 2/5: 100%|██████████| 8/8 [00:00<00:00, 34.68it/s]\n",
            "Epoch 3/5: 100%|██████████| 8/8 [00:00<00:00, 34.67it/s]\n",
            "Epoch 4/5: 100%|██████████| 8/8 [00:00<00:00, 34.77it/s]\n",
            "Epoch 5/5: 100%|██████████| 8/8 [00:00<00:00, 34.76it/s]\n"
          ]
        },
        {
          "name": "stdout",
          "output_type": "stream",
          "text": [
            "Training shard 8/10, slice 7/10\n"
          ]
        },
        {
          "name": "stderr",
          "output_type": "stream",
          "text": [
            "Epoch 1/5: 100%|██████████| 8/8 [00:00<00:00, 33.92it/s]\n",
            "Epoch 2/5: 100%|██████████| 8/8 [00:00<00:00, 34.76it/s]\n",
            "Epoch 3/5: 100%|██████████| 8/8 [00:00<00:00, 34.89it/s]\n",
            "Epoch 4/5: 100%|██████████| 8/8 [00:00<00:00, 34.59it/s]\n",
            "Epoch 5/5: 100%|██████████| 8/8 [00:00<00:00, 34.84it/s]\n"
          ]
        },
        {
          "name": "stdout",
          "output_type": "stream",
          "text": [
            "Training shard 8/10, slice 8/10\n"
          ]
        },
        {
          "name": "stderr",
          "output_type": "stream",
          "text": [
            "Epoch 1/5: 100%|██████████| 8/8 [00:00<00:00, 34.11it/s]\n",
            "Epoch 2/5: 100%|██████████| 8/8 [00:00<00:00, 34.64it/s]\n",
            "Epoch 3/5: 100%|██████████| 8/8 [00:00<00:00, 34.75it/s]\n",
            "Epoch 4/5: 100%|██████████| 8/8 [00:00<00:00, 34.89it/s]\n",
            "Epoch 5/5: 100%|██████████| 8/8 [00:00<00:00, 34.75it/s]\n"
          ]
        },
        {
          "name": "stdout",
          "output_type": "stream",
          "text": [
            "Training shard 8/10, slice 9/10\n"
          ]
        },
        {
          "name": "stderr",
          "output_type": "stream",
          "text": [
            "Epoch 1/5: 100%|██████████| 8/8 [00:00<00:00, 33.99it/s]\n",
            "Epoch 2/5: 100%|██████████| 8/8 [00:00<00:00, 34.77it/s]\n",
            "Epoch 3/5: 100%|██████████| 8/8 [00:00<00:00, 34.71it/s]\n",
            "Epoch 4/5: 100%|██████████| 8/8 [00:00<00:00, 34.76it/s]\n",
            "Epoch 5/5: 100%|██████████| 8/8 [00:00<00:00, 34.79it/s]\n"
          ]
        },
        {
          "name": "stdout",
          "output_type": "stream",
          "text": [
            "Training shard 8/10, slice 10/10\n"
          ]
        },
        {
          "name": "stderr",
          "output_type": "stream",
          "text": [
            "Epoch 1/5: 100%|██████████| 8/8 [00:00<00:00, 34.02it/s]\n",
            "Epoch 2/5: 100%|██████████| 8/8 [00:00<00:00, 34.75it/s]\n",
            "Epoch 3/5: 100%|██████████| 8/8 [00:00<00:00, 34.77it/s]\n",
            "Epoch 4/5: 100%|██████████| 8/8 [00:00<00:00, 34.75it/s]\n",
            "Epoch 5/5: 100%|██████████| 8/8 [00:00<00:00, 34.84it/s]\n"
          ]
        },
        {
          "name": "stdout",
          "output_type": "stream",
          "text": [
            "Training shard 9/10, slice 1/10\n"
          ]
        },
        {
          "name": "stderr",
          "output_type": "stream",
          "text": [
            "Epoch 1/5: 100%|██████████| 8/8 [00:00<00:00, 34.09it/s]\n",
            "Epoch 2/5: 100%|██████████| 8/8 [00:00<00:00, 34.70it/s]\n",
            "Epoch 3/5: 100%|██████████| 8/8 [00:00<00:00, 34.81it/s]\n",
            "Epoch 4/5: 100%|██████████| 8/8 [00:00<00:00, 34.75it/s]\n",
            "Epoch 5/5: 100%|██████████| 8/8 [00:00<00:00, 34.76it/s]\n"
          ]
        },
        {
          "name": "stdout",
          "output_type": "stream",
          "text": [
            "Training shard 9/10, slice 2/10\n"
          ]
        },
        {
          "name": "stderr",
          "output_type": "stream",
          "text": [
            "Epoch 1/5: 100%|██████████| 8/8 [00:00<00:00, 33.89it/s]\n",
            "Epoch 2/5: 100%|██████████| 8/8 [00:00<00:00, 34.68it/s]\n",
            "Epoch 3/5: 100%|██████████| 8/8 [00:00<00:00, 34.74it/s]\n",
            "Epoch 4/5: 100%|██████████| 8/8 [00:00<00:00, 34.80it/s]\n",
            "Epoch 5/5: 100%|██████████| 8/8 [00:00<00:00, 34.79it/s]\n"
          ]
        },
        {
          "name": "stdout",
          "output_type": "stream",
          "text": [
            "Training shard 9/10, slice 3/10\n"
          ]
        },
        {
          "name": "stderr",
          "output_type": "stream",
          "text": [
            "Epoch 1/5: 100%|██████████| 8/8 [00:00<00:00, 33.97it/s]\n",
            "Epoch 2/5: 100%|██████████| 8/8 [00:00<00:00, 34.86it/s]\n",
            "Epoch 3/5: 100%|██████████| 8/8 [00:00<00:00, 34.81it/s]\n",
            "Epoch 4/5: 100%|██████████| 8/8 [00:00<00:00, 34.84it/s]\n",
            "Epoch 5/5: 100%|██████████| 8/8 [00:00<00:00, 34.80it/s]\n"
          ]
        },
        {
          "name": "stdout",
          "output_type": "stream",
          "text": [
            "Training shard 9/10, slice 4/10\n"
          ]
        },
        {
          "name": "stderr",
          "output_type": "stream",
          "text": [
            "Epoch 1/5: 100%|██████████| 8/8 [00:00<00:00, 33.82it/s]\n",
            "Epoch 2/5: 100%|██████████| 8/8 [00:00<00:00, 34.63it/s]\n",
            "Epoch 3/5: 100%|██████████| 8/8 [00:00<00:00, 34.74it/s]\n",
            "Epoch 4/5: 100%|██████████| 8/8 [00:00<00:00, 34.83it/s]\n",
            "Epoch 5/5: 100%|██████████| 8/8 [00:00<00:00, 34.86it/s]\n"
          ]
        },
        {
          "name": "stdout",
          "output_type": "stream",
          "text": [
            "Training shard 9/10, slice 5/10\n"
          ]
        },
        {
          "name": "stderr",
          "output_type": "stream",
          "text": [
            "Epoch 1/5: 100%|██████████| 8/8 [00:00<00:00, 33.88it/s]\n",
            "Epoch 2/5: 100%|██████████| 8/8 [00:00<00:00, 34.64it/s]\n",
            "Epoch 3/5: 100%|██████████| 8/8 [00:00<00:00, 34.70it/s]\n",
            "Epoch 4/5: 100%|██████████| 8/8 [00:00<00:00, 34.75it/s]\n",
            "Epoch 5/5: 100%|██████████| 8/8 [00:00<00:00, 34.81it/s]\n"
          ]
        },
        {
          "name": "stdout",
          "output_type": "stream",
          "text": [
            "Training shard 9/10, slice 6/10\n"
          ]
        },
        {
          "name": "stderr",
          "output_type": "stream",
          "text": [
            "Epoch 1/5: 100%|██████████| 8/8 [00:00<00:00, 33.93it/s]\n",
            "Epoch 2/5: 100%|██████████| 8/8 [00:00<00:00, 34.66it/s]\n",
            "Epoch 3/5: 100%|██████████| 8/8 [00:00<00:00, 34.66it/s]\n",
            "Epoch 4/5: 100%|██████████| 8/8 [00:00<00:00, 34.79it/s]\n",
            "Epoch 5/5: 100%|██████████| 8/8 [00:00<00:00, 34.75it/s]\n"
          ]
        },
        {
          "name": "stdout",
          "output_type": "stream",
          "text": [
            "Training shard 9/10, slice 7/10\n"
          ]
        },
        {
          "name": "stderr",
          "output_type": "stream",
          "text": [
            "Epoch 1/5: 100%|██████████| 8/8 [00:00<00:00, 33.93it/s]\n",
            "Epoch 2/5: 100%|██████████| 8/8 [00:00<00:00, 34.91it/s]\n",
            "Epoch 3/5: 100%|██████████| 8/8 [00:00<00:00, 34.88it/s]\n",
            "Epoch 4/5: 100%|██████████| 8/8 [00:00<00:00, 34.85it/s]\n",
            "Epoch 5/5: 100%|██████████| 8/8 [00:00<00:00, 34.65it/s]\n"
          ]
        },
        {
          "name": "stdout",
          "output_type": "stream",
          "text": [
            "Training shard 9/10, slice 8/10\n"
          ]
        },
        {
          "name": "stderr",
          "output_type": "stream",
          "text": [
            "Epoch 1/5: 100%|██████████| 8/8 [00:00<00:00, 33.77it/s]\n",
            "Epoch 2/5: 100%|██████████| 8/8 [00:00<00:00, 34.82it/s]\n",
            "Epoch 3/5: 100%|██████████| 8/8 [00:00<00:00, 34.95it/s]\n",
            "Epoch 4/5: 100%|██████████| 8/8 [00:00<00:00, 34.84it/s]\n",
            "Epoch 5/5: 100%|██████████| 8/8 [00:00<00:00, 34.78it/s]\n"
          ]
        },
        {
          "name": "stdout",
          "output_type": "stream",
          "text": [
            "Training shard 9/10, slice 9/10\n"
          ]
        },
        {
          "name": "stderr",
          "output_type": "stream",
          "text": [
            "Epoch 1/5: 100%|██████████| 8/8 [00:00<00:00, 33.95it/s]\n",
            "Epoch 2/5: 100%|██████████| 8/8 [00:00<00:00, 34.71it/s]\n",
            "Epoch 3/5: 100%|██████████| 8/8 [00:00<00:00, 34.79it/s]\n",
            "Epoch 4/5: 100%|██████████| 8/8 [00:00<00:00, 34.84it/s]\n",
            "Epoch 5/5: 100%|██████████| 8/8 [00:00<00:00, 34.76it/s]\n"
          ]
        },
        {
          "name": "stdout",
          "output_type": "stream",
          "text": [
            "Training shard 9/10, slice 10/10\n"
          ]
        },
        {
          "name": "stderr",
          "output_type": "stream",
          "text": [
            "Epoch 1/5: 100%|██████████| 8/8 [00:00<00:00, 33.84it/s]\n",
            "Epoch 2/5: 100%|██████████| 8/8 [00:00<00:00, 34.81it/s]\n",
            "Epoch 3/5: 100%|██████████| 8/8 [00:00<00:00, 34.77it/s]\n",
            "Epoch 4/5: 100%|██████████| 8/8 [00:00<00:00, 34.73it/s]\n",
            "Epoch 5/5: 100%|██████████| 8/8 [00:00<00:00, 34.74it/s]\n"
          ]
        },
        {
          "name": "stdout",
          "output_type": "stream",
          "text": [
            "Training shard 10/10, slice 1/10\n"
          ]
        },
        {
          "name": "stderr",
          "output_type": "stream",
          "text": [
            "Epoch 1/5: 100%|██████████| 8/8 [00:00<00:00, 33.89it/s]\n",
            "Epoch 2/5: 100%|██████████| 8/8 [00:00<00:00, 34.76it/s]\n",
            "Epoch 3/5: 100%|██████████| 8/8 [00:00<00:00, 34.85it/s]\n",
            "Epoch 4/5: 100%|██████████| 8/8 [00:00<00:00, 34.84it/s]\n",
            "Epoch 5/5: 100%|██████████| 8/8 [00:00<00:00, 34.78it/s]\n"
          ]
        },
        {
          "name": "stdout",
          "output_type": "stream",
          "text": [
            "Training shard 10/10, slice 2/10\n"
          ]
        },
        {
          "name": "stderr",
          "output_type": "stream",
          "text": [
            "Epoch 1/5: 100%|██████████| 8/8 [00:00<00:00, 33.94it/s]\n",
            "Epoch 2/5: 100%|██████████| 8/8 [00:00<00:00, 34.95it/s]\n",
            "Epoch 3/5: 100%|██████████| 8/8 [00:00<00:00, 34.87it/s]\n",
            "Epoch 4/5: 100%|██████████| 8/8 [00:00<00:00, 34.88it/s]\n",
            "Epoch 5/5: 100%|██████████| 8/8 [00:00<00:00, 34.85it/s]\n"
          ]
        },
        {
          "name": "stdout",
          "output_type": "stream",
          "text": [
            "Training shard 10/10, slice 3/10\n"
          ]
        },
        {
          "name": "stderr",
          "output_type": "stream",
          "text": [
            "Epoch 1/5: 100%|██████████| 8/8 [00:00<00:00, 34.19it/s]\n",
            "Epoch 2/5: 100%|██████████| 8/8 [00:00<00:00, 34.91it/s]\n",
            "Epoch 3/5: 100%|██████████| 8/8 [00:00<00:00, 34.70it/s]\n",
            "Epoch 4/5: 100%|██████████| 8/8 [00:00<00:00, 34.81it/s]\n",
            "Epoch 5/5: 100%|██████████| 8/8 [00:00<00:00, 34.84it/s]\n"
          ]
        },
        {
          "name": "stdout",
          "output_type": "stream",
          "text": [
            "Training shard 10/10, slice 4/10\n"
          ]
        },
        {
          "name": "stderr",
          "output_type": "stream",
          "text": [
            "Epoch 1/5: 100%|██████████| 8/8 [00:00<00:00, 33.90it/s]\n",
            "Epoch 2/5: 100%|██████████| 8/8 [00:00<00:00, 34.71it/s]\n",
            "Epoch 3/5: 100%|██████████| 8/8 [00:00<00:00, 34.88it/s]\n",
            "Epoch 4/5: 100%|██████████| 8/8 [00:00<00:00, 34.74it/s]\n",
            "Epoch 5/5: 100%|██████████| 8/8 [00:00<00:00, 34.92it/s]\n"
          ]
        },
        {
          "name": "stdout",
          "output_type": "stream",
          "text": [
            "Training shard 10/10, slice 5/10\n"
          ]
        },
        {
          "name": "stderr",
          "output_type": "stream",
          "text": [
            "Epoch 1/5: 100%|██████████| 8/8 [00:00<00:00, 33.93it/s]\n",
            "Epoch 2/5: 100%|██████████| 8/8 [00:00<00:00, 34.83it/s]\n",
            "Epoch 3/5: 100%|██████████| 8/8 [00:00<00:00, 34.93it/s]\n",
            "Epoch 4/5: 100%|██████████| 8/8 [00:00<00:00, 35.01it/s]\n",
            "Epoch 5/5: 100%|██████████| 8/8 [00:00<00:00, 34.98it/s]\n"
          ]
        },
        {
          "name": "stdout",
          "output_type": "stream",
          "text": [
            "Training shard 10/10, slice 6/10\n"
          ]
        },
        {
          "name": "stderr",
          "output_type": "stream",
          "text": [
            "Epoch 1/5: 100%|██████████| 8/8 [00:00<00:00, 34.21it/s]\n",
            "Epoch 2/5: 100%|██████████| 8/8 [00:00<00:00, 34.71it/s]\n",
            "Epoch 3/5: 100%|██████████| 8/8 [00:00<00:00, 34.73it/s]\n",
            "Epoch 4/5: 100%|██████████| 8/8 [00:00<00:00, 34.92it/s]\n",
            "Epoch 5/5: 100%|██████████| 8/8 [00:00<00:00, 34.89it/s]\n"
          ]
        },
        {
          "name": "stdout",
          "output_type": "stream",
          "text": [
            "Training shard 10/10, slice 7/10\n"
          ]
        },
        {
          "name": "stderr",
          "output_type": "stream",
          "text": [
            "Epoch 1/5: 100%|██████████| 8/8 [00:00<00:00, 34.09it/s]\n",
            "Epoch 2/5: 100%|██████████| 8/8 [00:00<00:00, 34.81it/s]\n",
            "Epoch 3/5: 100%|██████████| 8/8 [00:00<00:00, 34.87it/s]\n",
            "Epoch 4/5: 100%|██████████| 8/8 [00:00<00:00, 34.92it/s]\n",
            "Epoch 5/5: 100%|██████████| 8/8 [00:00<00:00, 34.83it/s]\n"
          ]
        },
        {
          "name": "stdout",
          "output_type": "stream",
          "text": [
            "Training shard 10/10, slice 8/10\n"
          ]
        },
        {
          "name": "stderr",
          "output_type": "stream",
          "text": [
            "Epoch 1/5: 100%|██████████| 8/8 [00:00<00:00, 33.81it/s]\n",
            "Epoch 2/5: 100%|██████████| 8/8 [00:00<00:00, 34.74it/s]\n",
            "Epoch 3/5: 100%|██████████| 8/8 [00:00<00:00, 34.78it/s]\n",
            "Epoch 4/5: 100%|██████████| 8/8 [00:00<00:00, 34.84it/s]\n",
            "Epoch 5/5: 100%|██████████| 8/8 [00:00<00:00, 34.63it/s]\n"
          ]
        },
        {
          "name": "stdout",
          "output_type": "stream",
          "text": [
            "Training shard 10/10, slice 9/10\n"
          ]
        },
        {
          "name": "stderr",
          "output_type": "stream",
          "text": [
            "Epoch 1/5: 100%|██████████| 8/8 [00:00<00:00, 33.98it/s]\n",
            "Epoch 2/5: 100%|██████████| 8/8 [00:00<00:00, 34.84it/s]\n",
            "Epoch 3/5: 100%|██████████| 8/8 [00:00<00:00, 34.87it/s]\n",
            "Epoch 4/5: 100%|██████████| 8/8 [00:00<00:00, 34.78it/s]\n",
            "Epoch 5/5: 100%|██████████| 8/8 [00:00<00:00, 34.62it/s]\n"
          ]
        },
        {
          "name": "stdout",
          "output_type": "stream",
          "text": [
            "Training shard 10/10, slice 10/10\n"
          ]
        },
        {
          "name": "stderr",
          "output_type": "stream",
          "text": [
            "Epoch 1/5: 100%|██████████| 8/8 [00:00<00:00, 33.80it/s]\n",
            "Epoch 2/5: 100%|██████████| 8/8 [00:00<00:00, 34.83it/s]\n",
            "Epoch 3/5: 100%|██████████| 8/8 [00:00<00:00, 34.86it/s]\n",
            "Epoch 4/5: 100%|██████████| 8/8 [00:00<00:00, 34.68it/s]\n",
            "Epoch 5/5: 100%|██████████| 8/8 [00:00<00:00, 34.74it/s]\n",
            "Evaluating model: Shard 1/10, slice 1/10: 100%|██████████| 157/157 [00:02<00:00, 53.12it/s]\n",
            "Evaluating model: Shard 1/10, slice 2/10: 100%|██████████| 157/157 [00:02<00:00, 53.09it/s]\n",
            "Evaluating model: Shard 1/10, slice 3/10: 100%|██████████| 157/157 [00:02<00:00, 53.08it/s]\n",
            "Evaluating model: Shard 1/10, slice 4/10: 100%|██████████| 157/157 [00:02<00:00, 53.13it/s]\n",
            "Evaluating model: Shard 1/10, slice 5/10: 100%|██████████| 157/157 [00:02<00:00, 53.11it/s]\n",
            "Evaluating model: Shard 1/10, slice 6/10: 100%|██████████| 157/157 [00:02<00:00, 53.11it/s]\n",
            "Evaluating model: Shard 1/10, slice 7/10: 100%|██████████| 157/157 [00:02<00:00, 53.17it/s]\n",
            "Evaluating model: Shard 1/10, slice 8/10: 100%|██████████| 157/157 [00:02<00:00, 53.10it/s]\n",
            "Evaluating model: Shard 1/10, slice 9/10: 100%|██████████| 157/157 [00:02<00:00, 53.14it/s]\n",
            "Evaluating model: Shard 1/10, slice 10/10: 100%|██████████| 157/157 [00:02<00:00, 53.11it/s]\n",
            "Evaluating model: Shard 2/10, slice 1/10: 100%|██████████| 157/157 [00:02<00:00, 53.17it/s]\n",
            "Evaluating model: Shard 2/10, slice 2/10: 100%|██████████| 157/157 [00:02<00:00, 53.14it/s]\n",
            "Evaluating model: Shard 2/10, slice 3/10: 100%|██████████| 157/157 [00:02<00:00, 53.11it/s]\n",
            "Evaluating model: Shard 2/10, slice 4/10: 100%|██████████| 157/157 [00:02<00:00, 53.11it/s]\n",
            "Evaluating model: Shard 2/10, slice 5/10: 100%|██████████| 157/157 [00:02<00:00, 53.11it/s]\n",
            "Evaluating model: Shard 2/10, slice 6/10: 100%|██████████| 157/157 [00:02<00:00, 53.13it/s]\n",
            "Evaluating model: Shard 2/10, slice 7/10: 100%|██████████| 157/157 [00:02<00:00, 53.15it/s]\n",
            "Evaluating model: Shard 2/10, slice 8/10: 100%|██████████| 157/157 [00:02<00:00, 53.15it/s]\n",
            "Evaluating model: Shard 2/10, slice 9/10: 100%|██████████| 157/157 [00:02<00:00, 53.12it/s]\n",
            "Evaluating model: Shard 2/10, slice 10/10: 100%|██████████| 157/157 [00:02<00:00, 53.16it/s]\n",
            "Evaluating model: Shard 3/10, slice 1/10: 100%|██████████| 157/157 [00:02<00:00, 53.15it/s]\n",
            "Evaluating model: Shard 3/10, slice 2/10: 100%|██████████| 157/157 [00:02<00:00, 53.16it/s]\n",
            "Evaluating model: Shard 3/10, slice 3/10: 100%|██████████| 157/157 [00:02<00:00, 53.08it/s]\n",
            "Evaluating model: Shard 3/10, slice 4/10: 100%|██████████| 157/157 [00:02<00:00, 53.13it/s]\n",
            "Evaluating model: Shard 3/10, slice 5/10: 100%|██████████| 157/157 [00:02<00:00, 53.13it/s]\n",
            "Evaluating model: Shard 3/10, slice 6/10: 100%|██████████| 157/157 [00:02<00:00, 53.16it/s]\n",
            "Evaluating model: Shard 3/10, slice 7/10: 100%|██████████| 157/157 [00:02<00:00, 53.13it/s]\n",
            "Evaluating model: Shard 3/10, slice 8/10: 100%|██████████| 157/157 [00:02<00:00, 53.17it/s]\n",
            "Evaluating model: Shard 3/10, slice 9/10: 100%|██████████| 157/157 [00:02<00:00, 53.10it/s]\n",
            "Evaluating model: Shard 3/10, slice 10/10: 100%|██████████| 157/157 [00:02<00:00, 53.11it/s]\n",
            "Evaluating model: Shard 4/10, slice 1/10: 100%|██████████| 157/157 [00:02<00:00, 53.10it/s]\n",
            "Evaluating model: Shard 4/10, slice 2/10: 100%|██████████| 157/157 [00:02<00:00, 53.14it/s]\n",
            "Evaluating model: Shard 4/10, slice 3/10: 100%|██████████| 157/157 [00:02<00:00, 53.08it/s]\n",
            "Evaluating model: Shard 4/10, slice 4/10: 100%|██████████| 157/157 [00:02<00:00, 53.14it/s]\n",
            "Evaluating model: Shard 4/10, slice 5/10: 100%|██████████| 157/157 [00:02<00:00, 53.14it/s]\n",
            "Evaluating model: Shard 4/10, slice 6/10: 100%|██████████| 157/157 [00:02<00:00, 53.03it/s]\n",
            "Evaluating model: Shard 4/10, slice 7/10: 100%|██████████| 157/157 [00:02<00:00, 52.94it/s]\n",
            "Evaluating model: Shard 4/10, slice 8/10: 100%|██████████| 157/157 [00:02<00:00, 53.09it/s]\n",
            "Evaluating model: Shard 4/10, slice 9/10: 100%|██████████| 157/157 [00:02<00:00, 53.06it/s]\n",
            "Evaluating model: Shard 4/10, slice 10/10: 100%|██████████| 157/157 [00:02<00:00, 53.06it/s]\n",
            "Evaluating model: Shard 5/10, slice 1/10: 100%|██████████| 157/157 [00:02<00:00, 53.06it/s]\n",
            "Evaluating model: Shard 5/10, slice 2/10: 100%|██████████| 157/157 [00:02<00:00, 53.12it/s]\n",
            "Evaluating model: Shard 5/10, slice 3/10: 100%|██████████| 157/157 [00:02<00:00, 53.11it/s]\n",
            "Evaluating model: Shard 5/10, slice 4/10: 100%|██████████| 157/157 [00:02<00:00, 53.10it/s]\n",
            "Evaluating model: Shard 5/10, slice 5/10: 100%|██████████| 157/157 [00:02<00:00, 53.11it/s]\n",
            "Evaluating model: Shard 5/10, slice 6/10: 100%|██████████| 157/157 [00:02<00:00, 53.11it/s]\n",
            "Evaluating model: Shard 5/10, slice 7/10: 100%|██████████| 157/157 [00:02<00:00, 53.08it/s]\n",
            "Evaluating model: Shard 5/10, slice 8/10: 100%|██████████| 157/157 [00:02<00:00, 53.08it/s]\n",
            "Evaluating model: Shard 5/10, slice 9/10: 100%|██████████| 157/157 [00:02<00:00, 53.07it/s]\n",
            "Evaluating model: Shard 5/10, slice 10/10: 100%|██████████| 157/157 [00:02<00:00, 53.12it/s]\n",
            "Evaluating model: Shard 6/10, slice 1/10: 100%|██████████| 157/157 [00:02<00:00, 53.18it/s]\n",
            "Evaluating model: Shard 6/10, slice 2/10: 100%|██████████| 157/157 [00:02<00:00, 53.16it/s]\n",
            "Evaluating model: Shard 6/10, slice 3/10: 100%|██████████| 157/157 [00:02<00:00, 53.17it/s]\n",
            "Evaluating model: Shard 6/10, slice 4/10: 100%|██████████| 157/157 [00:02<00:00, 53.19it/s]\n",
            "Evaluating model: Shard 6/10, slice 5/10: 100%|██████████| 157/157 [00:02<00:00, 53.17it/s]\n",
            "Evaluating model: Shard 6/10, slice 6/10: 100%|██████████| 157/157 [00:02<00:00, 53.19it/s]\n",
            "Evaluating model: Shard 6/10, slice 7/10: 100%|██████████| 157/157 [00:02<00:00, 53.20it/s]\n",
            "Evaluating model: Shard 6/10, slice 8/10: 100%|██████████| 157/157 [00:02<00:00, 53.16it/s]\n",
            "Evaluating model: Shard 6/10, slice 9/10: 100%|██████████| 157/157 [00:02<00:00, 53.14it/s]\n",
            "Evaluating model: Shard 6/10, slice 10/10: 100%|██████████| 157/157 [00:02<00:00, 53.15it/s]\n",
            "Evaluating model: Shard 7/10, slice 1/10: 100%|██████████| 157/157 [00:02<00:00, 53.13it/s]\n",
            "Evaluating model: Shard 7/10, slice 2/10: 100%|██████████| 157/157 [00:02<00:00, 53.13it/s]\n",
            "Evaluating model: Shard 7/10, slice 3/10: 100%|██████████| 157/157 [00:02<00:00, 53.20it/s]\n",
            "Evaluating model: Shard 7/10, slice 4/10: 100%|██████████| 157/157 [00:02<00:00, 53.18it/s]\n",
            "Evaluating model: Shard 7/10, slice 5/10: 100%|██████████| 157/157 [00:02<00:00, 53.19it/s]\n",
            "Evaluating model: Shard 7/10, slice 6/10: 100%|██████████| 157/157 [00:02<00:00, 53.17it/s]\n",
            "Evaluating model: Shard 7/10, slice 7/10: 100%|██████████| 157/157 [00:02<00:00, 53.22it/s]\n",
            "Evaluating model: Shard 7/10, slice 8/10: 100%|██████████| 157/157 [00:02<00:00, 53.15it/s]\n",
            "Evaluating model: Shard 7/10, slice 9/10: 100%|██████████| 157/157 [00:02<00:00, 53.18it/s]\n",
            "Evaluating model: Shard 7/10, slice 10/10: 100%|██████████| 157/157 [00:02<00:00, 53.12it/s]\n",
            "Evaluating model: Shard 8/10, slice 1/10: 100%|██████████| 157/157 [00:02<00:00, 53.18it/s]\n",
            "Evaluating model: Shard 8/10, slice 2/10: 100%|██████████| 157/157 [00:02<00:00, 53.23it/s]\n",
            "Evaluating model: Shard 8/10, slice 3/10: 100%|██████████| 157/157 [00:02<00:00, 53.23it/s]\n",
            "Evaluating model: Shard 8/10, slice 4/10: 100%|██████████| 157/157 [00:02<00:00, 53.23it/s]\n",
            "Evaluating model: Shard 8/10, slice 5/10: 100%|██████████| 157/157 [00:02<00:00, 53.12it/s]\n",
            "Evaluating model: Shard 8/10, slice 6/10: 100%|██████████| 157/157 [00:02<00:00, 53.20it/s]\n",
            "Evaluating model: Shard 8/10, slice 7/10: 100%|██████████| 157/157 [00:02<00:00, 53.16it/s]\n",
            "Evaluating model: Shard 8/10, slice 8/10: 100%|██████████| 157/157 [00:02<00:00, 53.19it/s]\n",
            "Evaluating model: Shard 8/10, slice 9/10: 100%|██████████| 157/157 [00:02<00:00, 53.19it/s]\n",
            "Evaluating model: Shard 8/10, slice 10/10: 100%|██████████| 157/157 [00:02<00:00, 53.18it/s]\n",
            "Evaluating model: Shard 9/10, slice 1/10: 100%|██████████| 157/157 [00:02<00:00, 53.20it/s]\n",
            "Evaluating model: Shard 9/10, slice 2/10: 100%|██████████| 157/157 [00:02<00:00, 53.18it/s]\n",
            "Evaluating model: Shard 9/10, slice 3/10: 100%|██████████| 157/157 [00:02<00:00, 53.20it/s]\n",
            "Evaluating model: Shard 9/10, slice 4/10: 100%|██████████| 157/157 [00:02<00:00, 53.22it/s]\n",
            "Evaluating model: Shard 9/10, slice 5/10: 100%|██████████| 157/157 [00:02<00:00, 53.19it/s]\n",
            "Evaluating model: Shard 9/10, slice 6/10: 100%|██████████| 157/157 [00:02<00:00, 53.20it/s]\n",
            "Evaluating model: Shard 9/10, slice 7/10: 100%|██████████| 157/157 [00:02<00:00, 53.17it/s]\n",
            "Evaluating model: Shard 9/10, slice 8/10: 100%|██████████| 157/157 [00:02<00:00, 53.22it/s]\n",
            "Evaluating model: Shard 9/10, slice 9/10: 100%|██████████| 157/157 [00:02<00:00, 53.17it/s]\n",
            "Evaluating model: Shard 9/10, slice 10/10: 100%|██████████| 157/157 [00:02<00:00, 53.17it/s]\n",
            "Evaluating model: Shard 10/10, slice 1/10: 100%|██████████| 157/157 [00:02<00:00, 53.18it/s]\n",
            "Evaluating model: Shard 10/10, slice 2/10: 100%|██████████| 157/157 [00:02<00:00, 53.20it/s]\n",
            "Evaluating model: Shard 10/10, slice 3/10: 100%|██████████| 157/157 [00:02<00:00, 53.19it/s]\n",
            "Evaluating model: Shard 10/10, slice 4/10: 100%|██████████| 157/157 [00:02<00:00, 53.20it/s]\n",
            "Evaluating model: Shard 10/10, slice 5/10: 100%|██████████| 157/157 [00:02<00:00, 53.17it/s]\n",
            "Evaluating model: Shard 10/10, slice 6/10: 100%|██████████| 157/157 [00:02<00:00, 53.24it/s]\n",
            "Evaluating model: Shard 10/10, slice 7/10: 100%|██████████| 157/157 [00:02<00:00, 53.19it/s]\n",
            "Evaluating model: Shard 10/10, slice 8/10: 100%|██████████| 157/157 [00:02<00:00, 53.21it/s]\n",
            "Evaluating model: Shard 10/10, slice 9/10: 100%|██████████| 157/157 [00:02<00:00, 53.25it/s]\n",
            "Evaluating model: Shard 10/10, slice 10/10: 100%|██████████| 157/157 [00:02<00:00, 53.23it/s]\n"
          ]
        },
        {
          "name": "stdout",
          "output_type": "stream",
          "text": [
            "Retraining shard 1/10 containing data to forget\n"
          ]
        },
        {
          "name": "stderr",
          "output_type": "stream",
          "text": [
            "Epoch 1/5: 100%|██████████| 8/8 [00:00<00:00, 33.99it/s]\n",
            "Epoch 2/5: 100%|██████████| 8/8 [00:00<00:00, 34.77it/s]\n",
            "Epoch 3/5: 100%|██████████| 8/8 [00:00<00:00, 34.82it/s]\n",
            "Epoch 4/5: 100%|██████████| 8/8 [00:00<00:00, 34.92it/s]\n",
            "Epoch 5/5: 100%|██████████| 8/8 [00:00<00:00, 34.89it/s]\n"
          ]
        },
        {
          "name": "stdout",
          "output_type": "stream",
          "text": [
            "Slice 1/10 retrained for shard 1/10\n"
          ]
        },
        {
          "name": "stderr",
          "output_type": "stream",
          "text": [
            "Epoch 1/5: 100%|██████████| 8/8 [00:00<00:00, 34.26it/s]\n",
            "Epoch 2/5: 100%|██████████| 8/8 [00:00<00:00, 34.74it/s]\n",
            "Epoch 3/5: 100%|██████████| 8/8 [00:00<00:00, 34.70it/s]\n",
            "Epoch 4/5: 100%|██████████| 8/8 [00:00<00:00, 34.70it/s]\n",
            "Epoch 5/5: 100%|██████████| 8/8 [00:00<00:00, 34.53it/s]\n"
          ]
        },
        {
          "name": "stdout",
          "output_type": "stream",
          "text": [
            "Slice 2/10 retrained for shard 1/10\n"
          ]
        },
        {
          "name": "stderr",
          "output_type": "stream",
          "text": [
            "Epoch 1/5: 100%|██████████| 8/8 [00:00<00:00, 34.53it/s]\n",
            "Epoch 2/5: 100%|██████████| 8/8 [00:00<00:00, 34.67it/s]\n",
            "Epoch 3/5: 100%|██████████| 8/8 [00:00<00:00, 34.83it/s]\n",
            "Epoch 4/5: 100%|██████████| 8/8 [00:00<00:00, 34.79it/s]\n",
            "Epoch 5/5: 100%|██████████| 8/8 [00:00<00:00, 34.86it/s]\n"
          ]
        },
        {
          "name": "stdout",
          "output_type": "stream",
          "text": [
            "Slice 3/10 retrained for shard 1/10\n"
          ]
        },
        {
          "name": "stderr",
          "output_type": "stream",
          "text": [
            "Epoch 1/5: 100%|██████████| 8/8 [00:00<00:00, 34.18it/s]\n",
            "Epoch 2/5: 100%|██████████| 8/8 [00:00<00:00, 34.63it/s]\n",
            "Epoch 3/5: 100%|██████████| 8/8 [00:00<00:00, 34.60it/s]\n",
            "Epoch 4/5: 100%|██████████| 8/8 [00:00<00:00, 34.67it/s]\n",
            "Epoch 5/5: 100%|██████████| 8/8 [00:00<00:00, 34.58it/s]\n"
          ]
        },
        {
          "name": "stdout",
          "output_type": "stream",
          "text": [
            "Slice 4/10 retrained for shard 1/10\n"
          ]
        },
        {
          "name": "stderr",
          "output_type": "stream",
          "text": [
            "Epoch 1/5: 100%|██████████| 8/8 [00:00<00:00, 34.82it/s]\n",
            "Epoch 2/5: 100%|██████████| 8/8 [00:00<00:00, 34.88it/s]\n",
            "Epoch 3/5: 100%|██████████| 8/8 [00:00<00:00, 35.16it/s]\n",
            "Epoch 4/5: 100%|██████████| 8/8 [00:00<00:00, 35.09it/s]\n",
            "Epoch 5/5: 100%|██████████| 8/8 [00:00<00:00, 35.17it/s]\n"
          ]
        },
        {
          "name": "stdout",
          "output_type": "stream",
          "text": [
            "Slice 5/10 retrained for shard 1/10\n"
          ]
        },
        {
          "name": "stderr",
          "output_type": "stream",
          "text": [
            "Epoch 1/5: 100%|██████████| 8/8 [00:00<00:00, 34.48it/s]\n",
            "Epoch 2/5: 100%|██████████| 8/8 [00:00<00:00, 34.88it/s]\n",
            "Epoch 3/5: 100%|██████████| 8/8 [00:00<00:00, 34.83it/s]\n",
            "Epoch 4/5: 100%|██████████| 8/8 [00:00<00:00, 34.93it/s]\n",
            "Epoch 5/5: 100%|██████████| 8/8 [00:00<00:00, 34.93it/s]\n"
          ]
        },
        {
          "name": "stdout",
          "output_type": "stream",
          "text": [
            "Slice 6/10 retrained for shard 1/10\n"
          ]
        },
        {
          "name": "stderr",
          "output_type": "stream",
          "text": [
            "Epoch 1/5: 100%|██████████| 8/8 [00:00<00:00, 34.41it/s]\n",
            "Epoch 2/5: 100%|██████████| 8/8 [00:00<00:00, 34.68it/s]\n",
            "Epoch 3/5: 100%|██████████| 8/8 [00:00<00:00, 34.80it/s]\n",
            "Epoch 4/5: 100%|██████████| 8/8 [00:00<00:00, 35.00it/s]\n",
            "Epoch 5/5: 100%|██████████| 8/8 [00:00<00:00, 34.99it/s]\n"
          ]
        },
        {
          "name": "stdout",
          "output_type": "stream",
          "text": [
            "Slice 7/10 retrained for shard 1/10\n"
          ]
        },
        {
          "name": "stderr",
          "output_type": "stream",
          "text": [
            "Epoch 1/5: 100%|██████████| 8/8 [00:00<00:00, 34.65it/s]\n",
            "Epoch 2/5: 100%|██████████| 8/8 [00:00<00:00, 34.81it/s]\n",
            "Epoch 3/5: 100%|██████████| 8/8 [00:00<00:00, 35.05it/s]\n",
            "Epoch 4/5: 100%|██████████| 8/8 [00:00<00:00, 35.00it/s]\n",
            "Epoch 5/5: 100%|██████████| 8/8 [00:00<00:00, 35.06it/s]\n"
          ]
        },
        {
          "name": "stdout",
          "output_type": "stream",
          "text": [
            "Slice 8/10 retrained for shard 1/10\n"
          ]
        },
        {
          "name": "stderr",
          "output_type": "stream",
          "text": [
            "Epoch 1/5: 100%|██████████| 8/8 [00:00<00:00, 34.56it/s]\n",
            "Epoch 2/5: 100%|██████████| 8/8 [00:00<00:00, 34.71it/s]\n",
            "Epoch 3/5: 100%|██████████| 8/8 [00:00<00:00, 34.84it/s]\n",
            "Epoch 4/5: 100%|██████████| 8/8 [00:00<00:00, 34.92it/s]\n",
            "Epoch 5/5: 100%|██████████| 8/8 [00:00<00:00, 34.92it/s]\n"
          ]
        },
        {
          "name": "stdout",
          "output_type": "stream",
          "text": [
            "Slice 9/10 retrained for shard 1/10\n"
          ]
        },
        {
          "name": "stderr",
          "output_type": "stream",
          "text": [
            "Epoch 1/5: 100%|██████████| 8/8 [00:00<00:00, 34.54it/s]\n",
            "Epoch 2/5: 100%|██████████| 8/8 [00:00<00:00, 34.82it/s]\n",
            "Epoch 3/5: 100%|██████████| 8/8 [00:00<00:00, 34.88it/s]\n",
            "Epoch 4/5: 100%|██████████| 8/8 [00:00<00:00, 34.96it/s]\n",
            "Epoch 5/5: 100%|██████████| 8/8 [00:00<00:00, 34.91it/s]\n"
          ]
        },
        {
          "name": "stdout",
          "output_type": "stream",
          "text": [
            "Slice 10/10 retrained for shard 1/10\n",
            "Retraining shard 2/10 containing data to forget\n"
          ]
        },
        {
          "name": "stderr",
          "output_type": "stream",
          "text": [
            "Epoch 1/5: 100%|██████████| 8/8 [00:00<00:00, 34.37it/s]\n",
            "Epoch 2/5: 100%|██████████| 8/8 [00:00<00:00, 34.60it/s]\n",
            "Epoch 3/5: 100%|██████████| 8/8 [00:00<00:00, 34.76it/s]\n",
            "Epoch 4/5: 100%|██████████| 8/8 [00:00<00:00, 34.57it/s]\n",
            "Epoch 5/5: 100%|██████████| 8/8 [00:00<00:00, 34.71it/s]\n"
          ]
        },
        {
          "name": "stdout",
          "output_type": "stream",
          "text": [
            "Slice 1/10 retrained for shard 2/10\n"
          ]
        },
        {
          "name": "stderr",
          "output_type": "stream",
          "text": [
            "Epoch 1/5: 100%|██████████| 8/8 [00:00<00:00, 34.32it/s]\n",
            "Epoch 2/5: 100%|██████████| 8/8 [00:00<00:00, 34.65it/s]\n",
            "Epoch 3/5: 100%|██████████| 8/8 [00:00<00:00, 34.45it/s]\n",
            "Epoch 4/5: 100%|██████████| 8/8 [00:00<00:00, 34.64it/s]\n",
            "Epoch 5/5: 100%|██████████| 8/8 [00:00<00:00, 34.50it/s]\n"
          ]
        },
        {
          "name": "stdout",
          "output_type": "stream",
          "text": [
            "Slice 2/10 retrained for shard 2/10\n"
          ]
        },
        {
          "name": "stderr",
          "output_type": "stream",
          "text": [
            "Epoch 1/5: 100%|██████████| 8/8 [00:00<00:00, 34.37it/s]\n",
            "Epoch 2/5: 100%|██████████| 8/8 [00:00<00:00, 34.68it/s]\n",
            "Epoch 3/5: 100%|██████████| 8/8 [00:00<00:00, 34.70it/s]\n",
            "Epoch 4/5: 100%|██████████| 8/8 [00:00<00:00, 34.73it/s]\n",
            "Epoch 5/5: 100%|██████████| 8/8 [00:00<00:00, 34.74it/s]\n"
          ]
        },
        {
          "name": "stdout",
          "output_type": "stream",
          "text": [
            "Slice 3/10 retrained for shard 2/10\n"
          ]
        },
        {
          "name": "stderr",
          "output_type": "stream",
          "text": [
            "Epoch 1/5: 100%|██████████| 8/8 [00:00<00:00, 34.33it/s]\n",
            "Epoch 2/5: 100%|██████████| 8/8 [00:00<00:00, 34.66it/s]\n",
            "Epoch 3/5: 100%|██████████| 8/8 [00:00<00:00, 34.80it/s]\n",
            "Epoch 4/5: 100%|██████████| 8/8 [00:00<00:00, 34.72it/s]\n",
            "Epoch 5/5: 100%|██████████| 8/8 [00:00<00:00, 34.81it/s]\n"
          ]
        },
        {
          "name": "stdout",
          "output_type": "stream",
          "text": [
            "Slice 4/10 retrained for shard 2/10\n"
          ]
        },
        {
          "name": "stderr",
          "output_type": "stream",
          "text": [
            "Epoch 1/5: 100%|██████████| 8/8 [00:00<00:00, 34.47it/s]\n",
            "Epoch 2/5: 100%|██████████| 8/8 [00:00<00:00, 34.69it/s]\n",
            "Epoch 3/5: 100%|██████████| 8/8 [00:00<00:00, 34.75it/s]\n",
            "Epoch 4/5: 100%|██████████| 8/8 [00:00<00:00, 34.72it/s]\n",
            "Epoch 5/5: 100%|██████████| 8/8 [00:00<00:00, 34.74it/s]\n"
          ]
        },
        {
          "name": "stdout",
          "output_type": "stream",
          "text": [
            "Slice 5/10 retrained for shard 2/10\n"
          ]
        },
        {
          "name": "stderr",
          "output_type": "stream",
          "text": [
            "Epoch 1/5: 100%|██████████| 8/8 [00:00<00:00, 34.54it/s]\n",
            "Epoch 2/5: 100%|██████████| 8/8 [00:00<00:00, 34.74it/s]\n",
            "Epoch 3/5: 100%|██████████| 8/8 [00:00<00:00, 34.68it/s]\n",
            "Epoch 4/5: 100%|██████████| 8/8 [00:00<00:00, 34.66it/s]\n",
            "Epoch 5/5: 100%|██████████| 8/8 [00:00<00:00, 34.62it/s]\n"
          ]
        },
        {
          "name": "stdout",
          "output_type": "stream",
          "text": [
            "Slice 6/10 retrained for shard 2/10\n"
          ]
        },
        {
          "name": "stderr",
          "output_type": "stream",
          "text": [
            "Epoch 1/5: 100%|██████████| 8/8 [00:00<00:00, 34.39it/s]\n",
            "Epoch 2/5: 100%|██████████| 8/8 [00:00<00:00, 34.81it/s]\n",
            "Epoch 3/5: 100%|██████████| 8/8 [00:00<00:00, 34.87it/s]\n",
            "Epoch 4/5: 100%|██████████| 8/8 [00:00<00:00, 34.72it/s]\n",
            "Epoch 5/5: 100%|██████████| 8/8 [00:00<00:00, 34.89it/s]\n"
          ]
        },
        {
          "name": "stdout",
          "output_type": "stream",
          "text": [
            "Slice 7/10 retrained for shard 2/10\n"
          ]
        },
        {
          "name": "stderr",
          "output_type": "stream",
          "text": [
            "Epoch 1/5: 100%|██████████| 8/8 [00:00<00:00, 34.48it/s]\n",
            "Epoch 2/5: 100%|██████████| 8/8 [00:00<00:00, 34.73it/s]\n",
            "Epoch 3/5: 100%|██████████| 8/8 [00:00<00:00, 34.82it/s]\n",
            "Epoch 4/5: 100%|██████████| 8/8 [00:00<00:00, 34.86it/s]\n",
            "Epoch 5/5: 100%|██████████| 8/8 [00:00<00:00, 34.76it/s]\n"
          ]
        },
        {
          "name": "stdout",
          "output_type": "stream",
          "text": [
            "Slice 8/10 retrained for shard 2/10\n"
          ]
        },
        {
          "name": "stderr",
          "output_type": "stream",
          "text": [
            "Epoch 1/5: 100%|██████████| 8/8 [00:00<00:00, 34.38it/s]\n",
            "Epoch 2/5: 100%|██████████| 8/8 [00:00<00:00, 34.68it/s]\n",
            "Epoch 3/5: 100%|██████████| 8/8 [00:00<00:00, 34.70it/s]\n",
            "Epoch 4/5: 100%|██████████| 8/8 [00:00<00:00, 34.78it/s]\n",
            "Epoch 5/5: 100%|██████████| 8/8 [00:00<00:00, 34.61it/s]\n"
          ]
        },
        {
          "name": "stdout",
          "output_type": "stream",
          "text": [
            "Slice 9/10 retrained for shard 2/10\n"
          ]
        },
        {
          "name": "stderr",
          "output_type": "stream",
          "text": [
            "Epoch 1/5: 100%|██████████| 8/8 [00:00<00:00, 34.36it/s]\n",
            "Epoch 2/5: 100%|██████████| 8/8 [00:00<00:00, 34.65it/s]\n",
            "Epoch 3/5: 100%|██████████| 8/8 [00:00<00:00, 34.67it/s]\n",
            "Epoch 4/5: 100%|██████████| 8/8 [00:00<00:00, 34.73it/s]\n",
            "Epoch 5/5: 100%|██████████| 8/8 [00:00<00:00, 34.71it/s]\n"
          ]
        },
        {
          "name": "stdout",
          "output_type": "stream",
          "text": [
            "Slice 10/10 retrained for shard 2/10\n",
            "Retraining shard 3/10 containing data to forget\n"
          ]
        },
        {
          "name": "stderr",
          "output_type": "stream",
          "text": [
            "Epoch 1/5: 100%|██████████| 8/8 [00:00<00:00, 34.33it/s]\n",
            "Epoch 2/5: 100%|██████████| 8/8 [00:00<00:00, 34.50it/s]\n",
            "Epoch 3/5: 100%|██████████| 8/8 [00:00<00:00, 34.62it/s]\n",
            "Epoch 4/5: 100%|██████████| 8/8 [00:00<00:00, 34.72it/s]\n",
            "Epoch 5/5: 100%|██████████| 8/8 [00:00<00:00, 34.72it/s]\n"
          ]
        },
        {
          "name": "stdout",
          "output_type": "stream",
          "text": [
            "Slice 1/10 retrained for shard 3/10\n"
          ]
        },
        {
          "name": "stderr",
          "output_type": "stream",
          "text": [
            "Epoch 1/5: 100%|██████████| 8/8 [00:00<00:00, 34.45it/s]\n",
            "Epoch 2/5: 100%|██████████| 8/8 [00:00<00:00, 34.75it/s]\n",
            "Epoch 3/5: 100%|██████████| 8/8 [00:00<00:00, 34.71it/s]\n",
            "Epoch 4/5: 100%|██████████| 8/8 [00:00<00:00, 34.75it/s]\n",
            "Epoch 5/5: 100%|██████████| 8/8 [00:00<00:00, 34.75it/s]\n"
          ]
        },
        {
          "name": "stdout",
          "output_type": "stream",
          "text": [
            "Slice 2/10 retrained for shard 3/10\n"
          ]
        },
        {
          "name": "stderr",
          "output_type": "stream",
          "text": [
            "Epoch 1/5: 100%|██████████| 8/8 [00:00<00:00, 34.38it/s]\n",
            "Epoch 2/5: 100%|██████████| 8/8 [00:00<00:00, 34.75it/s]\n",
            "Epoch 3/5: 100%|██████████| 8/8 [00:00<00:00, 34.78it/s]\n",
            "Epoch 4/5: 100%|██████████| 8/8 [00:00<00:00, 34.71it/s]\n",
            "Epoch 5/5: 100%|██████████| 8/8 [00:00<00:00, 34.76it/s]\n"
          ]
        },
        {
          "name": "stdout",
          "output_type": "stream",
          "text": [
            "Slice 3/10 retrained for shard 3/10\n"
          ]
        },
        {
          "name": "stderr",
          "output_type": "stream",
          "text": [
            "Epoch 1/5: 100%|██████████| 8/8 [00:00<00:00, 34.48it/s]\n",
            "Epoch 2/5: 100%|██████████| 8/8 [00:00<00:00, 34.66it/s]\n",
            "Epoch 3/5: 100%|██████████| 8/8 [00:00<00:00, 34.77it/s]\n",
            "Epoch 4/5: 100%|██████████| 8/8 [00:00<00:00, 34.78it/s]\n",
            "Epoch 5/5: 100%|██████████| 8/8 [00:00<00:00, 34.76it/s]\n"
          ]
        },
        {
          "name": "stdout",
          "output_type": "stream",
          "text": [
            "Slice 4/10 retrained for shard 3/10\n"
          ]
        },
        {
          "name": "stderr",
          "output_type": "stream",
          "text": [
            "Epoch 1/5: 100%|██████████| 8/8 [00:00<00:00, 34.46it/s]\n",
            "Epoch 2/5: 100%|██████████| 8/8 [00:00<00:00, 34.75it/s]\n",
            "Epoch 3/5: 100%|██████████| 8/8 [00:00<00:00, 34.78it/s]\n",
            "Epoch 4/5: 100%|██████████| 8/8 [00:00<00:00, 34.83it/s]\n",
            "Epoch 5/5: 100%|██████████| 8/8 [00:00<00:00, 34.80it/s]\n"
          ]
        },
        {
          "name": "stdout",
          "output_type": "stream",
          "text": [
            "Slice 5/10 retrained for shard 3/10\n"
          ]
        },
        {
          "name": "stderr",
          "output_type": "stream",
          "text": [
            "Epoch 1/5: 100%|██████████| 8/8 [00:00<00:00, 34.39it/s]\n",
            "Epoch 2/5: 100%|██████████| 8/8 [00:00<00:00, 34.78it/s]\n",
            "Epoch 3/5: 100%|██████████| 8/8 [00:00<00:00, 34.69it/s]\n",
            "Epoch 4/5: 100%|██████████| 8/8 [00:00<00:00, 34.71it/s]\n",
            "Epoch 5/5: 100%|██████████| 8/8 [00:00<00:00, 34.77it/s]\n"
          ]
        },
        {
          "name": "stdout",
          "output_type": "stream",
          "text": [
            "Slice 6/10 retrained for shard 3/10\n"
          ]
        },
        {
          "name": "stderr",
          "output_type": "stream",
          "text": [
            "Epoch 1/5: 100%|██████████| 8/8 [00:00<00:00, 34.28it/s]\n",
            "Epoch 2/5: 100%|██████████| 8/8 [00:00<00:00, 34.75it/s]\n",
            "Epoch 3/5: 100%|██████████| 8/8 [00:00<00:00, 34.75it/s]\n",
            "Epoch 4/5: 100%|██████████| 8/8 [00:00<00:00, 34.71it/s]\n",
            "Epoch 5/5: 100%|██████████| 8/8 [00:00<00:00, 34.74it/s]\n"
          ]
        },
        {
          "name": "stdout",
          "output_type": "stream",
          "text": [
            "Slice 7/10 retrained for shard 3/10\n"
          ]
        },
        {
          "name": "stderr",
          "output_type": "stream",
          "text": [
            "Epoch 1/5: 100%|██████████| 8/8 [00:00<00:00, 34.47it/s]\n",
            "Epoch 2/5: 100%|██████████| 8/8 [00:00<00:00, 34.85it/s]\n",
            "Epoch 3/5: 100%|██████████| 8/8 [00:00<00:00, 34.70it/s]\n",
            "Epoch 4/5: 100%|██████████| 8/8 [00:00<00:00, 34.79it/s]\n",
            "Epoch 5/5: 100%|██████████| 8/8 [00:00<00:00, 34.58it/s]\n"
          ]
        },
        {
          "name": "stdout",
          "output_type": "stream",
          "text": [
            "Slice 8/10 retrained for shard 3/10\n"
          ]
        },
        {
          "name": "stderr",
          "output_type": "stream",
          "text": [
            "Epoch 1/5: 100%|██████████| 8/8 [00:00<00:00, 34.48it/s]\n",
            "Epoch 2/5: 100%|██████████| 8/8 [00:00<00:00, 34.73it/s]\n",
            "Epoch 3/5: 100%|██████████| 8/8 [00:00<00:00, 34.78it/s]\n",
            "Epoch 4/5: 100%|██████████| 8/8 [00:00<00:00, 34.78it/s]\n",
            "Epoch 5/5: 100%|██████████| 8/8 [00:00<00:00, 34.90it/s]\n"
          ]
        },
        {
          "name": "stdout",
          "output_type": "stream",
          "text": [
            "Slice 9/10 retrained for shard 3/10\n"
          ]
        },
        {
          "name": "stderr",
          "output_type": "stream",
          "text": [
            "Epoch 1/5: 100%|██████████| 8/8 [00:00<00:00, 34.37it/s]\n",
            "Epoch 2/5: 100%|██████████| 8/8 [00:00<00:00, 34.73it/s]\n",
            "Epoch 3/5: 100%|██████████| 8/8 [00:00<00:00, 34.74it/s]\n",
            "Epoch 4/5: 100%|██████████| 8/8 [00:00<00:00, 34.74it/s]\n",
            "Epoch 5/5: 100%|██████████| 8/8 [00:00<00:00, 34.81it/s]\n"
          ]
        },
        {
          "name": "stdout",
          "output_type": "stream",
          "text": [
            "Slice 10/10 retrained for shard 3/10\n",
            "Retraining shard 4/10 containing data to forget\n"
          ]
        },
        {
          "name": "stderr",
          "output_type": "stream",
          "text": [
            "Epoch 1/5: 100%|██████████| 8/8 [00:00<00:00, 34.19it/s]\n",
            "Epoch 2/5: 100%|██████████| 8/8 [00:00<00:00, 34.63it/s]\n",
            "Epoch 3/5: 100%|██████████| 8/8 [00:00<00:00, 34.83it/s]\n",
            "Epoch 4/5: 100%|██████████| 8/8 [00:00<00:00, 34.73it/s]\n",
            "Epoch 5/5: 100%|██████████| 8/8 [00:00<00:00, 34.83it/s]\n"
          ]
        },
        {
          "name": "stdout",
          "output_type": "stream",
          "text": [
            "Slice 1/10 retrained for shard 4/10\n"
          ]
        },
        {
          "name": "stderr",
          "output_type": "stream",
          "text": [
            "Epoch 1/5: 100%|██████████| 8/8 [00:00<00:00, 34.40it/s]\n",
            "Epoch 2/5: 100%|██████████| 8/8 [00:00<00:00, 34.78it/s]\n",
            "Epoch 3/5: 100%|██████████| 8/8 [00:00<00:00, 34.71it/s]\n",
            "Epoch 4/5: 100%|██████████| 8/8 [00:00<00:00, 34.66it/s]\n",
            "Epoch 5/5: 100%|██████████| 8/8 [00:00<00:00, 34.64it/s]\n"
          ]
        },
        {
          "name": "stdout",
          "output_type": "stream",
          "text": [
            "Slice 2/10 retrained for shard 4/10\n"
          ]
        },
        {
          "name": "stderr",
          "output_type": "stream",
          "text": [
            "Epoch 1/5: 100%|██████████| 8/8 [00:00<00:00, 34.40it/s]\n",
            "Epoch 2/5: 100%|██████████| 8/8 [00:00<00:00, 34.81it/s]\n",
            "Epoch 3/5: 100%|██████████| 8/8 [00:00<00:00, 34.79it/s]\n",
            "Epoch 4/5: 100%|██████████| 8/8 [00:00<00:00, 34.63it/s]\n",
            "Epoch 5/5: 100%|██████████| 8/8 [00:00<00:00, 34.75it/s]\n"
          ]
        },
        {
          "name": "stdout",
          "output_type": "stream",
          "text": [
            "Slice 3/10 retrained for shard 4/10\n"
          ]
        },
        {
          "name": "stderr",
          "output_type": "stream",
          "text": [
            "Epoch 1/5: 100%|██████████| 8/8 [00:00<00:00, 34.44it/s]\n",
            "Epoch 2/5: 100%|██████████| 8/8 [00:00<00:00, 34.84it/s]\n",
            "Epoch 3/5: 100%|██████████| 8/8 [00:00<00:00, 34.91it/s]\n",
            "Epoch 4/5: 100%|██████████| 8/8 [00:00<00:00, 34.73it/s]\n",
            "Epoch 5/5: 100%|██████████| 8/8 [00:00<00:00, 34.75it/s]\n"
          ]
        },
        {
          "name": "stdout",
          "output_type": "stream",
          "text": [
            "Slice 4/10 retrained for shard 4/10\n"
          ]
        },
        {
          "name": "stderr",
          "output_type": "stream",
          "text": [
            "Epoch 1/5: 100%|██████████| 8/8 [00:00<00:00, 34.50it/s]\n",
            "Epoch 2/5: 100%|██████████| 8/8 [00:00<00:00, 34.70it/s]\n",
            "Epoch 3/5: 100%|██████████| 8/8 [00:00<00:00, 34.74it/s]\n",
            "Epoch 4/5: 100%|██████████| 8/8 [00:00<00:00, 34.82it/s]\n",
            "Epoch 5/5: 100%|██████████| 8/8 [00:00<00:00, 34.59it/s]\n"
          ]
        },
        {
          "name": "stdout",
          "output_type": "stream",
          "text": [
            "Slice 5/10 retrained for shard 4/10\n"
          ]
        },
        {
          "name": "stderr",
          "output_type": "stream",
          "text": [
            "Epoch 1/5: 100%|██████████| 8/8 [00:00<00:00, 34.42it/s]\n",
            "Epoch 2/5: 100%|██████████| 8/8 [00:00<00:00, 34.83it/s]\n",
            "Epoch 3/5: 100%|██████████| 8/8 [00:00<00:00, 34.77it/s]\n",
            "Epoch 4/5: 100%|██████████| 8/8 [00:00<00:00, 34.68it/s]\n",
            "Epoch 5/5: 100%|██████████| 8/8 [00:00<00:00, 34.79it/s]\n"
          ]
        },
        {
          "name": "stdout",
          "output_type": "stream",
          "text": [
            "Slice 6/10 retrained for shard 4/10\n"
          ]
        },
        {
          "name": "stderr",
          "output_type": "stream",
          "text": [
            "Epoch 1/5: 100%|██████████| 8/8 [00:00<00:00, 34.43it/s]\n",
            "Epoch 2/5: 100%|██████████| 8/8 [00:00<00:00, 34.73it/s]\n",
            "Epoch 3/5: 100%|██████████| 8/8 [00:00<00:00, 34.72it/s]\n",
            "Epoch 4/5: 100%|██████████| 8/8 [00:00<00:00, 34.77it/s]\n",
            "Epoch 5/5: 100%|██████████| 8/8 [00:00<00:00, 34.71it/s]\n"
          ]
        },
        {
          "name": "stdout",
          "output_type": "stream",
          "text": [
            "Slice 7/10 retrained for shard 4/10\n"
          ]
        },
        {
          "name": "stderr",
          "output_type": "stream",
          "text": [
            "Epoch 1/5: 100%|██████████| 8/8 [00:00<00:00, 34.43it/s]\n",
            "Epoch 2/5: 100%|██████████| 8/8 [00:00<00:00, 34.84it/s]\n",
            "Epoch 3/5: 100%|██████████| 8/8 [00:00<00:00, 34.66it/s]\n",
            "Epoch 4/5: 100%|██████████| 8/8 [00:00<00:00, 34.75it/s]\n",
            "Epoch 5/5: 100%|██████████| 8/8 [00:00<00:00, 34.28it/s]\n"
          ]
        },
        {
          "name": "stdout",
          "output_type": "stream",
          "text": [
            "Slice 8/10 retrained for shard 4/10\n"
          ]
        },
        {
          "name": "stderr",
          "output_type": "stream",
          "text": [
            "Epoch 1/5: 100%|██████████| 8/8 [00:00<00:00, 34.91it/s]\n",
            "Epoch 2/5: 100%|██████████| 8/8 [00:00<00:00, 35.23it/s]\n",
            "Epoch 3/5: 100%|██████████| 8/8 [00:00<00:00, 35.26it/s]\n",
            "Epoch 4/5: 100%|██████████| 8/8 [00:00<00:00, 35.07it/s]\n",
            "Epoch 5/5: 100%|██████████| 8/8 [00:00<00:00, 35.06it/s]\n"
          ]
        },
        {
          "name": "stdout",
          "output_type": "stream",
          "text": [
            "Slice 9/10 retrained for shard 4/10\n"
          ]
        },
        {
          "name": "stderr",
          "output_type": "stream",
          "text": [
            "Epoch 1/5: 100%|██████████| 8/8 [00:00<00:00, 34.76it/s]\n",
            "Epoch 2/5: 100%|██████████| 8/8 [00:00<00:00, 35.06it/s]\n",
            "Epoch 3/5: 100%|██████████| 8/8 [00:00<00:00, 35.12it/s]\n",
            "Epoch 4/5: 100%|██████████| 8/8 [00:00<00:00, 35.19it/s]\n",
            "Epoch 5/5: 100%|██████████| 8/8 [00:00<00:00, 35.27it/s]\n"
          ]
        },
        {
          "name": "stdout",
          "output_type": "stream",
          "text": [
            "Slice 10/10 retrained for shard 4/10\n",
            "Retraining shard 5/10 containing data to forget\n"
          ]
        },
        {
          "name": "stderr",
          "output_type": "stream",
          "text": [
            "Epoch 1/5: 100%|██████████| 8/8 [00:00<00:00, 34.78it/s]\n",
            "Epoch 2/5: 100%|██████████| 8/8 [00:00<00:00, 35.13it/s]\n",
            "Epoch 3/5: 100%|██████████| 8/8 [00:00<00:00, 35.15it/s]\n",
            "Epoch 4/5: 100%|██████████| 8/8 [00:00<00:00, 35.14it/s]\n",
            "Epoch 5/5: 100%|██████████| 8/8 [00:00<00:00, 35.04it/s]\n"
          ]
        },
        {
          "name": "stdout",
          "output_type": "stream",
          "text": [
            "Slice 1/10 retrained for shard 5/10\n"
          ]
        },
        {
          "name": "stderr",
          "output_type": "stream",
          "text": [
            "Epoch 1/5: 100%|██████████| 8/8 [00:00<00:00, 34.83it/s]\n",
            "Epoch 2/5: 100%|██████████| 8/8 [00:00<00:00, 35.04it/s]\n",
            "Epoch 3/5: 100%|██████████| 8/8 [00:00<00:00, 35.09it/s]\n",
            "Epoch 4/5: 100%|██████████| 8/8 [00:00<00:00, 34.97it/s]\n",
            "Epoch 5/5: 100%|██████████| 8/8 [00:00<00:00, 35.08it/s]\n"
          ]
        },
        {
          "name": "stdout",
          "output_type": "stream",
          "text": [
            "Slice 2/10 retrained for shard 5/10\n"
          ]
        },
        {
          "name": "stderr",
          "output_type": "stream",
          "text": [
            "Epoch 1/5: 100%|██████████| 8/8 [00:00<00:00, 34.84it/s]\n",
            "Epoch 2/5: 100%|██████████| 8/8 [00:00<00:00, 35.13it/s]\n",
            "Epoch 3/5: 100%|██████████| 8/8 [00:00<00:00, 35.17it/s]\n",
            "Epoch 4/5: 100%|██████████| 8/8 [00:00<00:00, 35.14it/s]\n",
            "Epoch 5/5: 100%|██████████| 8/8 [00:00<00:00, 35.22it/s]\n"
          ]
        },
        {
          "name": "stdout",
          "output_type": "stream",
          "text": [
            "Slice 3/10 retrained for shard 5/10\n"
          ]
        },
        {
          "name": "stderr",
          "output_type": "stream",
          "text": [
            "Epoch 1/5: 100%|██████████| 8/8 [00:00<00:00, 35.02it/s]\n",
            "Epoch 2/5: 100%|██████████| 8/8 [00:00<00:00, 35.38it/s]\n",
            "Epoch 3/5: 100%|██████████| 8/8 [00:00<00:00, 35.40it/s]\n",
            "Epoch 4/5: 100%|██████████| 8/8 [00:00<00:00, 35.16it/s]\n",
            "Epoch 5/5: 100%|██████████| 8/8 [00:00<00:00, 35.22it/s]\n"
          ]
        },
        {
          "name": "stdout",
          "output_type": "stream",
          "text": [
            "Slice 4/10 retrained for shard 5/10\n"
          ]
        },
        {
          "name": "stderr",
          "output_type": "stream",
          "text": [
            "Epoch 1/5: 100%|██████████| 8/8 [00:00<00:00, 34.91it/s]\n",
            "Epoch 2/5: 100%|██████████| 8/8 [00:00<00:00, 35.35it/s]\n",
            "Epoch 3/5: 100%|██████████| 8/8 [00:00<00:00, 35.37it/s]\n",
            "Epoch 4/5: 100%|██████████| 8/8 [00:00<00:00, 35.21it/s]\n",
            "Epoch 5/5: 100%|██████████| 8/8 [00:00<00:00, 35.28it/s]\n"
          ]
        },
        {
          "name": "stdout",
          "output_type": "stream",
          "text": [
            "Slice 5/10 retrained for shard 5/10\n"
          ]
        },
        {
          "name": "stderr",
          "output_type": "stream",
          "text": [
            "Epoch 1/5: 100%|██████████| 8/8 [00:00<00:00, 34.98it/s]\n",
            "Epoch 2/5: 100%|██████████| 8/8 [00:00<00:00, 35.13it/s]\n",
            "Epoch 3/5: 100%|██████████| 8/8 [00:00<00:00, 35.23it/s]\n",
            "Epoch 4/5: 100%|██████████| 8/8 [00:00<00:00, 35.25it/s]\n",
            "Epoch 5/5: 100%|██████████| 8/8 [00:00<00:00, 35.27it/s]\n"
          ]
        },
        {
          "name": "stdout",
          "output_type": "stream",
          "text": [
            "Slice 6/10 retrained for shard 5/10\n"
          ]
        },
        {
          "name": "stderr",
          "output_type": "stream",
          "text": [
            "Epoch 1/5: 100%|██████████| 8/8 [00:00<00:00, 34.98it/s]\n",
            "Epoch 2/5: 100%|██████████| 8/8 [00:00<00:00, 35.17it/s]\n",
            "Epoch 3/5: 100%|██████████| 8/8 [00:00<00:00, 35.31it/s]\n",
            "Epoch 4/5: 100%|██████████| 8/8 [00:00<00:00, 35.35it/s]\n",
            "Epoch 5/5: 100%|██████████| 8/8 [00:00<00:00, 35.35it/s]\n"
          ]
        },
        {
          "name": "stdout",
          "output_type": "stream",
          "text": [
            "Slice 7/10 retrained for shard 5/10\n"
          ]
        },
        {
          "name": "stderr",
          "output_type": "stream",
          "text": [
            "Epoch 1/5: 100%|██████████| 8/8 [00:00<00:00, 34.90it/s]\n",
            "Epoch 2/5: 100%|██████████| 8/8 [00:00<00:00, 35.24it/s]\n",
            "Epoch 3/5: 100%|██████████| 8/8 [00:00<00:00, 35.23it/s]\n",
            "Epoch 4/5: 100%|██████████| 8/8 [00:00<00:00, 35.28it/s]\n",
            "Epoch 5/5: 100%|██████████| 8/8 [00:00<00:00, 35.17it/s]\n"
          ]
        },
        {
          "name": "stdout",
          "output_type": "stream",
          "text": [
            "Slice 8/10 retrained for shard 5/10\n"
          ]
        },
        {
          "name": "stderr",
          "output_type": "stream",
          "text": [
            "Epoch 1/5: 100%|██████████| 8/8 [00:00<00:00, 34.89it/s]\n",
            "Epoch 2/5: 100%|██████████| 8/8 [00:00<00:00, 35.34it/s]\n",
            "Epoch 3/5: 100%|██████████| 8/8 [00:00<00:00, 35.28it/s]\n",
            "Epoch 4/5: 100%|██████████| 8/8 [00:00<00:00, 35.21it/s]\n",
            "Epoch 5/5: 100%|██████████| 8/8 [00:00<00:00, 35.15it/s]\n"
          ]
        },
        {
          "name": "stdout",
          "output_type": "stream",
          "text": [
            "Slice 9/10 retrained for shard 5/10\n"
          ]
        },
        {
          "name": "stderr",
          "output_type": "stream",
          "text": [
            "Epoch 1/5: 100%|██████████| 8/8 [00:00<00:00, 34.70it/s]\n",
            "Epoch 2/5: 100%|██████████| 8/8 [00:00<00:00, 35.21it/s]\n",
            "Epoch 3/5: 100%|██████████| 8/8 [00:00<00:00, 35.22it/s]\n",
            "Epoch 4/5: 100%|██████████| 8/8 [00:00<00:00, 35.38it/s]\n",
            "Epoch 5/5: 100%|██████████| 8/8 [00:00<00:00, 35.18it/s]\n"
          ]
        },
        {
          "name": "stdout",
          "output_type": "stream",
          "text": [
            "Slice 10/10 retrained for shard 5/10\n",
            "Retraining shard 6/10 containing data to forget\n"
          ]
        },
        {
          "name": "stderr",
          "output_type": "stream",
          "text": [
            "Epoch 1/5: 100%|██████████| 8/8 [00:00<00:00, 34.40it/s]\n",
            "Epoch 2/5: 100%|██████████| 8/8 [00:00<00:00, 34.50it/s]\n",
            "Epoch 3/5: 100%|██████████| 8/8 [00:00<00:00, 35.38it/s]\n",
            "Epoch 4/5: 100%|██████████| 8/8 [00:00<00:00, 35.21it/s]\n",
            "Epoch 5/5: 100%|██████████| 8/8 [00:00<00:00, 35.25it/s]\n"
          ]
        },
        {
          "name": "stdout",
          "output_type": "stream",
          "text": [
            "Slice 1/10 retrained for shard 6/10\n"
          ]
        },
        {
          "name": "stderr",
          "output_type": "stream",
          "text": [
            "Epoch 1/5: 100%|██████████| 8/8 [00:00<00:00, 34.26it/s]\n",
            "Epoch 2/5: 100%|██████████| 8/8 [00:00<00:00, 35.17it/s]\n",
            "Epoch 3/5: 100%|██████████| 8/8 [00:00<00:00, 35.27it/s]\n",
            "Epoch 4/5: 100%|██████████| 8/8 [00:00<00:00, 35.24it/s]\n",
            "Epoch 5/5: 100%|██████████| 8/8 [00:00<00:00, 35.30it/s]\n"
          ]
        },
        {
          "name": "stdout",
          "output_type": "stream",
          "text": [
            "Slice 2/10 retrained for shard 6/10\n"
          ]
        },
        {
          "name": "stderr",
          "output_type": "stream",
          "text": [
            "Epoch 1/5: 100%|██████████| 8/8 [00:00<00:00, 34.22it/s]\n",
            "Epoch 2/5: 100%|██████████| 8/8 [00:00<00:00, 35.19it/s]\n",
            "Epoch 3/5: 100%|██████████| 8/8 [00:00<00:00, 35.25it/s]\n",
            "Epoch 4/5: 100%|██████████| 8/8 [00:00<00:00, 35.25it/s]\n",
            "Epoch 5/5: 100%|██████████| 8/8 [00:00<00:00, 35.25it/s]\n"
          ]
        },
        {
          "name": "stdout",
          "output_type": "stream",
          "text": [
            "Slice 3/10 retrained for shard 6/10\n"
          ]
        },
        {
          "name": "stderr",
          "output_type": "stream",
          "text": [
            "Epoch 1/5: 100%|██████████| 8/8 [00:00<00:00, 34.49it/s]\n",
            "Epoch 2/5: 100%|██████████| 8/8 [00:00<00:00, 35.29it/s]\n",
            "Epoch 3/5: 100%|██████████| 8/8 [00:00<00:00, 35.27it/s]\n",
            "Epoch 4/5: 100%|██████████| 8/8 [00:00<00:00, 35.18it/s]\n",
            "Epoch 5/5: 100%|██████████| 8/8 [00:00<00:00, 35.23it/s]\n"
          ]
        },
        {
          "name": "stdout",
          "output_type": "stream",
          "text": [
            "Slice 4/10 retrained for shard 6/10\n"
          ]
        },
        {
          "name": "stderr",
          "output_type": "stream",
          "text": [
            "Epoch 1/5: 100%|██████████| 8/8 [00:00<00:00, 34.37it/s]\n",
            "Epoch 2/5: 100%|██████████| 8/8 [00:00<00:00, 35.27it/s]\n",
            "Epoch 3/5: 100%|██████████| 8/8 [00:00<00:00, 35.21it/s]\n",
            "Epoch 4/5: 100%|██████████| 8/8 [00:00<00:00, 35.19it/s]\n",
            "Epoch 5/5: 100%|██████████| 8/8 [00:00<00:00, 35.09it/s]\n"
          ]
        },
        {
          "name": "stdout",
          "output_type": "stream",
          "text": [
            "Slice 5/10 retrained for shard 6/10\n"
          ]
        },
        {
          "name": "stderr",
          "output_type": "stream",
          "text": [
            "Epoch 1/5: 100%|██████████| 8/8 [00:00<00:00, 34.26it/s]\n",
            "Epoch 2/5: 100%|██████████| 8/8 [00:00<00:00, 35.19it/s]\n",
            "Epoch 3/5: 100%|██████████| 8/8 [00:00<00:00, 35.23it/s]\n",
            "Epoch 4/5: 100%|██████████| 8/8 [00:00<00:00, 35.20it/s]\n",
            "Epoch 5/5: 100%|██████████| 8/8 [00:00<00:00, 35.21it/s]\n"
          ]
        },
        {
          "name": "stdout",
          "output_type": "stream",
          "text": [
            "Slice 6/10 retrained for shard 6/10\n"
          ]
        },
        {
          "name": "stderr",
          "output_type": "stream",
          "text": [
            "Epoch 1/5: 100%|██████████| 8/8 [00:00<00:00, 34.31it/s]\n",
            "Epoch 2/5: 100%|██████████| 8/8 [00:00<00:00, 35.20it/s]\n",
            "Epoch 3/5: 100%|██████████| 8/8 [00:00<00:00, 35.16it/s]\n",
            "Epoch 4/5: 100%|██████████| 8/8 [00:00<00:00, 35.31it/s]\n",
            "Epoch 5/5: 100%|██████████| 8/8 [00:00<00:00, 35.25it/s]\n"
          ]
        },
        {
          "name": "stdout",
          "output_type": "stream",
          "text": [
            "Slice 7/10 retrained for shard 6/10\n"
          ]
        },
        {
          "name": "stderr",
          "output_type": "stream",
          "text": [
            "Epoch 1/5: 100%|██████████| 8/8 [00:00<00:00, 34.23it/s]\n",
            "Epoch 2/5: 100%|██████████| 8/8 [00:00<00:00, 35.23it/s]\n",
            "Epoch 3/5: 100%|██████████| 8/8 [00:00<00:00, 35.27it/s]\n",
            "Epoch 4/5: 100%|██████████| 8/8 [00:00<00:00, 35.27it/s]\n",
            "Epoch 5/5: 100%|██████████| 8/8 [00:00<00:00, 35.24it/s]\n"
          ]
        },
        {
          "name": "stdout",
          "output_type": "stream",
          "text": [
            "Slice 8/10 retrained for shard 6/10\n"
          ]
        },
        {
          "name": "stderr",
          "output_type": "stream",
          "text": [
            "Epoch 1/5: 100%|██████████| 8/8 [00:00<00:00, 34.39it/s]\n",
            "Epoch 2/5: 100%|██████████| 8/8 [00:00<00:00, 35.14it/s]\n",
            "Epoch 3/5: 100%|██████████| 8/8 [00:00<00:00, 35.22it/s]\n",
            "Epoch 4/5: 100%|██████████| 8/8 [00:00<00:00, 35.22it/s]\n",
            "Epoch 5/5: 100%|██████████| 8/8 [00:00<00:00, 35.27it/s]\n"
          ]
        },
        {
          "name": "stdout",
          "output_type": "stream",
          "text": [
            "Slice 9/10 retrained for shard 6/10\n"
          ]
        },
        {
          "name": "stderr",
          "output_type": "stream",
          "text": [
            "Epoch 1/5: 100%|██████████| 8/8 [00:00<00:00, 34.34it/s]\n",
            "Epoch 2/5: 100%|██████████| 8/8 [00:00<00:00, 35.08it/s]\n",
            "Epoch 3/5: 100%|██████████| 8/8 [00:00<00:00, 35.28it/s]\n",
            "Epoch 4/5: 100%|██████████| 8/8 [00:00<00:00, 35.27it/s]\n",
            "Epoch 5/5: 100%|██████████| 8/8 [00:00<00:00, 35.20it/s]\n"
          ]
        },
        {
          "name": "stdout",
          "output_type": "stream",
          "text": [
            "Slice 10/10 retrained for shard 6/10\n",
            "Retraining shard 7/10 containing data to forget\n"
          ]
        },
        {
          "name": "stderr",
          "output_type": "stream",
          "text": [
            "Epoch 1/5: 100%|██████████| 8/8 [00:00<00:00, 34.50it/s]\n",
            "Epoch 2/5: 100%|██████████| 8/8 [00:00<00:00, 35.73it/s]\n",
            "Epoch 3/5: 100%|██████████| 8/8 [00:00<00:00, 35.31it/s]\n",
            "Epoch 4/5: 100%|██████████| 8/8 [00:00<00:00, 35.34it/s]\n",
            "Epoch 5/5: 100%|██████████| 8/8 [00:00<00:00, 35.39it/s]\n"
          ]
        },
        {
          "name": "stdout",
          "output_type": "stream",
          "text": [
            "Slice 1/10 retrained for shard 7/10\n"
          ]
        },
        {
          "name": "stderr",
          "output_type": "stream",
          "text": [
            "Epoch 1/5: 100%|██████████| 8/8 [00:00<00:00, 34.52it/s]\n",
            "Epoch 2/5: 100%|██████████| 8/8 [00:00<00:00, 35.38it/s]\n",
            "Epoch 3/5: 100%|██████████| 8/8 [00:00<00:00, 35.33it/s]\n",
            "Epoch 4/5: 100%|██████████| 8/8 [00:00<00:00, 35.33it/s]\n",
            "Epoch 5/5: 100%|██████████| 8/8 [00:00<00:00, 35.34it/s]\n"
          ]
        },
        {
          "name": "stdout",
          "output_type": "stream",
          "text": [
            "Slice 2/10 retrained for shard 7/10\n"
          ]
        },
        {
          "name": "stderr",
          "output_type": "stream",
          "text": [
            "Epoch 1/5: 100%|██████████| 8/8 [00:00<00:00, 34.13it/s]\n",
            "Epoch 2/5: 100%|██████████| 8/8 [00:00<00:00, 35.25it/s]\n",
            "Epoch 3/5: 100%|██████████| 8/8 [00:00<00:00, 35.13it/s]\n",
            "Epoch 4/5: 100%|██████████| 8/8 [00:00<00:00, 35.27it/s]\n",
            "Epoch 5/5: 100%|██████████| 8/8 [00:00<00:00, 35.23it/s]\n"
          ]
        },
        {
          "name": "stdout",
          "output_type": "stream",
          "text": [
            "Slice 3/10 retrained for shard 7/10\n"
          ]
        },
        {
          "name": "stderr",
          "output_type": "stream",
          "text": [
            "Epoch 1/5: 100%|██████████| 8/8 [00:00<00:00, 34.41it/s]\n",
            "Epoch 2/5: 100%|██████████| 8/8 [00:00<00:00, 35.11it/s]\n",
            "Epoch 3/5: 100%|██████████| 8/8 [00:00<00:00, 35.30it/s]\n",
            "Epoch 4/5: 100%|██████████| 8/8 [00:00<00:00, 35.28it/s]\n",
            "Epoch 5/5: 100%|██████████| 8/8 [00:00<00:00, 35.30it/s]\n"
          ]
        },
        {
          "name": "stdout",
          "output_type": "stream",
          "text": [
            "Slice 4/10 retrained for shard 7/10\n"
          ]
        },
        {
          "name": "stderr",
          "output_type": "stream",
          "text": [
            "Epoch 1/5: 100%|██████████| 8/8 [00:00<00:00, 34.57it/s]\n",
            "Epoch 2/5: 100%|██████████| 8/8 [00:00<00:00, 35.26it/s]\n",
            "Epoch 3/5: 100%|██████████| 8/8 [00:00<00:00, 35.21it/s]\n",
            "Epoch 4/5: 100%|██████████| 8/8 [00:00<00:00, 35.31it/s]\n",
            "Epoch 5/5: 100%|██████████| 8/8 [00:00<00:00, 35.33it/s]\n"
          ]
        },
        {
          "name": "stdout",
          "output_type": "stream",
          "text": [
            "Slice 5/10 retrained for shard 7/10\n"
          ]
        },
        {
          "name": "stderr",
          "output_type": "stream",
          "text": [
            "Epoch 1/5: 100%|██████████| 8/8 [00:00<00:00, 34.33it/s]\n",
            "Epoch 2/5: 100%|██████████| 8/8 [00:00<00:00, 35.34it/s]\n",
            "Epoch 3/5: 100%|██████████| 8/8 [00:00<00:00, 35.32it/s]\n",
            "Epoch 4/5: 100%|██████████| 8/8 [00:00<00:00, 35.14it/s]\n",
            "Epoch 5/5: 100%|██████████| 8/8 [00:00<00:00, 35.31it/s]\n"
          ]
        },
        {
          "name": "stdout",
          "output_type": "stream",
          "text": [
            "Slice 6/10 retrained for shard 7/10\n"
          ]
        },
        {
          "name": "stderr",
          "output_type": "stream",
          "text": [
            "Epoch 1/5: 100%|██████████| 8/8 [00:00<00:00, 34.51it/s]\n",
            "Epoch 2/5: 100%|██████████| 8/8 [00:00<00:00, 35.42it/s]\n",
            "Epoch 3/5: 100%|██████████| 8/8 [00:00<00:00, 35.42it/s]\n",
            "Epoch 4/5: 100%|██████████| 8/8 [00:00<00:00, 35.28it/s]\n",
            "Epoch 5/5: 100%|██████████| 8/8 [00:00<00:00, 35.34it/s]\n"
          ]
        },
        {
          "name": "stdout",
          "output_type": "stream",
          "text": [
            "Slice 7/10 retrained for shard 7/10\n"
          ]
        },
        {
          "name": "stderr",
          "output_type": "stream",
          "text": [
            "Epoch 1/5: 100%|██████████| 8/8 [00:00<00:00, 34.40it/s]\n",
            "Epoch 2/5: 100%|██████████| 8/8 [00:00<00:00, 35.30it/s]\n",
            "Epoch 3/5: 100%|██████████| 8/8 [00:00<00:00, 35.19it/s]\n",
            "Epoch 4/5: 100%|██████████| 8/8 [00:00<00:00, 35.37it/s]\n",
            "Epoch 5/5: 100%|██████████| 8/8 [00:00<00:00, 35.33it/s]\n"
          ]
        },
        {
          "name": "stdout",
          "output_type": "stream",
          "text": [
            "Slice 8/10 retrained for shard 7/10\n"
          ]
        },
        {
          "name": "stderr",
          "output_type": "stream",
          "text": [
            "Epoch 1/5: 100%|██████████| 8/8 [00:00<00:00, 34.83it/s]\n",
            "Epoch 2/5: 100%|██████████| 8/8 [00:00<00:00, 35.23it/s]\n",
            "Epoch 3/5: 100%|██████████| 8/8 [00:00<00:00, 35.29it/s]\n",
            "Epoch 4/5: 100%|██████████| 8/8 [00:00<00:00, 35.27it/s]\n",
            "Epoch 5/5: 100%|██████████| 8/8 [00:00<00:00, 35.29it/s]\n"
          ]
        },
        {
          "name": "stdout",
          "output_type": "stream",
          "text": [
            "Slice 9/10 retrained for shard 7/10\n"
          ]
        },
        {
          "name": "stderr",
          "output_type": "stream",
          "text": [
            "Epoch 1/5: 100%|██████████| 8/8 [00:00<00:00, 34.28it/s]\n",
            "Epoch 2/5: 100%|██████████| 8/8 [00:00<00:00, 35.15it/s]\n",
            "Epoch 3/5: 100%|██████████| 8/8 [00:00<00:00, 35.20it/s]\n",
            "Epoch 4/5: 100%|██████████| 8/8 [00:00<00:00, 35.25it/s]\n",
            "Epoch 5/5: 100%|██████████| 8/8 [00:00<00:00, 35.26it/s]\n"
          ]
        },
        {
          "name": "stdout",
          "output_type": "stream",
          "text": [
            "Slice 10/10 retrained for shard 7/10\n",
            "Retraining shard 8/10 containing data to forget\n"
          ]
        },
        {
          "name": "stderr",
          "output_type": "stream",
          "text": [
            "Epoch 1/5: 100%|██████████| 8/8 [00:00<00:00, 34.33it/s]\n",
            "Epoch 2/5: 100%|██████████| 8/8 [00:00<00:00, 35.28it/s]\n",
            "Epoch 3/5: 100%|██████████| 8/8 [00:00<00:00, 35.31it/s]\n",
            "Epoch 4/5: 100%|██████████| 8/8 [00:00<00:00, 35.35it/s]\n",
            "Epoch 5/5: 100%|██████████| 8/8 [00:00<00:00, 35.33it/s]\n"
          ]
        },
        {
          "name": "stdout",
          "output_type": "stream",
          "text": [
            "Slice 1/10 retrained for shard 8/10\n"
          ]
        },
        {
          "name": "stderr",
          "output_type": "stream",
          "text": [
            "Epoch 1/5: 100%|██████████| 8/8 [00:00<00:00, 34.56it/s]\n",
            "Epoch 2/5: 100%|██████████| 8/8 [00:00<00:00, 35.33it/s]\n",
            "Epoch 3/5: 100%|██████████| 8/8 [00:00<00:00, 35.27it/s]\n",
            "Epoch 4/5: 100%|██████████| 8/8 [00:00<00:00, 35.37it/s]\n",
            "Epoch 5/5: 100%|██████████| 8/8 [00:00<00:00, 35.13it/s]\n"
          ]
        },
        {
          "name": "stdout",
          "output_type": "stream",
          "text": [
            "Slice 2/10 retrained for shard 8/10\n"
          ]
        },
        {
          "name": "stderr",
          "output_type": "stream",
          "text": [
            "Epoch 1/5: 100%|██████████| 8/8 [00:00<00:00, 34.51it/s]\n",
            "Epoch 2/5: 100%|██████████| 8/8 [00:00<00:00, 35.19it/s]\n",
            "Epoch 3/5: 100%|██████████| 8/8 [00:00<00:00, 35.35it/s]\n",
            "Epoch 4/5: 100%|██████████| 8/8 [00:00<00:00, 35.33it/s]\n",
            "Epoch 5/5: 100%|██████████| 8/8 [00:00<00:00, 35.29it/s]\n"
          ]
        },
        {
          "name": "stdout",
          "output_type": "stream",
          "text": [
            "Slice 3/10 retrained for shard 8/10\n"
          ]
        },
        {
          "name": "stderr",
          "output_type": "stream",
          "text": [
            "Epoch 1/5: 100%|██████████| 8/8 [00:00<00:00, 34.39it/s]\n",
            "Epoch 2/5: 100%|██████████| 8/8 [00:00<00:00, 35.24it/s]\n",
            "Epoch 3/5: 100%|██████████| 8/8 [00:00<00:00, 35.30it/s]\n",
            "Epoch 4/5: 100%|██████████| 8/8 [00:00<00:00, 35.29it/s]\n",
            "Epoch 5/5: 100%|██████████| 8/8 [00:00<00:00, 35.30it/s]\n"
          ]
        },
        {
          "name": "stdout",
          "output_type": "stream",
          "text": [
            "Slice 4/10 retrained for shard 8/10\n"
          ]
        },
        {
          "name": "stderr",
          "output_type": "stream",
          "text": [
            "Epoch 1/5: 100%|██████████| 8/8 [00:00<00:00, 34.48it/s]\n",
            "Epoch 2/5: 100%|██████████| 8/8 [00:00<00:00, 35.32it/s]\n",
            "Epoch 3/5: 100%|██████████| 8/8 [00:00<00:00, 35.34it/s]\n",
            "Epoch 4/5: 100%|██████████| 8/8 [00:00<00:00, 35.30it/s]\n",
            "Epoch 5/5: 100%|██████████| 8/8 [00:00<00:00, 35.31it/s]\n"
          ]
        },
        {
          "name": "stdout",
          "output_type": "stream",
          "text": [
            "Slice 5/10 retrained for shard 8/10\n"
          ]
        },
        {
          "name": "stderr",
          "output_type": "stream",
          "text": [
            "Epoch 1/5: 100%|██████████| 8/8 [00:00<00:00, 34.47it/s]\n",
            "Epoch 2/5: 100%|██████████| 8/8 [00:00<00:00, 35.31it/s]\n",
            "Epoch 3/5: 100%|██████████| 8/8 [00:00<00:00, 35.30it/s]\n",
            "Epoch 4/5: 100%|██████████| 8/8 [00:00<00:00, 35.30it/s]\n",
            "Epoch 5/5: 100%|██████████| 8/8 [00:00<00:00, 35.38it/s]\n"
          ]
        },
        {
          "name": "stdout",
          "output_type": "stream",
          "text": [
            "Slice 6/10 retrained for shard 8/10\n"
          ]
        },
        {
          "name": "stderr",
          "output_type": "stream",
          "text": [
            "Epoch 1/5: 100%|██████████| 8/8 [00:00<00:00, 34.63it/s]\n",
            "Epoch 2/5: 100%|██████████| 8/8 [00:00<00:00, 35.44it/s]\n",
            "Epoch 3/5: 100%|██████████| 8/8 [00:00<00:00, 35.35it/s]\n",
            "Epoch 4/5: 100%|██████████| 8/8 [00:00<00:00, 35.38it/s]\n",
            "Epoch 5/5: 100%|██████████| 8/8 [00:00<00:00, 35.31it/s]\n"
          ]
        },
        {
          "name": "stdout",
          "output_type": "stream",
          "text": [
            "Slice 7/10 retrained for shard 8/10\n"
          ]
        },
        {
          "name": "stderr",
          "output_type": "stream",
          "text": [
            "Epoch 1/5: 100%|██████████| 8/8 [00:00<00:00, 34.51it/s]\n",
            "Epoch 2/5: 100%|██████████| 8/8 [00:00<00:00, 35.41it/s]\n",
            "Epoch 3/5: 100%|██████████| 8/8 [00:00<00:00, 35.37it/s]\n",
            "Epoch 4/5: 100%|██████████| 8/8 [00:00<00:00, 35.36it/s]\n",
            "Epoch 5/5: 100%|██████████| 8/8 [00:00<00:00, 35.36it/s]\n"
          ]
        },
        {
          "name": "stdout",
          "output_type": "stream",
          "text": [
            "Slice 8/10 retrained for shard 8/10\n"
          ]
        },
        {
          "name": "stderr",
          "output_type": "stream",
          "text": [
            "Epoch 1/5: 100%|██████████| 8/8 [00:00<00:00, 34.56it/s]\n",
            "Epoch 2/5: 100%|██████████| 8/8 [00:00<00:00, 35.45it/s]\n",
            "Epoch 3/5: 100%|██████████| 8/8 [00:00<00:00, 35.41it/s]\n",
            "Epoch 4/5: 100%|██████████| 8/8 [00:00<00:00, 35.35it/s]\n",
            "Epoch 5/5: 100%|██████████| 8/8 [00:00<00:00, 35.44it/s]\n"
          ]
        },
        {
          "name": "stdout",
          "output_type": "stream",
          "text": [
            "Slice 9/10 retrained for shard 8/10\n"
          ]
        },
        {
          "name": "stderr",
          "output_type": "stream",
          "text": [
            "Epoch 1/5: 100%|██████████| 8/8 [00:00<00:00, 34.45it/s]\n",
            "Epoch 2/5: 100%|██████████| 8/8 [00:00<00:00, 35.36it/s]\n",
            "Epoch 3/5: 100%|██████████| 8/8 [00:00<00:00, 35.39it/s]\n",
            "Epoch 4/5: 100%|██████████| 8/8 [00:00<00:00, 35.47it/s]\n",
            "Epoch 5/5: 100%|██████████| 8/8 [00:00<00:00, 35.42it/s]\n"
          ]
        },
        {
          "name": "stdout",
          "output_type": "stream",
          "text": [
            "Slice 10/10 retrained for shard 8/10\n"
          ]
        },
        {
          "name": "stderr",
          "output_type": "stream",
          "text": [
            "Evaluating model: Shard 1/10, slice 1/10: 100%|██████████| 157/157 [00:02<00:00, 53.51it/s]\n",
            "Evaluating model: Shard 1/10, slice 2/10: 100%|██████████| 157/157 [00:02<00:00, 53.62it/s]\n",
            "Evaluating model: Shard 1/10, slice 3/10: 100%|██████████| 157/157 [00:02<00:00, 53.58it/s]\n",
            "Evaluating model: Shard 1/10, slice 4/10: 100%|██████████| 157/157 [00:02<00:00, 53.57it/s]\n",
            "Evaluating model: Shard 1/10, slice 5/10: 100%|██████████| 157/157 [00:02<00:00, 53.60it/s]\n",
            "Evaluating model: Shard 1/10, slice 6/10: 100%|██████████| 157/157 [00:02<00:00, 53.53it/s]\n",
            "Evaluating model: Shard 1/10, slice 7/10: 100%|██████████| 157/157 [00:02<00:00, 53.57it/s]\n",
            "Evaluating model: Shard 1/10, slice 8/10: 100%|██████████| 157/157 [00:02<00:00, 53.57it/s]\n",
            "Evaluating model: Shard 1/10, slice 9/10: 100%|██████████| 157/157 [00:02<00:00, 53.59it/s]\n",
            "Evaluating model: Shard 1/10, slice 10/10: 100%|██████████| 157/157 [00:02<00:00, 53.57it/s]\n",
            "Evaluating model: Shard 2/10, slice 1/10: 100%|██████████| 157/157 [00:02<00:00, 53.56it/s]\n",
            "Evaluating model: Shard 2/10, slice 2/10: 100%|██████████| 157/157 [00:02<00:00, 53.58it/s]\n",
            "Evaluating model: Shard 2/10, slice 3/10: 100%|██████████| 157/157 [00:02<00:00, 53.61it/s]\n",
            "Evaluating model: Shard 2/10, slice 4/10: 100%|██████████| 157/157 [00:02<00:00, 53.65it/s]\n",
            "Evaluating model: Shard 2/10, slice 5/10: 100%|██████████| 157/157 [00:02<00:00, 53.66it/s]\n",
            "Evaluating model: Shard 2/10, slice 6/10: 100%|██████████| 157/157 [00:02<00:00, 53.63it/s]\n",
            "Evaluating model: Shard 2/10, slice 7/10: 100%|██████████| 157/157 [00:02<00:00, 53.69it/s]\n",
            "Evaluating model: Shard 2/10, slice 8/10: 100%|██████████| 157/157 [00:02<00:00, 53.66it/s]\n",
            "Evaluating model: Shard 2/10, slice 9/10: 100%|██████████| 157/157 [00:02<00:00, 53.69it/s]\n",
            "Evaluating model: Shard 2/10, slice 10/10: 100%|██████████| 157/157 [00:02<00:00, 53.71it/s]\n",
            "Evaluating model: Shard 3/10, slice 1/10: 100%|██████████| 157/157 [00:02<00:00, 53.70it/s]\n",
            "Evaluating model: Shard 3/10, slice 2/10: 100%|██████████| 157/157 [00:02<00:00, 53.64it/s]\n",
            "Evaluating model: Shard 3/10, slice 3/10: 100%|██████████| 157/157 [00:02<00:00, 53.63it/s]\n",
            "Evaluating model: Shard 3/10, slice 4/10: 100%|██████████| 157/157 [00:02<00:00, 53.64it/s]\n",
            "Evaluating model: Shard 3/10, slice 5/10: 100%|██████████| 157/157 [00:02<00:00, 53.68it/s]\n",
            "Evaluating model: Shard 3/10, slice 6/10: 100%|██████████| 157/157 [00:02<00:00, 53.66it/s]\n",
            "Evaluating model: Shard 3/10, slice 7/10: 100%|██████████| 157/157 [00:02<00:00, 53.67it/s]\n",
            "Evaluating model: Shard 3/10, slice 8/10: 100%|██████████| 157/157 [00:02<00:00, 53.65it/s]\n",
            "Evaluating model: Shard 3/10, slice 9/10: 100%|██████████| 157/157 [00:02<00:00, 53.67it/s]\n",
            "Evaluating model: Shard 3/10, slice 10/10: 100%|██████████| 157/157 [00:02<00:00, 53.67it/s]\n",
            "Evaluating model: Shard 4/10, slice 1/10: 100%|██████████| 157/157 [00:02<00:00, 53.71it/s]\n",
            "Evaluating model: Shard 4/10, slice 2/10: 100%|██████████| 157/157 [00:02<00:00, 53.70it/s]\n",
            "Evaluating model: Shard 4/10, slice 3/10: 100%|██████████| 157/157 [00:02<00:00, 53.65it/s]\n",
            "Evaluating model: Shard 4/10, slice 4/10: 100%|██████████| 157/157 [00:02<00:00, 53.66it/s]\n",
            "Evaluating model: Shard 4/10, slice 5/10: 100%|██████████| 157/157 [00:02<00:00, 53.70it/s]\n",
            "Evaluating model: Shard 4/10, slice 6/10: 100%|██████████| 157/157 [00:02<00:00, 53.69it/s]\n",
            "Evaluating model: Shard 4/10, slice 7/10: 100%|██████████| 157/157 [00:02<00:00, 53.67it/s]\n",
            "Evaluating model: Shard 4/10, slice 8/10: 100%|██████████| 157/157 [00:02<00:00, 53.66it/s]\n",
            "Evaluating model: Shard 4/10, slice 9/10: 100%|██████████| 157/157 [00:02<00:00, 53.66it/s]\n",
            "Evaluating model: Shard 4/10, slice 10/10: 100%|██████████| 157/157 [00:02<00:00, 53.62it/s]\n",
            "Evaluating model: Shard 5/10, slice 1/10: 100%|██████████| 157/157 [00:02<00:00, 53.70it/s]\n",
            "Evaluating model: Shard 5/10, slice 2/10: 100%|██████████| 157/157 [00:02<00:00, 53.68it/s]\n",
            "Evaluating model: Shard 5/10, slice 3/10: 100%|██████████| 157/157 [00:02<00:00, 53.71it/s]\n",
            "Evaluating model: Shard 5/10, slice 4/10: 100%|██████████| 157/157 [00:02<00:00, 53.73it/s]\n",
            "Evaluating model: Shard 5/10, slice 5/10: 100%|██████████| 157/157 [00:02<00:00, 53.72it/s]\n",
            "Evaluating model: Shard 5/10, slice 6/10: 100%|██████████| 157/157 [00:02<00:00, 53.73it/s]\n",
            "Evaluating model: Shard 5/10, slice 7/10: 100%|██████████| 157/157 [00:02<00:00, 53.73it/s]\n",
            "Evaluating model: Shard 5/10, slice 8/10: 100%|██████████| 157/157 [00:02<00:00, 53.68it/s]\n",
            "Evaluating model: Shard 5/10, slice 9/10: 100%|██████████| 157/157 [00:02<00:00, 53.69it/s]\n",
            "Evaluating model: Shard 5/10, slice 10/10: 100%|██████████| 157/157 [00:02<00:00, 53.67it/s]\n",
            "Evaluating model: Shard 6/10, slice 1/10: 100%|██████████| 157/157 [00:02<00:00, 53.59it/s]\n",
            "Evaluating model: Shard 6/10, slice 2/10: 100%|██████████| 157/157 [00:02<00:00, 53.40it/s]\n",
            "Evaluating model: Shard 6/10, slice 3/10: 100%|██████████| 157/157 [00:02<00:00, 53.45it/s]\n",
            "Evaluating model: Shard 6/10, slice 4/10: 100%|██████████| 157/157 [00:02<00:00, 53.56it/s]\n",
            "Evaluating model: Shard 6/10, slice 5/10: 100%|██████████| 157/157 [00:02<00:00, 53.57it/s]\n",
            "Evaluating model: Shard 6/10, slice 6/10: 100%|██████████| 157/157 [00:02<00:00, 53.64it/s]\n",
            "Evaluating model: Shard 6/10, slice 7/10: 100%|██████████| 157/157 [00:02<00:00, 53.62it/s]\n",
            "Evaluating model: Shard 6/10, slice 8/10: 100%|██████████| 157/157 [00:02<00:00, 53.58it/s]\n",
            "Evaluating model: Shard 6/10, slice 9/10: 100%|██████████| 157/157 [00:02<00:00, 53.58it/s]\n",
            "Evaluating model: Shard 6/10, slice 10/10: 100%|██████████| 157/157 [00:02<00:00, 53.57it/s]\n",
            "Evaluating model: Shard 7/10, slice 1/10: 100%|██████████| 157/157 [00:02<00:00, 53.57it/s]\n",
            "Evaluating model: Shard 7/10, slice 2/10: 100%|██████████| 157/157 [00:02<00:00, 53.56it/s]\n",
            "Evaluating model: Shard 7/10, slice 3/10: 100%|██████████| 157/157 [00:02<00:00, 53.59it/s]\n",
            "Evaluating model: Shard 7/10, slice 4/10: 100%|██████████| 157/157 [00:02<00:00, 53.60it/s]\n",
            "Evaluating model: Shard 7/10, slice 5/10: 100%|██████████| 157/157 [00:02<00:00, 53.66it/s]\n",
            "Evaluating model: Shard 7/10, slice 6/10: 100%|██████████| 157/157 [00:02<00:00, 53.64it/s]\n",
            "Evaluating model: Shard 7/10, slice 7/10: 100%|██████████| 157/157 [00:02<00:00, 53.63it/s]\n",
            "Evaluating model: Shard 7/10, slice 8/10: 100%|██████████| 157/157 [00:02<00:00, 53.67it/s]\n",
            "Evaluating model: Shard 7/10, slice 9/10: 100%|██████████| 157/157 [00:02<00:00, 53.63it/s]\n",
            "Evaluating model: Shard 7/10, slice 10/10: 100%|██████████| 157/157 [00:02<00:00, 53.63it/s]\n",
            "Evaluating model: Shard 8/10, slice 1/10: 100%|██████████| 157/157 [00:02<00:00, 53.68it/s]\n",
            "Evaluating model: Shard 8/10, slice 2/10: 100%|██████████| 157/157 [00:02<00:00, 53.67it/s]\n",
            "Evaluating model: Shard 8/10, slice 3/10: 100%|██████████| 157/157 [00:02<00:00, 53.67it/s]\n",
            "Evaluating model: Shard 8/10, slice 4/10: 100%|██████████| 157/157 [00:02<00:00, 53.63it/s]\n",
            "Evaluating model: Shard 8/10, slice 5/10: 100%|██████████| 157/157 [00:02<00:00, 53.65it/s]\n",
            "Evaluating model: Shard 8/10, slice 6/10: 100%|██████████| 157/157 [00:02<00:00, 53.77it/s]\n",
            "Evaluating model: Shard 8/10, slice 7/10: 100%|██████████| 157/157 [00:02<00:00, 53.74it/s]\n",
            "Evaluating model: Shard 8/10, slice 8/10: 100%|██████████| 157/157 [00:02<00:00, 53.70it/s]\n",
            "Evaluating model: Shard 8/10, slice 9/10: 100%|██████████| 157/157 [00:02<00:00, 53.70it/s]\n",
            "Evaluating model: Shard 8/10, slice 10/10: 100%|██████████| 157/157 [00:02<00:00, 53.73it/s]\n",
            "Evaluating model: Shard 9/10, slice 1/10: 100%|██████████| 157/157 [00:02<00:00, 53.72it/s]\n",
            "Evaluating model: Shard 9/10, slice 2/10: 100%|██████████| 157/157 [00:02<00:00, 53.70it/s]\n",
            "Evaluating model: Shard 9/10, slice 3/10: 100%|██████████| 157/157 [00:02<00:00, 53.71it/s]\n",
            "Evaluating model: Shard 9/10, slice 4/10: 100%|██████████| 157/157 [00:02<00:00, 53.76it/s]\n",
            "Evaluating model: Shard 9/10, slice 5/10: 100%|██████████| 157/157 [00:02<00:00, 53.75it/s]\n",
            "Evaluating model: Shard 9/10, slice 6/10: 100%|██████████| 157/157 [00:02<00:00, 53.72it/s]\n",
            "Evaluating model: Shard 9/10, slice 7/10: 100%|██████████| 157/157 [00:02<00:00, 53.72it/s]\n",
            "Evaluating model: Shard 9/10, slice 8/10: 100%|██████████| 157/157 [00:02<00:00, 53.72it/s]\n",
            "Evaluating model: Shard 9/10, slice 9/10: 100%|██████████| 157/157 [00:02<00:00, 53.70it/s]\n",
            "Evaluating model: Shard 9/10, slice 10/10: 100%|██████████| 157/157 [00:02<00:00, 53.71it/s]\n",
            "Evaluating model: Shard 10/10, slice 1/10: 100%|██████████| 157/157 [00:02<00:00, 53.70it/s]\n",
            "Evaluating model: Shard 10/10, slice 2/10: 100%|██████████| 157/157 [00:02<00:00, 53.69it/s]\n",
            "Evaluating model: Shard 10/10, slice 3/10: 100%|██████████| 157/157 [00:02<00:00, 53.74it/s]\n",
            "Evaluating model: Shard 10/10, slice 4/10: 100%|██████████| 157/157 [00:02<00:00, 53.72it/s]\n",
            "Evaluating model: Shard 10/10, slice 5/10: 100%|██████████| 157/157 [00:02<00:00, 53.73it/s]\n",
            "Evaluating model: Shard 10/10, slice 6/10: 100%|██████████| 157/157 [00:02<00:00, 53.73it/s]\n",
            "Evaluating model: Shard 10/10, slice 7/10: 100%|██████████| 157/157 [00:02<00:00, 53.73it/s]\n",
            "Evaluating model: Shard 10/10, slice 8/10: 100%|██████████| 157/157 [00:02<00:00, 53.69it/s]\n",
            "Evaluating model: Shard 10/10, slice 9/10: 100%|██████████| 157/157 [00:02<00:00, 53.72it/s]\n",
            "Evaluating model: Shard 10/10, slice 10/10: 100%|██████████| 157/157 [00:02<00:00, 53.77it/s]\n"
          ]
        }
      ],
      "source": [
        "S = 10\n",
        "R = 10\n",
        "shards = create_shards(train_dataset, S)\n",
        "shard_models = sisa_train(shards, R, num_epochs, initial_model, criterion, optimizer_fn)\n",
        "\n",
        "test_loader = data.DataLoader(test_dataset, batch_size=64, shuffle=False)\n",
        "\n",
        "accuracy, precision, recall, f1, auroc = evaluate_models(shard_models, test_loader)\n",
        "results.append((S, R, \"Majority Voting\", accuracy, precision, recall, f1, auroc))\n",
        "\n",
        "if accuracy > best_accuracy:\n",
        "    best_accuracy = accuracy\n",
        "    best_model = shard_models\n",
        "    best_result = (S, R, accuracy, precision, recall, f1, auroc)\n",
        "\n",
        "# Perform unlearning\n",
        "data_to_forget_indices = np.random.choice(len(train_data), 500, replace=False)\n",
        "shard_models_unlearned = sisa_unlearn(shards, R, shard_models, initial_model, criterion, optimizer_fn, data_to_forget_indices)\n",
        "\n",
        "accuracy, precision, recall, f1, auroc = evaluate_models(shard_models_unlearned, test_loader)\n",
        "results_unlearning.append((S, R, \"Majority Voting\" + \" (Unlearned)\", accuracy, precision, recall, f1, auroc))\n",
        "\n",
        "if accuracy > best_accuracy_unlearned:\n",
        "    best_accuracy_unlearned = accuracy\n",
        "    best_model_unlearned = shard_models_unlearned\n",
        "    best_result_unlearned = (S, R, accuracy, precision, recall, f1, auroc)\n",
        "\n",
        "clear_CUDA()"
      ]
    },
    {
      "cell_type": "code",
      "execution_count": 19,
      "metadata": {},
      "outputs": [],
      "source": [
        "clear_CUDA()"
      ]
    },
    {
      "cell_type": "code",
      "execution_count": 20,
      "metadata": {
        "collapsed": true,
        "id": "3r_XI3v0ErlY",
        "outputId": "fa9a7611-2d26-4960-c217-0a35299d3721"
      },
      "outputs": [],
      "source": [
        "# S = 10\n",
        "# R = 20\n",
        "# shards = create_shards(train_dataset, S)\n",
        "# shard_models = sisa_train(shards, R, num_epochs, initial_model, criterion, optimizer_fn)\n",
        "\n",
        "# test_loader = data.DataLoader(test_dataset, batch_size=64, shuffle=False)\n",
        "\n",
        "# accuracy, precision, recall, f1, auroc = evaluate_models(shard_models, test_loader)\n",
        "# results.append((S, R, \"Majority Voting\", accuracy, precision, recall, f1, auroc))\n",
        "\n",
        "# if accuracy > best_accuracy:\n",
        "#     best_accuracy = accuracy\n",
        "#     best_model = shard_models\n",
        "#     best_result = (S, R, accuracy, precision, recall, f1, auroc)\n",
        "\n",
        "# # Perform unlearning\n",
        "# data_to_forget_indices = np.random.choice(len(train_data), 500, replace=False)\n",
        "# shard_models_unlearned = sisa_unlearn(shards, R, shard_models, initial_model, criterion, optimizer_fn, data_to_forget_indices)\n",
        "\n",
        "# accuracy, precision, recall, f1, auroc = evaluate_models(shard_models_unlearned, test_loader)\n",
        "# results_unlearning.append((S, R, \"Majority Voting\" + \" (Unlearned)\", accuracy, precision, recall, f1, auroc))\n",
        "\n",
        "# if accuracy > best_accuracy_unlearned:\n",
        "#     best_accuracy_unlearned = accuracy\n",
        "#     best_model_unlearned = shard_models_unlearned\n",
        "#     best_result_unlearned = (S, R, accuracy, precision, recall, f1, auroc)\n",
        "\n",
        "# clear_CUDA()"
      ]
    },
    {
      "cell_type": "code",
      "execution_count": 21,
      "metadata": {},
      "outputs": [],
      "source": [
        "clear_CUDA()"
      ]
    },
    {
      "cell_type": "code",
      "execution_count": 22,
      "metadata": {
        "collapsed": true,
        "id": "TDi12giRErlY",
        "outputId": "bacbf2eb-6018-4402-f7c8-ae02487c3cd4"
      },
      "outputs": [
        {
          "name": "stdout",
          "output_type": "stream",
          "text": [
            "Training shard 1/20, slice 1/5\n"
          ]
        },
        {
          "name": "stderr",
          "output_type": "stream",
          "text": [
            "Epoch 1/5:  88%|████████▊ | 7/8 [00:00<00:00, 31.75it/s]"
          ]
        },
        {
          "name": "stderr",
          "output_type": "stream",
          "text": [
            "Epoch 1/5: 100%|██████████| 8/8 [00:00<00:00, 31.85it/s]\n",
            "Epoch 2/5: 100%|██████████| 8/8 [00:00<00:00, 34.97it/s]\n",
            "Epoch 3/5: 100%|██████████| 8/8 [00:00<00:00, 34.87it/s]\n",
            "Epoch 4/5: 100%|██████████| 8/8 [00:00<00:00, 35.08it/s]\n",
            "Epoch 5/5: 100%|██████████| 8/8 [00:00<00:00, 35.02it/s]\n"
          ]
        },
        {
          "name": "stdout",
          "output_type": "stream",
          "text": [
            "Training shard 1/20, slice 2/5\n"
          ]
        },
        {
          "name": "stderr",
          "output_type": "stream",
          "text": [
            "Epoch 1/5: 100%|██████████| 8/8 [00:00<00:00, 34.71it/s]\n",
            "Epoch 2/5: 100%|██████████| 8/8 [00:00<00:00, 35.01it/s]\n",
            "Epoch 3/5: 100%|██████████| 8/8 [00:00<00:00, 34.99it/s]\n",
            "Epoch 4/5: 100%|██████████| 8/8 [00:00<00:00, 34.92it/s]\n",
            "Epoch 5/5: 100%|██████████| 8/8 [00:00<00:00, 35.06it/s]\n"
          ]
        },
        {
          "name": "stdout",
          "output_type": "stream",
          "text": [
            "Training shard 1/20, slice 3/5\n"
          ]
        },
        {
          "name": "stderr",
          "output_type": "stream",
          "text": [
            "Epoch 1/5: 100%|██████████| 8/8 [00:00<00:00, 34.76it/s]\n",
            "Epoch 2/5: 100%|██████████| 8/8 [00:00<00:00, 35.13it/s]\n",
            "Epoch 3/5: 100%|██████████| 8/8 [00:00<00:00, 35.07it/s]\n",
            "Epoch 4/5: 100%|██████████| 8/8 [00:00<00:00, 35.15it/s]\n",
            "Epoch 5/5: 100%|██████████| 8/8 [00:00<00:00, 35.09it/s]\n"
          ]
        },
        {
          "name": "stdout",
          "output_type": "stream",
          "text": [
            "Training shard 1/20, slice 4/5\n"
          ]
        },
        {
          "name": "stderr",
          "output_type": "stream",
          "text": [
            "Epoch 1/5: 100%|██████████| 8/8 [00:00<00:00, 34.68it/s]\n",
            "Epoch 2/5: 100%|██████████| 8/8 [00:00<00:00, 35.01it/s]\n",
            "Epoch 3/5: 100%|██████████| 8/8 [00:00<00:00, 35.03it/s]\n",
            "Epoch 4/5: 100%|██████████| 8/8 [00:00<00:00, 35.15it/s]\n",
            "Epoch 5/5: 100%|██████████| 8/8 [00:00<00:00, 35.00it/s]\n"
          ]
        },
        {
          "name": "stdout",
          "output_type": "stream",
          "text": [
            "Training shard 1/20, slice 5/5\n"
          ]
        },
        {
          "name": "stderr",
          "output_type": "stream",
          "text": [
            "Epoch 1/5: 100%|██████████| 8/8 [00:00<00:00, 34.74it/s]\n",
            "Epoch 2/5: 100%|██████████| 8/8 [00:00<00:00, 35.08it/s]\n",
            "Epoch 3/5: 100%|██████████| 8/8 [00:00<00:00, 35.05it/s]\n",
            "Epoch 4/5: 100%|██████████| 8/8 [00:00<00:00, 35.10it/s]\n",
            "Epoch 5/5: 100%|██████████| 8/8 [00:00<00:00, 35.20it/s]\n"
          ]
        },
        {
          "name": "stdout",
          "output_type": "stream",
          "text": [
            "Training shard 2/20, slice 1/5\n"
          ]
        },
        {
          "name": "stderr",
          "output_type": "stream",
          "text": [
            "Epoch 1/5: 100%|██████████| 8/8 [00:00<00:00, 34.79it/s]\n",
            "Epoch 2/5: 100%|██████████| 8/8 [00:00<00:00, 35.09it/s]\n",
            "Epoch 3/5: 100%|██████████| 8/8 [00:00<00:00, 35.15it/s]\n",
            "Epoch 4/5: 100%|██████████| 8/8 [00:00<00:00, 35.18it/s]\n",
            "Epoch 5/5: 100%|██████████| 8/8 [00:00<00:00, 35.19it/s]\n"
          ]
        },
        {
          "name": "stdout",
          "output_type": "stream",
          "text": [
            "Training shard 2/20, slice 2/5\n"
          ]
        },
        {
          "name": "stderr",
          "output_type": "stream",
          "text": [
            "Epoch 1/5: 100%|██████████| 8/8 [00:00<00:00, 34.79it/s]\n",
            "Epoch 2/5: 100%|██████████| 8/8 [00:00<00:00, 35.13it/s]\n",
            "Epoch 3/5: 100%|██████████| 8/8 [00:00<00:00, 35.03it/s]\n",
            "Epoch 4/5: 100%|██████████| 8/8 [00:00<00:00, 35.07it/s]\n",
            "Epoch 5/5: 100%|██████████| 8/8 [00:00<00:00, 35.21it/s]\n"
          ]
        },
        {
          "name": "stdout",
          "output_type": "stream",
          "text": [
            "Training shard 2/20, slice 3/5\n"
          ]
        },
        {
          "name": "stderr",
          "output_type": "stream",
          "text": [
            "Epoch 1/5: 100%|██████████| 8/8 [00:00<00:00, 34.78it/s]\n",
            "Epoch 2/5: 100%|██████████| 8/8 [00:00<00:00, 35.17it/s]\n",
            "Epoch 3/5: 100%|██████████| 8/8 [00:00<00:00, 35.21it/s]\n",
            "Epoch 4/5: 100%|██████████| 8/8 [00:00<00:00, 35.19it/s]\n",
            "Epoch 5/5: 100%|██████████| 8/8 [00:00<00:00, 35.18it/s]\n"
          ]
        },
        {
          "name": "stdout",
          "output_type": "stream",
          "text": [
            "Training shard 2/20, slice 4/5\n"
          ]
        },
        {
          "name": "stderr",
          "output_type": "stream",
          "text": [
            "Epoch 1/5: 100%|██████████| 8/8 [00:00<00:00, 34.84it/s]\n",
            "Epoch 2/5: 100%|██████████| 8/8 [00:00<00:00, 35.15it/s]\n",
            "Epoch 3/5: 100%|██████████| 8/8 [00:00<00:00, 35.29it/s]\n",
            "Epoch 4/5: 100%|██████████| 8/8 [00:00<00:00, 35.17it/s]\n",
            "Epoch 5/5: 100%|██████████| 8/8 [00:00<00:00, 35.19it/s]\n"
          ]
        },
        {
          "name": "stdout",
          "output_type": "stream",
          "text": [
            "Training shard 2/20, slice 5/5\n"
          ]
        },
        {
          "name": "stderr",
          "output_type": "stream",
          "text": [
            "Epoch 1/5: 100%|██████████| 8/8 [00:00<00:00, 34.88it/s]\n",
            "Epoch 2/5: 100%|██████████| 8/8 [00:00<00:00, 35.17it/s]\n",
            "Epoch 3/5: 100%|██████████| 8/8 [00:00<00:00, 35.18it/s]\n",
            "Epoch 4/5: 100%|██████████| 8/8 [00:00<00:00, 35.19it/s]\n",
            "Epoch 5/5: 100%|██████████| 8/8 [00:00<00:00, 35.17it/s]\n"
          ]
        },
        {
          "name": "stdout",
          "output_type": "stream",
          "text": [
            "Training shard 3/20, slice 1/5\n"
          ]
        },
        {
          "name": "stderr",
          "output_type": "stream",
          "text": [
            "Epoch 1/5: 100%|██████████| 8/8 [00:00<00:00, 34.89it/s]\n",
            "Epoch 2/5: 100%|██████████| 8/8 [00:00<00:00, 35.16it/s]\n",
            "Epoch 3/5: 100%|██████████| 8/8 [00:00<00:00, 35.18it/s]\n",
            "Epoch 4/5: 100%|██████████| 8/8 [00:00<00:00, 35.20it/s]\n",
            "Epoch 5/5: 100%|██████████| 8/8 [00:00<00:00, 35.17it/s]\n"
          ]
        },
        {
          "name": "stdout",
          "output_type": "stream",
          "text": [
            "Training shard 3/20, slice 2/5\n"
          ]
        },
        {
          "name": "stderr",
          "output_type": "stream",
          "text": [
            "Epoch 1/5: 100%|██████████| 8/8 [00:00<00:00, 34.97it/s]\n",
            "Epoch 2/5: 100%|██████████| 8/8 [00:00<00:00, 35.24it/s]\n",
            "Epoch 3/5: 100%|██████████| 8/8 [00:00<00:00, 35.29it/s]\n",
            "Epoch 4/5: 100%|██████████| 8/8 [00:00<00:00, 35.26it/s]\n",
            "Epoch 5/5: 100%|██████████| 8/8 [00:00<00:00, 35.25it/s]\n"
          ]
        },
        {
          "name": "stdout",
          "output_type": "stream",
          "text": [
            "Training shard 3/20, slice 3/5\n"
          ]
        },
        {
          "name": "stderr",
          "output_type": "stream",
          "text": [
            "Epoch 1/5: 100%|██████████| 8/8 [00:00<00:00, 35.07it/s]\n",
            "Epoch 2/5: 100%|██████████| 8/8 [00:00<00:00, 35.41it/s]\n",
            "Epoch 3/5: 100%|██████████| 8/8 [00:00<00:00, 35.29it/s]\n",
            "Epoch 4/5: 100%|██████████| 8/8 [00:00<00:00, 35.31it/s]\n",
            "Epoch 5/5: 100%|██████████| 8/8 [00:00<00:00, 35.34it/s]\n"
          ]
        },
        {
          "name": "stdout",
          "output_type": "stream",
          "text": [
            "Training shard 3/20, slice 4/5\n"
          ]
        },
        {
          "name": "stderr",
          "output_type": "stream",
          "text": [
            "Epoch 1/5: 100%|██████████| 8/8 [00:00<00:00, 34.95it/s]\n",
            "Epoch 2/5: 100%|██████████| 8/8 [00:00<00:00, 35.37it/s]\n",
            "Epoch 3/5: 100%|██████████| 8/8 [00:00<00:00, 35.30it/s]\n",
            "Epoch 4/5: 100%|██████████| 8/8 [00:00<00:00, 35.31it/s]\n",
            "Epoch 5/5: 100%|██████████| 8/8 [00:00<00:00, 35.26it/s]\n"
          ]
        },
        {
          "name": "stdout",
          "output_type": "stream",
          "text": [
            "Training shard 3/20, slice 5/5\n"
          ]
        },
        {
          "name": "stderr",
          "output_type": "stream",
          "text": [
            "Epoch 1/5: 100%|██████████| 8/8 [00:00<00:00, 35.02it/s]\n",
            "Epoch 2/5: 100%|██████████| 8/8 [00:00<00:00, 35.36it/s]\n",
            "Epoch 3/5: 100%|██████████| 8/8 [00:00<00:00, 35.34it/s]\n",
            "Epoch 4/5: 100%|██████████| 8/8 [00:00<00:00, 35.43it/s]\n",
            "Epoch 5/5: 100%|██████████| 8/8 [00:00<00:00, 35.35it/s]\n"
          ]
        },
        {
          "name": "stdout",
          "output_type": "stream",
          "text": [
            "Training shard 4/20, slice 1/5\n"
          ]
        },
        {
          "name": "stderr",
          "output_type": "stream",
          "text": [
            "Epoch 1/5: 100%|██████████| 8/8 [00:00<00:00, 35.01it/s]\n",
            "Epoch 2/5: 100%|██████████| 8/8 [00:00<00:00, 35.40it/s]\n",
            "Epoch 3/5: 100%|██████████| 8/8 [00:00<00:00, 35.34it/s]\n",
            "Epoch 4/5: 100%|██████████| 8/8 [00:00<00:00, 35.29it/s]\n",
            "Epoch 5/5: 100%|██████████| 8/8 [00:00<00:00, 35.49it/s]\n"
          ]
        },
        {
          "name": "stdout",
          "output_type": "stream",
          "text": [
            "Training shard 4/20, slice 2/5\n"
          ]
        },
        {
          "name": "stderr",
          "output_type": "stream",
          "text": [
            "Epoch 1/5: 100%|██████████| 8/8 [00:00<00:00, 35.04it/s]\n",
            "Epoch 2/5: 100%|██████████| 8/8 [00:00<00:00, 35.35it/s]\n",
            "Epoch 3/5: 100%|██████████| 8/8 [00:00<00:00, 35.40it/s]\n",
            "Epoch 4/5: 100%|██████████| 8/8 [00:00<00:00, 35.32it/s]\n",
            "Epoch 5/5: 100%|██████████| 8/8 [00:00<00:00, 35.34it/s]\n"
          ]
        },
        {
          "name": "stdout",
          "output_type": "stream",
          "text": [
            "Training shard 4/20, slice 3/5\n"
          ]
        },
        {
          "name": "stderr",
          "output_type": "stream",
          "text": [
            "Epoch 1/5: 100%|██████████| 8/8 [00:00<00:00, 35.00it/s]\n",
            "Epoch 2/5: 100%|██████████| 8/8 [00:00<00:00, 35.37it/s]\n",
            "Epoch 3/5: 100%|██████████| 8/8 [00:00<00:00, 35.33it/s]\n",
            "Epoch 4/5: 100%|██████████| 8/8 [00:00<00:00, 35.32it/s]\n",
            "Epoch 5/5: 100%|██████████| 8/8 [00:00<00:00, 35.34it/s]\n"
          ]
        },
        {
          "name": "stdout",
          "output_type": "stream",
          "text": [
            "Training shard 4/20, slice 4/5\n"
          ]
        },
        {
          "name": "stderr",
          "output_type": "stream",
          "text": [
            "Epoch 1/5: 100%|██████████| 8/8 [00:00<00:00, 34.96it/s]\n",
            "Epoch 2/5: 100%|██████████| 8/8 [00:00<00:00, 35.37it/s]\n",
            "Epoch 3/5: 100%|██████████| 8/8 [00:00<00:00, 35.44it/s]\n",
            "Epoch 4/5: 100%|██████████| 8/8 [00:00<00:00, 35.33it/s]\n",
            "Epoch 5/5: 100%|██████████| 8/8 [00:00<00:00, 35.44it/s]\n"
          ]
        },
        {
          "name": "stdout",
          "output_type": "stream",
          "text": [
            "Training shard 4/20, slice 5/5\n"
          ]
        },
        {
          "name": "stderr",
          "output_type": "stream",
          "text": [
            "Epoch 1/5: 100%|██████████| 8/8 [00:00<00:00, 34.95it/s]\n",
            "Epoch 2/5: 100%|██████████| 8/8 [00:00<00:00, 35.43it/s]\n",
            "Epoch 3/5: 100%|██████████| 8/8 [00:00<00:00, 35.33it/s]\n",
            "Epoch 4/5: 100%|██████████| 8/8 [00:00<00:00, 35.36it/s]\n",
            "Epoch 5/5: 100%|██████████| 8/8 [00:00<00:00, 35.41it/s]\n"
          ]
        },
        {
          "name": "stdout",
          "output_type": "stream",
          "text": [
            "Training shard 5/20, slice 1/5\n"
          ]
        },
        {
          "name": "stderr",
          "output_type": "stream",
          "text": [
            "Epoch 1/5: 100%|██████████| 8/8 [00:00<00:00, 34.88it/s]\n",
            "Epoch 2/5: 100%|██████████| 8/8 [00:00<00:00, 35.23it/s]\n",
            "Epoch 3/5: 100%|██████████| 8/8 [00:00<00:00, 35.41it/s]\n",
            "Epoch 4/5: 100%|██████████| 8/8 [00:00<00:00, 35.38it/s]\n",
            "Epoch 5/5: 100%|██████████| 8/8 [00:00<00:00, 35.42it/s]\n"
          ]
        },
        {
          "name": "stdout",
          "output_type": "stream",
          "text": [
            "Training shard 5/20, slice 2/5\n"
          ]
        },
        {
          "name": "stderr",
          "output_type": "stream",
          "text": [
            "Epoch 1/5: 100%|██████████| 8/8 [00:00<00:00, 34.76it/s]\n",
            "Epoch 2/5: 100%|██████████| 8/8 [00:00<00:00, 35.37it/s]\n",
            "Epoch 3/5: 100%|██████████| 8/8 [00:00<00:00, 35.38it/s]\n",
            "Epoch 4/5: 100%|██████████| 8/8 [00:00<00:00, 35.32it/s]\n",
            "Epoch 5/5: 100%|██████████| 8/8 [00:00<00:00, 35.43it/s]\n"
          ]
        },
        {
          "name": "stdout",
          "output_type": "stream",
          "text": [
            "Training shard 5/20, slice 3/5\n"
          ]
        },
        {
          "name": "stderr",
          "output_type": "stream",
          "text": [
            "Epoch 1/5: 100%|██████████| 8/8 [00:00<00:00, 34.80it/s]\n",
            "Epoch 2/5: 100%|██████████| 8/8 [00:00<00:00, 35.43it/s]\n",
            "Epoch 3/5: 100%|██████████| 8/8 [00:00<00:00, 35.42it/s]\n",
            "Epoch 4/5: 100%|██████████| 8/8 [00:00<00:00, 35.39it/s]\n",
            "Epoch 5/5: 100%|██████████| 8/8 [00:00<00:00, 35.34it/s]\n"
          ]
        },
        {
          "name": "stdout",
          "output_type": "stream",
          "text": [
            "Training shard 5/20, slice 4/5\n"
          ]
        },
        {
          "name": "stderr",
          "output_type": "stream",
          "text": [
            "Epoch 1/5: 100%|██████████| 8/8 [00:00<00:00, 34.78it/s]\n",
            "Epoch 2/5: 100%|██████████| 8/8 [00:00<00:00, 35.45it/s]\n",
            "Epoch 3/5: 100%|██████████| 8/8 [00:00<00:00, 35.46it/s]\n",
            "Epoch 4/5: 100%|██████████| 8/8 [00:00<00:00, 35.43it/s]\n",
            "Epoch 5/5: 100%|██████████| 8/8 [00:00<00:00, 35.41it/s]\n"
          ]
        },
        {
          "name": "stdout",
          "output_type": "stream",
          "text": [
            "Training shard 5/20, slice 5/5\n"
          ]
        },
        {
          "name": "stderr",
          "output_type": "stream",
          "text": [
            "Epoch 1/5: 100%|██████████| 8/8 [00:00<00:00, 34.66it/s]\n",
            "Epoch 2/5: 100%|██████████| 8/8 [00:00<00:00, 35.43it/s]\n",
            "Epoch 3/5: 100%|██████████| 8/8 [00:00<00:00, 35.50it/s]\n",
            "Epoch 4/5: 100%|██████████| 8/8 [00:00<00:00, 35.47it/s]\n",
            "Epoch 5/5: 100%|██████████| 8/8 [00:00<00:00, 35.43it/s]\n"
          ]
        },
        {
          "name": "stdout",
          "output_type": "stream",
          "text": [
            "Training shard 6/20, slice 1/5\n"
          ]
        },
        {
          "name": "stderr",
          "output_type": "stream",
          "text": [
            "Epoch 1/5: 100%|██████████| 8/8 [00:00<00:00, 34.60it/s]\n",
            "Epoch 2/5: 100%|██████████| 8/8 [00:00<00:00, 35.37it/s]\n",
            "Epoch 3/5: 100%|██████████| 8/8 [00:00<00:00, 35.39it/s]\n",
            "Epoch 4/5: 100%|██████████| 8/8 [00:00<00:00, 35.34it/s]\n",
            "Epoch 5/5: 100%|██████████| 8/8 [00:00<00:00, 35.36it/s]\n"
          ]
        },
        {
          "name": "stdout",
          "output_type": "stream",
          "text": [
            "Training shard 6/20, slice 2/5\n"
          ]
        },
        {
          "name": "stderr",
          "output_type": "stream",
          "text": [
            "Epoch 1/5: 100%|██████████| 8/8 [00:00<00:00, 34.78it/s]\n",
            "Epoch 2/5: 100%|██████████| 8/8 [00:00<00:00, 35.42it/s]\n",
            "Epoch 3/5: 100%|██████████| 8/8 [00:00<00:00, 35.35it/s]\n",
            "Epoch 4/5: 100%|██████████| 8/8 [00:00<00:00, 35.45it/s]\n",
            "Epoch 5/5: 100%|██████████| 8/8 [00:00<00:00, 35.43it/s]\n"
          ]
        },
        {
          "name": "stdout",
          "output_type": "stream",
          "text": [
            "Training shard 6/20, slice 3/5\n"
          ]
        },
        {
          "name": "stderr",
          "output_type": "stream",
          "text": [
            "Epoch 1/5: 100%|██████████| 8/8 [00:00<00:00, 34.72it/s]\n",
            "Epoch 2/5: 100%|██████████| 8/8 [00:00<00:00, 35.38it/s]\n",
            "Epoch 3/5: 100%|██████████| 8/8 [00:00<00:00, 35.45it/s]\n",
            "Epoch 4/5: 100%|██████████| 8/8 [00:00<00:00, 35.36it/s]\n",
            "Epoch 5/5: 100%|██████████| 8/8 [00:00<00:00, 35.37it/s]\n"
          ]
        },
        {
          "name": "stdout",
          "output_type": "stream",
          "text": [
            "Training shard 6/20, slice 4/5\n"
          ]
        },
        {
          "name": "stderr",
          "output_type": "stream",
          "text": [
            "Epoch 1/5: 100%|██████████| 8/8 [00:00<00:00, 34.76it/s]\n",
            "Epoch 2/5: 100%|██████████| 8/8 [00:00<00:00, 35.29it/s]\n",
            "Epoch 3/5: 100%|██████████| 8/8 [00:00<00:00, 35.47it/s]\n",
            "Epoch 4/5: 100%|██████████| 8/8 [00:00<00:00, 35.37it/s]\n",
            "Epoch 5/5: 100%|██████████| 8/8 [00:00<00:00, 35.25it/s]\n"
          ]
        },
        {
          "name": "stdout",
          "output_type": "stream",
          "text": [
            "Training shard 6/20, slice 5/5\n"
          ]
        },
        {
          "name": "stderr",
          "output_type": "stream",
          "text": [
            "Epoch 1/5: 100%|██████████| 8/8 [00:00<00:00, 34.70it/s]\n",
            "Epoch 2/5: 100%|██████████| 8/8 [00:00<00:00, 35.32it/s]\n",
            "Epoch 3/5: 100%|██████████| 8/8 [00:00<00:00, 35.36it/s]\n",
            "Epoch 4/5: 100%|██████████| 8/8 [00:00<00:00, 35.41it/s]\n",
            "Epoch 5/5: 100%|██████████| 8/8 [00:00<00:00, 35.53it/s]\n"
          ]
        },
        {
          "name": "stdout",
          "output_type": "stream",
          "text": [
            "Training shard 7/20, slice 1/5\n"
          ]
        },
        {
          "name": "stderr",
          "output_type": "stream",
          "text": [
            "Epoch 1/5: 100%|██████████| 8/8 [00:00<00:00, 34.71it/s]\n",
            "Epoch 2/5: 100%|██████████| 8/8 [00:00<00:00, 35.29it/s]\n",
            "Epoch 3/5: 100%|██████████| 8/8 [00:00<00:00, 35.13it/s]\n",
            "Epoch 4/5: 100%|██████████| 8/8 [00:00<00:00, 35.26it/s]\n",
            "Epoch 5/5: 100%|██████████| 8/8 [00:00<00:00, 35.36it/s]\n"
          ]
        },
        {
          "name": "stdout",
          "output_type": "stream",
          "text": [
            "Training shard 7/20, slice 2/5\n"
          ]
        },
        {
          "name": "stderr",
          "output_type": "stream",
          "text": [
            "Epoch 1/5: 100%|██████████| 8/8 [00:00<00:00, 34.94it/s]\n",
            "Epoch 2/5: 100%|██████████| 8/8 [00:00<00:00, 35.35it/s]\n",
            "Epoch 3/5: 100%|██████████| 8/8 [00:00<00:00, 35.36it/s]\n",
            "Epoch 4/5: 100%|██████████| 8/8 [00:00<00:00, 35.36it/s]\n",
            "Epoch 5/5: 100%|██████████| 8/8 [00:00<00:00, 35.44it/s]\n"
          ]
        },
        {
          "name": "stdout",
          "output_type": "stream",
          "text": [
            "Training shard 7/20, slice 3/5\n"
          ]
        },
        {
          "name": "stderr",
          "output_type": "stream",
          "text": [
            "Epoch 1/5: 100%|██████████| 8/8 [00:00<00:00, 34.71it/s]\n",
            "Epoch 2/5: 100%|██████████| 8/8 [00:00<00:00, 35.38it/s]\n",
            "Epoch 3/5: 100%|██████████| 8/8 [00:00<00:00, 35.42it/s]\n",
            "Epoch 4/5: 100%|██████████| 8/8 [00:00<00:00, 35.40it/s]\n",
            "Epoch 5/5: 100%|██████████| 8/8 [00:00<00:00, 35.39it/s]\n"
          ]
        },
        {
          "name": "stdout",
          "output_type": "stream",
          "text": [
            "Training shard 7/20, slice 4/5\n"
          ]
        },
        {
          "name": "stderr",
          "output_type": "stream",
          "text": [
            "Epoch 1/5: 100%|██████████| 8/8 [00:00<00:00, 34.63it/s]\n",
            "Epoch 2/5: 100%|██████████| 8/8 [00:00<00:00, 35.36it/s]\n",
            "Epoch 3/5: 100%|██████████| 8/8 [00:00<00:00, 35.35it/s]\n",
            "Epoch 4/5: 100%|██████████| 8/8 [00:00<00:00, 35.48it/s]\n",
            "Epoch 5/5: 100%|██████████| 8/8 [00:00<00:00, 35.28it/s]\n"
          ]
        },
        {
          "name": "stdout",
          "output_type": "stream",
          "text": [
            "Training shard 7/20, slice 5/5\n"
          ]
        },
        {
          "name": "stderr",
          "output_type": "stream",
          "text": [
            "Epoch 1/5: 100%|██████████| 8/8 [00:00<00:00, 34.77it/s]\n",
            "Epoch 2/5: 100%|██████████| 8/8 [00:00<00:00, 35.35it/s]\n",
            "Epoch 3/5: 100%|██████████| 8/8 [00:00<00:00, 35.40it/s]\n",
            "Epoch 4/5: 100%|██████████| 8/8 [00:00<00:00, 35.44it/s]\n",
            "Epoch 5/5: 100%|██████████| 8/8 [00:00<00:00, 35.37it/s]\n"
          ]
        },
        {
          "name": "stdout",
          "output_type": "stream",
          "text": [
            "Training shard 8/20, slice 1/5\n"
          ]
        },
        {
          "name": "stderr",
          "output_type": "stream",
          "text": [
            "Epoch 1/5: 100%|██████████| 8/8 [00:00<00:00, 34.67it/s]\n",
            "Epoch 2/5: 100%|██████████| 8/8 [00:00<00:00, 35.17it/s]\n",
            "Epoch 3/5: 100%|██████████| 8/8 [00:00<00:00, 35.30it/s]\n",
            "Epoch 4/5: 100%|██████████| 8/8 [00:00<00:00, 35.34it/s]\n",
            "Epoch 5/5: 100%|██████████| 8/8 [00:00<00:00, 35.39it/s]\n"
          ]
        },
        {
          "name": "stdout",
          "output_type": "stream",
          "text": [
            "Training shard 8/20, slice 2/5\n"
          ]
        },
        {
          "name": "stderr",
          "output_type": "stream",
          "text": [
            "Epoch 1/5: 100%|██████████| 8/8 [00:00<00:00, 34.85it/s]\n",
            "Epoch 2/5: 100%|██████████| 8/8 [00:00<00:00, 35.37it/s]\n",
            "Epoch 3/5: 100%|██████████| 8/8 [00:00<00:00, 35.44it/s]\n",
            "Epoch 4/5: 100%|██████████| 8/8 [00:00<00:00, 35.39it/s]\n",
            "Epoch 5/5: 100%|██████████| 8/8 [00:00<00:00, 35.45it/s]\n"
          ]
        },
        {
          "name": "stdout",
          "output_type": "stream",
          "text": [
            "Training shard 8/20, slice 3/5\n"
          ]
        },
        {
          "name": "stderr",
          "output_type": "stream",
          "text": [
            "Epoch 1/5: 100%|██████████| 8/8 [00:00<00:00, 34.74it/s]\n",
            "Epoch 2/5: 100%|██████████| 8/8 [00:00<00:00, 35.41it/s]\n",
            "Epoch 3/5: 100%|██████████| 8/8 [00:00<00:00, 35.31it/s]\n",
            "Epoch 4/5: 100%|██████████| 8/8 [00:00<00:00, 35.41it/s]\n",
            "Epoch 5/5: 100%|██████████| 8/8 [00:00<00:00, 35.34it/s]\n"
          ]
        },
        {
          "name": "stdout",
          "output_type": "stream",
          "text": [
            "Training shard 8/20, slice 4/5\n"
          ]
        },
        {
          "name": "stderr",
          "output_type": "stream",
          "text": [
            "Epoch 1/5: 100%|██████████| 8/8 [00:00<00:00, 34.56it/s]\n",
            "Epoch 2/5: 100%|██████████| 8/8 [00:00<00:00, 35.41it/s]\n",
            "Epoch 3/5: 100%|██████████| 8/8 [00:00<00:00, 35.29it/s]\n",
            "Epoch 4/5: 100%|██████████| 8/8 [00:00<00:00, 35.39it/s]\n",
            "Epoch 5/5: 100%|██████████| 8/8 [00:00<00:00, 35.44it/s]\n"
          ]
        },
        {
          "name": "stdout",
          "output_type": "stream",
          "text": [
            "Training shard 8/20, slice 5/5\n"
          ]
        },
        {
          "name": "stderr",
          "output_type": "stream",
          "text": [
            "Epoch 1/5: 100%|██████████| 8/8 [00:00<00:00, 34.66it/s]\n",
            "Epoch 2/5: 100%|██████████| 8/8 [00:00<00:00, 35.38it/s]\n",
            "Epoch 3/5: 100%|██████████| 8/8 [00:00<00:00, 35.35it/s]\n",
            "Epoch 4/5: 100%|██████████| 8/8 [00:00<00:00, 35.35it/s]\n",
            "Epoch 5/5: 100%|██████████| 8/8 [00:00<00:00, 35.37it/s]\n"
          ]
        },
        {
          "name": "stdout",
          "output_type": "stream",
          "text": [
            "Training shard 9/20, slice 1/5\n"
          ]
        },
        {
          "name": "stderr",
          "output_type": "stream",
          "text": [
            "Epoch 1/5: 100%|██████████| 8/8 [00:00<00:00, 34.50it/s]\n",
            "Epoch 2/5: 100%|██████████| 8/8 [00:00<00:00, 35.42it/s]\n",
            "Epoch 3/5: 100%|██████████| 8/8 [00:00<00:00, 35.25it/s]\n",
            "Epoch 4/5: 100%|██████████| 8/8 [00:00<00:00, 35.38it/s]\n",
            "Epoch 5/5: 100%|██████████| 8/8 [00:00<00:00, 35.32it/s]\n"
          ]
        },
        {
          "name": "stdout",
          "output_type": "stream",
          "text": [
            "Training shard 9/20, slice 2/5\n"
          ]
        },
        {
          "name": "stderr",
          "output_type": "stream",
          "text": [
            "Epoch 1/5: 100%|██████████| 8/8 [00:00<00:00, 34.41it/s]\n",
            "Epoch 2/5: 100%|██████████| 8/8 [00:00<00:00, 35.44it/s]\n",
            "Epoch 3/5: 100%|██████████| 8/8 [00:00<00:00, 35.38it/s]\n",
            "Epoch 4/5: 100%|██████████| 8/8 [00:00<00:00, 35.33it/s]\n",
            "Epoch 5/5: 100%|██████████| 8/8 [00:00<00:00, 35.36it/s]\n"
          ]
        },
        {
          "name": "stdout",
          "output_type": "stream",
          "text": [
            "Training shard 9/20, slice 3/5\n"
          ]
        },
        {
          "name": "stderr",
          "output_type": "stream",
          "text": [
            "Epoch 1/5: 100%|██████████| 8/8 [00:00<00:00, 34.51it/s]\n",
            "Epoch 2/5: 100%|██████████| 8/8 [00:00<00:00, 35.44it/s]\n",
            "Epoch 3/5: 100%|██████████| 8/8 [00:00<00:00, 35.51it/s]\n",
            "Epoch 4/5: 100%|██████████| 8/8 [00:00<00:00, 35.29it/s]\n",
            "Epoch 5/5: 100%|██████████| 8/8 [00:00<00:00, 35.40it/s]\n"
          ]
        },
        {
          "name": "stdout",
          "output_type": "stream",
          "text": [
            "Training shard 9/20, slice 4/5\n"
          ]
        },
        {
          "name": "stderr",
          "output_type": "stream",
          "text": [
            "Epoch 1/5: 100%|██████████| 8/8 [00:00<00:00, 34.46it/s]\n",
            "Epoch 2/5: 100%|██████████| 8/8 [00:00<00:00, 35.40it/s]\n",
            "Epoch 3/5: 100%|██████████| 8/8 [00:00<00:00, 35.33it/s]\n",
            "Epoch 4/5: 100%|██████████| 8/8 [00:00<00:00, 35.36it/s]\n",
            "Epoch 5/5: 100%|██████████| 8/8 [00:00<00:00, 35.33it/s]\n"
          ]
        },
        {
          "name": "stdout",
          "output_type": "stream",
          "text": [
            "Training shard 9/20, slice 5/5\n"
          ]
        },
        {
          "name": "stderr",
          "output_type": "stream",
          "text": [
            "Epoch 1/5: 100%|██████████| 8/8 [00:00<00:00, 34.31it/s]\n",
            "Epoch 2/5: 100%|██████████| 8/8 [00:00<00:00, 35.45it/s]\n",
            "Epoch 3/5: 100%|██████████| 8/8 [00:00<00:00, 35.40it/s]\n",
            "Epoch 4/5: 100%|██████████| 8/8 [00:00<00:00, 35.35it/s]\n",
            "Epoch 5/5: 100%|██████████| 8/8 [00:00<00:00, 35.38it/s]\n"
          ]
        },
        {
          "name": "stdout",
          "output_type": "stream",
          "text": [
            "Training shard 10/20, slice 1/5\n"
          ]
        },
        {
          "name": "stderr",
          "output_type": "stream",
          "text": [
            "Epoch 1/5: 100%|██████████| 8/8 [00:00<00:00, 34.39it/s]\n",
            "Epoch 2/5: 100%|██████████| 8/8 [00:00<00:00, 35.43it/s]\n",
            "Epoch 3/5: 100%|██████████| 8/8 [00:00<00:00, 35.39it/s]\n",
            "Epoch 4/5: 100%|██████████| 8/8 [00:00<00:00, 35.41it/s]\n",
            "Epoch 5/5: 100%|██████████| 8/8 [00:00<00:00, 35.39it/s]\n"
          ]
        },
        {
          "name": "stdout",
          "output_type": "stream",
          "text": [
            "Training shard 10/20, slice 2/5\n"
          ]
        },
        {
          "name": "stderr",
          "output_type": "stream",
          "text": [
            "Epoch 1/5: 100%|██████████| 8/8 [00:00<00:00, 34.67it/s]\n",
            "Epoch 2/5: 100%|██████████| 8/8 [00:00<00:00, 35.43it/s]\n",
            "Epoch 3/5: 100%|██████████| 8/8 [00:00<00:00, 35.45it/s]\n",
            "Epoch 4/5: 100%|██████████| 8/8 [00:00<00:00, 35.51it/s]\n",
            "Epoch 5/5: 100%|██████████| 8/8 [00:00<00:00, 35.46it/s]\n"
          ]
        },
        {
          "name": "stdout",
          "output_type": "stream",
          "text": [
            "Training shard 10/20, slice 3/5\n"
          ]
        },
        {
          "name": "stderr",
          "output_type": "stream",
          "text": [
            "Epoch 1/5: 100%|██████████| 8/8 [00:00<00:00, 34.37it/s]\n",
            "Epoch 2/5: 100%|██████████| 8/8 [00:00<00:00, 35.41it/s]\n",
            "Epoch 3/5: 100%|██████████| 8/8 [00:00<00:00, 35.44it/s]\n",
            "Epoch 4/5: 100%|██████████| 8/8 [00:00<00:00, 35.36it/s]\n",
            "Epoch 5/5: 100%|██████████| 8/8 [00:00<00:00, 35.38it/s]\n"
          ]
        },
        {
          "name": "stdout",
          "output_type": "stream",
          "text": [
            "Training shard 10/20, slice 4/5\n"
          ]
        },
        {
          "name": "stderr",
          "output_type": "stream",
          "text": [
            "Epoch 1/5: 100%|██████████| 8/8 [00:00<00:00, 34.21it/s]\n",
            "Epoch 2/5: 100%|██████████| 8/8 [00:00<00:00, 35.46it/s]\n",
            "Epoch 3/5: 100%|██████████| 8/8 [00:00<00:00, 35.39it/s]\n",
            "Epoch 4/5: 100%|██████████| 8/8 [00:00<00:00, 35.40it/s]\n",
            "Epoch 5/5: 100%|██████████| 8/8 [00:00<00:00, 35.43it/s]\n"
          ]
        },
        {
          "name": "stdout",
          "output_type": "stream",
          "text": [
            "Training shard 10/20, slice 5/5\n"
          ]
        },
        {
          "name": "stderr",
          "output_type": "stream",
          "text": [
            "Epoch 1/5: 100%|██████████| 8/8 [00:00<00:00, 34.56it/s]\n",
            "Epoch 2/5: 100%|██████████| 8/8 [00:00<00:00, 35.39it/s]\n",
            "Epoch 3/5: 100%|██████████| 8/8 [00:00<00:00, 35.36it/s]\n",
            "Epoch 4/5: 100%|██████████| 8/8 [00:00<00:00, 35.40it/s]\n",
            "Epoch 5/5: 100%|██████████| 8/8 [00:00<00:00, 35.42it/s]\n"
          ]
        },
        {
          "name": "stdout",
          "output_type": "stream",
          "text": [
            "Training shard 11/20, slice 1/5\n"
          ]
        },
        {
          "name": "stderr",
          "output_type": "stream",
          "text": [
            "Epoch 1/5: 100%|██████████| 8/8 [00:00<00:00, 34.40it/s]\n",
            "Epoch 2/5: 100%|██████████| 8/8 [00:00<00:00, 35.32it/s]\n",
            "Epoch 3/5: 100%|██████████| 8/8 [00:00<00:00, 35.41it/s]\n",
            "Epoch 4/5: 100%|██████████| 8/8 [00:00<00:00, 35.45it/s]\n",
            "Epoch 5/5: 100%|██████████| 8/8 [00:00<00:00, 35.39it/s]\n"
          ]
        },
        {
          "name": "stdout",
          "output_type": "stream",
          "text": [
            "Training shard 11/20, slice 2/5\n"
          ]
        },
        {
          "name": "stderr",
          "output_type": "stream",
          "text": [
            "Epoch 1/5: 100%|██████████| 8/8 [00:00<00:00, 34.52it/s]\n",
            "Epoch 2/5: 100%|██████████| 8/8 [00:00<00:00, 35.36it/s]\n",
            "Epoch 3/5: 100%|██████████| 8/8 [00:00<00:00, 35.42it/s]\n",
            "Epoch 4/5: 100%|██████████| 8/8 [00:00<00:00, 35.20it/s]\n",
            "Epoch 5/5: 100%|██████████| 8/8 [00:00<00:00, 35.46it/s]\n"
          ]
        },
        {
          "name": "stdout",
          "output_type": "stream",
          "text": [
            "Training shard 11/20, slice 3/5\n"
          ]
        },
        {
          "name": "stderr",
          "output_type": "stream",
          "text": [
            "Epoch 1/5: 100%|██████████| 8/8 [00:00<00:00, 34.47it/s]\n",
            "Epoch 2/5: 100%|██████████| 8/8 [00:00<00:00, 35.43it/s]\n",
            "Epoch 3/5: 100%|██████████| 8/8 [00:00<00:00, 35.48it/s]\n",
            "Epoch 4/5: 100%|██████████| 8/8 [00:00<00:00, 35.38it/s]\n",
            "Epoch 5/5: 100%|██████████| 8/8 [00:00<00:00, 35.34it/s]\n"
          ]
        },
        {
          "name": "stdout",
          "output_type": "stream",
          "text": [
            "Training shard 11/20, slice 4/5\n"
          ]
        },
        {
          "name": "stderr",
          "output_type": "stream",
          "text": [
            "Epoch 1/5: 100%|██████████| 8/8 [00:00<00:00, 34.64it/s]\n",
            "Epoch 2/5: 100%|██████████| 8/8 [00:00<00:00, 35.45it/s]\n",
            "Epoch 3/5: 100%|██████████| 8/8 [00:00<00:00, 35.44it/s]\n",
            "Epoch 4/5: 100%|██████████| 8/8 [00:00<00:00, 35.51it/s]\n",
            "Epoch 5/5: 100%|██████████| 8/8 [00:00<00:00, 35.47it/s]\n"
          ]
        },
        {
          "name": "stdout",
          "output_type": "stream",
          "text": [
            "Training shard 11/20, slice 5/5\n"
          ]
        },
        {
          "name": "stderr",
          "output_type": "stream",
          "text": [
            "Epoch 1/5: 100%|██████████| 8/8 [00:00<00:00, 34.54it/s]\n",
            "Epoch 2/5: 100%|██████████| 8/8 [00:00<00:00, 35.43it/s]\n",
            "Epoch 3/5: 100%|██████████| 8/8 [00:00<00:00, 35.46it/s]\n",
            "Epoch 4/5: 100%|██████████| 8/8 [00:00<00:00, 35.46it/s]\n",
            "Epoch 5/5: 100%|██████████| 8/8 [00:00<00:00, 35.46it/s]\n"
          ]
        },
        {
          "name": "stdout",
          "output_type": "stream",
          "text": [
            "Training shard 12/20, slice 1/5\n"
          ]
        },
        {
          "name": "stderr",
          "output_type": "stream",
          "text": [
            "Epoch 1/5: 100%|██████████| 8/8 [00:00<00:00, 34.57it/s]\n",
            "Epoch 2/5: 100%|██████████| 8/8 [00:00<00:00, 35.38it/s]\n",
            "Epoch 3/5: 100%|██████████| 8/8 [00:00<00:00, 35.34it/s]\n",
            "Epoch 4/5: 100%|██████████| 8/8 [00:00<00:00, 35.41it/s]\n",
            "Epoch 5/5: 100%|██████████| 8/8 [00:00<00:00, 35.46it/s]\n"
          ]
        },
        {
          "name": "stdout",
          "output_type": "stream",
          "text": [
            "Training shard 12/20, slice 2/5\n"
          ]
        },
        {
          "name": "stderr",
          "output_type": "stream",
          "text": [
            "Epoch 1/5: 100%|██████████| 8/8 [00:00<00:00, 34.55it/s]\n",
            "Epoch 2/5: 100%|██████████| 8/8 [00:00<00:00, 35.43it/s]\n",
            "Epoch 3/5: 100%|██████████| 8/8 [00:00<00:00, 35.47it/s]\n",
            "Epoch 4/5: 100%|██████████| 8/8 [00:00<00:00, 35.44it/s]\n",
            "Epoch 5/5: 100%|██████████| 8/8 [00:00<00:00, 35.49it/s]\n"
          ]
        },
        {
          "name": "stdout",
          "output_type": "stream",
          "text": [
            "Training shard 12/20, slice 3/5\n"
          ]
        },
        {
          "name": "stderr",
          "output_type": "stream",
          "text": [
            "Epoch 1/5: 100%|██████████| 8/8 [00:00<00:00, 34.57it/s]\n",
            "Epoch 2/5: 100%|██████████| 8/8 [00:00<00:00, 35.51it/s]\n",
            "Epoch 3/5: 100%|██████████| 8/8 [00:00<00:00, 35.47it/s]\n",
            "Epoch 4/5: 100%|██████████| 8/8 [00:00<00:00, 35.52it/s]\n",
            "Epoch 5/5: 100%|██████████| 8/8 [00:00<00:00, 35.38it/s]\n"
          ]
        },
        {
          "name": "stdout",
          "output_type": "stream",
          "text": [
            "Training shard 12/20, slice 4/5\n"
          ]
        },
        {
          "name": "stderr",
          "output_type": "stream",
          "text": [
            "Epoch 1/5: 100%|██████████| 8/8 [00:00<00:00, 34.53it/s]\n",
            "Epoch 2/5: 100%|██████████| 8/8 [00:00<00:00, 35.42it/s]\n",
            "Epoch 3/5: 100%|██████████| 8/8 [00:00<00:00, 35.27it/s]\n",
            "Epoch 4/5: 100%|██████████| 8/8 [00:00<00:00, 35.43it/s]\n",
            "Epoch 5/5: 100%|██████████| 8/8 [00:00<00:00, 35.34it/s]\n"
          ]
        },
        {
          "name": "stdout",
          "output_type": "stream",
          "text": [
            "Training shard 12/20, slice 5/5\n"
          ]
        },
        {
          "name": "stderr",
          "output_type": "stream",
          "text": [
            "Epoch 1/5: 100%|██████████| 8/8 [00:00<00:00, 34.42it/s]\n",
            "Epoch 2/5: 100%|██████████| 8/8 [00:00<00:00, 35.26it/s]\n",
            "Epoch 3/5: 100%|██████████| 8/8 [00:00<00:00, 35.42it/s]\n",
            "Epoch 4/5: 100%|██████████| 8/8 [00:00<00:00, 35.37it/s]\n",
            "Epoch 5/5: 100%|██████████| 8/8 [00:00<00:00, 35.46it/s]\n"
          ]
        },
        {
          "name": "stdout",
          "output_type": "stream",
          "text": [
            "Training shard 13/20, slice 1/5\n"
          ]
        },
        {
          "name": "stderr",
          "output_type": "stream",
          "text": [
            "Epoch 1/5: 100%|██████████| 8/8 [00:00<00:00, 35.28it/s]\n",
            "Epoch 2/5: 100%|██████████| 8/8 [00:00<00:00, 35.43it/s]\n",
            "Epoch 3/5: 100%|██████████| 8/8 [00:00<00:00, 35.41it/s]\n",
            "Epoch 4/5: 100%|██████████| 8/8 [00:00<00:00, 35.45it/s]\n",
            "Epoch 5/5: 100%|██████████| 8/8 [00:00<00:00, 35.51it/s]\n"
          ]
        },
        {
          "name": "stdout",
          "output_type": "stream",
          "text": [
            "Training shard 13/20, slice 2/5\n"
          ]
        },
        {
          "name": "stderr",
          "output_type": "stream",
          "text": [
            "Epoch 1/5: 100%|██████████| 8/8 [00:00<00:00, 34.58it/s]\n",
            "Epoch 2/5: 100%|██████████| 8/8 [00:00<00:00, 35.43it/s]\n",
            "Epoch 3/5: 100%|██████████| 8/8 [00:00<00:00, 35.40it/s]\n",
            "Epoch 4/5: 100%|██████████| 8/8 [00:00<00:00, 35.44it/s]\n",
            "Epoch 5/5: 100%|██████████| 8/8 [00:00<00:00, 35.47it/s]\n"
          ]
        },
        {
          "name": "stdout",
          "output_type": "stream",
          "text": [
            "Training shard 13/20, slice 3/5\n"
          ]
        },
        {
          "name": "stderr",
          "output_type": "stream",
          "text": [
            "Epoch 1/5: 100%|██████████| 8/8 [00:00<00:00, 34.57it/s]\n",
            "Epoch 2/5: 100%|██████████| 8/8 [00:00<00:00, 35.40it/s]\n",
            "Epoch 3/5: 100%|██████████| 8/8 [00:00<00:00, 35.48it/s]\n",
            "Epoch 4/5: 100%|██████████| 8/8 [00:00<00:00, 35.45it/s]\n",
            "Epoch 5/5: 100%|██████████| 8/8 [00:00<00:00, 35.38it/s]\n"
          ]
        },
        {
          "name": "stdout",
          "output_type": "stream",
          "text": [
            "Training shard 13/20, slice 4/5\n"
          ]
        },
        {
          "name": "stderr",
          "output_type": "stream",
          "text": [
            "Epoch 1/5: 100%|██████████| 8/8 [00:00<00:00, 34.60it/s]\n",
            "Epoch 2/5: 100%|██████████| 8/8 [00:00<00:00, 35.25it/s]\n",
            "Epoch 3/5: 100%|██████████| 8/8 [00:00<00:00, 35.44it/s]\n",
            "Epoch 4/5: 100%|██████████| 8/8 [00:00<00:00, 35.52it/s]\n",
            "Epoch 5/5: 100%|██████████| 8/8 [00:00<00:00, 35.55it/s]\n"
          ]
        },
        {
          "name": "stdout",
          "output_type": "stream",
          "text": [
            "Training shard 13/20, slice 5/5\n"
          ]
        },
        {
          "name": "stderr",
          "output_type": "stream",
          "text": [
            "Epoch 1/5: 100%|██████████| 8/8 [00:00<00:00, 34.60it/s]\n",
            "Epoch 2/5: 100%|██████████| 8/8 [00:00<00:00, 35.47it/s]\n",
            "Epoch 3/5: 100%|██████████| 8/8 [00:00<00:00, 35.45it/s]\n",
            "Epoch 4/5: 100%|██████████| 8/8 [00:00<00:00, 35.41it/s]\n",
            "Epoch 5/5: 100%|██████████| 8/8 [00:00<00:00, 35.42it/s]\n"
          ]
        },
        {
          "name": "stdout",
          "output_type": "stream",
          "text": [
            "Training shard 14/20, slice 1/5\n"
          ]
        },
        {
          "name": "stderr",
          "output_type": "stream",
          "text": [
            "Epoch 1/5: 100%|██████████| 8/8 [00:00<00:00, 34.68it/s]\n",
            "Epoch 2/5: 100%|██████████| 8/8 [00:00<00:00, 35.20it/s]\n",
            "Epoch 3/5: 100%|██████████| 8/8 [00:00<00:00, 35.40it/s]\n",
            "Epoch 4/5: 100%|██████████| 8/8 [00:00<00:00, 35.43it/s]\n",
            "Epoch 5/5: 100%|██████████| 8/8 [00:00<00:00, 35.42it/s]\n"
          ]
        },
        {
          "name": "stdout",
          "output_type": "stream",
          "text": [
            "Training shard 14/20, slice 2/5\n"
          ]
        },
        {
          "name": "stderr",
          "output_type": "stream",
          "text": [
            "Epoch 1/5: 100%|██████████| 8/8 [00:00<00:00, 34.66it/s]\n",
            "Epoch 2/5: 100%|██████████| 8/8 [00:00<00:00, 35.48it/s]\n",
            "Epoch 3/5: 100%|██████████| 8/8 [00:00<00:00, 35.43it/s]\n",
            "Epoch 4/5: 100%|██████████| 8/8 [00:00<00:00, 35.51it/s]\n",
            "Epoch 5/5: 100%|██████████| 8/8 [00:00<00:00, 35.49it/s]\n"
          ]
        },
        {
          "name": "stdout",
          "output_type": "stream",
          "text": [
            "Training shard 14/20, slice 3/5\n"
          ]
        },
        {
          "name": "stderr",
          "output_type": "stream",
          "text": [
            "Epoch 1/5: 100%|██████████| 8/8 [00:00<00:00, 34.54it/s]\n",
            "Epoch 2/5: 100%|██████████| 8/8 [00:00<00:00, 35.21it/s]\n",
            "Epoch 3/5: 100%|██████████| 8/8 [00:00<00:00, 35.49it/s]\n",
            "Epoch 4/5: 100%|██████████| 8/8 [00:00<00:00, 35.43it/s]\n",
            "Epoch 5/5: 100%|██████████| 8/8 [00:00<00:00, 35.44it/s]\n"
          ]
        },
        {
          "name": "stdout",
          "output_type": "stream",
          "text": [
            "Training shard 14/20, slice 4/5\n"
          ]
        },
        {
          "name": "stderr",
          "output_type": "stream",
          "text": [
            "Epoch 1/5: 100%|██████████| 8/8 [00:00<00:00, 34.58it/s]\n",
            "Epoch 2/5: 100%|██████████| 8/8 [00:00<00:00, 35.37it/s]\n",
            "Epoch 3/5: 100%|██████████| 8/8 [00:00<00:00, 35.46it/s]\n",
            "Epoch 4/5: 100%|██████████| 8/8 [00:00<00:00, 35.57it/s]\n",
            "Epoch 5/5: 100%|██████████| 8/8 [00:00<00:00, 35.50it/s]\n"
          ]
        },
        {
          "name": "stdout",
          "output_type": "stream",
          "text": [
            "Training shard 14/20, slice 5/5\n"
          ]
        },
        {
          "name": "stderr",
          "output_type": "stream",
          "text": [
            "Epoch 1/5: 100%|██████████| 8/8 [00:00<00:00, 34.63it/s]\n",
            "Epoch 2/5: 100%|██████████| 8/8 [00:00<00:00, 35.44it/s]\n",
            "Epoch 3/5: 100%|██████████| 8/8 [00:00<00:00, 35.49it/s]\n",
            "Epoch 4/5: 100%|██████████| 8/8 [00:00<00:00, 35.43it/s]\n",
            "Epoch 5/5: 100%|██████████| 8/8 [00:00<00:00, 35.57it/s]\n"
          ]
        },
        {
          "name": "stdout",
          "output_type": "stream",
          "text": [
            "Training shard 15/20, slice 1/5\n"
          ]
        },
        {
          "name": "stderr",
          "output_type": "stream",
          "text": [
            "Epoch 1/5: 100%|██████████| 8/8 [00:00<00:00, 34.57it/s]\n",
            "Epoch 2/5: 100%|██████████| 8/8 [00:00<00:00, 35.41it/s]\n",
            "Epoch 3/5: 100%|██████████| 8/8 [00:00<00:00, 35.45it/s]\n",
            "Epoch 4/5: 100%|██████████| 8/8 [00:00<00:00, 35.46it/s]\n",
            "Epoch 5/5: 100%|██████████| 8/8 [00:00<00:00, 35.46it/s]\n"
          ]
        },
        {
          "name": "stdout",
          "output_type": "stream",
          "text": [
            "Training shard 15/20, slice 2/5\n"
          ]
        },
        {
          "name": "stderr",
          "output_type": "stream",
          "text": [
            "Epoch 1/5: 100%|██████████| 8/8 [00:00<00:00, 34.57it/s]\n",
            "Epoch 2/5: 100%|██████████| 8/8 [00:00<00:00, 35.49it/s]\n",
            "Epoch 3/5: 100%|██████████| 8/8 [00:00<00:00, 35.48it/s]\n",
            "Epoch 4/5: 100%|██████████| 8/8 [00:00<00:00, 35.47it/s]\n",
            "Epoch 5/5: 100%|██████████| 8/8 [00:00<00:00, 35.40it/s]\n"
          ]
        },
        {
          "name": "stdout",
          "output_type": "stream",
          "text": [
            "Training shard 15/20, slice 3/5\n"
          ]
        },
        {
          "name": "stderr",
          "output_type": "stream",
          "text": [
            "Epoch 1/5: 100%|██████████| 8/8 [00:00<00:00, 34.54it/s]\n",
            "Epoch 2/5: 100%|██████████| 8/8 [00:00<00:00, 35.50it/s]\n",
            "Epoch 3/5: 100%|██████████| 8/8 [00:00<00:00, 35.41it/s]\n",
            "Epoch 4/5: 100%|██████████| 8/8 [00:00<00:00, 35.45it/s]\n",
            "Epoch 5/5: 100%|██████████| 8/8 [00:00<00:00, 35.46it/s]\n"
          ]
        },
        {
          "name": "stdout",
          "output_type": "stream",
          "text": [
            "Training shard 15/20, slice 4/5\n"
          ]
        },
        {
          "name": "stderr",
          "output_type": "stream",
          "text": [
            "Epoch 1/5: 100%|██████████| 8/8 [00:00<00:00, 34.47it/s]\n",
            "Epoch 2/5: 100%|██████████| 8/8 [00:00<00:00, 35.42it/s]\n",
            "Epoch 3/5: 100%|██████████| 8/8 [00:00<00:00, 35.47it/s]\n",
            "Epoch 4/5: 100%|██████████| 8/8 [00:00<00:00, 35.45it/s]\n",
            "Epoch 5/5: 100%|██████████| 8/8 [00:00<00:00, 35.44it/s]\n"
          ]
        },
        {
          "name": "stdout",
          "output_type": "stream",
          "text": [
            "Training shard 15/20, slice 5/5\n"
          ]
        },
        {
          "name": "stderr",
          "output_type": "stream",
          "text": [
            "Epoch 1/5: 100%|██████████| 8/8 [00:00<00:00, 34.42it/s]\n",
            "Epoch 2/5: 100%|██████████| 8/8 [00:00<00:00, 35.35it/s]\n",
            "Epoch 3/5: 100%|██████████| 8/8 [00:00<00:00, 35.41it/s]\n",
            "Epoch 4/5: 100%|██████████| 8/8 [00:00<00:00, 35.41it/s]\n",
            "Epoch 5/5: 100%|██████████| 8/8 [00:00<00:00, 35.44it/s]\n"
          ]
        },
        {
          "name": "stdout",
          "output_type": "stream",
          "text": [
            "Training shard 16/20, slice 1/5\n"
          ]
        },
        {
          "name": "stderr",
          "output_type": "stream",
          "text": [
            "Epoch 1/5: 100%|██████████| 8/8 [00:00<00:00, 34.45it/s]\n",
            "Epoch 2/5: 100%|██████████| 8/8 [00:00<00:00, 35.41it/s]\n",
            "Epoch 3/5: 100%|██████████| 8/8 [00:00<00:00, 35.51it/s]\n",
            "Epoch 4/5: 100%|██████████| 8/8 [00:00<00:00, 35.47it/s]\n",
            "Epoch 5/5: 100%|██████████| 8/8 [00:00<00:00, 35.39it/s]\n"
          ]
        },
        {
          "name": "stdout",
          "output_type": "stream",
          "text": [
            "Training shard 16/20, slice 2/5\n"
          ]
        },
        {
          "name": "stderr",
          "output_type": "stream",
          "text": [
            "Epoch 1/5: 100%|██████████| 8/8 [00:00<00:00, 34.45it/s]\n",
            "Epoch 2/5: 100%|██████████| 8/8 [00:00<00:00, 35.41it/s]\n",
            "Epoch 3/5: 100%|██████████| 8/8 [00:00<00:00, 35.45it/s]\n",
            "Epoch 4/5: 100%|██████████| 8/8 [00:00<00:00, 35.39it/s]\n",
            "Epoch 5/5: 100%|██████████| 8/8 [00:00<00:00, 35.44it/s]\n"
          ]
        },
        {
          "name": "stdout",
          "output_type": "stream",
          "text": [
            "Training shard 16/20, slice 3/5\n"
          ]
        },
        {
          "name": "stderr",
          "output_type": "stream",
          "text": [
            "Epoch 1/5: 100%|██████████| 8/8 [00:00<00:00, 34.50it/s]\n",
            "Epoch 2/5: 100%|██████████| 8/8 [00:00<00:00, 35.46it/s]\n",
            "Epoch 3/5: 100%|██████████| 8/8 [00:00<00:00, 35.51it/s]\n",
            "Epoch 4/5: 100%|██████████| 8/8 [00:00<00:00, 35.55it/s]\n",
            "Epoch 5/5: 100%|██████████| 8/8 [00:00<00:00, 35.43it/s]\n"
          ]
        },
        {
          "name": "stdout",
          "output_type": "stream",
          "text": [
            "Training shard 16/20, slice 4/5\n"
          ]
        },
        {
          "name": "stderr",
          "output_type": "stream",
          "text": [
            "Epoch 1/5: 100%|██████████| 8/8 [00:00<00:00, 34.73it/s]\n",
            "Epoch 2/5: 100%|██████████| 8/8 [00:00<00:00, 35.26it/s]\n",
            "Epoch 3/5: 100%|██████████| 8/8 [00:00<00:00, 35.51it/s]\n",
            "Epoch 4/5: 100%|██████████| 8/8 [00:00<00:00, 35.53it/s]\n",
            "Epoch 5/5: 100%|██████████| 8/8 [00:00<00:00, 35.48it/s]\n"
          ]
        },
        {
          "name": "stdout",
          "output_type": "stream",
          "text": [
            "Training shard 16/20, slice 5/5\n"
          ]
        },
        {
          "name": "stderr",
          "output_type": "stream",
          "text": [
            "Epoch 1/5: 100%|██████████| 8/8 [00:00<00:00, 34.52it/s]\n",
            "Epoch 2/5: 100%|██████████| 8/8 [00:00<00:00, 35.43it/s]\n",
            "Epoch 3/5: 100%|██████████| 8/8 [00:00<00:00, 35.50it/s]\n",
            "Epoch 4/5: 100%|██████████| 8/8 [00:00<00:00, 35.40it/s]\n",
            "Epoch 5/5: 100%|██████████| 8/8 [00:00<00:00, 35.46it/s]\n"
          ]
        },
        {
          "name": "stdout",
          "output_type": "stream",
          "text": [
            "Training shard 17/20, slice 1/5\n"
          ]
        },
        {
          "name": "stderr",
          "output_type": "stream",
          "text": [
            "Epoch 1/5: 100%|██████████| 8/8 [00:00<00:00, 34.64it/s]\n",
            "Epoch 2/5: 100%|██████████| 8/8 [00:00<00:00, 35.32it/s]\n",
            "Epoch 3/5: 100%|██████████| 8/8 [00:00<00:00, 35.37it/s]\n",
            "Epoch 4/5: 100%|██████████| 8/8 [00:00<00:00, 35.46it/s]\n",
            "Epoch 5/5: 100%|██████████| 8/8 [00:00<00:00, 35.44it/s]\n"
          ]
        },
        {
          "name": "stdout",
          "output_type": "stream",
          "text": [
            "Training shard 17/20, slice 2/5\n"
          ]
        },
        {
          "name": "stderr",
          "output_type": "stream",
          "text": [
            "Epoch 1/5: 100%|██████████| 8/8 [00:00<00:00, 34.55it/s]\n",
            "Epoch 2/5: 100%|██████████| 8/8 [00:00<00:00, 35.42it/s]\n",
            "Epoch 3/5: 100%|██████████| 8/8 [00:00<00:00, 35.52it/s]\n",
            "Epoch 4/5: 100%|██████████| 8/8 [00:00<00:00, 35.49it/s]\n",
            "Epoch 5/5: 100%|██████████| 8/8 [00:00<00:00, 35.45it/s]\n"
          ]
        },
        {
          "name": "stdout",
          "output_type": "stream",
          "text": [
            "Training shard 17/20, slice 3/5\n"
          ]
        },
        {
          "name": "stderr",
          "output_type": "stream",
          "text": [
            "Epoch 1/5: 100%|██████████| 8/8 [00:00<00:00, 34.39it/s]\n",
            "Epoch 2/5: 100%|██████████| 8/8 [00:00<00:00, 35.50it/s]\n",
            "Epoch 3/5: 100%|██████████| 8/8 [00:00<00:00, 35.45it/s]\n",
            "Epoch 4/5: 100%|██████████| 8/8 [00:00<00:00, 35.48it/s]\n",
            "Epoch 5/5: 100%|██████████| 8/8 [00:00<00:00, 35.34it/s]\n"
          ]
        },
        {
          "name": "stdout",
          "output_type": "stream",
          "text": [
            "Training shard 17/20, slice 4/5\n"
          ]
        },
        {
          "name": "stderr",
          "output_type": "stream",
          "text": [
            "Epoch 1/5: 100%|██████████| 8/8 [00:00<00:00, 34.50it/s]\n",
            "Epoch 2/5: 100%|██████████| 8/8 [00:00<00:00, 35.30it/s]\n",
            "Epoch 3/5: 100%|██████████| 8/8 [00:00<00:00, 35.54it/s]\n",
            "Epoch 4/5: 100%|██████████| 8/8 [00:00<00:00, 35.40it/s]\n",
            "Epoch 5/5: 100%|██████████| 8/8 [00:00<00:00, 35.45it/s]\n"
          ]
        },
        {
          "name": "stdout",
          "output_type": "stream",
          "text": [
            "Training shard 17/20, slice 5/5\n"
          ]
        },
        {
          "name": "stderr",
          "output_type": "stream",
          "text": [
            "Epoch 1/5: 100%|██████████| 8/8 [00:00<00:00, 34.54it/s]\n",
            "Epoch 2/5: 100%|██████████| 8/8 [00:00<00:00, 35.47it/s]\n",
            "Epoch 3/5: 100%|██████████| 8/8 [00:00<00:00, 35.47it/s]\n",
            "Epoch 4/5: 100%|██████████| 8/8 [00:00<00:00, 35.47it/s]\n",
            "Epoch 5/5: 100%|██████████| 8/8 [00:00<00:00, 35.56it/s]\n"
          ]
        },
        {
          "name": "stdout",
          "output_type": "stream",
          "text": [
            "Training shard 18/20, slice 1/5\n"
          ]
        },
        {
          "name": "stderr",
          "output_type": "stream",
          "text": [
            "Epoch 1/5: 100%|██████████| 8/8 [00:00<00:00, 34.66it/s]\n",
            "Epoch 2/5: 100%|██████████| 8/8 [00:00<00:00, 35.47it/s]\n",
            "Epoch 3/5: 100%|██████████| 8/8 [00:00<00:00, 35.49it/s]\n",
            "Epoch 4/5: 100%|██████████| 8/8 [00:00<00:00, 35.43it/s]\n",
            "Epoch 5/5: 100%|██████████| 8/8 [00:00<00:00, 35.40it/s]\n"
          ]
        },
        {
          "name": "stdout",
          "output_type": "stream",
          "text": [
            "Training shard 18/20, slice 2/5\n"
          ]
        },
        {
          "name": "stderr",
          "output_type": "stream",
          "text": [
            "Epoch 1/5: 100%|██████████| 8/8 [00:00<00:00, 34.36it/s]\n",
            "Epoch 2/5: 100%|██████████| 8/8 [00:00<00:00, 35.42it/s]\n",
            "Epoch 3/5: 100%|██████████| 8/8 [00:00<00:00, 35.50it/s]\n",
            "Epoch 4/5: 100%|██████████| 8/8 [00:00<00:00, 35.47it/s]\n",
            "Epoch 5/5: 100%|██████████| 8/8 [00:00<00:00, 35.52it/s]\n"
          ]
        },
        {
          "name": "stdout",
          "output_type": "stream",
          "text": [
            "Training shard 18/20, slice 3/5\n"
          ]
        },
        {
          "name": "stderr",
          "output_type": "stream",
          "text": [
            "Epoch 1/5: 100%|██████████| 8/8 [00:00<00:00, 34.40it/s]\n",
            "Epoch 2/5: 100%|██████████| 8/8 [00:00<00:00, 35.48it/s]\n",
            "Epoch 3/5: 100%|██████████| 8/8 [00:00<00:00, 35.48it/s]\n",
            "Epoch 4/5: 100%|██████████| 8/8 [00:00<00:00, 35.48it/s]\n",
            "Epoch 5/5: 100%|██████████| 8/8 [00:00<00:00, 35.36it/s]\n"
          ]
        },
        {
          "name": "stdout",
          "output_type": "stream",
          "text": [
            "Training shard 18/20, slice 4/5\n"
          ]
        },
        {
          "name": "stderr",
          "output_type": "stream",
          "text": [
            "Epoch 1/5: 100%|██████████| 8/8 [00:00<00:00, 34.53it/s]\n",
            "Epoch 2/5: 100%|██████████| 8/8 [00:00<00:00, 35.50it/s]\n",
            "Epoch 3/5: 100%|██████████| 8/8 [00:00<00:00, 35.53it/s]\n",
            "Epoch 4/5: 100%|██████████| 8/8 [00:00<00:00, 35.53it/s]\n",
            "Epoch 5/5: 100%|██████████| 8/8 [00:00<00:00, 35.53it/s]\n"
          ]
        },
        {
          "name": "stdout",
          "output_type": "stream",
          "text": [
            "Training shard 18/20, slice 5/5\n"
          ]
        },
        {
          "name": "stderr",
          "output_type": "stream",
          "text": [
            "Epoch 1/5: 100%|██████████| 8/8 [00:00<00:00, 34.72it/s]\n",
            "Epoch 2/5: 100%|██████████| 8/8 [00:00<00:00, 35.39it/s]\n",
            "Epoch 3/5: 100%|██████████| 8/8 [00:00<00:00, 35.52it/s]\n",
            "Epoch 4/5: 100%|██████████| 8/8 [00:00<00:00, 35.62it/s]\n",
            "Epoch 5/5: 100%|██████████| 8/8 [00:00<00:00, 35.53it/s]\n"
          ]
        },
        {
          "name": "stdout",
          "output_type": "stream",
          "text": [
            "Training shard 19/20, slice 1/5\n"
          ]
        },
        {
          "name": "stderr",
          "output_type": "stream",
          "text": [
            "Epoch 1/5: 100%|██████████| 8/8 [00:00<00:00, 34.42it/s]\n",
            "Epoch 2/5: 100%|██████████| 8/8 [00:00<00:00, 35.40it/s]\n",
            "Epoch 3/5: 100%|██████████| 8/8 [00:00<00:00, 35.48it/s]\n",
            "Epoch 4/5: 100%|██████████| 8/8 [00:00<00:00, 35.45it/s]\n",
            "Epoch 5/5: 100%|██████████| 8/8 [00:00<00:00, 35.51it/s]\n"
          ]
        },
        {
          "name": "stdout",
          "output_type": "stream",
          "text": [
            "Training shard 19/20, slice 2/5\n"
          ]
        },
        {
          "name": "stderr",
          "output_type": "stream",
          "text": [
            "Epoch 1/5: 100%|██████████| 8/8 [00:00<00:00, 34.50it/s]\n",
            "Epoch 2/5: 100%|██████████| 8/8 [00:00<00:00, 35.18it/s]\n",
            "Epoch 3/5: 100%|██████████| 8/8 [00:00<00:00, 35.43it/s]\n",
            "Epoch 4/5: 100%|██████████| 8/8 [00:00<00:00, 35.47it/s]\n",
            "Epoch 5/5: 100%|██████████| 8/8 [00:00<00:00, 35.40it/s]\n"
          ]
        },
        {
          "name": "stdout",
          "output_type": "stream",
          "text": [
            "Training shard 19/20, slice 3/5\n"
          ]
        },
        {
          "name": "stderr",
          "output_type": "stream",
          "text": [
            "Epoch 1/5: 100%|██████████| 8/8 [00:00<00:00, 34.56it/s]\n",
            "Epoch 2/5: 100%|██████████| 8/8 [00:00<00:00, 35.47it/s]\n",
            "Epoch 3/5: 100%|██████████| 8/8 [00:00<00:00, 35.45it/s]\n",
            "Epoch 4/5: 100%|██████████| 8/8 [00:00<00:00, 35.37it/s]\n",
            "Epoch 5/5: 100%|██████████| 8/8 [00:00<00:00, 35.45it/s]\n"
          ]
        },
        {
          "name": "stdout",
          "output_type": "stream",
          "text": [
            "Training shard 19/20, slice 4/5\n"
          ]
        },
        {
          "name": "stderr",
          "output_type": "stream",
          "text": [
            "Epoch 1/5: 100%|██████████| 8/8 [00:00<00:00, 34.43it/s]\n",
            "Epoch 2/5: 100%|██████████| 8/8 [00:00<00:00, 35.43it/s]\n",
            "Epoch 3/5: 100%|██████████| 8/8 [00:00<00:00, 35.47it/s]\n",
            "Epoch 4/5: 100%|██████████| 8/8 [00:00<00:00, 35.46it/s]\n",
            "Epoch 5/5: 100%|██████████| 8/8 [00:00<00:00, 35.33it/s]\n"
          ]
        },
        {
          "name": "stdout",
          "output_type": "stream",
          "text": [
            "Training shard 19/20, slice 5/5\n"
          ]
        },
        {
          "name": "stderr",
          "output_type": "stream",
          "text": [
            "Epoch 1/5: 100%|██████████| 8/8 [00:00<00:00, 34.43it/s]\n",
            "Epoch 2/5: 100%|██████████| 8/8 [00:00<00:00, 35.27it/s]\n",
            "Epoch 3/5: 100%|██████████| 8/8 [00:00<00:00, 35.45it/s]\n",
            "Epoch 4/5: 100%|██████████| 8/8 [00:00<00:00, 35.51it/s]\n",
            "Epoch 5/5: 100%|██████████| 8/8 [00:00<00:00, 35.56it/s]\n"
          ]
        },
        {
          "name": "stdout",
          "output_type": "stream",
          "text": [
            "Training shard 20/20, slice 1/5\n"
          ]
        },
        {
          "name": "stderr",
          "output_type": "stream",
          "text": [
            "Epoch 1/5: 100%|██████████| 8/8 [00:00<00:00, 34.52it/s]\n",
            "Epoch 2/5: 100%|██████████| 8/8 [00:00<00:00, 35.39it/s]\n",
            "Epoch 3/5: 100%|██████████| 8/8 [00:00<00:00, 35.47it/s]\n",
            "Epoch 4/5: 100%|██████████| 8/8 [00:00<00:00, 35.49it/s]\n",
            "Epoch 5/5: 100%|██████████| 8/8 [00:00<00:00, 35.49it/s]\n"
          ]
        },
        {
          "name": "stdout",
          "output_type": "stream",
          "text": [
            "Training shard 20/20, slice 2/5\n"
          ]
        },
        {
          "name": "stderr",
          "output_type": "stream",
          "text": [
            "Epoch 1/5: 100%|██████████| 8/8 [00:00<00:00, 34.64it/s]\n",
            "Epoch 2/5: 100%|██████████| 8/8 [00:00<00:00, 35.44it/s]\n",
            "Epoch 3/5: 100%|██████████| 8/8 [00:00<00:00, 35.54it/s]\n",
            "Epoch 4/5: 100%|██████████| 8/8 [00:00<00:00, 35.49it/s]\n",
            "Epoch 5/5: 100%|██████████| 8/8 [00:00<00:00, 35.46it/s]\n"
          ]
        },
        {
          "name": "stdout",
          "output_type": "stream",
          "text": [
            "Training shard 20/20, slice 3/5\n"
          ]
        },
        {
          "name": "stderr",
          "output_type": "stream",
          "text": [
            "Epoch 1/5: 100%|██████████| 8/8 [00:00<00:00, 34.51it/s]\n",
            "Epoch 2/5: 100%|██████████| 8/8 [00:00<00:00, 35.28it/s]\n",
            "Epoch 3/5: 100%|██████████| 8/8 [00:00<00:00, 35.43it/s]\n",
            "Epoch 4/5: 100%|██████████| 8/8 [00:00<00:00, 35.34it/s]\n",
            "Epoch 5/5: 100%|██████████| 8/8 [00:00<00:00, 35.39it/s]\n"
          ]
        },
        {
          "name": "stdout",
          "output_type": "stream",
          "text": [
            "Training shard 20/20, slice 4/5\n"
          ]
        },
        {
          "name": "stderr",
          "output_type": "stream",
          "text": [
            "Epoch 1/5: 100%|██████████| 8/8 [00:00<00:00, 34.46it/s]\n",
            "Epoch 2/5: 100%|██████████| 8/8 [00:00<00:00, 35.43it/s]\n",
            "Epoch 3/5: 100%|██████████| 8/8 [00:00<00:00, 35.49it/s]\n",
            "Epoch 4/5: 100%|██████████| 8/8 [00:00<00:00, 35.45it/s]\n",
            "Epoch 5/5: 100%|██████████| 8/8 [00:00<00:00, 35.39it/s]\n"
          ]
        },
        {
          "name": "stdout",
          "output_type": "stream",
          "text": [
            "Training shard 20/20, slice 5/5\n"
          ]
        },
        {
          "name": "stderr",
          "output_type": "stream",
          "text": [
            "Epoch 1/5: 100%|██████████| 8/8 [00:00<00:00, 34.36it/s]\n",
            "Epoch 2/5: 100%|██████████| 8/8 [00:00<00:00, 35.38it/s]\n",
            "Epoch 3/5: 100%|██████████| 8/8 [00:00<00:00, 35.48it/s]\n",
            "Epoch 4/5: 100%|██████████| 8/8 [00:00<00:00, 35.41it/s]\n",
            "Epoch 5/5: 100%|██████████| 8/8 [00:00<00:00, 35.43it/s]\n",
            "Evaluating model: Shard 1/20, slice 1/5: 100%|██████████| 157/157 [00:02<00:00, 53.44it/s]\n",
            "Evaluating model: Shard 1/20, slice 2/5: 100%|██████████| 157/157 [00:02<00:00, 53.47it/s]\n",
            "Evaluating model: Shard 1/20, slice 3/5: 100%|██████████| 157/157 [00:02<00:00, 53.48it/s]\n",
            "Evaluating model: Shard 1/20, slice 4/5: 100%|██████████| 157/157 [00:02<00:00, 53.45it/s]\n",
            "Evaluating model: Shard 1/20, slice 5/5: 100%|██████████| 157/157 [00:02<00:00, 53.53it/s]\n",
            "Evaluating model: Shard 2/20, slice 1/5: 100%|██████████| 157/157 [00:02<00:00, 53.40it/s]\n",
            "Evaluating model: Shard 2/20, slice 2/5: 100%|██████████| 157/157 [00:02<00:00, 53.46it/s]\n",
            "Evaluating model: Shard 2/20, slice 3/5: 100%|██████████| 157/157 [00:02<00:00, 53.45it/s]\n",
            "Evaluating model: Shard 2/20, slice 4/5: 100%|██████████| 157/157 [00:02<00:00, 53.52it/s]\n",
            "Evaluating model: Shard 2/20, slice 5/5: 100%|██████████| 157/157 [00:02<00:00, 53.46it/s]\n",
            "Evaluating model: Shard 3/20, slice 1/5: 100%|██████████| 157/157 [00:02<00:00, 53.46it/s]\n",
            "Evaluating model: Shard 3/20, slice 2/5: 100%|██████████| 157/157 [00:02<00:00, 53.45it/s]\n",
            "Evaluating model: Shard 3/20, slice 3/5: 100%|██████████| 157/157 [00:02<00:00, 53.46it/s]\n",
            "Evaluating model: Shard 3/20, slice 4/5: 100%|██████████| 157/157 [00:02<00:00, 53.46it/s]\n",
            "Evaluating model: Shard 3/20, slice 5/5: 100%|██████████| 157/157 [00:02<00:00, 53.53it/s]\n",
            "Evaluating model: Shard 4/20, slice 1/5: 100%|██████████| 157/157 [00:02<00:00, 53.52it/s]\n",
            "Evaluating model: Shard 4/20, slice 2/5: 100%|██████████| 157/157 [00:02<00:00, 53.51it/s]\n",
            "Evaluating model: Shard 4/20, slice 3/5: 100%|██████████| 157/157 [00:02<00:00, 53.48it/s]\n",
            "Evaluating model: Shard 4/20, slice 4/5: 100%|██████████| 157/157 [00:02<00:00, 53.51it/s]\n",
            "Evaluating model: Shard 4/20, slice 5/5: 100%|██████████| 157/157 [00:02<00:00, 53.49it/s]\n",
            "Evaluating model: Shard 5/20, slice 1/5: 100%|██████████| 157/157 [00:02<00:00, 53.46it/s]\n",
            "Evaluating model: Shard 5/20, slice 2/5: 100%|██████████| 157/157 [00:02<00:00, 53.47it/s]\n",
            "Evaluating model: Shard 5/20, slice 3/5: 100%|██████████| 157/157 [00:02<00:00, 53.46it/s]\n",
            "Evaluating model: Shard 5/20, slice 4/5: 100%|██████████| 157/157 [00:02<00:00, 53.45it/s]\n",
            "Evaluating model: Shard 5/20, slice 5/5: 100%|██████████| 157/157 [00:02<00:00, 53.50it/s]\n",
            "Evaluating model: Shard 6/20, slice 1/5: 100%|██████████| 157/157 [00:02<00:00, 53.49it/s]\n",
            "Evaluating model: Shard 6/20, slice 2/5: 100%|██████████| 157/157 [00:02<00:00, 53.45it/s]\n",
            "Evaluating model: Shard 6/20, slice 3/5: 100%|██████████| 157/157 [00:02<00:00, 53.47it/s]\n",
            "Evaluating model: Shard 6/20, slice 4/5: 100%|██████████| 157/157 [00:02<00:00, 53.52it/s]\n",
            "Evaluating model: Shard 6/20, slice 5/5: 100%|██████████| 157/157 [00:02<00:00, 53.48it/s]\n",
            "Evaluating model: Shard 7/20, slice 1/5: 100%|██████████| 157/157 [00:02<00:00, 53.48it/s]\n",
            "Evaluating model: Shard 7/20, slice 2/5: 100%|██████████| 157/157 [00:02<00:00, 53.50it/s]\n",
            "Evaluating model: Shard 7/20, slice 3/5: 100%|██████████| 157/157 [00:02<00:00, 53.46it/s]\n",
            "Evaluating model: Shard 7/20, slice 4/5: 100%|██████████| 157/157 [00:02<00:00, 53.49it/s]\n",
            "Evaluating model: Shard 7/20, slice 5/5: 100%|██████████| 157/157 [00:02<00:00, 53.51it/s]\n",
            "Evaluating model: Shard 8/20, slice 1/5: 100%|██████████| 157/157 [00:02<00:00, 53.45it/s]\n",
            "Evaluating model: Shard 8/20, slice 2/5: 100%|██████████| 157/157 [00:02<00:00, 53.52it/s]\n",
            "Evaluating model: Shard 8/20, slice 3/5: 100%|██████████| 157/157 [00:02<00:00, 53.46it/s]\n",
            "Evaluating model: Shard 8/20, slice 4/5: 100%|██████████| 157/157 [00:02<00:00, 53.45it/s]\n",
            "Evaluating model: Shard 8/20, slice 5/5: 100%|██████████| 157/157 [00:02<00:00, 53.46it/s]\n",
            "Evaluating model: Shard 9/20, slice 1/5: 100%|██████████| 157/157 [00:02<00:00, 53.50it/s]\n",
            "Evaluating model: Shard 9/20, slice 2/5: 100%|██████████| 157/157 [00:02<00:00, 53.48it/s]\n",
            "Evaluating model: Shard 9/20, slice 3/5: 100%|██████████| 157/157 [00:02<00:00, 53.49it/s]\n",
            "Evaluating model: Shard 9/20, slice 4/5: 100%|██████████| 157/157 [00:02<00:00, 53.49it/s]\n",
            "Evaluating model: Shard 9/20, slice 5/5: 100%|██████████| 157/157 [00:02<00:00, 53.52it/s]\n",
            "Evaluating model: Shard 10/20, slice 1/5: 100%|██████████| 157/157 [00:02<00:00, 53.47it/s]\n",
            "Evaluating model: Shard 10/20, slice 2/5: 100%|██████████| 157/157 [00:02<00:00, 53.49it/s]\n",
            "Evaluating model: Shard 10/20, slice 3/5: 100%|██████████| 157/157 [00:02<00:00, 53.55it/s]\n",
            "Evaluating model: Shard 10/20, slice 4/5: 100%|██████████| 157/157 [00:02<00:00, 53.53it/s]\n",
            "Evaluating model: Shard 10/20, slice 5/5: 100%|██████████| 157/157 [00:02<00:00, 53.49it/s]\n",
            "Evaluating model: Shard 11/20, slice 1/5: 100%|██████████| 157/157 [00:02<00:00, 53.48it/s]\n",
            "Evaluating model: Shard 11/20, slice 2/5: 100%|██████████| 157/157 [00:02<00:00, 53.46it/s]\n",
            "Evaluating model: Shard 11/20, slice 3/5: 100%|██████████| 157/157 [00:02<00:00, 53.51it/s]\n",
            "Evaluating model: Shard 11/20, slice 4/5: 100%|██████████| 157/157 [00:02<00:00, 53.48it/s]\n",
            "Evaluating model: Shard 11/20, slice 5/5: 100%|██████████| 157/157 [00:02<00:00, 53.51it/s]\n",
            "Evaluating model: Shard 12/20, slice 1/5: 100%|██████████| 157/157 [00:02<00:00, 53.48it/s]\n",
            "Evaluating model: Shard 12/20, slice 2/5: 100%|██████████| 157/157 [00:02<00:00, 53.51it/s]\n",
            "Evaluating model: Shard 12/20, slice 3/5: 100%|██████████| 157/157 [00:02<00:00, 53.46it/s]\n",
            "Evaluating model: Shard 12/20, slice 4/5: 100%|██████████| 157/157 [00:02<00:00, 53.46it/s]\n",
            "Evaluating model: Shard 12/20, slice 5/5: 100%|██████████| 157/157 [00:02<00:00, 53.48it/s]\n",
            "Evaluating model: Shard 13/20, slice 1/5: 100%|██████████| 157/157 [00:02<00:00, 53.49it/s]\n",
            "Evaluating model: Shard 13/20, slice 2/5: 100%|██████████| 157/157 [00:02<00:00, 53.48it/s]\n",
            "Evaluating model: Shard 13/20, slice 3/5: 100%|██████████| 157/157 [00:02<00:00, 53.50it/s]\n",
            "Evaluating model: Shard 13/20, slice 4/5: 100%|██████████| 157/157 [00:02<00:00, 53.43it/s]\n",
            "Evaluating model: Shard 13/20, slice 5/5: 100%|██████████| 157/157 [00:02<00:00, 53.51it/s]\n",
            "Evaluating model: Shard 14/20, slice 1/5: 100%|██████████| 157/157 [00:02<00:00, 53.46it/s]\n",
            "Evaluating model: Shard 14/20, slice 2/5: 100%|██████████| 157/157 [00:02<00:00, 53.53it/s]\n",
            "Evaluating model: Shard 14/20, slice 3/5: 100%|██████████| 157/157 [00:02<00:00, 53.51it/s]\n",
            "Evaluating model: Shard 14/20, slice 4/5: 100%|██████████| 157/157 [00:02<00:00, 53.50it/s]\n",
            "Evaluating model: Shard 14/20, slice 5/5: 100%|██████████| 157/157 [00:02<00:00, 53.45it/s]\n",
            "Evaluating model: Shard 15/20, slice 1/5: 100%|██████████| 157/157 [00:02<00:00, 53.73it/s]\n",
            "Evaluating model: Shard 15/20, slice 2/5: 100%|██████████| 157/157 [00:02<00:00, 53.67it/s]\n",
            "Evaluating model: Shard 15/20, slice 3/5: 100%|██████████| 157/157 [00:02<00:00, 53.66it/s]\n",
            "Evaluating model: Shard 15/20, slice 4/5: 100%|██████████| 157/157 [00:02<00:00, 53.58it/s]\n",
            "Evaluating model: Shard 15/20, slice 5/5: 100%|██████████| 157/157 [00:02<00:00, 53.53it/s]\n",
            "Evaluating model: Shard 16/20, slice 1/5: 100%|██████████| 157/157 [00:02<00:00, 53.49it/s]\n",
            "Evaluating model: Shard 16/20, slice 2/5: 100%|██████████| 157/157 [00:02<00:00, 53.47it/s]\n",
            "Evaluating model: Shard 16/20, slice 3/5: 100%|██████████| 157/157 [00:02<00:00, 53.40it/s]\n",
            "Evaluating model: Shard 16/20, slice 4/5: 100%|██████████| 157/157 [00:02<00:00, 53.36it/s]\n",
            "Evaluating model: Shard 16/20, slice 5/5: 100%|██████████| 157/157 [00:02<00:00, 53.32it/s]\n",
            "Evaluating model: Shard 17/20, slice 1/5: 100%|██████████| 157/157 [00:02<00:00, 53.34it/s]\n",
            "Evaluating model: Shard 17/20, slice 2/5: 100%|██████████| 157/157 [00:02<00:00, 53.34it/s]\n",
            "Evaluating model: Shard 17/20, slice 3/5: 100%|██████████| 157/157 [00:02<00:00, 53.46it/s]\n",
            "Evaluating model: Shard 17/20, slice 4/5: 100%|██████████| 157/157 [00:02<00:00, 53.39it/s]\n",
            "Evaluating model: Shard 17/20, slice 5/5: 100%|██████████| 157/157 [00:02<00:00, 53.43it/s]\n",
            "Evaluating model: Shard 18/20, slice 1/5: 100%|██████████| 157/157 [00:02<00:00, 53.42it/s]\n",
            "Evaluating model: Shard 18/20, slice 2/5: 100%|██████████| 157/157 [00:02<00:00, 53.45it/s]\n",
            "Evaluating model: Shard 18/20, slice 3/5: 100%|██████████| 157/157 [00:02<00:00, 53.39it/s]\n",
            "Evaluating model: Shard 18/20, slice 4/5: 100%|██████████| 157/157 [00:02<00:00, 53.45it/s]\n",
            "Evaluating model: Shard 18/20, slice 5/5: 100%|██████████| 157/157 [00:02<00:00, 53.43it/s]\n",
            "Evaluating model: Shard 19/20, slice 1/5: 100%|██████████| 157/157 [00:02<00:00, 53.40it/s]\n",
            "Evaluating model: Shard 19/20, slice 2/5: 100%|██████████| 157/157 [00:02<00:00, 53.43it/s]\n",
            "Evaluating model: Shard 19/20, slice 3/5: 100%|██████████| 157/157 [00:02<00:00, 53.40it/s]\n",
            "Evaluating model: Shard 19/20, slice 4/5: 100%|██████████| 157/157 [00:02<00:00, 53.39it/s]\n",
            "Evaluating model: Shard 19/20, slice 5/5: 100%|██████████| 157/157 [00:02<00:00, 53.42it/s]\n",
            "Evaluating model: Shard 20/20, slice 1/5: 100%|██████████| 157/157 [00:02<00:00, 53.42it/s]\n",
            "Evaluating model: Shard 20/20, slice 2/5: 100%|██████████| 157/157 [00:02<00:00, 53.41it/s]\n",
            "Evaluating model: Shard 20/20, slice 3/5: 100%|██████████| 157/157 [00:02<00:00, 53.41it/s]\n",
            "Evaluating model: Shard 20/20, slice 4/5: 100%|██████████| 157/157 [00:02<00:00, 53.40it/s]\n",
            "Evaluating model: Shard 20/20, slice 5/5: 100%|██████████| 157/157 [00:02<00:00, 53.40it/s]\n"
          ]
        },
        {
          "name": "stdout",
          "output_type": "stream",
          "text": [
            "Retraining shard 1/20 containing data to forget\n"
          ]
        },
        {
          "name": "stderr",
          "output_type": "stream",
          "text": [
            "Epoch 1/5: 100%|██████████| 8/8 [00:00<00:00, 23.51it/s]\n",
            "Epoch 2/5: 100%|██████████| 8/8 [00:00<00:00, 33.08it/s]\n",
            "Epoch 3/5: 100%|██████████| 8/8 [00:00<00:00, 35.00it/s]\n",
            "Epoch 4/5: 100%|██████████| 8/8 [00:00<00:00, 35.08it/s]\n",
            "Epoch 5/5: 100%|██████████| 8/8 [00:00<00:00, 35.08it/s]\n"
          ]
        },
        {
          "name": "stdout",
          "output_type": "stream",
          "text": [
            "Slice 1/5 retrained for shard 1/20\n"
          ]
        },
        {
          "name": "stderr",
          "output_type": "stream",
          "text": [
            "Epoch 1/5: 100%|██████████| 8/8 [00:00<00:00, 34.41it/s]\n",
            "Epoch 2/5: 100%|██████████| 8/8 [00:00<00:00, 34.82it/s]\n",
            "Epoch 3/5: 100%|██████████| 8/8 [00:00<00:00, 34.66it/s]\n",
            "Epoch 4/5: 100%|██████████| 8/8 [00:00<00:00, 34.81it/s]\n",
            "Epoch 5/5: 100%|██████████| 8/8 [00:00<00:00, 34.90it/s]\n"
          ]
        },
        {
          "name": "stdout",
          "output_type": "stream",
          "text": [
            "Slice 2/5 retrained for shard 1/20\n"
          ]
        },
        {
          "name": "stderr",
          "output_type": "stream",
          "text": [
            "Epoch 1/5: 100%|██████████| 8/8 [00:00<00:00, 34.62it/s]\n",
            "Epoch 2/5: 100%|██████████| 8/8 [00:00<00:00, 34.83it/s]\n",
            "Epoch 3/5: 100%|██████████| 8/8 [00:00<00:00, 34.94it/s]\n",
            "Epoch 4/5: 100%|██████████| 8/8 [00:00<00:00, 34.92it/s]\n",
            "Epoch 5/5: 100%|██████████| 8/8 [00:00<00:00, 34.94it/s]\n"
          ]
        },
        {
          "name": "stdout",
          "output_type": "stream",
          "text": [
            "Slice 3/5 retrained for shard 1/20\n"
          ]
        },
        {
          "name": "stderr",
          "output_type": "stream",
          "text": [
            "Epoch 1/5: 100%|██████████| 8/8 [00:00<00:00, 34.66it/s]\n",
            "Epoch 2/5: 100%|██████████| 8/8 [00:00<00:00, 35.01it/s]\n",
            "Epoch 3/5: 100%|██████████| 8/8 [00:00<00:00, 34.97it/s]\n",
            "Epoch 4/5: 100%|██████████| 8/8 [00:00<00:00, 34.89it/s]\n",
            "Epoch 5/5: 100%|██████████| 8/8 [00:00<00:00, 34.98it/s]\n"
          ]
        },
        {
          "name": "stdout",
          "output_type": "stream",
          "text": [
            "Slice 4/5 retrained for shard 1/20\n"
          ]
        },
        {
          "name": "stderr",
          "output_type": "stream",
          "text": [
            "Epoch 1/5: 100%|██████████| 8/8 [00:00<00:00, 34.56it/s]\n",
            "Epoch 2/5: 100%|██████████| 8/8 [00:00<00:00, 34.94it/s]\n",
            "Epoch 3/5: 100%|██████████| 8/8 [00:00<00:00, 35.19it/s]\n",
            "Epoch 4/5: 100%|██████████| 8/8 [00:00<00:00, 34.99it/s]\n",
            "Epoch 5/5: 100%|██████████| 8/8 [00:00<00:00, 34.72it/s]\n"
          ]
        },
        {
          "name": "stdout",
          "output_type": "stream",
          "text": [
            "Slice 5/5 retrained for shard 1/20\n",
            "Retraining shard 2/20 containing data to forget\n"
          ]
        },
        {
          "name": "stderr",
          "output_type": "stream",
          "text": [
            "Epoch 1/5: 100%|██████████| 8/8 [00:00<00:00, 34.36it/s]\n",
            "Epoch 2/5: 100%|██████████| 8/8 [00:00<00:00, 34.51it/s]\n",
            "Epoch 3/5: 100%|██████████| 8/8 [00:00<00:00, 34.77it/s]\n",
            "Epoch 4/5: 100%|██████████| 8/8 [00:00<00:00, 34.76it/s]\n",
            "Epoch 5/5: 100%|██████████| 8/8 [00:00<00:00, 34.82it/s]\n"
          ]
        },
        {
          "name": "stdout",
          "output_type": "stream",
          "text": [
            "Slice 1/5 retrained for shard 2/20\n"
          ]
        },
        {
          "name": "stderr",
          "output_type": "stream",
          "text": [
            "Epoch 1/5: 100%|██████████| 8/8 [00:00<00:00, 34.39it/s]\n",
            "Epoch 2/5: 100%|██████████| 8/8 [00:00<00:00, 34.80it/s]\n",
            "Epoch 3/5: 100%|██████████| 8/8 [00:00<00:00, 34.85it/s]\n",
            "Epoch 4/5: 100%|██████████| 8/8 [00:00<00:00, 34.80it/s]\n",
            "Epoch 5/5: 100%|██████████| 8/8 [00:00<00:00, 34.78it/s]\n"
          ]
        },
        {
          "name": "stdout",
          "output_type": "stream",
          "text": [
            "Slice 2/5 retrained for shard 2/20\n"
          ]
        },
        {
          "name": "stderr",
          "output_type": "stream",
          "text": [
            "Epoch 1/5: 100%|██████████| 8/8 [00:00<00:00, 34.44it/s]\n",
            "Epoch 2/5: 100%|██████████| 8/8 [00:00<00:00, 34.78it/s]\n",
            "Epoch 3/5: 100%|██████████| 8/8 [00:00<00:00, 34.80it/s]\n",
            "Epoch 4/5: 100%|██████████| 8/8 [00:00<00:00, 34.80it/s]\n",
            "Epoch 5/5: 100%|██████████| 8/8 [00:00<00:00, 34.85it/s]\n"
          ]
        },
        {
          "name": "stdout",
          "output_type": "stream",
          "text": [
            "Slice 3/5 retrained for shard 2/20\n"
          ]
        },
        {
          "name": "stderr",
          "output_type": "stream",
          "text": [
            "Epoch 1/5: 100%|██████████| 8/8 [00:00<00:00, 34.48it/s]\n",
            "Epoch 2/5: 100%|██████████| 8/8 [00:00<00:00, 34.65it/s]\n",
            "Epoch 3/5: 100%|██████████| 8/8 [00:00<00:00, 34.84it/s]\n",
            "Epoch 4/5: 100%|██████████| 8/8 [00:00<00:00, 34.77it/s]\n",
            "Epoch 5/5: 100%|██████████| 8/8 [00:00<00:00, 34.77it/s]\n"
          ]
        },
        {
          "name": "stdout",
          "output_type": "stream",
          "text": [
            "Slice 4/5 retrained for shard 2/20\n"
          ]
        },
        {
          "name": "stderr",
          "output_type": "stream",
          "text": [
            "Epoch 1/5: 100%|██████████| 8/8 [00:00<00:00, 34.50it/s]\n",
            "Epoch 2/5: 100%|██████████| 8/8 [00:00<00:00, 34.69it/s]\n",
            "Epoch 3/5: 100%|██████████| 8/8 [00:00<00:00, 34.82it/s]\n",
            "Epoch 4/5: 100%|██████████| 8/8 [00:00<00:00, 34.97it/s]\n",
            "Epoch 5/5: 100%|██████████| 8/8 [00:00<00:00, 34.95it/s]\n"
          ]
        },
        {
          "name": "stdout",
          "output_type": "stream",
          "text": [
            "Slice 5/5 retrained for shard 2/20\n",
            "Retraining shard 3/20 containing data to forget\n"
          ]
        },
        {
          "name": "stderr",
          "output_type": "stream",
          "text": [
            "Epoch 1/5: 100%|██████████| 8/8 [00:00<00:00, 34.48it/s]\n",
            "Epoch 2/5: 100%|██████████| 8/8 [00:00<00:00, 34.79it/s]\n",
            "Epoch 3/5: 100%|██████████| 8/8 [00:00<00:00, 34.78it/s]\n",
            "Epoch 4/5: 100%|██████████| 8/8 [00:00<00:00, 34.84it/s]\n",
            "Epoch 5/5: 100%|██████████| 8/8 [00:00<00:00, 34.83it/s]\n"
          ]
        },
        {
          "name": "stdout",
          "output_type": "stream",
          "text": [
            "Slice 1/5 retrained for shard 3/20\n"
          ]
        },
        {
          "name": "stderr",
          "output_type": "stream",
          "text": [
            "Epoch 1/5: 100%|██████████| 8/8 [00:00<00:00, 34.52it/s]\n",
            "Epoch 2/5: 100%|██████████| 8/8 [00:00<00:00, 34.76it/s]\n",
            "Epoch 3/5: 100%|██████████| 8/8 [00:00<00:00, 34.89it/s]\n",
            "Epoch 4/5: 100%|██████████| 8/8 [00:00<00:00, 34.92it/s]\n",
            "Epoch 5/5: 100%|██████████| 8/8 [00:00<00:00, 34.81it/s]\n"
          ]
        },
        {
          "name": "stdout",
          "output_type": "stream",
          "text": [
            "Slice 2/5 retrained for shard 3/20\n"
          ]
        },
        {
          "name": "stderr",
          "output_type": "stream",
          "text": [
            "Epoch 1/5: 100%|██████████| 8/8 [00:00<00:00, 34.48it/s]\n",
            "Epoch 2/5: 100%|██████████| 8/8 [00:00<00:00, 34.92it/s]\n",
            "Epoch 3/5: 100%|██████████| 8/8 [00:00<00:00, 34.95it/s]\n",
            "Epoch 4/5: 100%|██████████| 8/8 [00:00<00:00, 34.82it/s]\n",
            "Epoch 5/5: 100%|██████████| 8/8 [00:00<00:00, 34.95it/s]\n"
          ]
        },
        {
          "name": "stdout",
          "output_type": "stream",
          "text": [
            "Slice 3/5 retrained for shard 3/20\n"
          ]
        },
        {
          "name": "stderr",
          "output_type": "stream",
          "text": [
            "Epoch 1/5: 100%|██████████| 8/8 [00:00<00:00, 34.50it/s]\n",
            "Epoch 2/5: 100%|██████████| 8/8 [00:00<00:00, 34.95it/s]\n",
            "Epoch 3/5: 100%|██████████| 8/8 [00:00<00:00, 35.01it/s]\n",
            "Epoch 4/5: 100%|██████████| 8/8 [00:00<00:00, 34.92it/s]\n",
            "Epoch 5/5: 100%|██████████| 8/8 [00:00<00:00, 34.71it/s]\n"
          ]
        },
        {
          "name": "stdout",
          "output_type": "stream",
          "text": [
            "Slice 4/5 retrained for shard 3/20\n"
          ]
        },
        {
          "name": "stderr",
          "output_type": "stream",
          "text": [
            "Epoch 1/5: 100%|██████████| 8/8 [00:00<00:00, 34.61it/s]\n",
            "Epoch 2/5: 100%|██████████| 8/8 [00:00<00:00, 35.00it/s]\n",
            "Epoch 3/5: 100%|██████████| 8/8 [00:00<00:00, 34.91it/s]\n",
            "Epoch 4/5: 100%|██████████| 8/8 [00:00<00:00, 34.88it/s]\n",
            "Epoch 5/5: 100%|██████████| 8/8 [00:00<00:00, 34.87it/s]\n"
          ]
        },
        {
          "name": "stdout",
          "output_type": "stream",
          "text": [
            "Slice 5/5 retrained for shard 3/20\n",
            "Retraining shard 4/20 containing data to forget\n"
          ]
        },
        {
          "name": "stderr",
          "output_type": "stream",
          "text": [
            "Epoch 1/5: 100%|██████████| 8/8 [00:00<00:00, 34.51it/s]\n",
            "Epoch 2/5: 100%|██████████| 8/8 [00:00<00:00, 35.09it/s]\n",
            "Epoch 3/5: 100%|██████████| 8/8 [00:00<00:00, 34.90it/s]\n",
            "Epoch 4/5: 100%|██████████| 8/8 [00:00<00:00, 34.95it/s]\n",
            "Epoch 5/5: 100%|██████████| 8/8 [00:00<00:00, 34.81it/s]\n"
          ]
        },
        {
          "name": "stdout",
          "output_type": "stream",
          "text": [
            "Slice 1/5 retrained for shard 4/20\n"
          ]
        },
        {
          "name": "stderr",
          "output_type": "stream",
          "text": [
            "Epoch 1/5: 100%|██████████| 8/8 [00:00<00:00, 34.52it/s]\n",
            "Epoch 2/5: 100%|██████████| 8/8 [00:00<00:00, 34.88it/s]\n",
            "Epoch 3/5: 100%|██████████| 8/8 [00:00<00:00, 34.98it/s]\n",
            "Epoch 4/5: 100%|██████████| 8/8 [00:00<00:00, 35.00it/s]\n",
            "Epoch 5/5: 100%|██████████| 8/8 [00:00<00:00, 34.94it/s]\n"
          ]
        },
        {
          "name": "stdout",
          "output_type": "stream",
          "text": [
            "Slice 2/5 retrained for shard 4/20\n"
          ]
        },
        {
          "name": "stderr",
          "output_type": "stream",
          "text": [
            "Epoch 1/5: 100%|██████████| 8/8 [00:00<00:00, 34.55it/s]\n",
            "Epoch 2/5: 100%|██████████| 8/8 [00:00<00:00, 34.78it/s]\n",
            "Epoch 3/5: 100%|██████████| 8/8 [00:00<00:00, 34.96it/s]\n",
            "Epoch 4/5: 100%|██████████| 8/8 [00:00<00:00, 34.94it/s]\n",
            "Epoch 5/5: 100%|██████████| 8/8 [00:00<00:00, 35.02it/s]\n"
          ]
        },
        {
          "name": "stdout",
          "output_type": "stream",
          "text": [
            "Slice 3/5 retrained for shard 4/20\n"
          ]
        },
        {
          "name": "stderr",
          "output_type": "stream",
          "text": [
            "Epoch 1/5: 100%|██████████| 8/8 [00:00<00:00, 34.56it/s]\n",
            "Epoch 2/5: 100%|██████████| 8/8 [00:00<00:00, 34.95it/s]\n",
            "Epoch 3/5: 100%|██████████| 8/8 [00:00<00:00, 34.94it/s]\n",
            "Epoch 4/5: 100%|██████████| 8/8 [00:00<00:00, 34.95it/s]\n",
            "Epoch 5/5: 100%|██████████| 8/8 [00:00<00:00, 35.01it/s]\n"
          ]
        },
        {
          "name": "stdout",
          "output_type": "stream",
          "text": [
            "Slice 4/5 retrained for shard 4/20\n"
          ]
        },
        {
          "name": "stderr",
          "output_type": "stream",
          "text": [
            "Epoch 1/5: 100%|██████████| 8/8 [00:00<00:00, 34.51it/s]\n",
            "Epoch 2/5: 100%|██████████| 8/8 [00:00<00:00, 34.93it/s]\n",
            "Epoch 3/5: 100%|██████████| 8/8 [00:00<00:00, 34.86it/s]\n",
            "Epoch 4/5: 100%|██████████| 8/8 [00:00<00:00, 34.85it/s]\n",
            "Epoch 5/5: 100%|██████████| 8/8 [00:00<00:00, 34.96it/s]\n"
          ]
        },
        {
          "name": "stdout",
          "output_type": "stream",
          "text": [
            "Slice 5/5 retrained for shard 4/20\n",
            "Retraining shard 5/20 containing data to forget\n"
          ]
        },
        {
          "name": "stderr",
          "output_type": "stream",
          "text": [
            "Epoch 1/5: 100%|██████████| 8/8 [00:00<00:00, 34.75it/s]\n",
            "Epoch 2/5: 100%|██████████| 8/8 [00:00<00:00, 35.02it/s]\n",
            "Epoch 3/5: 100%|██████████| 8/8 [00:00<00:00, 34.86it/s]\n",
            "Epoch 4/5: 100%|██████████| 8/8 [00:00<00:00, 34.99it/s]\n",
            "Epoch 5/5: 100%|██████████| 8/8 [00:00<00:00, 34.95it/s]\n"
          ]
        },
        {
          "name": "stdout",
          "output_type": "stream",
          "text": [
            "Slice 1/5 retrained for shard 5/20\n"
          ]
        },
        {
          "name": "stderr",
          "output_type": "stream",
          "text": [
            "Epoch 1/5: 100%|██████████| 8/8 [00:00<00:00, 34.60it/s]\n",
            "Epoch 2/5: 100%|██████████| 8/8 [00:00<00:00, 35.02it/s]\n",
            "Epoch 3/5: 100%|██████████| 8/8 [00:00<00:00, 34.94it/s]\n",
            "Epoch 4/5: 100%|██████████| 8/8 [00:00<00:00, 34.97it/s]\n",
            "Epoch 5/5: 100%|██████████| 8/8 [00:00<00:00, 35.00it/s]\n"
          ]
        },
        {
          "name": "stdout",
          "output_type": "stream",
          "text": [
            "Slice 2/5 retrained for shard 5/20\n"
          ]
        },
        {
          "name": "stderr",
          "output_type": "stream",
          "text": [
            "Epoch 1/5: 100%|██████████| 8/8 [00:00<00:00, 34.68it/s]\n",
            "Epoch 2/5: 100%|██████████| 8/8 [00:00<00:00, 34.95it/s]\n",
            "Epoch 3/5: 100%|██████████| 8/8 [00:00<00:00, 35.00it/s]\n",
            "Epoch 4/5: 100%|██████████| 8/8 [00:00<00:00, 34.98it/s]\n",
            "Epoch 5/5: 100%|██████████| 8/8 [00:00<00:00, 34.96it/s]\n"
          ]
        },
        {
          "name": "stdout",
          "output_type": "stream",
          "text": [
            "Slice 3/5 retrained for shard 5/20\n"
          ]
        },
        {
          "name": "stderr",
          "output_type": "stream",
          "text": [
            "Epoch 1/5: 100%|██████████| 8/8 [00:00<00:00, 34.55it/s]\n",
            "Epoch 2/5: 100%|██████████| 8/8 [00:00<00:00, 34.96it/s]\n",
            "Epoch 3/5: 100%|██████████| 8/8 [00:00<00:00, 34.99it/s]\n",
            "Epoch 4/5: 100%|██████████| 8/8 [00:00<00:00, 34.99it/s]\n",
            "Epoch 5/5: 100%|██████████| 8/8 [00:00<00:00, 34.98it/s]\n"
          ]
        },
        {
          "name": "stdout",
          "output_type": "stream",
          "text": [
            "Slice 4/5 retrained for shard 5/20\n"
          ]
        },
        {
          "name": "stderr",
          "output_type": "stream",
          "text": [
            "Epoch 1/5: 100%|██████████| 8/8 [00:00<00:00, 34.52it/s]\n",
            "Epoch 2/5: 100%|██████████| 8/8 [00:00<00:00, 34.87it/s]\n",
            "Epoch 3/5: 100%|██████████| 8/8 [00:00<00:00, 34.84it/s]\n",
            "Epoch 4/5: 100%|██████████| 8/8 [00:00<00:00, 34.84it/s]\n",
            "Epoch 5/5: 100%|██████████| 8/8 [00:00<00:00, 34.87it/s]\n"
          ]
        },
        {
          "name": "stdout",
          "output_type": "stream",
          "text": [
            "Slice 5/5 retrained for shard 5/20\n",
            "Retraining shard 6/20 containing data to forget\n"
          ]
        },
        {
          "name": "stderr",
          "output_type": "stream",
          "text": [
            "Epoch 1/5: 100%|██████████| 8/8 [00:00<00:00, 34.71it/s]\n",
            "Epoch 2/5: 100%|██████████| 8/8 [00:00<00:00, 35.06it/s]\n",
            "Epoch 3/5: 100%|██████████| 8/8 [00:00<00:00, 34.91it/s]\n",
            "Epoch 4/5: 100%|██████████| 8/8 [00:00<00:00, 35.00it/s]\n",
            "Epoch 5/5: 100%|██████████| 8/8 [00:00<00:00, 34.73it/s]\n"
          ]
        },
        {
          "name": "stdout",
          "output_type": "stream",
          "text": [
            "Slice 1/5 retrained for shard 6/20\n"
          ]
        },
        {
          "name": "stderr",
          "output_type": "stream",
          "text": [
            "Epoch 1/5: 100%|██████████| 8/8 [00:00<00:00, 34.66it/s]\n",
            "Epoch 2/5: 100%|██████████| 8/8 [00:00<00:00, 34.95it/s]\n",
            "Epoch 3/5: 100%|██████████| 8/8 [00:00<00:00, 35.04it/s]\n",
            "Epoch 4/5: 100%|██████████| 8/8 [00:00<00:00, 34.94it/s]\n",
            "Epoch 5/5: 100%|██████████| 8/8 [00:00<00:00, 34.98it/s]\n"
          ]
        },
        {
          "name": "stdout",
          "output_type": "stream",
          "text": [
            "Slice 2/5 retrained for shard 6/20\n"
          ]
        },
        {
          "name": "stderr",
          "output_type": "stream",
          "text": [
            "Epoch 1/5: 100%|██████████| 8/8 [00:00<00:00, 34.60it/s]\n",
            "Epoch 2/5: 100%|██████████| 8/8 [00:00<00:00, 34.72it/s]\n",
            "Epoch 3/5: 100%|██████████| 8/8 [00:00<00:00, 34.97it/s]\n",
            "Epoch 4/5: 100%|██████████| 8/8 [00:00<00:00, 34.97it/s]\n",
            "Epoch 5/5: 100%|██████████| 8/8 [00:00<00:00, 35.00it/s]\n"
          ]
        },
        {
          "name": "stdout",
          "output_type": "stream",
          "text": [
            "Slice 3/5 retrained for shard 6/20\n"
          ]
        },
        {
          "name": "stderr",
          "output_type": "stream",
          "text": [
            "Epoch 1/5: 100%|██████████| 8/8 [00:00<00:00, 34.56it/s]\n",
            "Epoch 2/5: 100%|██████████| 8/8 [00:00<00:00, 34.87it/s]\n",
            "Epoch 3/5: 100%|██████████| 8/8 [00:00<00:00, 34.86it/s]\n",
            "Epoch 4/5: 100%|██████████| 8/8 [00:00<00:00, 34.74it/s]\n",
            "Epoch 5/5: 100%|██████████| 8/8 [00:00<00:00, 34.85it/s]\n"
          ]
        },
        {
          "name": "stdout",
          "output_type": "stream",
          "text": [
            "Slice 4/5 retrained for shard 6/20\n"
          ]
        },
        {
          "name": "stderr",
          "output_type": "stream",
          "text": [
            "Epoch 1/5: 100%|██████████| 8/8 [00:00<00:00, 34.42it/s]\n",
            "Epoch 2/5: 100%|██████████| 8/8 [00:00<00:00, 34.89it/s]\n",
            "Epoch 3/5: 100%|██████████| 8/8 [00:00<00:00, 34.92it/s]\n",
            "Epoch 4/5: 100%|██████████| 8/8 [00:00<00:00, 34.88it/s]\n",
            "Epoch 5/5: 100%|██████████| 8/8 [00:00<00:00, 34.84it/s]\n"
          ]
        },
        {
          "name": "stdout",
          "output_type": "stream",
          "text": [
            "Slice 5/5 retrained for shard 6/20\n",
            "Retraining shard 7/20 containing data to forget\n"
          ]
        },
        {
          "name": "stderr",
          "output_type": "stream",
          "text": [
            "Epoch 1/5: 100%|██████████| 8/8 [00:00<00:00, 34.50it/s]\n",
            "Epoch 2/5: 100%|██████████| 8/8 [00:00<00:00, 34.86it/s]\n",
            "Epoch 3/5: 100%|██████████| 8/8 [00:00<00:00, 34.84it/s]\n",
            "Epoch 4/5: 100%|██████████| 8/8 [00:00<00:00, 34.78it/s]\n",
            "Epoch 5/5: 100%|██████████| 8/8 [00:00<00:00, 34.91it/s]\n"
          ]
        },
        {
          "name": "stdout",
          "output_type": "stream",
          "text": [
            "Slice 1/5 retrained for shard 7/20\n"
          ]
        },
        {
          "name": "stderr",
          "output_type": "stream",
          "text": [
            "Epoch 1/5: 100%|██████████| 8/8 [00:00<00:00, 34.49it/s]\n",
            "Epoch 2/5: 100%|██████████| 8/8 [00:00<00:00, 34.89it/s]\n",
            "Epoch 3/5: 100%|██████████| 8/8 [00:00<00:00, 34.79it/s]\n",
            "Epoch 4/5: 100%|██████████| 8/8 [00:00<00:00, 34.89it/s]\n",
            "Epoch 5/5: 100%|██████████| 8/8 [00:00<00:00, 34.88it/s]\n"
          ]
        },
        {
          "name": "stdout",
          "output_type": "stream",
          "text": [
            "Slice 2/5 retrained for shard 7/20\n"
          ]
        },
        {
          "name": "stderr",
          "output_type": "stream",
          "text": [
            "Epoch 1/5: 100%|██████████| 8/8 [00:00<00:00, 34.63it/s]\n",
            "Epoch 2/5: 100%|██████████| 8/8 [00:00<00:00, 34.83it/s]\n",
            "Epoch 3/5: 100%|██████████| 8/8 [00:00<00:00, 34.95it/s]\n",
            "Epoch 4/5: 100%|██████████| 8/8 [00:00<00:00, 34.83it/s]\n",
            "Epoch 5/5: 100%|██████████| 8/8 [00:00<00:00, 34.86it/s]\n"
          ]
        },
        {
          "name": "stdout",
          "output_type": "stream",
          "text": [
            "Slice 3/5 retrained for shard 7/20\n"
          ]
        },
        {
          "name": "stderr",
          "output_type": "stream",
          "text": [
            "Epoch 1/5: 100%|██████████| 8/8 [00:00<00:00, 34.43it/s]\n",
            "Epoch 2/5: 100%|██████████| 8/8 [00:00<00:00, 34.83it/s]\n",
            "Epoch 3/5: 100%|██████████| 8/8 [00:00<00:00, 34.89it/s]\n",
            "Epoch 4/5: 100%|██████████| 8/8 [00:00<00:00, 34.81it/s]\n",
            "Epoch 5/5: 100%|██████████| 8/8 [00:00<00:00, 34.85it/s]\n"
          ]
        },
        {
          "name": "stdout",
          "output_type": "stream",
          "text": [
            "Slice 4/5 retrained for shard 7/20\n"
          ]
        },
        {
          "name": "stderr",
          "output_type": "stream",
          "text": [
            "Epoch 1/5: 100%|██████████| 8/8 [00:00<00:00, 34.57it/s]\n",
            "Epoch 2/5: 100%|██████████| 8/8 [00:00<00:00, 34.87it/s]\n",
            "Epoch 3/5: 100%|██████████| 8/8 [00:00<00:00, 34.91it/s]\n",
            "Epoch 4/5: 100%|██████████| 8/8 [00:00<00:00, 34.97it/s]\n",
            "Epoch 5/5: 100%|██████████| 8/8 [00:00<00:00, 34.95it/s]\n"
          ]
        },
        {
          "name": "stdout",
          "output_type": "stream",
          "text": [
            "Slice 5/5 retrained for shard 7/20\n",
            "Retraining shard 8/20 containing data to forget\n"
          ]
        },
        {
          "name": "stderr",
          "output_type": "stream",
          "text": [
            "Epoch 1/5: 100%|██████████| 8/8 [00:00<00:00, 34.49it/s]\n",
            "Epoch 2/5: 100%|██████████| 8/8 [00:00<00:00, 34.93it/s]\n",
            "Epoch 3/5: 100%|██████████| 8/8 [00:00<00:00, 34.87it/s]\n",
            "Epoch 4/5: 100%|██████████| 8/8 [00:00<00:00, 34.87it/s]\n",
            "Epoch 5/5: 100%|██████████| 8/8 [00:00<00:00, 34.90it/s]\n"
          ]
        },
        {
          "name": "stdout",
          "output_type": "stream",
          "text": [
            "Slice 1/5 retrained for shard 8/20\n"
          ]
        },
        {
          "name": "stderr",
          "output_type": "stream",
          "text": [
            "Epoch 1/5: 100%|██████████| 8/8 [00:00<00:00, 34.50it/s]\n",
            "Epoch 2/5: 100%|██████████| 8/8 [00:00<00:00, 34.88it/s]\n",
            "Epoch 3/5: 100%|██████████| 8/8 [00:00<00:00, 34.80it/s]\n",
            "Epoch 4/5: 100%|██████████| 8/8 [00:00<00:00, 34.83it/s]\n",
            "Epoch 5/5: 100%|██████████| 8/8 [00:00<00:00, 34.99it/s]\n"
          ]
        },
        {
          "name": "stdout",
          "output_type": "stream",
          "text": [
            "Slice 2/5 retrained for shard 8/20\n"
          ]
        },
        {
          "name": "stderr",
          "output_type": "stream",
          "text": [
            "Epoch 1/5: 100%|██████████| 8/8 [00:00<00:00, 34.66it/s]\n",
            "Epoch 2/5: 100%|██████████| 8/8 [00:00<00:00, 34.89it/s]\n",
            "Epoch 3/5: 100%|██████████| 8/8 [00:00<00:00, 34.85it/s]\n",
            "Epoch 4/5: 100%|██████████| 8/8 [00:00<00:00, 34.89it/s]\n",
            "Epoch 5/5: 100%|██████████| 8/8 [00:00<00:00, 34.93it/s]\n"
          ]
        },
        {
          "name": "stdout",
          "output_type": "stream",
          "text": [
            "Slice 3/5 retrained for shard 8/20\n"
          ]
        },
        {
          "name": "stderr",
          "output_type": "stream",
          "text": [
            "Epoch 1/5: 100%|██████████| 8/8 [00:00<00:00, 34.64it/s]\n",
            "Epoch 2/5: 100%|██████████| 8/8 [00:00<00:00, 34.86it/s]\n",
            "Epoch 3/5: 100%|██████████| 8/8 [00:00<00:00, 34.74it/s]\n",
            "Epoch 4/5: 100%|██████████| 8/8 [00:00<00:00, 34.67it/s]\n",
            "Epoch 5/5: 100%|██████████| 8/8 [00:00<00:00, 34.80it/s]\n"
          ]
        },
        {
          "name": "stdout",
          "output_type": "stream",
          "text": [
            "Slice 4/5 retrained for shard 8/20\n"
          ]
        },
        {
          "name": "stderr",
          "output_type": "stream",
          "text": [
            "Epoch 1/5: 100%|██████████| 8/8 [00:00<00:00, 34.47it/s]\n",
            "Epoch 2/5: 100%|██████████| 8/8 [00:00<00:00, 34.75it/s]\n",
            "Epoch 3/5: 100%|██████████| 8/8 [00:00<00:00, 34.71it/s]\n",
            "Epoch 4/5: 100%|██████████| 8/8 [00:00<00:00, 34.80it/s]\n",
            "Epoch 5/5: 100%|██████████| 8/8 [00:00<00:00, 34.82it/s]\n"
          ]
        },
        {
          "name": "stdout",
          "output_type": "stream",
          "text": [
            "Slice 5/5 retrained for shard 8/20\n",
            "Retraining shard 9/20 containing data to forget\n"
          ]
        },
        {
          "name": "stderr",
          "output_type": "stream",
          "text": [
            "Epoch 1/5: 100%|██████████| 8/8 [00:00<00:00, 34.53it/s]\n",
            "Epoch 2/5: 100%|██████████| 8/8 [00:00<00:00, 34.70it/s]\n",
            "Epoch 3/5: 100%|██████████| 8/8 [00:00<00:00, 34.79it/s]\n",
            "Epoch 4/5: 100%|██████████| 8/8 [00:00<00:00, 34.83it/s]\n",
            "Epoch 5/5: 100%|██████████| 8/8 [00:00<00:00, 34.86it/s]\n"
          ]
        },
        {
          "name": "stdout",
          "output_type": "stream",
          "text": [
            "Slice 1/5 retrained for shard 9/20\n"
          ]
        },
        {
          "name": "stderr",
          "output_type": "stream",
          "text": [
            "Epoch 1/5: 100%|██████████| 8/8 [00:00<00:00, 34.48it/s]\n",
            "Epoch 2/5: 100%|██████████| 8/8 [00:00<00:00, 34.77it/s]\n",
            "Epoch 3/5: 100%|██████████| 8/8 [00:00<00:00, 34.54it/s]\n",
            "Epoch 4/5: 100%|██████████| 8/8 [00:00<00:00, 34.71it/s]\n",
            "Epoch 5/5: 100%|██████████| 8/8 [00:00<00:00, 34.81it/s]\n"
          ]
        },
        {
          "name": "stdout",
          "output_type": "stream",
          "text": [
            "Slice 2/5 retrained for shard 9/20\n"
          ]
        },
        {
          "name": "stderr",
          "output_type": "stream",
          "text": [
            "Epoch 1/5: 100%|██████████| 8/8 [00:00<00:00, 34.52it/s]\n",
            "Epoch 2/5: 100%|██████████| 8/8 [00:00<00:00, 34.61it/s]\n",
            "Epoch 3/5: 100%|██████████| 8/8 [00:00<00:00, 34.65it/s]\n",
            "Epoch 4/5: 100%|██████████| 8/8 [00:00<00:00, 34.79it/s]\n",
            "Epoch 5/5: 100%|██████████| 8/8 [00:00<00:00, 34.80it/s]\n"
          ]
        },
        {
          "name": "stdout",
          "output_type": "stream",
          "text": [
            "Slice 3/5 retrained for shard 9/20\n"
          ]
        },
        {
          "name": "stderr",
          "output_type": "stream",
          "text": [
            "Epoch 1/5: 100%|██████████| 8/8 [00:00<00:00, 34.62it/s]\n",
            "Epoch 2/5: 100%|██████████| 8/8 [00:00<00:00, 34.50it/s]\n",
            "Epoch 3/5: 100%|██████████| 8/8 [00:00<00:00, 34.57it/s]\n",
            "Epoch 4/5: 100%|██████████| 8/8 [00:00<00:00, 34.74it/s]\n",
            "Epoch 5/5: 100%|██████████| 8/8 [00:00<00:00, 34.79it/s]\n"
          ]
        },
        {
          "name": "stdout",
          "output_type": "stream",
          "text": [
            "Slice 4/5 retrained for shard 9/20\n"
          ]
        },
        {
          "name": "stderr",
          "output_type": "stream",
          "text": [
            "Epoch 1/5: 100%|██████████| 8/8 [00:00<00:00, 34.57it/s]\n",
            "Epoch 2/5: 100%|██████████| 8/8 [00:00<00:00, 34.87it/s]\n",
            "Epoch 3/5: 100%|██████████| 8/8 [00:00<00:00, 34.84it/s]\n",
            "Epoch 4/5: 100%|██████████| 8/8 [00:00<00:00, 34.65it/s]\n",
            "Epoch 5/5: 100%|██████████| 8/8 [00:00<00:00, 34.82it/s]\n"
          ]
        },
        {
          "name": "stdout",
          "output_type": "stream",
          "text": [
            "Slice 5/5 retrained for shard 9/20\n",
            "Retraining shard 10/20 containing data to forget\n"
          ]
        },
        {
          "name": "stderr",
          "output_type": "stream",
          "text": [
            "Epoch 1/5: 100%|██████████| 8/8 [00:00<00:00, 34.51it/s]\n",
            "Epoch 2/5: 100%|██████████| 8/8 [00:00<00:00, 34.76it/s]\n",
            "Epoch 3/5: 100%|██████████| 8/8 [00:00<00:00, 34.79it/s]\n",
            "Epoch 4/5: 100%|██████████| 8/8 [00:00<00:00, 34.86it/s]\n",
            "Epoch 5/5: 100%|██████████| 8/8 [00:00<00:00, 34.85it/s]\n"
          ]
        },
        {
          "name": "stdout",
          "output_type": "stream",
          "text": [
            "Slice 1/5 retrained for shard 10/20\n"
          ]
        },
        {
          "name": "stderr",
          "output_type": "stream",
          "text": [
            "Epoch 1/5: 100%|██████████| 8/8 [00:00<00:00, 34.37it/s]\n",
            "Epoch 2/5: 100%|██████████| 8/8 [00:00<00:00, 34.74it/s]\n",
            "Epoch 3/5: 100%|██████████| 8/8 [00:00<00:00, 34.82it/s]\n",
            "Epoch 4/5: 100%|██████████| 8/8 [00:00<00:00, 34.71it/s]\n",
            "Epoch 5/5: 100%|██████████| 8/8 [00:00<00:00, 34.86it/s]\n"
          ]
        },
        {
          "name": "stdout",
          "output_type": "stream",
          "text": [
            "Slice 2/5 retrained for shard 10/20\n"
          ]
        },
        {
          "name": "stderr",
          "output_type": "stream",
          "text": [
            "Epoch 1/5: 100%|██████████| 8/8 [00:00<00:00, 34.23it/s]\n",
            "Epoch 2/5: 100%|██████████| 8/8 [00:00<00:00, 34.55it/s]\n",
            "Epoch 3/5: 100%|██████████| 8/8 [00:00<00:00, 34.79it/s]\n",
            "Epoch 4/5: 100%|██████████| 8/8 [00:00<00:00, 34.76it/s]\n",
            "Epoch 5/5: 100%|██████████| 8/8 [00:00<00:00, 34.85it/s]\n"
          ]
        },
        {
          "name": "stdout",
          "output_type": "stream",
          "text": [
            "Slice 3/5 retrained for shard 10/20\n"
          ]
        },
        {
          "name": "stderr",
          "output_type": "stream",
          "text": [
            "Epoch 1/5: 100%|██████████| 8/8 [00:00<00:00, 34.49it/s]\n",
            "Epoch 2/5: 100%|██████████| 8/8 [00:00<00:00, 34.89it/s]\n",
            "Epoch 3/5: 100%|██████████| 8/8 [00:00<00:00, 34.80it/s]\n",
            "Epoch 4/5: 100%|██████████| 8/8 [00:00<00:00, 34.79it/s]\n",
            "Epoch 5/5: 100%|██████████| 8/8 [00:00<00:00, 34.83it/s]\n"
          ]
        },
        {
          "name": "stdout",
          "output_type": "stream",
          "text": [
            "Slice 4/5 retrained for shard 10/20\n"
          ]
        },
        {
          "name": "stderr",
          "output_type": "stream",
          "text": [
            "Epoch 1/5: 100%|██████████| 8/8 [00:00<00:00, 34.52it/s]\n",
            "Epoch 2/5: 100%|██████████| 8/8 [00:00<00:00, 34.83it/s]\n",
            "Epoch 3/5: 100%|██████████| 8/8 [00:00<00:00, 34.81it/s]\n",
            "Epoch 4/5: 100%|██████████| 8/8 [00:00<00:00, 34.78it/s]\n",
            "Epoch 5/5: 100%|██████████| 8/8 [00:00<00:00, 34.78it/s]\n"
          ]
        },
        {
          "name": "stdout",
          "output_type": "stream",
          "text": [
            "Slice 5/5 retrained for shard 10/20\n",
            "Retraining shard 11/20 containing data to forget\n"
          ]
        },
        {
          "name": "stderr",
          "output_type": "stream",
          "text": [
            "Epoch 1/5: 100%|██████████| 8/8 [00:00<00:00, 34.45it/s]\n",
            "Epoch 2/5: 100%|██████████| 8/8 [00:00<00:00, 35.03it/s]\n",
            "Epoch 3/5: 100%|██████████| 8/8 [00:00<00:00, 34.89it/s]\n",
            "Epoch 4/5: 100%|██████████| 8/8 [00:00<00:00, 34.95it/s]\n",
            "Epoch 5/5: 100%|██████████| 8/8 [00:00<00:00, 34.69it/s]\n"
          ]
        },
        {
          "name": "stdout",
          "output_type": "stream",
          "text": [
            "Slice 1/5 retrained for shard 11/20\n"
          ]
        },
        {
          "name": "stderr",
          "output_type": "stream",
          "text": [
            "Epoch 1/5: 100%|██████████| 8/8 [00:00<00:00, 34.55it/s]\n",
            "Epoch 2/5: 100%|██████████| 8/8 [00:00<00:00, 34.92it/s]\n",
            "Epoch 3/5: 100%|██████████| 8/8 [00:00<00:00, 34.93it/s]\n",
            "Epoch 4/5: 100%|██████████| 8/8 [00:00<00:00, 34.85it/s]\n",
            "Epoch 5/5: 100%|██████████| 8/8 [00:00<00:00, 34.83it/s]\n"
          ]
        },
        {
          "name": "stdout",
          "output_type": "stream",
          "text": [
            "Slice 2/5 retrained for shard 11/20\n"
          ]
        },
        {
          "name": "stderr",
          "output_type": "stream",
          "text": [
            "Epoch 1/5: 100%|██████████| 8/8 [00:00<00:00, 34.58it/s]\n",
            "Epoch 2/5: 100%|██████████| 8/8 [00:00<00:00, 34.92it/s]\n",
            "Epoch 3/5: 100%|██████████| 8/8 [00:00<00:00, 34.91it/s]\n",
            "Epoch 4/5: 100%|██████████| 8/8 [00:00<00:00, 34.92it/s]\n",
            "Epoch 5/5: 100%|██████████| 8/8 [00:00<00:00, 34.87it/s]\n"
          ]
        },
        {
          "name": "stdout",
          "output_type": "stream",
          "text": [
            "Slice 3/5 retrained for shard 11/20\n"
          ]
        },
        {
          "name": "stderr",
          "output_type": "stream",
          "text": [
            "Epoch 1/5: 100%|██████████| 8/8 [00:00<00:00, 34.67it/s]\n",
            "Epoch 2/5: 100%|██████████| 8/8 [00:00<00:00, 34.82it/s]\n",
            "Epoch 3/5: 100%|██████████| 8/8 [00:00<00:00, 34.96it/s]\n",
            "Epoch 4/5: 100%|██████████| 8/8 [00:00<00:00, 34.98it/s]\n",
            "Epoch 5/5: 100%|██████████| 8/8 [00:00<00:00, 34.91it/s]\n"
          ]
        },
        {
          "name": "stdout",
          "output_type": "stream",
          "text": [
            "Slice 4/5 retrained for shard 11/20\n"
          ]
        },
        {
          "name": "stderr",
          "output_type": "stream",
          "text": [
            "Epoch 1/5: 100%|██████████| 8/8 [00:00<00:00, 34.61it/s]\n",
            "Epoch 2/5: 100%|██████████| 8/8 [00:00<00:00, 34.88it/s]\n",
            "Epoch 3/5: 100%|██████████| 8/8 [00:00<00:00, 34.91it/s]\n",
            "Epoch 4/5: 100%|██████████| 8/8 [00:00<00:00, 34.82it/s]\n",
            "Epoch 5/5: 100%|██████████| 8/8 [00:00<00:00, 34.91it/s]\n"
          ]
        },
        {
          "name": "stdout",
          "output_type": "stream",
          "text": [
            "Slice 5/5 retrained for shard 11/20\n",
            "Retraining shard 12/20 containing data to forget\n"
          ]
        },
        {
          "name": "stderr",
          "output_type": "stream",
          "text": [
            "Epoch 1/5: 100%|██████████| 8/8 [00:00<00:00, 34.58it/s]\n",
            "Epoch 2/5: 100%|██████████| 8/8 [00:00<00:00, 34.84it/s]\n",
            "Epoch 3/5: 100%|██████████| 8/8 [00:00<00:00, 34.89it/s]\n",
            "Epoch 4/5: 100%|██████████| 8/8 [00:00<00:00, 35.02it/s]\n",
            "Epoch 5/5: 100%|██████████| 8/8 [00:00<00:00, 34.85it/s]\n"
          ]
        },
        {
          "name": "stdout",
          "output_type": "stream",
          "text": [
            "Slice 1/5 retrained for shard 12/20\n"
          ]
        },
        {
          "name": "stderr",
          "output_type": "stream",
          "text": [
            "Epoch 1/5: 100%|██████████| 8/8 [00:00<00:00, 34.55it/s]\n",
            "Epoch 2/5: 100%|██████████| 8/8 [00:00<00:00, 34.93it/s]\n",
            "Epoch 3/5: 100%|██████████| 8/8 [00:00<00:00, 35.03it/s]\n",
            "Epoch 4/5: 100%|██████████| 8/8 [00:00<00:00, 35.03it/s]\n",
            "Epoch 5/5: 100%|██████████| 8/8 [00:00<00:00, 34.69it/s]\n"
          ]
        },
        {
          "name": "stdout",
          "output_type": "stream",
          "text": [
            "Slice 2/5 retrained for shard 12/20\n"
          ]
        },
        {
          "name": "stderr",
          "output_type": "stream",
          "text": [
            "Epoch 1/5: 100%|██████████| 8/8 [00:00<00:00, 34.54it/s]\n",
            "Epoch 2/5: 100%|██████████| 8/8 [00:00<00:00, 34.70it/s]\n",
            "Epoch 3/5: 100%|██████████| 8/8 [00:00<00:00, 35.00it/s]\n",
            "Epoch 4/5: 100%|██████████| 8/8 [00:00<00:00, 35.00it/s]\n",
            "Epoch 5/5: 100%|██████████| 8/8 [00:00<00:00, 34.95it/s]\n"
          ]
        },
        {
          "name": "stdout",
          "output_type": "stream",
          "text": [
            "Slice 3/5 retrained for shard 12/20\n"
          ]
        },
        {
          "name": "stderr",
          "output_type": "stream",
          "text": [
            "Epoch 1/5: 100%|██████████| 8/8 [00:00<00:00, 34.52it/s]\n",
            "Epoch 2/5: 100%|██████████| 8/8 [00:00<00:00, 34.70it/s]\n",
            "Epoch 3/5: 100%|██████████| 8/8 [00:00<00:00, 34.94it/s]\n",
            "Epoch 4/5: 100%|██████████| 8/8 [00:00<00:00, 34.92it/s]\n",
            "Epoch 5/5: 100%|██████████| 8/8 [00:00<00:00, 34.86it/s]\n"
          ]
        },
        {
          "name": "stdout",
          "output_type": "stream",
          "text": [
            "Slice 4/5 retrained for shard 12/20\n"
          ]
        },
        {
          "name": "stderr",
          "output_type": "stream",
          "text": [
            "Epoch 1/5: 100%|██████████| 8/8 [00:00<00:00, 34.57it/s]\n",
            "Epoch 2/5: 100%|██████████| 8/8 [00:00<00:00, 34.93it/s]\n",
            "Epoch 3/5: 100%|██████████| 8/8 [00:00<00:00, 34.72it/s]\n",
            "Epoch 4/5: 100%|██████████| 8/8 [00:00<00:00, 34.92it/s]\n",
            "Epoch 5/5: 100%|██████████| 8/8 [00:00<00:00, 34.93it/s]\n"
          ]
        },
        {
          "name": "stdout",
          "output_type": "stream",
          "text": [
            "Slice 5/5 retrained for shard 12/20\n",
            "Retraining shard 13/20 containing data to forget\n"
          ]
        },
        {
          "name": "stderr",
          "output_type": "stream",
          "text": [
            "Epoch 1/5: 100%|██████████| 8/8 [00:00<00:00, 34.67it/s]\n",
            "Epoch 2/5: 100%|██████████| 8/8 [00:00<00:00, 35.05it/s]\n",
            "Epoch 3/5: 100%|██████████| 8/8 [00:00<00:00, 34.89it/s]\n",
            "Epoch 4/5: 100%|██████████| 8/8 [00:00<00:00, 34.93it/s]\n",
            "Epoch 5/5: 100%|██████████| 8/8 [00:00<00:00, 34.87it/s]\n"
          ]
        },
        {
          "name": "stdout",
          "output_type": "stream",
          "text": [
            "Slice 1/5 retrained for shard 13/20\n"
          ]
        },
        {
          "name": "stderr",
          "output_type": "stream",
          "text": [
            "Epoch 1/5: 100%|██████████| 8/8 [00:00<00:00, 34.64it/s]\n",
            "Epoch 2/5: 100%|██████████| 8/8 [00:00<00:00, 34.97it/s]\n",
            "Epoch 3/5: 100%|██████████| 8/8 [00:00<00:00, 34.95it/s]\n",
            "Epoch 4/5: 100%|██████████| 8/8 [00:00<00:00, 34.83it/s]\n",
            "Epoch 5/5: 100%|██████████| 8/8 [00:00<00:00, 34.97it/s]\n"
          ]
        },
        {
          "name": "stdout",
          "output_type": "stream",
          "text": [
            "Slice 2/5 retrained for shard 13/20\n"
          ]
        },
        {
          "name": "stderr",
          "output_type": "stream",
          "text": [
            "Epoch 1/5: 100%|██████████| 8/8 [00:00<00:00, 34.58it/s]\n",
            "Epoch 2/5: 100%|██████████| 8/8 [00:00<00:00, 34.96it/s]\n",
            "Epoch 3/5: 100%|██████████| 8/8 [00:00<00:00, 34.82it/s]\n",
            "Epoch 4/5: 100%|██████████| 8/8 [00:00<00:00, 34.75it/s]\n",
            "Epoch 5/5: 100%|██████████| 8/8 [00:00<00:00, 34.92it/s]\n"
          ]
        },
        {
          "name": "stdout",
          "output_type": "stream",
          "text": [
            "Slice 3/5 retrained for shard 13/20\n"
          ]
        },
        {
          "name": "stderr",
          "output_type": "stream",
          "text": [
            "Epoch 1/5: 100%|██████████| 8/8 [00:00<00:00, 34.54it/s]\n",
            "Epoch 2/5: 100%|██████████| 8/8 [00:00<00:00, 34.96it/s]\n",
            "Epoch 3/5: 100%|██████████| 8/8 [00:00<00:00, 34.93it/s]\n",
            "Epoch 4/5: 100%|██████████| 8/8 [00:00<00:00, 34.94it/s]\n",
            "Epoch 5/5: 100%|██████████| 8/8 [00:00<00:00, 35.04it/s]\n"
          ]
        },
        {
          "name": "stdout",
          "output_type": "stream",
          "text": [
            "Slice 4/5 retrained for shard 13/20\n"
          ]
        },
        {
          "name": "stderr",
          "output_type": "stream",
          "text": [
            "Epoch 1/5: 100%|██████████| 8/8 [00:00<00:00, 34.69it/s]\n",
            "Epoch 2/5: 100%|██████████| 8/8 [00:00<00:00, 34.86it/s]\n",
            "Epoch 3/5: 100%|██████████| 8/8 [00:00<00:00, 35.00it/s]\n",
            "Epoch 4/5: 100%|██████████| 8/8 [00:00<00:00, 34.93it/s]\n",
            "Epoch 5/5: 100%|██████████| 8/8 [00:00<00:00, 34.96it/s]\n"
          ]
        },
        {
          "name": "stdout",
          "output_type": "stream",
          "text": [
            "Slice 5/5 retrained for shard 13/20\n",
            "Retraining shard 14/20 containing data to forget\n"
          ]
        },
        {
          "name": "stderr",
          "output_type": "stream",
          "text": [
            "Epoch 1/5: 100%|██████████| 8/8 [00:00<00:00, 34.61it/s]\n",
            "Epoch 2/5: 100%|██████████| 8/8 [00:00<00:00, 34.89it/s]\n",
            "Epoch 3/5: 100%|██████████| 8/8 [00:00<00:00, 34.89it/s]\n",
            "Epoch 4/5: 100%|██████████| 8/8 [00:00<00:00, 34.67it/s]\n",
            "Epoch 5/5: 100%|██████████| 8/8 [00:00<00:00, 34.80it/s]\n"
          ]
        },
        {
          "name": "stdout",
          "output_type": "stream",
          "text": [
            "Slice 1/5 retrained for shard 14/20\n"
          ]
        },
        {
          "name": "stderr",
          "output_type": "stream",
          "text": [
            "Epoch 1/5: 100%|██████████| 8/8 [00:00<00:00, 34.59it/s]\n",
            "Epoch 2/5: 100%|██████████| 8/8 [00:00<00:00, 35.01it/s]\n",
            "Epoch 3/5: 100%|██████████| 8/8 [00:00<00:00, 34.79it/s]\n",
            "Epoch 4/5: 100%|██████████| 8/8 [00:00<00:00, 34.90it/s]\n",
            "Epoch 5/5: 100%|██████████| 8/8 [00:00<00:00, 34.90it/s]\n"
          ]
        },
        {
          "name": "stdout",
          "output_type": "stream",
          "text": [
            "Slice 2/5 retrained for shard 14/20\n"
          ]
        },
        {
          "name": "stderr",
          "output_type": "stream",
          "text": [
            "Epoch 1/5: 100%|██████████| 8/8 [00:00<00:00, 34.61it/s]\n",
            "Epoch 2/5: 100%|██████████| 8/8 [00:00<00:00, 34.71it/s]\n",
            "Epoch 3/5: 100%|██████████| 8/8 [00:00<00:00, 34.89it/s]\n",
            "Epoch 4/5: 100%|██████████| 8/8 [00:00<00:00, 34.79it/s]\n",
            "Epoch 5/5: 100%|██████████| 8/8 [00:00<00:00, 34.88it/s]\n"
          ]
        },
        {
          "name": "stdout",
          "output_type": "stream",
          "text": [
            "Slice 3/5 retrained for shard 14/20\n"
          ]
        },
        {
          "name": "stderr",
          "output_type": "stream",
          "text": [
            "Epoch 1/5: 100%|██████████| 8/8 [00:00<00:00, 34.55it/s]\n",
            "Epoch 2/5: 100%|██████████| 8/8 [00:00<00:00, 34.86it/s]\n",
            "Epoch 3/5: 100%|██████████| 8/8 [00:00<00:00, 34.86it/s]\n",
            "Epoch 4/5: 100%|██████████| 8/8 [00:00<00:00, 35.61it/s]\n",
            "Epoch 5/5: 100%|██████████| 8/8 [00:00<00:00, 36.06it/s]\n"
          ]
        },
        {
          "name": "stdout",
          "output_type": "stream",
          "text": [
            "Slice 4/5 retrained for shard 14/20\n"
          ]
        },
        {
          "name": "stderr",
          "output_type": "stream",
          "text": [
            "Epoch 1/5: 100%|██████████| 8/8 [00:00<00:00, 35.97it/s]\n",
            "Epoch 2/5: 100%|██████████| 8/8 [00:00<00:00, 35.28it/s]\n",
            "Epoch 3/5: 100%|██████████| 8/8 [00:00<00:00, 36.96it/s]\n",
            "Epoch 4/5: 100%|██████████| 8/8 [00:00<00:00, 36.23it/s]\n",
            "Epoch 5/5: 100%|██████████| 8/8 [00:00<00:00, 35.53it/s]\n"
          ]
        },
        {
          "name": "stdout",
          "output_type": "stream",
          "text": [
            "Slice 5/5 retrained for shard 14/20\n",
            "Retraining shard 15/20 containing data to forget\n"
          ]
        },
        {
          "name": "stderr",
          "output_type": "stream",
          "text": [
            "Epoch 1/5: 100%|██████████| 8/8 [00:00<00:00, 37.14it/s]\n",
            "Epoch 2/5: 100%|██████████| 8/8 [00:00<00:00, 36.79it/s]\n",
            "Epoch 3/5: 100%|██████████| 8/8 [00:00<00:00, 35.68it/s]\n",
            "Epoch 4/5: 100%|██████████| 8/8 [00:00<00:00, 35.25it/s]\n",
            "Epoch 5/5: 100%|██████████| 8/8 [00:00<00:00, 35.51it/s]\n"
          ]
        },
        {
          "name": "stdout",
          "output_type": "stream",
          "text": [
            "Slice 1/5 retrained for shard 15/20\n"
          ]
        },
        {
          "name": "stderr",
          "output_type": "stream",
          "text": [
            "Epoch 1/5: 100%|██████████| 8/8 [00:00<00:00, 36.00it/s]\n",
            "Epoch 2/5: 100%|██████████| 8/8 [00:00<00:00, 35.68it/s]\n",
            "Epoch 3/5: 100%|██████████| 8/8 [00:00<00:00, 35.18it/s]\n",
            "Epoch 4/5: 100%|██████████| 8/8 [00:00<00:00, 35.82it/s]\n",
            "Epoch 5/5: 100%|██████████| 8/8 [00:00<00:00, 36.82it/s]\n"
          ]
        },
        {
          "name": "stdout",
          "output_type": "stream",
          "text": [
            "Slice 2/5 retrained for shard 15/20\n"
          ]
        },
        {
          "name": "stderr",
          "output_type": "stream",
          "text": [
            "Epoch 1/5: 100%|██████████| 8/8 [00:00<00:00, 36.55it/s]\n",
            "Epoch 2/5: 100%|██████████| 8/8 [00:00<00:00, 35.63it/s]\n",
            "Epoch 3/5: 100%|██████████| 8/8 [00:00<00:00, 35.34it/s]\n",
            "Epoch 4/5: 100%|██████████| 8/8 [00:00<00:00, 35.73it/s]\n",
            "Epoch 5/5: 100%|██████████| 8/8 [00:00<00:00, 35.93it/s]\n"
          ]
        },
        {
          "name": "stdout",
          "output_type": "stream",
          "text": [
            "Slice 3/5 retrained for shard 15/20\n"
          ]
        },
        {
          "name": "stderr",
          "output_type": "stream",
          "text": [
            "Epoch 1/5: 100%|██████████| 8/8 [00:00<00:00, 34.94it/s]\n",
            "Epoch 2/5: 100%|██████████| 8/8 [00:00<00:00, 35.56it/s]\n",
            "Epoch 3/5: 100%|██████████| 8/8 [00:00<00:00, 35.31it/s]\n",
            "Epoch 4/5: 100%|██████████| 8/8 [00:00<00:00, 37.55it/s]\n",
            "Epoch 5/5: 100%|██████████| 8/8 [00:00<00:00, 36.39it/s]\n"
          ]
        },
        {
          "name": "stdout",
          "output_type": "stream",
          "text": [
            "Slice 4/5 retrained for shard 15/20\n"
          ]
        },
        {
          "name": "stderr",
          "output_type": "stream",
          "text": [
            "Epoch 1/5: 100%|██████████| 8/8 [00:00<00:00, 35.90it/s]\n",
            "Epoch 2/5: 100%|██████████| 8/8 [00:00<00:00, 35.20it/s]\n",
            "Epoch 3/5: 100%|██████████| 8/8 [00:00<00:00, 35.18it/s]\n",
            "Epoch 4/5: 100%|██████████| 8/8 [00:00<00:00, 36.70it/s]\n",
            "Epoch 5/5: 100%|██████████| 8/8 [00:00<00:00, 35.21it/s]\n"
          ]
        },
        {
          "name": "stdout",
          "output_type": "stream",
          "text": [
            "Slice 5/5 retrained for shard 15/20\n",
            "Retraining shard 16/20 containing data to forget\n"
          ]
        },
        {
          "name": "stderr",
          "output_type": "stream",
          "text": [
            "Epoch 1/5: 100%|██████████| 8/8 [00:00<00:00, 35.32it/s]\n",
            "Epoch 2/5: 100%|██████████| 8/8 [00:00<00:00, 35.28it/s]\n",
            "Epoch 3/5: 100%|██████████| 8/8 [00:00<00:00, 36.14it/s]\n",
            "Epoch 4/5: 100%|██████████| 8/8 [00:00<00:00, 37.48it/s]\n",
            "Epoch 5/5: 100%|██████████| 8/8 [00:00<00:00, 35.81it/s]\n"
          ]
        },
        {
          "name": "stdout",
          "output_type": "stream",
          "text": [
            "Slice 1/5 retrained for shard 16/20\n"
          ]
        },
        {
          "name": "stderr",
          "output_type": "stream",
          "text": [
            "Epoch 1/5: 100%|██████████| 8/8 [00:00<00:00, 34.98it/s]\n",
            "Epoch 2/5: 100%|██████████| 8/8 [00:00<00:00, 35.53it/s]\n",
            "Epoch 3/5: 100%|██████████| 8/8 [00:00<00:00, 36.47it/s]\n",
            "Epoch 4/5: 100%|██████████| 8/8 [00:00<00:00, 36.21it/s]\n",
            "Epoch 5/5: 100%|██████████| 8/8 [00:00<00:00, 35.68it/s]\n"
          ]
        },
        {
          "name": "stdout",
          "output_type": "stream",
          "text": [
            "Slice 2/5 retrained for shard 16/20\n"
          ]
        },
        {
          "name": "stderr",
          "output_type": "stream",
          "text": [
            "Epoch 1/5: 100%|██████████| 8/8 [00:00<00:00, 34.98it/s]\n",
            "Epoch 2/5: 100%|██████████| 8/8 [00:00<00:00, 36.30it/s]\n",
            "Epoch 3/5: 100%|██████████| 8/8 [00:00<00:00, 36.92it/s]\n",
            "Epoch 4/5: 100%|██████████| 8/8 [00:00<00:00, 35.99it/s]\n",
            "Epoch 5/5: 100%|██████████| 8/8 [00:00<00:00, 35.30it/s]\n"
          ]
        },
        {
          "name": "stdout",
          "output_type": "stream",
          "text": [
            "Slice 3/5 retrained for shard 16/20\n"
          ]
        },
        {
          "name": "stderr",
          "output_type": "stream",
          "text": [
            "Epoch 1/5: 100%|██████████| 8/8 [00:00<00:00, 35.40it/s]\n",
            "Epoch 2/5: 100%|██████████| 8/8 [00:00<00:00, 35.68it/s]\n",
            "Epoch 3/5: 100%|██████████| 8/8 [00:00<00:00, 36.32it/s]\n",
            "Epoch 4/5: 100%|██████████| 8/8 [00:00<00:00, 35.55it/s]\n",
            "Epoch 5/5: 100%|██████████| 8/8 [00:00<00:00, 35.92it/s]\n"
          ]
        },
        {
          "name": "stdout",
          "output_type": "stream",
          "text": [
            "Slice 4/5 retrained for shard 16/20\n"
          ]
        },
        {
          "name": "stderr",
          "output_type": "stream",
          "text": [
            "Epoch 1/5: 100%|██████████| 8/8 [00:00<00:00, 34.91it/s]\n",
            "Epoch 2/5: 100%|██████████| 8/8 [00:00<00:00, 37.29it/s]\n",
            "Epoch 3/5: 100%|██████████| 8/8 [00:00<00:00, 36.26it/s]\n",
            "Epoch 4/5: 100%|██████████| 8/8 [00:00<00:00, 35.48it/s]\n",
            "Epoch 5/5: 100%|██████████| 8/8 [00:00<00:00, 35.45it/s]\n"
          ]
        },
        {
          "name": "stdout",
          "output_type": "stream",
          "text": [
            "Slice 5/5 retrained for shard 16/20\n"
          ]
        },
        {
          "name": "stderr",
          "output_type": "stream",
          "text": [
            "Evaluating model: Shard 1/20, slice 1/5: 100%|██████████| 157/157 [00:02<00:00, 53.16it/s]\n",
            "Evaluating model: Shard 1/20, slice 2/5: 100%|██████████| 157/157 [00:02<00:00, 53.16it/s]\n",
            "Evaluating model: Shard 1/20, slice 3/5: 100%|██████████| 157/157 [00:02<00:00, 53.14it/s]\n",
            "Evaluating model: Shard 1/20, slice 4/5: 100%|██████████| 157/157 [00:02<00:00, 53.17it/s]\n",
            "Evaluating model: Shard 1/20, slice 5/5: 100%|██████████| 157/157 [00:02<00:00, 53.10it/s]\n",
            "Evaluating model: Shard 2/20, slice 1/5: 100%|██████████| 157/157 [00:02<00:00, 53.14it/s]\n",
            "Evaluating model: Shard 2/20, slice 2/5: 100%|██████████| 157/157 [00:02<00:00, 53.12it/s]\n",
            "Evaluating model: Shard 2/20, slice 3/5: 100%|██████████| 157/157 [00:02<00:00, 53.12it/s]\n",
            "Evaluating model: Shard 2/20, slice 4/5: 100%|██████████| 157/157 [00:02<00:00, 53.12it/s]\n",
            "Evaluating model: Shard 2/20, slice 5/5: 100%|██████████| 157/157 [00:02<00:00, 53.14it/s]\n",
            "Evaluating model: Shard 3/20, slice 1/5: 100%|██████████| 157/157 [00:02<00:00, 53.15it/s]\n",
            "Evaluating model: Shard 3/20, slice 2/5: 100%|██████████| 157/157 [00:02<00:00, 53.13it/s]\n",
            "Evaluating model: Shard 3/20, slice 3/5: 100%|██████████| 157/157 [00:02<00:00, 53.14it/s]\n",
            "Evaluating model: Shard 3/20, slice 4/5: 100%|██████████| 157/157 [00:02<00:00, 53.18it/s]\n",
            "Evaluating model: Shard 3/20, slice 5/5: 100%|██████████| 157/157 [00:02<00:00, 53.18it/s]\n",
            "Evaluating model: Shard 4/20, slice 1/5: 100%|██████████| 157/157 [00:02<00:00, 53.15it/s]\n",
            "Evaluating model: Shard 4/20, slice 2/5: 100%|██████████| 157/157 [00:02<00:00, 53.13it/s]\n",
            "Evaluating model: Shard 4/20, slice 3/5: 100%|██████████| 157/157 [00:02<00:00, 53.14it/s]\n",
            "Evaluating model: Shard 4/20, slice 4/5: 100%|██████████| 157/157 [00:02<00:00, 53.11it/s]\n",
            "Evaluating model: Shard 4/20, slice 5/5: 100%|██████████| 157/157 [00:02<00:00, 53.11it/s]\n",
            "Evaluating model: Shard 5/20, slice 1/5: 100%|██████████| 157/157 [00:02<00:00, 53.14it/s]\n",
            "Evaluating model: Shard 5/20, slice 2/5: 100%|██████████| 157/157 [00:02<00:00, 53.10it/s]\n",
            "Evaluating model: Shard 5/20, slice 3/5: 100%|██████████| 157/157 [00:02<00:00, 53.16it/s]\n",
            "Evaluating model: Shard 5/20, slice 4/5: 100%|██████████| 157/157 [00:02<00:00, 53.13it/s]\n",
            "Evaluating model: Shard 5/20, slice 5/5: 100%|██████████| 157/157 [00:02<00:00, 53.16it/s]\n",
            "Evaluating model: Shard 6/20, slice 1/5: 100%|██████████| 157/157 [00:02<00:00, 53.15it/s]\n",
            "Evaluating model: Shard 6/20, slice 2/5: 100%|██████████| 157/157 [00:02<00:00, 53.38it/s]\n",
            "Evaluating model: Shard 6/20, slice 3/5: 100%|██████████| 157/157 [00:02<00:00, 53.64it/s]\n",
            "Evaluating model: Shard 6/20, slice 4/5: 100%|██████████| 157/157 [00:02<00:00, 53.61it/s]\n",
            "Evaluating model: Shard 6/20, slice 5/5: 100%|██████████| 157/157 [00:02<00:00, 53.59it/s]\n",
            "Evaluating model: Shard 7/20, slice 1/5: 100%|██████████| 157/157 [00:02<00:00, 53.48it/s]\n",
            "Evaluating model: Shard 7/20, slice 2/5: 100%|██████████| 157/157 [00:02<00:00, 53.40it/s]\n",
            "Evaluating model: Shard 7/20, slice 3/5: 100%|██████████| 157/157 [00:02<00:00, 53.43it/s]\n",
            "Evaluating model: Shard 7/20, slice 4/5: 100%|██████████| 157/157 [00:02<00:00, 52.99it/s]\n",
            "Evaluating model: Shard 7/20, slice 5/5: 100%|██████████| 157/157 [00:02<00:00, 53.33it/s]\n",
            "Evaluating model: Shard 8/20, slice 1/5: 100%|██████████| 157/157 [00:02<00:00, 53.27it/s]\n",
            "Evaluating model: Shard 8/20, slice 2/5: 100%|██████████| 157/157 [00:02<00:00, 53.27it/s]\n",
            "Evaluating model: Shard 8/20, slice 3/5: 100%|██████████| 157/157 [00:02<00:00, 53.25it/s]\n",
            "Evaluating model: Shard 8/20, slice 4/5: 100%|██████████| 157/157 [00:02<00:00, 53.31it/s]\n",
            "Evaluating model: Shard 8/20, slice 5/5: 100%|██████████| 157/157 [00:02<00:00, 53.25it/s]\n",
            "Evaluating model: Shard 9/20, slice 1/5: 100%|██████████| 157/157 [00:02<00:00, 53.26it/s]\n",
            "Evaluating model: Shard 9/20, slice 2/5: 100%|██████████| 157/157 [00:02<00:00, 53.24it/s]\n",
            "Evaluating model: Shard 9/20, slice 3/5: 100%|██████████| 157/157 [00:02<00:00, 53.25it/s]\n",
            "Evaluating model: Shard 9/20, slice 4/5: 100%|██████████| 157/157 [00:02<00:00, 53.23it/s]\n",
            "Evaluating model: Shard 9/20, slice 5/5: 100%|██████████| 157/157 [00:02<00:00, 53.25it/s]\n",
            "Evaluating model: Shard 10/20, slice 1/5: 100%|██████████| 157/157 [00:02<00:00, 53.23it/s]\n",
            "Evaluating model: Shard 10/20, slice 2/5: 100%|██████████| 157/157 [00:02<00:00, 53.23it/s]\n",
            "Evaluating model: Shard 10/20, slice 3/5: 100%|██████████| 157/157 [00:02<00:00, 53.18it/s]\n",
            "Evaluating model: Shard 10/20, slice 4/5: 100%|██████████| 157/157 [00:02<00:00, 53.20it/s]\n",
            "Evaluating model: Shard 10/20, slice 5/5: 100%|██████████| 157/157 [00:02<00:00, 53.13it/s]\n",
            "Evaluating model: Shard 11/20, slice 1/5: 100%|██████████| 157/157 [00:02<00:00, 53.19it/s]\n",
            "Evaluating model: Shard 11/20, slice 2/5: 100%|██████████| 157/157 [00:02<00:00, 53.18it/s]\n",
            "Evaluating model: Shard 11/20, slice 3/5: 100%|██████████| 157/157 [00:02<00:00, 53.19it/s]\n",
            "Evaluating model: Shard 11/20, slice 4/5: 100%|██████████| 157/157 [00:02<00:00, 53.16it/s]\n",
            "Evaluating model: Shard 11/20, slice 5/5: 100%|██████████| 157/157 [00:02<00:00, 53.18it/s]\n",
            "Evaluating model: Shard 12/20, slice 1/5: 100%|██████████| 157/157 [00:02<00:00, 53.18it/s]\n",
            "Evaluating model: Shard 12/20, slice 2/5: 100%|██████████| 157/157 [00:02<00:00, 53.22it/s]\n",
            "Evaluating model: Shard 12/20, slice 3/5: 100%|██████████| 157/157 [00:02<00:00, 53.19it/s]\n",
            "Evaluating model: Shard 12/20, slice 4/5: 100%|██████████| 157/157 [00:02<00:00, 53.21it/s]\n",
            "Evaluating model: Shard 12/20, slice 5/5: 100%|██████████| 157/157 [00:02<00:00, 53.16it/s]\n",
            "Evaluating model: Shard 13/20, slice 1/5: 100%|██████████| 157/157 [00:02<00:00, 53.17it/s]\n",
            "Evaluating model: Shard 13/20, slice 2/5: 100%|██████████| 157/157 [00:02<00:00, 53.19it/s]\n",
            "Evaluating model: Shard 13/20, slice 3/5: 100%|██████████| 157/157 [00:02<00:00, 53.14it/s]\n",
            "Evaluating model: Shard 13/20, slice 4/5: 100%|██████████| 157/157 [00:02<00:00, 53.19it/s]\n",
            "Evaluating model: Shard 13/20, slice 5/5: 100%|██████████| 157/157 [00:02<00:00, 53.19it/s]\n",
            "Evaluating model: Shard 14/20, slice 1/5: 100%|██████████| 157/157 [00:02<00:00, 53.18it/s]\n",
            "Evaluating model: Shard 14/20, slice 2/5: 100%|██████████| 157/157 [00:02<00:00, 53.20it/s]\n",
            "Evaluating model: Shard 14/20, slice 3/5: 100%|██████████| 157/157 [00:02<00:00, 53.18it/s]\n",
            "Evaluating model: Shard 14/20, slice 4/5: 100%|██████████| 157/157 [00:02<00:00, 53.67it/s]\n",
            "Evaluating model: Shard 14/20, slice 5/5: 100%|██████████| 157/157 [00:02<00:00, 53.71it/s]\n",
            "Evaluating model: Shard 15/20, slice 1/5: 100%|██████████| 157/157 [00:02<00:00, 53.60it/s]\n",
            "Evaluating model: Shard 15/20, slice 2/5: 100%|██████████| 157/157 [00:02<00:00, 53.54it/s]\n",
            "Evaluating model: Shard 15/20, slice 3/5: 100%|██████████| 157/157 [00:02<00:00, 53.48it/s]\n",
            "Evaluating model: Shard 15/20, slice 4/5: 100%|██████████| 157/157 [00:02<00:00, 53.38it/s]\n",
            "Evaluating model: Shard 15/20, slice 5/5: 100%|██████████| 157/157 [00:02<00:00, 53.32it/s]\n",
            "Evaluating model: Shard 16/20, slice 1/5: 100%|██████████| 157/157 [00:02<00:00, 53.27it/s]\n",
            "Evaluating model: Shard 16/20, slice 2/5: 100%|██████████| 157/157 [00:02<00:00, 53.23it/s]\n",
            "Evaluating model: Shard 16/20, slice 3/5: 100%|██████████| 157/157 [00:02<00:00, 53.20it/s]\n",
            "Evaluating model: Shard 16/20, slice 4/5: 100%|██████████| 157/157 [00:02<00:00, 53.20it/s]\n",
            "Evaluating model: Shard 16/20, slice 5/5: 100%|██████████| 157/157 [00:02<00:00, 53.57it/s]\n",
            "Evaluating model: Shard 17/20, slice 1/5: 100%|██████████| 157/157 [00:02<00:00, 53.75it/s]\n",
            "Evaluating model: Shard 17/20, slice 2/5: 100%|██████████| 157/157 [00:02<00:00, 53.55it/s]\n",
            "Evaluating model: Shard 17/20, slice 3/5: 100%|██████████| 157/157 [00:02<00:00, 53.46it/s]\n",
            "Evaluating model: Shard 17/20, slice 4/5: 100%|██████████| 157/157 [00:02<00:00, 53.38it/s]\n",
            "Evaluating model: Shard 17/20, slice 5/5: 100%|██████████| 157/157 [00:02<00:00, 53.36it/s]\n",
            "Evaluating model: Shard 18/20, slice 1/5: 100%|██████████| 157/157 [00:02<00:00, 53.35it/s]\n",
            "Evaluating model: Shard 18/20, slice 2/5: 100%|██████████| 157/157 [00:02<00:00, 53.30it/s]\n",
            "Evaluating model: Shard 18/20, slice 3/5: 100%|██████████| 157/157 [00:02<00:00, 53.29it/s]\n",
            "Evaluating model: Shard 18/20, slice 4/5: 100%|██████████| 157/157 [00:02<00:00, 53.30it/s]\n",
            "Evaluating model: Shard 18/20, slice 5/5: 100%|██████████| 157/157 [00:02<00:00, 53.26it/s]\n",
            "Evaluating model: Shard 19/20, slice 1/5: 100%|██████████| 157/157 [00:02<00:00, 53.28it/s]\n",
            "Evaluating model: Shard 19/20, slice 2/5: 100%|██████████| 157/157 [00:02<00:00, 53.27it/s]\n",
            "Evaluating model: Shard 19/20, slice 3/5: 100%|██████████| 157/157 [00:02<00:00, 53.25it/s]\n",
            "Evaluating model: Shard 19/20, slice 4/5: 100%|██████████| 157/157 [00:02<00:00, 53.33it/s]\n",
            "Evaluating model: Shard 19/20, slice 5/5: 100%|██████████| 157/157 [00:02<00:00, 53.34it/s]\n",
            "Evaluating model: Shard 20/20, slice 1/5: 100%|██████████| 157/157 [00:02<00:00, 53.30it/s]\n",
            "Evaluating model: Shard 20/20, slice 2/5: 100%|██████████| 157/157 [00:02<00:00, 53.34it/s]\n",
            "Evaluating model: Shard 20/20, slice 3/5: 100%|██████████| 157/157 [00:02<00:00, 53.32it/s]\n",
            "Evaluating model: Shard 20/20, slice 4/5: 100%|██████████| 157/157 [00:02<00:00, 53.33it/s]\n",
            "Evaluating model: Shard 20/20, slice 5/5: 100%|██████████| 157/157 [00:02<00:00, 53.35it/s]\n"
          ]
        }
      ],
      "source": [
        "S = 20\n",
        "R = 5\n",
        "shards = create_shards(train_dataset, S)\n",
        "shard_models = sisa_train(shards, R, num_epochs, initial_model, criterion, optimizer_fn)\n",
        "\n",
        "test_loader = data.DataLoader(test_dataset, batch_size=64, shuffle=False)\n",
        "\n",
        "accuracy, precision, recall, f1, auroc = evaluate_models(shard_models, test_loader)\n",
        "results.append((S, R, \"Majority Voting\", accuracy, precision, recall, f1, auroc))\n",
        "\n",
        "if accuracy > best_accuracy:\n",
        "    best_accuracy = accuracy\n",
        "    best_model = shard_models\n",
        "    best_result = (S, R, accuracy, precision, recall, f1, auroc)\n",
        "\n",
        "# Perform unlearning\n",
        "data_to_forget_indices = np.random.choice(len(train_data), 500, replace=False)\n",
        "shard_models_unlearned = sisa_unlearn(shards, R, shard_models, initial_model, criterion, optimizer_fn, data_to_forget_indices)\n",
        "\n",
        "accuracy, precision, recall, f1, auroc = evaluate_models(shard_models_unlearned, test_loader)\n",
        "results_unlearning.append((S, R, \"Majority Voting\" + \" (Unlearned)\", accuracy, precision, recall, f1, auroc))\n",
        "\n",
        "if accuracy > best_accuracy_unlearned:\n",
        "    best_accuracy_unlearned = accuracy\n",
        "    best_model_unlearned = shard_models_unlearned\n",
        "    best_result_unlearned = (S, R, accuracy, precision, recall, f1, auroc)\n",
        "    \n",
        "clear_CUDA()"
      ]
    },
    {
      "cell_type": "code",
      "execution_count": 23,
      "metadata": {
        "collapsed": true,
        "id": "Zz--Uto-ErlZ",
        "outputId": "c46cdd61-dd70-4053-bda9-b133246f58ea"
      },
      "outputs": [],
      "source": [
        "# S = 20\n",
        "# R = 10\n",
        "# shards = create_shards(train_dataset, S)\n",
        "# shard_models = sisa_train(shards, R, num_epochs, initial_model, criterion, optimizer_fn)\n",
        "\n",
        "# test_loader = data.DataLoader(test_dataset, batch_size=64, shuffle=False)\n",
        "\n",
        "# accuracy, precision, recall, f1, auroc = evaluate_models(shard_models, test_loader)\n",
        "# results.append((S, R, \"Majority Voting\", accuracy, precision, recall, f1, auroc))\n",
        "\n",
        "# if accuracy > best_accuracy:\n",
        "#     best_accuracy = accuracy\n",
        "#     best_model = shard_models\n",
        "#     best_result = (S, R, accuracy, precision, recall, f1, auroc)\n",
        "\n",
        "# # Perform unlearning\n",
        "# data_to_forget_indices = np.random.choice(len(train_data), 500, replace=False)\n",
        "# shard_models_unlearned = sisa_unlearn(shards, R, shard_models, initial_model, criterion, optimizer_fn, data_to_forget_indices)\n",
        "\n",
        "# accuracy, precision, recall, f1, auroc = evaluate_models(shard_models_unlearned, test_loader)\n",
        "# results_unlearning.append((S, R, \"Majority Voting\" + \" (Unlearned)\", accuracy, precision, recall, f1, auroc))\n",
        "\n",
        "\n",
        "# if accuracy > best_accuracy_unlearned:\n",
        "#     best_accuracy_unlearned = accuracy\n",
        "#     best_model_unlearned = shard_models_unlearned\n",
        "#     best_result_unlearned = (S, R, accuracy, precision, recall, f1, auroc)\n",
        "\n",
        "# clear_CUDA()"
      ]
    },
    {
      "cell_type": "code",
      "execution_count": 24,
      "metadata": {
        "collapsed": true,
        "id": "TdLzck-CErlZ",
        "outputId": "21810cc4-6609-4988-fe4a-c03f232c270a"
      },
      "outputs": [],
      "source": [
        "# S = 20\n",
        "# R = 20\n",
        "# shards = create_shards(train_dataset, S)\n",
        "# shard_models = sisa_train(shards, R, num_epochs, initial_model, criterion, optimizer_fn)\n",
        "\n",
        "# test_loader = data.DataLoader(test_dataset, batch_size=64, shuffle=False)\n",
        "\n",
        "# accuracy, precision, recall, f1, auroc = evaluate_models(shard_models, test_loader)\n",
        "# results.append((S, R, \"Majority Voting\", accuracy, precision, recall, f1, auroc))\n",
        "\n",
        "# if accuracy > best_accuracy:\n",
        "#     best_accuracy = accuracy\n",
        "#     best_model = shard_models\n",
        "#     best_result = (S, R, accuracy, precision, recall, f1, auroc)\n",
        "\n",
        "# # Perform unlearning\n",
        "# data_to_forget_indices = np.random.choice(len(train_data), 500, replace=False)\n",
        "# shard_models_unlearned = sisa_unlearn(shards, R, shard_models, initial_model, criterion, optimizer_fn, data_to_forget_indices)\n",
        "\n",
        "# accuracy, precision, recall, f1, auroc = evaluate_models(shard_models_unlearned, test_loader)\n",
        "# results_unlearning.append((S, R, \"Majority Voting\" + \" (Unlearned)\", accuracy, precision, recall, f1, auroc))\n",
        "\n",
        "# if accuracy > best_accuracy_unlearned:\n",
        "#     best_accuracy_unlearned = accuracy\n",
        "#     best_model_unlearned = shard_models_unlearned\n",
        "#     best_result_unlearned = (S, R, accuracy, precision, recall, f1, auroc)\n",
        "\n",
        "# clear_CUDA()"
      ]
    },
    {
      "cell_type": "markdown",
      "metadata": {},
      "source": [
        "## Results for Q1:"
      ]
    },
    {
      "cell_type": "code",
      "execution_count": 25,
      "metadata": {
        "colab": {
          "base_uri": "https://localhost:8080/"
        },
        "id": "Js2Hx1b8Erla",
        "outputId": "9732307f-18e6-46aa-d231-a8fdf5990dde"
      },
      "outputs": [
        {
          "name": "stdout",
          "output_type": "stream",
          "text": [
            "    S   R Aggregation Method  Accuracy  Precision  Recall  F1-Score     AUROC\n",
            "0   5   5    Majority Voting    0.7115   0.718376  0.7115  0.713731  0.839722\n",
            "1   5  10    Majority Voting    0.6895   0.692955  0.6895  0.689088  0.827500\n",
            "2   5  20    Majority Voting    0.6278   0.649094  0.6278  0.618279  0.793222\n",
            "3  10   5    Majority Voting    0.6887   0.693371  0.6887  0.689312  0.827056\n",
            "4  10  10    Majority Voting    0.6461   0.658433  0.6461  0.640782  0.803389\n",
            "5  20   5    Majority Voting    0.6351   0.651874  0.6351  0.628834  0.797278\n"
          ]
        }
      ],
      "source": [
        "df_results = pd.DataFrame(results, columns=['S', 'R', 'Aggregation Method', 'Accuracy', 'Precision', 'Recall', 'F1-Score', 'AUROC'])\n",
        "print(df_results)"
      ]
    },
    {
      "cell_type": "markdown",
      "metadata": {},
      "source": [
        "## Results for Q2:"
      ]
    },
    {
      "cell_type": "code",
      "execution_count": 26,
      "metadata": {},
      "outputs": [
        {
          "name": "stdout",
          "output_type": "stream",
          "text": [
            "    S   R           Aggregation Method  Accuracy  Precision  Recall  F1-Score  \\\n",
            "0   5   5  Majority Voting (Unlearned)    0.7195   0.720219  0.7195  0.719193   \n",
            "1   5  10  Majority Voting (Unlearned)    0.6906   0.697952  0.6906  0.690760   \n",
            "2   5  20  Majority Voting (Unlearned)    0.6383   0.651818  0.6383  0.630776   \n",
            "3  10   5  Majority Voting (Unlearned)    0.6890   0.691466  0.6890  0.689051   \n",
            "4  10  10  Majority Voting (Unlearned)    0.6428   0.656275  0.6428  0.636842   \n",
            "5  20   5  Majority Voting (Unlearned)    0.6341   0.650100  0.6341  0.627639   \n",
            "\n",
            "      AUROC  \n",
            "0  0.844167  \n",
            "1  0.828111  \n",
            "2  0.799056  \n",
            "3  0.827222  \n",
            "4  0.801556  \n",
            "5  0.796722  \n"
          ]
        }
      ],
      "source": [
        "df_results_unlearned = pd.DataFrame(results_unlearning, columns=['S', 'R', 'Aggregation Method', 'Accuracy', 'Precision', 'Recall', 'F1-Score', 'AUROC'])\n",
        "print(df_results_unlearned)"
      ]
    },
    {
      "cell_type": "markdown",
      "metadata": {},
      "source": [
        "# 1.3"
      ]
    },
    {
      "cell_type": "code",
      "execution_count": 27,
      "metadata": {},
      "outputs": [],
      "source": [
        "\n",
        "def calculate_losses(model, dataloader):\n",
        "    \n",
        "    model.eval()\n",
        "    losses = []\n",
        "    criterion = nn.CrossEntropyLoss(reduction='none')\n",
        "    with torch.no_grad():\n",
        "        for inputs, labels in dataloader:\n",
        "            inputs, labels = inputs.cuda(), labels.cuda()\n",
        "            outputs = model(inputs)\n",
        "            loss = criterion(outputs, labels)\n",
        "            losses.extend(loss.cpu().numpy())\n",
        "    return np.array(losses)\n"
      ]
    },
    {
      "cell_type": "code",
      "execution_count": 28,
      "metadata": {},
      "outputs": [],
      "source": [
        "def membership_inference_attack(losses_train, losses_test):\n",
        "    X = np.concatenate([losses_train, losses_test]).reshape(-1, 1)\n",
        "    y = np.concatenate([np.ones(len(losses_train)), np.zeros(len(losses_test))])\n",
        "    model = LogisticRegression()\n",
        "    scores = cross_val_score(model, X, y, cv=5, scoring='accuracy')\n",
        "    return scores.mean()\n"
      ]
    },
    {
      "cell_type": "code",
      "execution_count": 29,
      "metadata": {},
      "outputs": [],
      "source": [
        "all_models = []\n",
        "for shard_idx in best_model.keys():\n",
        "    all_models.extend(best_model[shard_idx])\n",
        "\n",
        "all_models_unlearning = []\n",
        "for shard_idx in best_model_unlearned.keys():\n",
        "    all_models_unlearning.extend(best_model_unlearned[shard_idx])\n"
      ]
    },
    {
      "cell_type": "code",
      "execution_count": 32,
      "metadata": {},
      "outputs": [],
      "source": [
        "clear_CUDA()"
      ]
    },
    {
      "cell_type": "code",
      "execution_count": 33,
      "metadata": {},
      "outputs": [],
      "source": [
        "# Randomly select data points to forget\n",
        "\n",
        "num_to_forget = 500\n",
        "indices_to_forget = random.sample(range(len(train_dataset)), num_to_forget)\n",
        "retrain_indices = list(set(range(len(train_dataset))) - set(indices_to_forget))\n"
      ]
    },
    {
      "cell_type": "code",
      "execution_count": 34,
      "metadata": {},
      "outputs": [],
      "source": [
        "\n",
        "# DataLoader for different sets\n",
        "retrain_set = Subset(train_dataset, retrain_indices)\n",
        "forget_set = Subset(train_dataset, indices_to_forget)\n",
        "\n",
        "train_loader = data.DataLoader(retrain_set, batch_size=64, shuffle=False)\n",
        "forget_loader = data.DataLoader(forget_set, batch_size=64, shuffle=False)\n",
        "\n",
        "random_test_indices1 = random.sample(range(len(test_dataset)), num_to_forget)\n",
        "test_loader_subset1 = data.DataLoader(data.Subset(test_dataset, random_test_indices1), batch_size=64, shuffle=False)\n",
        "\n",
        "random_test_indices2 = random.sample(range(len(test_dataset)), num_to_forget)\n",
        "test_loader_subset2 = data.DataLoader(data.Subset(test_dataset, random_test_indices2), batch_size=64, shuffle=False)\n"
      ]
    },
    {
      "cell_type": "code",
      "execution_count": 35,
      "metadata": {},
      "outputs": [],
      "source": [
        "\n",
        "# Calculate losses\n",
        "\n",
        "losses_train = np.concatenate([calculate_losses(model,  train_loader) for model in all_models])\n",
        "losses_forget = np.concatenate([calculate_losses(model,  forget_loader) for model in all_models])\n",
        "losses_test1 = np.concatenate([calculate_losses(model,  test_loader_subset1) for model in all_models])\n",
        "losses_test2 = np.concatenate([calculate_losses(model,  test_loader_subset2) for model in all_models])\n",
        "\n",
        "losses_train_unlearned = np.concatenate([calculate_losses(model,  train_loader) for model in all_models_unlearning])\n",
        "losses_forget_unlearned = np.concatenate([calculate_losses(model,  forget_loader) for model in all_models_unlearning])\n",
        "losses_test1_unlearned  = np.concatenate([calculate_losses(model,  test_loader_subset1) for model in all_models_unlearning])\n",
        "losses_test2_unlearned  = np.concatenate([calculate_losses(model,  test_loader_subset2) for model in all_models_unlearning])\n"
      ]
    },
    {
      "cell_type": "code",
      "execution_count": 36,
      "metadata": {},
      "outputs": [],
      "source": [
        "\n",
        "# Perform MIA\n",
        "score_trained_1_2 = membership_inference_attack(losses_train, losses_test1)\n",
        "score_trained_3_4 = membership_inference_attack(losses_forget, losses_test2)\n",
        "score_unlearned_1_2 = membership_inference_attack(losses_train_unlearned, losses_test1_unlearned)\n",
        "score_unlearned_3_4 = membership_inference_attack(losses_forget_unlearned, losses_test2_unlearned)\n"
      ]
    },
    {
      "cell_type": "markdown",
      "metadata": {},
      "source": [
        "## Results for Q3:"
      ]
    },
    {
      "cell_type": "code",
      "execution_count": 37,
      "metadata": {},
      "outputs": [
        {
          "data": {
            "text/plain": [
              "{'Trained Model (Not Unlearned) - Dataset retrain vs test1': 0.99,\n",
              " 'Trained Model (Not Unlearned) - Dataset forget vs test2': 0.518,\n",
              " 'Unlearned Model - Dataset retrain vs test1': 0.99,\n",
              " 'Unlearned Model - Dataset forget vs test2': 0.5109600000000001}"
            ]
          },
          "execution_count": 37,
          "metadata": {},
          "output_type": "execute_result"
        }
      ],
      "source": [
        "\n",
        "# Report Results\n",
        "results = {\n",
        "    \"Trained Model (Not Unlearned) - Dataset retrain vs test1\": score_trained_1_2,\n",
        "    \"Trained Model (Not Unlearned) - Dataset forget vs test2\": score_trained_3_4,\n",
        "    \"Unlearned Model - Dataset retrain vs test1\": score_unlearned_1_2,\n",
        "    \"Unlearned Model - Dataset forget vs test2\": score_unlearned_3_4,\n",
        "}\n",
        "\n",
        "\n",
        "results"
      ]
    }
  ],
  "metadata": {
    "accelerator": "GPU",
    "colab": {
      "gpuType": "T4",
      "provenance": []
    },
    "kernelspec": {
      "display_name": "Python 3 (ipykernel)",
      "language": "python",
      "name": "python3"
    },
    "language_info": {
      "codemirror_mode": {
        "name": "ipython",
        "version": 3
      },
      "file_extension": ".py",
      "mimetype": "text/x-python",
      "name": "python",
      "nbconvert_exporter": "python",
      "pygments_lexer": "ipython3",
      "version": "3.9.0"
    }
  },
  "nbformat": 4,
  "nbformat_minor": 0
}
